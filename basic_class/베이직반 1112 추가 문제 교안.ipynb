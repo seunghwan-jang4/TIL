{
 "cells": [
  {
   "cell_type": "markdown",
   "metadata": {
    "id": "um75IXAewUPZ"
   },
   "source": [
    "# immutable, mutable 객체 추가 문제"
   ]
  },
  {
   "cell_type": "markdown",
   "metadata": {
    "id": "CaWxF15Dws07"
   },
   "source": [
    "\n",
    "### 문제 1: 깊은 복사와 얕은 복사\n",
    "리스트와 딕셔너리를 포함한 복잡한 구조의 객체를 다룰 때, 얕은 복사와 깊은 복사의 차이를 이해해야 합니다."
   ]
  },
  {
   "cell_type": "code",
   "execution_count": null,
   "metadata": {
    "id": "DANV-HGYwTWM"
   },
   "outputs": [],
   "source": [
    "import copy\n",
    "\n",
    "original = {\"numbers\": [1, 2, 3], \"letters\": [\"a\", \"b\", \"c\"]}\n",
    "shallow_copy = copy.copy(original)\n",
    "deep_copy = copy.deepcopy(original)\n",
    "\n",
    "# 문제: 아래의 코드를 실행하면 shallow_copy와 deep_copy 중 어느 것이 영향을 받을까요?\n",
    "# 이유를 설명하세요.\n",
    "original[\"numbers\"].append(4)"
   ]
  },
  {
   "cell_type": "markdown",
   "metadata": {
    "id": "_Y-AbT2LwpcR"
   },
   "source": [
    "추가 문제: copy.deepcopy()와 copy.copy()를 사용할 때의 차이점을 설명하고, 이런 차이가 발생하는 이유를 정리해 보세요."
   ]
  },
  {
   "cell_type": "markdown",
   "metadata": {
    "id": "m0zNsCCSwxZp"
   },
   "source": [
    "### 문제 2: Dictionary의 Mutable Key와 Immutable Key\n",
    "딕셔너리 키로 사용 가능한 타입과 그렇지 않은 타입을 이해하는 문제입니다."
   ]
  },
  {
   "cell_type": "code",
   "execution_count": null,
   "metadata": {
    "id": "PSi_RunVwqTn"
   },
   "outputs": [],
   "source": [
    "# 다음과 같은 딕셔너리를 만드려고 할 때 오류가 발생할 수 있습니다.\n",
    "data = {\n",
    "    (1, 2): \"point\",\n",
    "    [3, 4]: \"error\"\n",
    "}\n",
    "\n",
    "# 문제: 왜 오류가 발생했는지 설명하고, 오류를 피하기 위해 data 딕셔너리를 수정해 보세요."
   ]
  },
  {
   "cell_type": "markdown",
   "metadata": {
    "id": "h6RE-6cVw9jG"
   },
   "source": [
    "### 문제 3: Mutable과 Immutable 객체로의 함수 인자 전달\n",
    "함수를 호출할 때, mutable 객체와 immutable 객체의 차이를 이해하는 문제입니다."
   ]
  },
  {
   "cell_type": "code",
   "execution_count": null,
   "metadata": {
    "id": "DcLs1bwfw0_N"
   },
   "outputs": [],
   "source": [
    "def modify_list(lst):\n",
    "    lst.append(100)\n",
    "\n",
    "def modify_number(num):\n",
    "    num += 100\n",
    "\n",
    "# 문제: 아래의 코드를 실행한 후 변수 numbers와 count의 값을 예측해 보세요.\n",
    "numbers = [1, 2, 3]\n",
    "count = 10\n",
    "\n",
    "modify_list(numbers)\n",
    "modify_number(count)\n",
    "\n",
    "print(numbers)  # 예측한 결과를 주석으로 남겨보세요\n",
    "print(count)    # 예측한 결과를 주석으로 남겨보세요"
   ]
  },
  {
   "cell_type": "code",
   "execution_count": null,
   "metadata": {},
   "outputs": [],
   "source": [
    "student_scores = {\"Alice\": 85, \"Bob\": 90, \"Charlie\": 78} for student, score in student_scores.items(): print(student, \"has a score of\", score)"
   ]
  }
 ],
 "metadata": {
  "colab": {
   "provenance": []
  },
  "kernelspec": {
   "display_name": "myenv",
   "language": "python",
   "name": "python3"
  },
  "language_info": {
   "codemirror_mode": {
    "name": "ipython",
    "version": 3
   },
   "file_extension": ".py",
   "mimetype": "text/x-python",
   "name": "python",
   "nbconvert_exporter": "python",
   "pygments_lexer": "ipython3",
   "version": "3.8.20"
  }
 },
 "nbformat": 4,
 "nbformat_minor": 0
}
