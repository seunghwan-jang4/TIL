{
 "cells": [
  {
   "cell_type": "markdown",
   "metadata": {},
   "source": [
    "## 출력 / 파이썬 [입출력] 세계에 오신 것을 환영합니다."
   ]
  },
  {
   "cell_type": "code",
   "execution_count": null,
   "metadata": {},
   "outputs": [
    {
     "name": "stdout",
     "output_type": "stream",
     "text": [
      "안녕하세요, 파이썬의 세계에 오신 것을 환영합니다!\n"
     ]
    }
   ],
   "source": [
    "#1. print() 함수 \n",
    "#1-1 기본 사용법\n",
    "print('안녕하세요, 파이썬의 세계에 오신 것을 환영합니다!')"
   ]
  },
  {
   "cell_type": "code",
   "execution_count": null,
   "metadata": {},
   "outputs": [
    {
     "name": "stdout",
     "output_type": "stream",
     "text": [
      "이름: 장승환 나이: 26\n"
     ]
    }
   ],
   "source": [
    "# 1-2 여러 요소 출력\n",
    "name = '장승환'\n",
    "age = 26\n",
    "\n",
    "print('이름:', name, \"나이:\", age)"
   ]
  },
  {
   "cell_type": "code",
   "execution_count": null,
   "metadata": {},
   "outputs": [
    {
     "name": "stdout",
     "output_type": "stream",
     "text": [
      "이름:장승환, 나이: 26\n"
     ]
    }
   ],
   "source": [
    "# 2. 문자열 포매팅.\n",
    "name = '장승환'\n",
    "age = 26\n",
    "print('이름:{}, 나이: {}'.format(name,age))"
   ]
  },
  {
   "cell_type": "code",
   "execution_count": null,
   "metadata": {},
   "outputs": [
    {
     "name": "stdout",
     "output_type": "stream",
     "text": [
      "이름:장승환, 나이:26\n"
     ]
    }
   ],
   "source": [
    "# 2-2 f-문자열 (파이썬 3.6 이상) / '기존에 배운 f-string'\n",
    "name = '장승환'\n",
    "age = 26\n",
    "print(f\"이름:{name}, 나이:{age}\")"
   ]
  },
  {
   "cell_type": "code",
   "execution_count": null,
   "metadata": {},
   "outputs": [
    {
     "name": "stdout",
     "output_type": "stream",
     "text": [
      "원주율은 3.14입니다\n",
      "나이는 26.00입니다.\n"
     ]
    }
   ],
   "source": [
    "# 2-3 서식 지정자. 숫자만 가능. 문자열 안 됨.\n",
    "pi =3.141592\n",
    "print('원주율은 %.2f입니다'%pi)\n",
    "\n",
    "age = 26\n",
    "print('나이는 %.2f입니다.'%age)"
   ]
  },
  {
   "cell_type": "code",
   "execution_count": 27,
   "metadata": {},
   "outputs": [
    {
     "name": "stdout",
     "output_type": "stream",
     "text": [
      "0\n",
      "1\n",
      "2\n",
      "3\n",
      "4\n",
      "5\n",
      "135"
     ]
    }
   ],
   "source": [
    "# 3. 출력 끝에 줄 바꿈 변경\n",
    "for i in range(6): # 기본값은 줄바꿈(\\n)으로 돼 있다.\n",
    "    print(i)\n",
    "\n",
    "for i in range(1,6,2): # 기본값으로 돼 있는 줄바꿈을 end=''로 공백으로 바꿔주었다. \n",
    "    print(i, end='')    "
   ]
  },
  {
   "cell_type": "code",
   "execution_count": 1,
   "metadata": {},
   "outputs": [
    {
     "name": "stdout",
     "output_type": "stream",
     "text": [
      "2024-11-25\n"
     ]
    }
   ],
   "source": [
    "# 4. 출력 구분자 변경하기\n",
    "print('2024', '11', '25', sep='-') # 여러 요소를 출력할 때 기본 구분자는 공백"
   ]
  },
  {
   "cell_type": "code",
   "execution_count": 5,
   "metadata": {},
   "outputs": [],
   "source": [
    "# 5. 파일로 출력하기. / .txt 파일\n",
    "with open('output.txt', 'w') as file: #'w' 모드는 쓰기모드를 의미. 기존 파일이 있다면 덮어쓴다.\n",
    "    print('파일의 내용', file=file) # print()의 출력 대상이 현재 화면이 아니라, file 안의 내용으로 바뀐다."
   ]
  },
  {
   "cell_type": "code",
   "execution_count": 13,
   "metadata": {},
   "outputs": [
    {
     "name": "stdout",
     "output_type": "stream",
     "text": [
      "안녕하세요 파이썬입니다.\n"
     ]
    },
    {
     "data": {
      "text/plain": [
       "9"
      ]
     },
     "execution_count": 13,
     "metadata": {},
     "output_type": "execute_result"
    }
   ],
   "source": [
    "# 6. sys.stdout.write() 사용 / print 보다 낮은 수준의 출력함수. 줄 바꿈이 자동으로 이루어지지 않는다.\n",
    "import sys\n",
    "sys.stdout.write(\"안녕하세요\")\n",
    "sys.stdout.write(\" 파이썬입니다.\\n\")"
   ]
  },
  {
   "cell_type": "code",
   "execution_count": 16,
   "metadata": {},
   "outputs": [
    {
     "name": "stdout",
     "output_type": "stream",
     "text": [
      "10+5 = 15\n",
      "10-5 = 5\n",
      "10*5 = 50\n",
      "10//5 = 2\n"
     ]
    }
   ],
   "source": [
    "# 7. 예제: 간단한 계산기 출력\n",
    "num1 = 10\n",
    "num2 = 5\n",
    "print(f\"{num1}+{num2} = {num1 + num2}\")\n",
    "print(f\"{num1}-{num2} = {num1 - num2}\")\n",
    "print(f\"{num1}*{num2} = {num1 * num2}\")\n",
    "print(f\"{num1}//{num2} = {num1 // num2}\")"
   ]
  },
  {
   "cell_type": "code",
   "execution_count": 17,
   "metadata": {},
   "outputs": [
    {
     "name": "stdout",
     "output_type": "stream",
     "text": [
      "안녕하세요! 😊\n"
     ]
    }
   ],
   "source": [
    "# 8. Unicode 문자 출력\n",
    "print(\"안녕하세요! 😊\")"
   ]
  },
  {
   "cell_type": "markdown",
   "metadata": {},
   "source": [
    "## 입력 input() 함수\n",
    "\n",
    "파이썬에서 가장 기본적인 입력 함수는 input()입니다. \n",
    "\n",
    "input()은 사용자가 입력한 내용을 문자열로 반환."
   ]
  },
  {
   "cell_type": "code",
   "execution_count": 20,
   "metadata": {},
   "outputs": [
    {
     "name": "stdout",
     "output_type": "stream",
     "text": [
      "안녕하세요! 장승환님!\n"
     ]
    }
   ],
   "source": [
    "name = input(\"이름을 입력하세요:\")\n",
    "print(f\"안녕하세요! {name}님!\")"
   ]
  },
  {
   "cell_type": "code",
   "execution_count": 22,
   "metadata": {},
   "outputs": [
    {
     "name": "stdout",
     "output_type": "stream",
     "text": [
      "내년에는 27살이 됩니다.\n"
     ]
    }
   ],
   "source": [
    "# 1.2 숫자 입력받기 / input() 함수는 입력된 값을 항상 문자열로 반환.\n",
    "age = int(input(\"나이를 입력하세요: \"))\n",
    "print(f\"내년에는 {age+1}살이 됩니다.\")\n"
   ]
  },
  {
   "cell_type": "code",
   "execution_count": null,
   "metadata": {},
   "outputs": [
    {
     "name": "stdout",
     "output_type": "stream",
     "text": [
      "당신의 키는 171.0cm 입니다.\n"
     ]
    }
   ],
   "source": [
    "# 1.3 실수 입력받기\n",
    "height = float(input(\"키를 입력하세요: \"))\n",
    "print(f\"당신의 키는 {height}cm 입니다.\")"
   ]
  },
  {
   "cell_type": "markdown",
   "metadata": {},
   "source": [
    "## 2. 여러 값 한꺼번에 입력받기\n",
    "\n",
    "* split()은 문자열은 괄호()안에 있는 것으로 나눈다는 의미. 기본 값은 공백을 기준으로 나눈다. \n",
    "\n",
    "* ex. “hello world”.strip() → hello world / “hello#world”.strip(’#’) → hello world"
   ]
  },
  {
   "cell_type": "code",
   "execution_count": 28,
   "metadata": {},
   "outputs": [
    {
     "name": "stdout",
     "output_type": "stream",
     "text": [
      "당신이 선택한 과일들['사과', ' 키위', ' 백도']\n"
     ]
    }
   ],
   "source": [
    "#2.1 문자열로 분리하기\n",
    "data = input(\"과일 이름들을 입력하세요(쉼표로 구분):\")\n",
    "fruits = data.split(',') #fruits = data.split() 이게 더 포괄적으로 작동한다.\n",
    "print(f\"당신이 선택한 과일들{fruits}\")\n"
   ]
  },
  {
   "cell_type": "code",
   "execution_count": 32,
   "metadata": {},
   "outputs": [
    {
     "name": "stdout",
     "output_type": "stream",
     "text": [
      "입력한 숫자들의 합: 43\n"
     ]
    }
   ],
   "source": [
    "#2.2 맵핑을 통한 형 변환\n",
    "numbers = list(map(int, input(\"숫자들을 입력하세요(공백으로 구분): \").split()))\n",
    "print(f\"입력한 숫자들의 합: {sum(numbers)}\")"
   ]
  },
  {
   "cell_type": "code",
   "execution_count": null,
   "metadata": {},
   "outputs": [
    {
     "name": "stdout",
     "output_type": "stream",
     "text": [
      "4 8\n",
      "[54, 654, 987]\n",
      "4 8\n",
      "[84, 84]\n"
     ]
    }
   ],
   "source": [
    "#2.3 다양한 형태의 예시\n",
    "# 실행 1\n",
    "number1, number2 = map(int, input().split())\n",
    "print(number1, number2)\n",
    "\n",
    "# 실행 2\n",
    "number_list = list(map(int, input().split()))\n",
    "print(number_list)\n",
    "\n",
    "# 실행 3\n",
    "number1, number2 = map(int, input().split('#'))\n",
    "print(number1, number2)\n",
    "\n",
    "# 실행 4\n",
    "number_list = list(map(int, input().split('#')))\n",
    "print(number_list)"
   ]
  },
  {
   "cell_type": "markdown",
   "metadata": {},
   "source": [
    "## 3. 입력 예외 처리\n",
    "\n",
    "사용자가 잘못된 입력을 했을 때 프로그램이 종료되지 않도록 예외 처리가 필요.\n"
   ]
  },
  {
   "cell_type": "code",
   "execution_count": null,
   "metadata": {},
   "outputs": [
    {
     "name": "stdout",
     "output_type": "stream",
     "text": [
      "유효한 정수를 입력해 주세요.\n"
     ]
    }
   ],
   "source": [
    "#try를 통해 인풋에 정수를 넣고 그 타입이 올바르다면 출력, 만약에 그 결과가 벨류에러라면 그에 대한 오류창을 나오게 했다.\n",
    "try:\n",
    "    num = int(input('정수를 입력하세요: '))\n",
    "except ValueError:\n",
    "    print('유효한 정수를 입력해 주세요.')\n",
    "else:\n",
    "    print(f\"입력한 정수: {num}\") "
   ]
  },
  {
   "cell_type": "markdown",
   "metadata": {},
   "source": [
    "## 4. sys.stdin.readline() 사용\n",
    "\n",
    "표준입력을 받을때 사용 가능.\n",
    "\n",
    "**주의**: sys.stdin.readline()은 입력 후 엔터 키와 함께 줄 바꿈 문자를 포함하므로, 필요에 따라 strip() 메서드를 사용하여 공백을 제거해야 합니다."
   ]
  },
  {
   "cell_type": "code",
   "execution_count": null,
   "metadata": {},
   "outputs": [],
   "source": [
    "import sys\n",
    "line = sys.stdin.readline()\n",
    "print(f\"입력된 내용:{line}\")"
   ]
  },
  {
   "cell_type": "markdown",
   "metadata": {},
   "source": [
    "## 5. 파일에서 입력받기\n",
    "\n",
    "파일로부터 데이터 읽어오기 가능."
   ]
  },
  {
   "cell_type": "code",
   "execution_count": 6,
   "metadata": {},
   "outputs": [
    {
     "name": "stdout",
     "output_type": "stream",
     "text": [
      "\n"
     ]
    }
   ],
   "source": [
    "#5.1 파일 전체 읽기\n",
    "\n",
    "with open(\"input.txt\", \"r\") as file:\n",
    "    data = file.read()\n",
    "    print(data)"
   ]
  },
  {
   "cell_type": "code",
   "execution_count": null,
   "metadata": {},
   "outputs": [],
   "source": [
    "# 5.2 파일 줄 단위로 읽기 / .strip()을 통해 공백 제거.\n",
    "\n",
    "with open(\"input.txt\", \"r\") as file:\n",
    "    for line in file:\n",
    "        print(line.strip())"
   ]
  },
  {
   "cell_type": "markdown",
   "metadata": {},
   "source": [
    "## 6. 명령 줄 인수 받기\n",
    "\n",
    "프로그램 실행 시 인수를 전달 받을 수 있다."
   ]
  },
  {
   "cell_type": "code",
   "execution_count": 11,
   "metadata": {},
   "outputs": [
    {
     "name": "stdout",
     "output_type": "stream",
     "text": [
      "전달된 인수 ['--f=c:\\\\Users\\\\82103\\\\AppData\\\\Roaming\\\\jupyter\\\\runtime\\\\kernel-v3efc7f4ac40dc6eff0ada1b00795699e5f733ae82.json']\n"
     ]
    }
   ],
   "source": [
    "import sys\n",
    "\n",
    "args = sys.argv[1:] # 첫 번째 인수는 스크립트 이름이므로 제외!\n",
    "print(f\"전달된 인수 {args}\")"
   ]
  },
  {
   "cell_type": "markdown",
   "metadata": {},
   "source": [
    "#### 아래와 같이 터미널에 코드를 작성하면 인수를 전달 받을 수 있다.(주피터가 아닌 py 파일로 하는 것을 권장!)\n",
    "\n",
    "\n",
    "**$ python script.py arg1 arg2 arg3**\n",
    "\n",
    "\n",
    "전달된 인수: ['arg1', 'arg2', 'arg3']"
   ]
  },
  {
   "cell_type": "markdown",
   "metadata": {},
   "source": [
    "## 7. 예제: 간단한 계산기 프로그램\n",
    "\n",
    "사용자로부터 두 숫자와 연산자를 입력 받아 계산하는 프로그램.\n"
   ]
  },
  {
   "cell_type": "code",
   "execution_count": 13,
   "metadata": {},
   "outputs": [
    {
     "name": "stdout",
     "output_type": "stream",
     "text": [
      "결과36.0\n"
     ]
    }
   ],
   "source": [
    "num1 = float(input(\"첫 번째 숫자를 입력하세요. : \"))\n",
    "operator = input(\"연산자를 입력하세요(+, -, *, /): \")\n",
    "num2 = float(input(\"두 번째 숫자를 입력하세요. : \"))\n",
    "\n",
    "if operator == '+':\n",
    "    result = num1 + num2\n",
    "elif operator == '-':\n",
    "    result = num1 - num2\n",
    "elif operator == '*':\n",
    "    result = num1 * num2 \n",
    "elif operator == '/':\n",
    "    if num2 != 0:\n",
    "        result = num1 / num2\n",
    "    else:\n",
    "        result = \"무한대 (0으로 나눌 수 없습니다.)\"\n",
    "else:\n",
    "    result = \"유효한 연산자가 아닙니다.\"\n",
    "    \n",
    "print(f\"결과{result}\")\n",
    "    \n",
    "        "
   ]
  },
  {
   "cell_type": "code",
   "execution_count": null,
   "metadata": {},
   "outputs": [],
   "source": []
  }
 ],
 "metadata": {
  "kernelspec": {
   "display_name": "python (myenv)",
   "language": "python",
   "name": "myenv"
  },
  "language_info": {
   "codemirror_mode": {
    "name": "ipython",
    "version": 3
   },
   "file_extension": ".py",
   "mimetype": "text/x-python",
   "name": "python",
   "nbconvert_exporter": "python",
   "pygments_lexer": "ipython3",
   "version": "3.8.20"
  }
 },
 "nbformat": 4,
 "nbformat_minor": 2
}
