{
 "cells": [
  {
   "cell_type": "markdown",
   "metadata": {},
   "source": [
    "## 1. 반복문의 개념과 필요성\n",
    "반복문(Loop)이란, 프로그램 내에서 특정한 코드 블록을 여러 번 반복 실행하고자 할 때 사용하는 문법 구조. \n",
    "\n",
    "* 반복문이 없다면, 동일한 동작을 수행하기 위해 같은 코드를 여러 번 복사·붙여넣기 해야 하므로, 코드가 불필요하게 길어지고 유지보수가 어려워짐. \n",
    "* 반복문을 활용하여 코드를 간결하게 유지, 많은 양의 데이터 처리 및 일정한 패턴을 가진 연산의 자동화에 용이."
   ]
  },
  {
   "cell_type": "markdown",
   "metadata": {},
   "source": [
    "### 2. 파이썬에서 주로 사용하는 반복문의 종류\n",
    "자주 사용하는 반복문 두 가지는 for 문과 while 문.\n",
    "\n",
    "1. **for 문**: **주어진 범위 또는, 반복 가능한(iterable) 객체의 요소를 순회**하며 실행. \n",
    "    * 리스트, 튜플, 문자열, 범위(range) 객체 등과 함께 자주 사용.\n",
    "\n",
    "\n",
    "2. **while 문**: 특정 **조건을 만족하는 동안**(조건이 참(True)인 동안) **반복**을 수행. \n",
    "    * 조건식이 매 반복마다 검사되며, 조건이 거짓(False)이 되면 반복을 종료."
   ]
  },
  {
   "cell_type": "markdown",
   "metadata": {},
   "source": [
    "### 3. for 문의 기본 구조와 활용\n",
    "\n",
    "- \"반복가능한객체\"는 리스트(list), 튜플(tuple), 문자열(string), range 객체 등이 가능.\n",
    "- \"변수\"는 매 반복 시 마다, 해당 반복가능한객체의 요소를 순차적으로 받아오는 역할."
   ]
  },
  {
   "cell_type": "code",
   "execution_count": null,
   "metadata": {},
   "outputs": [
    {
     "name": "stdout",
     "output_type": "stream",
     "text": [
      "1\n",
      "2\n",
      "3\n",
      "4\n",
      "5\n"
     ]
    }
   ],
   "source": [
    "# 3.1. 리스트 순회 예시 / numbers 의 요소를 순서대로 하나씩 num에 할당.\n",
    "numbers = [1, 2, 3, 4, 5]\n",
    "\n",
    "for num in numbers: \n",
    "    print(num)"
   ]
  },
  {
   "cell_type": "code",
   "execution_count": null,
   "metadata": {},
   "outputs": [
    {
     "name": "stdout",
     "output_type": "stream",
     "text": [
      "현재 i의 값: 0\n",
      "현재 i의 값: 1\n",
      "현재 i의 값: 2\n",
      "현재 i의 값: 3\n",
      "현재 i의 값: 4\n",
      "현재 x의 값: 1\n",
      "현재 x의 값: 3\n",
      "현재 x의 값: 5\n",
      "현재 x의 값: 7\n",
      "현재 x의 값: 9\n"
     ]
    }
   ],
   "source": [
    "# 3.2. range() 함수와 함께 사용.\n",
    "for i in range(5): # 시작점의 기본값인 0부터 도착점인 5미만, 즉 4까지 순서대로 i에 할당.\n",
    "    print(\"현재 i의 값:\", i)\n",
    "\n",
    "# 시작값, 끝값, 증가폭 지정.\n",
    "for x in range(1, 11, 2): # 시작점 1, 증가폭 2를 설정하여 x에 할당.\n",
    "    print(\"현재 x의 값:\", x)"
   ]
  },
  {
   "cell_type": "code",
   "execution_count": null,
   "metadata": {},
   "outputs": [
    {
     "name": "stdout",
     "output_type": "stream",
     "text": [
      "P\n",
      "y\n",
      "t\n",
      "h\n",
      "o\n",
      "n\n"
     ]
    }
   ],
   "source": [
    "# 3.3. 문자열 순회\n",
    "text = \"Python\"\n",
    "for ch in text: #text의 요소를 순서대로 ch에 할당.\n",
    "    print(ch)"
   ]
  },
  {
   "cell_type": "markdown",
   "metadata": {},
   "source": [
    "## 4. while 문의 기본 구조와 활용\n",
    "\n",
    "- `조건`이 참이면 `while` 블록 안의 코드들이 실행, 실행 완료 후 다시 조건을 평가.\n",
    "- 조건이 계속 참인 상태라면 반복이 무한히 진행. 이를 멈추려면 `반복문 내부에서 조건을 변화`시키거나 `break`문을 사용."
   ]
  },
  {
   "cell_type": "code",
   "execution_count": null,
   "metadata": {},
   "outputs": [
    {
     "name": "stdout",
     "output_type": "stream",
     "text": [
      "1\n",
      "2\n",
      "3\n",
      "4\n",
      "5\n"
     ]
    }
   ],
   "source": [
    "# 4.1. 예시.\n",
    "count = 1\n",
    "while count <= 5: # count가 5보다 작거나 같은 경우, 그 값이 참일 때까지 반복.\n",
    "    print(count) # 1을 출력\n",
    "    count += 1 # 출력한 count에 1을 더하여 준다."
   ]
  },
  {
   "cell_type": "code",
   "execution_count": null,
   "metadata": {},
   "outputs": [
    {
     "name": "stdout",
     "output_type": "stream",
     "text": [
      "입력하신 명령: 안녕하세요\n",
      "입력하신 명령: quit\n"
     ]
    }
   ],
   "source": [
    "# 4.2. 조건 기반 반복.\n",
    "user_input = \"\" # 밑의 반복문의 값이 들어갈 공간을 미리 생성.\n",
    "while user_input != \"quit\": # user_input이 quit 와 다를 경우 반복. quit 일 경우 종료.\n",
    "    user_input = input(\"명령을 입력하세요 (quit를 입력하면 종료): \")\n",
    "    print(\"입력하신 명령:\", user_input)"
   ]
  },
  {
   "cell_type": "markdown",
   "metadata": {},
   "source": [
    "### 5. 반복문 제어문: break, continue\n",
    "반복문 내에서 흐름을 제어하기 위해 `break`와 `continue` 키워드 사용.\n",
    "\n",
    "1. **break**: 현재 반복문을 즉시 종료. 반복 조건이 아직 참이더라도, `break`를 만나는 순간 반복문을 빠져나온다.\n",
    "2. **continue**: 현재 반복 순회를 건너뛰고 다음 반복으로 넘어간다. 즉, 특정 조건일 때는 아래 코드를 실행하지 않고, 다시 반복문의 처음(조건 검사 단계)으로 이동."
   ]
  },
  {
   "cell_type": "code",
   "execution_count": null,
   "metadata": {},
   "outputs": [
    {
     "name": "stdout",
     "output_type": "stream",
     "text": [
      "1\n",
      "2\n",
      "3\n",
      "4\n"
     ]
    }
   ],
   "source": [
    "# 5.1. break 예시. / 참인 것을 확인하는 순간 그 전까지의 거짓들만 출력.\n",
    "for i in range(1, 11): # 1부터 10까지의 값을 i에 할당. \n",
    "    if i == 5: # i가 5와 같다면 break 후 i를 출력. / in range(1, 5)와 같은 역할이 된다.\n",
    "        break\n",
    "    print(i)"
   ]
  },
  {
   "cell_type": "code",
   "execution_count": 20,
   "metadata": {},
   "outputs": [
    {
     "name": "stdout",
     "output_type": "stream",
     "text": [
      "1\n",
      "2\n",
      "3\n",
      "4\n",
      "6\n",
      "7\n",
      "8\n",
      "9\n",
      "10\n"
     ]
    }
   ],
   "source": [
    "# 5.2. continue 예시.\n",
    "for i in range(1, 11):\n",
    "    if i == 5:\n",
    "        continue\n",
    "    print(i)"
   ]
  },
  {
   "cell_type": "markdown",
   "metadata": {},
   "source": [
    "### 6. 중첩 반복문(Nested Loops)\n",
    "반복문 안에 또 다른 반복문을 넣을 수도 있습니다. 이를 **중첩 반복문**이라고 합니다. 중첩 반복문은 2차원 리스트(리스트의 리스트)나 행과 열을 처리해야 하는 경우에 유용합니다.\n",
    "\n",
    "예를 들어, 구구단을 출력하는 코드를 작성해보겠습니다."
   ]
  },
  {
   "cell_type": "code",
   "execution_count": null,
   "metadata": {},
   "outputs": [
    {
     "name": "stdout",
     "output_type": "stream",
     "text": [
      "2 * 1 = 2\n",
      "2 * 2 = 4\n",
      "2 * 3 = 6\n",
      "2 * 4 = 8\n",
      "2 * 5 = 10\n",
      "2 * 6 = 12\n",
      "2 * 7 = 14\n",
      "2 * 8 = 16\n",
      "2 * 9 = 18\n",
      "\n",
      "3 * 1 = 3\n",
      "3 * 2 = 6\n",
      "3 * 3 = 9\n",
      "3 * 4 = 12\n",
      "3 * 5 = 15\n",
      "3 * 6 = 18\n",
      "3 * 7 = 21\n",
      "3 * 8 = 24\n",
      "3 * 9 = 27\n",
      "\n",
      "4 * 1 = 4\n",
      "4 * 2 = 8\n",
      "4 * 3 = 12\n",
      "4 * 4 = 16\n",
      "4 * 5 = 20\n",
      "4 * 6 = 24\n",
      "4 * 7 = 28\n",
      "4 * 8 = 32\n",
      "4 * 9 = 36\n",
      "\n",
      "5 * 1 = 5\n",
      "5 * 2 = 10\n",
      "5 * 3 = 15\n",
      "5 * 4 = 20\n",
      "5 * 5 = 25\n",
      "5 * 6 = 30\n",
      "5 * 7 = 35\n",
      "5 * 8 = 40\n",
      "5 * 9 = 45\n",
      "\n",
      "6 * 1 = 6\n",
      "6 * 2 = 12\n",
      "6 * 3 = 18\n",
      "6 * 4 = 24\n",
      "6 * 5 = 30\n",
      "6 * 6 = 36\n",
      "6 * 7 = 42\n",
      "6 * 8 = 48\n",
      "6 * 9 = 54\n",
      "\n",
      "7 * 1 = 7\n",
      "7 * 2 = 14\n",
      "7 * 3 = 21\n",
      "7 * 4 = 28\n",
      "7 * 5 = 35\n",
      "7 * 6 = 42\n",
      "7 * 7 = 49\n",
      "7 * 8 = 56\n",
      "7 * 9 = 63\n",
      "\n",
      "8 * 1 = 8\n",
      "8 * 2 = 16\n",
      "8 * 3 = 24\n",
      "8 * 4 = 32\n",
      "8 * 5 = 40\n",
      "8 * 6 = 48\n",
      "8 * 7 = 56\n",
      "8 * 8 = 64\n",
      "8 * 9 = 72\n",
      "\n",
      "9 * 1 = 9\n",
      "9 * 2 = 18\n",
      "9 * 3 = 27\n",
      "9 * 4 = 36\n",
      "9 * 5 = 45\n",
      "9 * 6 = 54\n",
      "9 * 7 = 63\n",
      "9 * 8 = 72\n",
      "9 * 9 = 81\n",
      "\n"
     ]
    }
   ],
   "source": [
    "for x in range(2, 10): \n",
    "    for y in range(1, 10):\n",
    "        print(f\"{x} * {y} = {x*y}\")\n",
    "    print() # 각 단이 끝나면 공백을 추가할 수 있다."
   ]
  },
  {
   "cell_type": "markdown",
   "metadata": {},
   "source": [
    "## 7. 반복문을 활용한 실용적 예시"
   ]
  },
  {
   "cell_type": "code",
   "execution_count": null,
   "metadata": {},
   "outputs": [
    {
     "name": "stdout",
     "output_type": "stream",
     "text": [
      "150\n"
     ]
    }
   ],
   "source": [
    "# 7.1. 문제: 리스트에 들어있는 숫자들의 합계 구하기.\n",
    "numbers = [10, 20, 30, 40, 50]\n",
    "\n",
    "result = sum([number for number in numbers])\n",
    "print(result) \n",
    "\n",
    "\n",
    "#방법 2. \n",
    "numbers = [10, 20, 30, 40, 50]\n",
    "total = 0\n",
    "\n",
    "for num in numbers:\n",
    "    total += num  # total에 각 num의 요소를 더하여 합산해 주고 있다.\n",
    "print(\"리스트 내 숫자들의 합:\", total)\n"
   ]
  },
  {
   "cell_type": "code",
   "execution_count": null,
   "metadata": {},
   "outputs": [
    {
     "name": "stdout",
     "output_type": "stream",
     "text": [
      "*\n",
      "**\n",
      "***\n",
      "****\n",
      "*****\n"
     ]
    }
   ],
   "source": [
    "# 7.2. 특정 패턴 출력하기.\n",
    "# 사용자로부터 줄 수를 입력 받아 해당 줄만큼의 별을 출력\n",
    "user_input_height = int(input())\n",
    "for i in range(1, user_input_height+1):\n",
    "    print(\"*\" * i) # 사용자의 입력만큼 *을 곱하여 출력. 기본값이 개행이기 때문에 표현 가능."
   ]
  },
  {
   "cell_type": "markdown",
   "metadata": {},
   "source": [
    "### ## 8. 정리: 효율적인 반복문 사용 팁\n",
    "\n",
    "- 불필요한 반복을 피하고, 가능한 한 간결한 형태로 코드를 작성.\n",
    "- `for` 문에는 되도록 반복가능한 객체(리스트, 튜플, range, 문자열 등)를 직접 넣어 가독성 증가.\n",
    "- 조건식과 증감 연산을 적절히 활용, `while` 문의 무한 반복을 방지.\n",
    "- `break`와 `continue`를 적절하게 활용해, 복잡한 조건을 깔끔하게 처리.\n",
    "- 중첩 반복문은 성능 저하 요인이 될 수 있으므로, 필요 최소한으로 사용. 중첩 깊이를 줄이기 위해 데이터를 잘 구조화합니다."
   ]
  }
 ],
 "metadata": {
  "kernelspec": {
   "display_name": "python (myenv)",
   "language": "python",
   "name": "myenv"
  },
  "language_info": {
   "codemirror_mode": {
    "name": "ipython",
    "version": 3
   },
   "file_extension": ".py",
   "mimetype": "text/x-python",
   "name": "python",
   "nbconvert_exporter": "python",
   "pygments_lexer": "ipython3",
   "version": "3.8.20"
  }
 },
 "nbformat": 4,
 "nbformat_minor": 2
}
