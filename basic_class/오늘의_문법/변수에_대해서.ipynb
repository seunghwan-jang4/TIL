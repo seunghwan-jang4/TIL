{
 "cells": [
  {
   "cell_type": "markdown",
   "metadata": {},
   "source": [
    "## [변수] 에 대해 얼마나 알고있니?\n",
    "\n",
    "**변수란?**\n",
    "\n",
    "* 값을 저장하기 위한 이름이 붙은 공간.\n",
    "* 수학에서 문자를 사용하여 값을 표현하는 것처럼, 프로그래밍에서도 변수를 사용하여 데이터를 저장하고 처리.\n",
    "\n",
    "* 변수명 = 값\n"
   ]
  },
  {
   "cell_type": "code",
   "execution_count": 1,
   "metadata": {},
   "outputs": [],
   "source": [
    "# 정수형 변수\n",
    "age = 26\n",
    "\n",
    "# 실수형 변수\n",
    "height = 175.5\n",
    "\n",
    "# 문자열 변수\n",
    "name = '홍길동'\n",
    "\n",
    "# 불린형 변수\n",
    "is_stuedent = True"
   ]
  },
  {
   "cell_type": "markdown",
   "metadata": {},
   "source": [
    "#### 데이터 유형(Data Types)"
   ]
  },
  {
   "cell_type": "code",
   "execution_count": null,
   "metadata": {},
   "outputs": [],
   "source": [
    "#정수형(Integer): 정수를 저장.\n",
    "count = 10 "
   ]
  },
  {
   "cell_type": "code",
   "execution_count": null,
   "metadata": {},
   "outputs": [],
   "source": [
    "#실수형(Float): 소수점을 가진 실수를 저장.\n",
    "price = 19.99"
   ]
  },
  {
   "cell_type": "code",
   "execution_count": null,
   "metadata": {},
   "outputs": [],
   "source": [
    "#문자열(String): 문자나 문자열을 저장합니다.\n",
    "message = \"안녕하세요\""
   ]
  },
  {
   "cell_type": "code",
   "execution_count": null,
   "metadata": {},
   "outputs": [],
   "source": [
    "#불린형(Boolean): 참(True) 또는 거짓(False)을 저장합니다.\n",
    "is_activate = False"
   ]
  },
  {
   "cell_type": "code",
   "execution_count": 8,
   "metadata": {},
   "outputs": [
    {
     "name": "stdout",
     "output_type": "stream",
     "text": [
      "<class 'int'>\n",
      "<class 'str'>\n",
      "<class 'str'>\n",
      "<class 'bool'>\n"
     ]
    }
   ],
   "source": [
    "#데이터 유형 확인 / type() 사용\n",
    "print(type(age))\n",
    "print(type(name))\n",
    "print(type(name))\n",
    "print(type(is_stuedent))"
   ]
  },
  {
   "cell_type": "markdown",
   "metadata": {},
   "source": [
    "## 4. 변수 이름 규칙(Identifiers)\n",
    "\n",
    "1. 영문자(대소문자), 숫자, 밑줄(_)만 사용가능.\n",
    "2. 숫자로 시작 불가능.\n",
    "3. 대소문자를 구분. (t = 5, T = 10 각자 다른 변수!)\n",
    "4. 파이썬의 예약어 사용 불가. (for = 10 과 같이 사용 불가능)"
   ]
  },
  {
   "cell_type": "code",
   "execution_count": 11,
   "metadata": {},
   "outputs": [
    {
     "name": "stdout",
     "output_type": "stream",
     "text": [
      "['False', 'None', 'True', 'and', 'as', 'assert', 'async', 'await', 'break', 'class', 'continue', 'def', 'del', 'elif', 'else', 'except', 'finally', 'for', 'from', 'global', 'if', 'import', 'in', 'is', 'lambda', 'nonlocal', 'not', 'or', 'pass', 'raise', 'return', 'try', 'while', 'with', 'yield']\n"
     ]
    }
   ],
   "source": [
    "#예약어 목록 확인.\n",
    "import keyword\n",
    "\n",
    "print(keyword.kwlist)"
   ]
  },
  {
   "cell_type": "markdown",
   "metadata": {},
   "source": [
    "## 5. 변수의 사용 예제"
   ]
  },
  {
   "cell_type": "code",
   "execution_count": 18,
   "metadata": {},
   "outputs": [
    {
     "name": "stdout",
     "output_type": "stream",
     "text": [
      "덧셈 결과: 20\n",
      "나눗셈 결과: 3.0\n",
      "곱셈 결과: 75\n",
      "뺄셈 결과: 10\n",
      "덧셈결과: 15+5=20\n",
      "뺄셈결과: 15-5=3.0\n",
      "곱셈결과: 15*5=75\n",
      "나눗셈결과: 15/5=10\n"
     ]
    }
   ],
   "source": [
    "#5.1. 숫자형 변수 연산\n",
    "\n",
    "a = 15\n",
    "b = 5\n",
    "\n",
    "# 덧셈\n",
    "add = a+b\n",
    "\n",
    "# 뺄셈\n",
    "sub = a-b\n",
    "\n",
    "#곱셈\n",
    "mul = a*b\n",
    "\n",
    "# 나눗셈\n",
    "div = a/b\n",
    "\n",
    "print(\"덧셈 결과:\", add)\n",
    "print(\"나눗셈 결과:\", div)\n",
    "print(\"곱셈 결과:\", mul)\n",
    "print(\"뺄셈 결과:\", sub)\n",
    "\n",
    "print(f\"덧셈결과: {a}+{b}={add}\")\n",
    "print(f\"뺄셈결과: {a}-{b}={div}\")\n",
    "print(f\"곱셈결과: {a}*{b}={mul}\")\n",
    "print(f\"나눗셈결과: {a}/{b}={sub}\")"
   ]
  },
  {
   "cell_type": "code",
   "execution_count": 28,
   "metadata": {},
   "outputs": [
    {
     "name": "stdout",
     "output_type": "stream",
     "text": [
      "이름: 장승환\n",
      "반복된 이름: 장승환장승환장승환\n"
     ]
    }
   ],
   "source": [
    "#5.2. 문자열 변수 조작\n",
    "\n",
    "first_name = '장'\n",
    "last_name = '승환'\n",
    "\n",
    "full_name = first_name + last_name\n",
    "print(\"이름:\", full_name)\n",
    "\n",
    "#문자열 반복\n",
    "repeat_name = (full_name*3)\n",
    "print(\"반복된 이름:\", repeat_name)"
   ]
  },
  {
   "cell_type": "code",
   "execution_count": 31,
   "metadata": {},
   "outputs": [
    {
     "name": "stdout",
     "output_type": "stream",
     "text": [
      "운전해도 됩니다.\n"
     ]
    }
   ],
   "source": [
    "#5.3. 불린(Boolean)형 변수와 조건문\n",
    "\n",
    "is_snowing = False\n",
    "\n",
    "if is_snowing:\n",
    "    print('운전하지 마세요')\n",
    "else:\n",
    "    print('운전해도 됩니다.')"
   ]
  },
  {
   "cell_type": "markdown",
   "metadata": {},
   "source": [
    "## 6. 변수의 입력과 출력"
   ]
  },
  {
   "cell_type": "code",
   "execution_count": 37,
   "metadata": {},
   "outputs": [
    {
     "name": "stdout",
     "output_type": "stream",
     "text": [
      "반갑습니다.ㅇㅇ님!\n"
     ]
    }
   ],
   "source": [
    "#6.1. 입력 받기\n",
    "\n",
    "name = input(\"이름을 입력하세요:\")\n",
    "print(\"반갑습니다.\" + name + \"님!\")"
   ]
  },
  {
   "cell_type": "code",
   "execution_count": 43,
   "metadata": {},
   "outputs": [
    {
     "name": "stdout",
     "output_type": "stream",
     "text": [
      "<class 'str'>\n",
      "<class 'int'>\n"
     ]
    }
   ],
   "source": [
    "#6.2. 형 변환 / input() 함수는 입력을 문자열로 받는다. 숫자로 사용하기 위해서는 형 변환이 필요.\n",
    "\n",
    "age = input(\"나이를 입력하세요: \")\n",
    "print(type(age)) #str으로 출력\n",
    "\n",
    "#정수로 변환\n",
    "\n",
    "age = int(age)\n",
    "print(type(age)) #int로 변환 완료"
   ]
  },
  {
   "cell_type": "markdown",
   "metadata": {},
   "source": [
    "## 7. 변수의 동적 타이핑(Dynamic Typing)\n",
    "\n",
    "* 파이썬은 동적 타이핑 언어로, 변수의 데이터 유형이 자동으로 결정.\n",
    "* 필요에 따라 변경 가능.\n"
   ]
  },
  {
   "cell_type": "code",
   "execution_count": 46,
   "metadata": {},
   "outputs": [
    {
     "name": "stdout",
     "output_type": "stream",
     "text": [
      "10 <class 'int'>\n",
      "안녕하세요 <class 'str'>\n",
      "3.14 <class 'float'>\n"
     ]
    }
   ],
   "source": [
    "var = 10\n",
    "print(var, type(var))\n",
    "\n",
    "var = '안녕하세요'\n",
    "print(var, type(var))\n",
    "\n",
    "var = 3.14\n",
    "print(var, type(var))"
   ]
  },
  {
   "cell_type": "markdown",
   "metadata": {},
   "source": [
    "## 8. 변수 삭제\n",
    "\n",
    "* 변수를 삭제하려면 del 키워드를 사용\n",
    "* 변수를 사용하지 않으면 해당 변수를 지우는 방법을 택함. 참고만 하자."
   ]
  },
  {
   "cell_type": "code",
   "execution_count": null,
   "metadata": {},
   "outputs": [
    {
     "name": "stdout",
     "output_type": "stream",
     "text": [
      "100\n"
     ]
    },
    {
     "ename": "NameError",
     "evalue": "name 'num' is not defined",
     "output_type": "error",
     "traceback": [
      "\u001b[1;31m---------------------------------------------------------------------------\u001b[0m",
      "\u001b[1;31mNameError\u001b[0m                                 Traceback (most recent call last)",
      "Cell \u001b[1;32mIn[47], line 5\u001b[0m\n\u001b[0;32m      2\u001b[0m \u001b[38;5;28mprint\u001b[39m(num)\n\u001b[0;32m      4\u001b[0m \u001b[38;5;28;01mdel\u001b[39;00m num\n\u001b[1;32m----> 5\u001b[0m \u001b[38;5;28mprint\u001b[39m(\u001b[43mnum\u001b[49m)\n",
      "\u001b[1;31mNameError\u001b[0m: name 'num' is not defined"
     ]
    }
   ],
   "source": [
    "num = 100\n",
    "print(num)\n",
    "\n",
    "del num\n",
    "print(num) # 출력 불가능!"
   ]
  },
  {
   "cell_type": "markdown",
   "metadata": {},
   "source": [
    "## 9. 여러 변수에 값 할당"
   ]
  },
  {
   "cell_type": "code",
   "execution_count": 51,
   "metadata": {},
   "outputs": [
    {
     "name": "stdout",
     "output_type": "stream",
     "text": [
      "4 5 6\n",
      "0 0 0\n"
     ]
    }
   ],
   "source": [
    "#9.1. 한 줄에 여러 변수 할당\n",
    "\n",
    "a, b, c = 4,5,6\n",
    "print(a,b,c)\n",
    "\n",
    "#9.2. 같은 값 할당\n",
    "x = y = z = 0\n",
    "print(x,y,z)\n"
   ]
  },
  {
   "cell_type": "markdown",
   "metadata": {},
   "source": [
    "## 10. 변수의 유효 범위(Scope)\n",
    "변수는 선언된 위치에 따라 접근할 수 있는 범위가 결정.\n",
    "\n",
    "\n",
    "**10.1. 전역 변수**\n",
    "* 함수 밖에서 선언된 변수로, 프로그램 전체에서 접근 가능.\n",
    "\n",
    "**10.2. 지역 변수**\n",
    "* 함수 내에서 선언된 변수로, 함수 내부에서만 접근 가능.\n",
    "\n"
   ]
  },
  {
   "cell_type": "code",
   "execution_count": null,
   "metadata": {},
   "outputs": [
    {
     "name": "stdout",
     "output_type": "stream",
     "text": [
      "전역 변수\n"
     ]
    }
   ],
   "source": [
    "#10.1 전역 변수\n",
    "\n",
    "global_var = \"전역 변수\"\n",
    "\n",
    "def func():\n",
    "    print(global_var)\n",
    "    \n",
    "func()"
   ]
  },
  {
   "cell_type": "code",
   "execution_count": null,
   "metadata": {},
   "outputs": [
    {
     "name": "stdout",
     "output_type": "stream",
     "text": [
      "지역 변수\n"
     ]
    }
   ],
   "source": [
    "#10.2 지역 변수\n",
    "\n",
    "def func():\n",
    "    local_var = \"지역 변수\"\n",
    "    print(local_var)\n",
    "\n",
    "func() # 지역 변수 출력 가능\n",
    "print(local_var) # 함수 내의 변수이기 때문에, 함수 밖에서 변수선언이 되지 않아 print 불가능."
   ]
  }
 ],
 "metadata": {
  "kernelspec": {
   "display_name": "python (myenv)",
   "language": "python",
   "name": "myenv"
  },
  "language_info": {
   "codemirror_mode": {
    "name": "ipython",
    "version": 3
   },
   "file_extension": ".py",
   "mimetype": "text/x-python",
   "name": "python",
   "nbconvert_exporter": "python",
   "pygments_lexer": "ipython3",
   "version": "3.8.20"
  }
 },
 "nbformat": 4,
 "nbformat_minor": 2
}
