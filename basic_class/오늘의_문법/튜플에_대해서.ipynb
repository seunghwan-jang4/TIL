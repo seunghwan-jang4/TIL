{
 "cells": [
  {
   "cell_type": "markdown",
   "metadata": {},
   "source": [
    "## 튜플\n",
    "\n",
    "- **순서가 있는 불변(immutable)**의 객체 집합. 리스트와 매우 유사하지만, 한 번 생성되면 그 내부의 요소를 변경 불가능. 튜플은 다음과 같은 특징을 갖습니다:\n",
    "- **순서가 있다**: 인덱스를 사용하여 요소에 접근 가능.\n",
    "- **불변성**: 요소의 추가, 삭제, 변경이 불가능.\n",
    "- **중복을 허용**: 동일한 값을 가진 요소를 여러 개 포함 가능.\n",
    "- **다양한 데이터 타입을 포함**: 정수, 문자열, 리스트 등 다양한 타입의 객체를 포함 가능."
   ]
  },
  {
   "cell_type": "markdown",
   "metadata": {},
   "source": [
    "### 2. 튜플 생성 방법"
   ]
  },
  {
   "cell_type": "code",
   "execution_count": null,
   "metadata": {},
   "outputs": [
    {
     "name": "stdout",
     "output_type": "stream",
     "text": [
      "(1, 2, 3)\n"
     ]
    }
   ],
   "source": [
    "# 2.1. 괄호 ()를 사용한 생성\n",
    "my_tuple = (1, 2, 3)\n",
    "print(my_tuple)\n",
    "\n",
    "# 숫자형 튜플\n",
    "numbers = (1, 2, 3)\n",
    "\n",
    "# 문자열 튜플\n",
    "fruits = ('apple', 'banana', 'cherry')\n",
    "\n",
    "# 다양한 데이터 타입을 포함한 튜플\n",
    "mixed = (1, 'apple', 3.14, True) # int, str, float, 불리언\n",
    "\n",
    "print(numbers)\n",
    "print(fruits)\n",
    "print(mixed) "
   ]
  },
  {
   "cell_type": "code",
   "execution_count": null,
   "metadata": {},
   "outputs": [
    {
     "name": "stdout",
     "output_type": "stream",
     "text": [
      "(1, 2, 3)\n",
      "<class 'tuple'>\n"
     ]
    }
   ],
   "source": [
    "# 2.2. 괄호 없이 생성 (튜플 패킹)\n",
    "my_tuple = 1, 2, 3 # 괄호 없이 쉼표로 구분하여 튜플 생성.\n",
    "print(my_tuple)\n",
    "print(type(my_tuple))"
   ]
  },
  {
   "cell_type": "code",
   "execution_count": null,
   "metadata": {},
   "outputs": [
    {
     "name": "stdout",
     "output_type": "stream",
     "text": [
      "(5,)\n",
      "<class 'tuple'>\n",
      "5\n",
      "<class 'int'>\n"
     ]
    }
   ],
   "source": [
    "# 2.3. 단일 요소 튜플 생성 시 주의점\n",
    "single_element = (5,) # 요소가 하나여도 쉼표를 사용하여 튜플 생성.\n",
    "print(single_element)\n",
    "print(type(single_element))\n",
    "\n",
    "# 쉼표가 없으면 일반 값으로 인식한다.\n",
    "single_element = (5) # 타입이 정수형으로 나온다.\n",
    "print(single_element)\n",
    "print(type(single_element))"
   ]
  },
  {
   "cell_type": "code",
   "execution_count": 13,
   "metadata": {},
   "outputs": [
    {
     "name": "stdout",
     "output_type": "stream",
     "text": [
      "(1, 2, 3)\n",
      "('h', 'e', 'l', 'l', 'o')\n"
     ]
    }
   ],
   "source": [
    "# 2.4. tuple() 함수를 사용한 생성. / 이터러블(iterable) 객체를 튜플로 변환할 때 사용\n",
    "\n",
    "# 리스트를 튜플로 변환\n",
    "my_list = [1, 2, 3]\n",
    "my_tuple = tuple(my_list)\n",
    "print(my_tuple)\n",
    "\n",
    "# 문자열을 튜플로 변환\n",
    "string = 'hello'\n",
    "char_tuple = tuple(string)\n",
    "print(char_tuple)\n",
    "\n"
   ]
  },
  {
   "cell_type": "markdown",
   "metadata": {},
   "source": [
    "### 3. 튜플의 인덱싱과 슬라이싱\n",
    "\n",
    "* 튜플은 시퀀스 자료형이므로, 인덱싱과 슬라이싱이 가능.\n"
   ]
  },
  {
   "cell_type": "code",
   "execution_count": null,
   "metadata": {},
   "outputs": [
    {
     "name": "stdout",
     "output_type": "stream",
     "text": [
      "apple\n",
      "cherry\n",
      "date\n",
      "cherry\n"
     ]
    }
   ],
   "source": [
    "# 인덱싱(Indexing) / 튜플의 특정 위치에 있는 요소에 접근 가능. 인덱스는 0부터 시작, 음수를 사용하면 뒤에서부터 접근.\n",
    "fruits = ('apple', 'banana', 'cherry', 'date')\n",
    "\n",
    "print(fruits[0])\n",
    "print(fruits[2])   \n",
    "print(fruits[-1])  # 마지막 요소.\n",
    "print(fruits[-2])  # 뒤에서 2 번째 요소."
   ]
  },
  {
   "cell_type": "code",
   "execution_count": null,
   "metadata": {},
   "outputs": [
    {
     "name": "stdout",
     "output_type": "stream",
     "text": [
      "(0, 1, 2, 3, 4, 5, 6)\n",
      "(2, 3, 4)\n",
      "(0, 1, 2)\n",
      "(4, 5, 6)\n",
      "(0, 2, 4, 6)\n",
      "(6, 5, 4, 3, 2, 1, 0)\n"
     ]
    }
   ],
   "source": [
    "# 3.2. 슬라이싱(Slicing) / 튜플의 일부를 잘라내어 새로운 튜플을 만드는 방법.\n",
    "numbers = (0, 1, 2, 3, 4, 5, 6)\n",
    "\n",
    "print(numbers[:]) # 전체 출력.\n",
    "print(numbers[2:5])   \n",
    "print(numbers[:3])   \n",
    "print(numbers[4:])     \n",
    "print(numbers[::2])   # 0부터 시작, 2칸씩 건너뛰며 출력.\n",
    "print(numbers[::-1])  # 0부터 시작, 요소의 맨 뒤부터 -1씩. "
   ]
  },
  {
   "cell_type": "markdown",
   "metadata": {},
   "source": [
    "### 4. 튜플의 불변성(Immutability)\n",
    "\n",
    "* 불변(immutable) 자료형으로, 생성된 후에는 요소 변경 불가능.\n"
   ]
  },
  {
   "cell_type": "code",
   "execution_count": null,
   "metadata": {},
   "outputs": [
    {
     "ename": "TypeError",
     "evalue": "'tuple' object does not support item assignment",
     "output_type": "error",
     "traceback": [
      "\u001b[1;31m---------------------------------------------------------------------------\u001b[0m",
      "\u001b[1;31mTypeError\u001b[0m                                 Traceback (most recent call last)",
      "Cell \u001b[1;32mIn[21], line 3\u001b[0m\n\u001b[0;32m      1\u001b[0m \u001b[38;5;66;03m# 4.1. 요소 변경 불가\u001b[39;00m\n\u001b[0;32m      2\u001b[0m my_tuple \u001b[38;5;241m=\u001b[39m (\u001b[38;5;241m1\u001b[39m, \u001b[38;5;241m2\u001b[39m, \u001b[38;5;241m3\u001b[39m)\n\u001b[1;32m----> 3\u001b[0m my_tuple[\u001b[38;5;241m0\u001b[39m] \u001b[38;5;241m=\u001b[39m \u001b[38;5;241m1\u001b[39m\n\u001b[0;32m      4\u001b[0m \u001b[38;5;28mprint\u001b[39m(my_tuple)\n",
      "\u001b[1;31mTypeError\u001b[0m: 'tuple' object does not support item assignment"
     ]
    }
   ],
   "source": [
    "# 4.1. 요소 변경 불가\n",
    "my_tuple = (1, 2, 3)\n",
    "my_tuple[0] = 1 # 불변 자료형이기 때문에, 요소 변경이 불가능. 출력시 오류 발생.\n",
    "print(my_tuple) \n"
   ]
  },
  {
   "cell_type": "code",
   "execution_count": 28,
   "metadata": {},
   "outputs": [
    {
     "name": "stdout",
     "output_type": "stream",
     "text": [
      "(1, 2, 3, 4, 4, 4, 4, 4, 4, 4)\n",
      "(1, 2, 3)\n",
      "(1, 2, 3, 4)\n"
     ]
    }
   ],
   "source": [
    "# 4.2. 요소 추가 및 삭제 불가\n",
    "\n",
    "#요소 추가를 시도.\n",
    "my_tuple += (4,)\n",
    "print(my_tuple)\n",
    "\n",
    "# 원본 튜플에는 변경이 없다.\n",
    "original_tuple = (1, 2, 3)\n",
    "new_tuple = original_tuple + (4,)\n",
    "print(original_tuple)  \n",
    "print(new_tuple)"
   ]
  },
  {
   "cell_type": "markdown",
   "metadata": {},
   "source": [
    "### 5. 튜플 메서드(Tuple Methods)\n",
    "**불변성이 있기 때문에 사용 가능한 메서드가 제한적!**"
   ]
  },
  {
   "cell_type": "code",
   "execution_count": null,
   "metadata": {},
   "outputs": [
    {
     "name": "stdout",
     "output_type": "stream",
     "text": [
      "2\n",
      "3\n"
     ]
    }
   ],
   "source": [
    "# 5.1. count(item) / 요소의 개수 확인.\n",
    "numbers = (1, 2, 2, 3, 3, 3)\n",
    "print(numbers.count(2))\n",
    "print(numbers.count(3))"
   ]
  },
  {
   "cell_type": "code",
   "execution_count": null,
   "metadata": {},
   "outputs": [
    {
     "name": "stdout",
     "output_type": "stream",
     "text": [
      "1\n"
     ]
    }
   ],
   "source": [
    "# 5.2. index(item) / 첫 번째로 일치하는 요소의 인덱스를 반환.\n",
    "fruits = ('apple', 'banana', 'cherry')\n",
    "print(fruits.index('banana')) # 첫 번째 인덱스에 위치하고 있는 것을 확인 가능."
   ]
  },
  {
   "cell_type": "markdown",
   "metadata": {},
   "source": [
    "### 7. 튜플의 활용\n",
    "\n",
    "* 7.1. 딕셔너리의 키로 사용\n",
    "\n",
    "* 7.2. 함수의 복수 반환값\n",
    "\n",
    "* 7.3. 변수의 패킹과 언패킹\n",
    "\n",
    "* 7.4. 순서가 중요한 데이터 저장"
   ]
  },
  {
   "cell_type": "code",
   "execution_count": null,
   "metadata": {},
   "outputs": [
    {
     "name": "stdout",
     "output_type": "stream",
     "text": [
      "Point A\n"
     ]
    }
   ],
   "source": [
    "# 딕셔너리 키로 사용. / 튜플의 불변성을 이용하여, 딕셔너리의 키로 활용 가능.\n",
    "my_dict = { (1, 2): \"Point A\", (3, 4): \"Point B\" } \n",
    "print(my_dict[(1, 2)]) # 딕셔너리 구조를 사용하여, 키에 해당하는 튜플을 통해 값 출력.\n"
   ]
  },
  {
   "cell_type": "code",
   "execution_count": 33,
   "metadata": {},
   "outputs": [
    {
     "name": "stdout",
     "output_type": "stream",
     "text": [
      "(10, 20)\n",
      "<class 'tuple'>\n"
     ]
    }
   ],
   "source": [
    "# 함수의 복수 반환값\n",
    "def get_position():\n",
    "    x = 10\n",
    "    y = 20\n",
    "    return x, y  # 튜플로 반환\n",
    "\n",
    "pos = get_position()\n",
    "print(pos)        # 출력: (10, 20)\n",
    "print(type(pos))  # 출력: <class 'tuple'>"
   ]
  },
  {
   "cell_type": "code",
   "execution_count": null,
   "metadata": {},
   "outputs": [
    {
     "name": "stdout",
     "output_type": "stream",
     "text": [
      "(1, 2, 3)\n",
      "1\n",
      "2\n",
      "3\n"
     ]
    }
   ],
   "source": [
    "# 변수의 패킹과 언패킹\n",
    "\n",
    "# 패킹(Packing)/ 여러 개의 값을 하나의 튜플로 묶는 것.\n",
    "packed_tuple = 1, 2, 3\n",
    "print(packed_tuple)\n",
    "\n",
    "# 언패킹(Unpacking) / 튜플의 요소를 여러 개의 변수에 할당하는 것.\n",
    "a, b, c = packed_tuple # 패킹된 1, 2, 3 의 튜플을 각 a, b, c에 할당.\n",
    "\n",
    "print(a)\n",
    "print(b)\n",
    "print(c)"
   ]
  },
  {
   "cell_type": "code",
   "execution_count": null,
   "metadata": {},
   "outputs": [],
   "source": [
    "# 순서가 중요한 데이터 저장 / 좌표나 날짜 등 **순서**가 중요한 데이터를 저장할 때 사용.\n",
    "point = (10, 20)\n",
    "date = (2024, 12, 06)\n",
    "\n"
   ]
  },
  {
   "cell_type": "markdown",
   "metadata": {},
   "source": [
    "### 8. 중첩 튜플(Nested Tuples)\n",
    "\n",
    "* 튜플 안에 튜플을 요소로 갖기 가능."
   ]
  },
  {
   "cell_type": "code",
   "execution_count": null,
   "metadata": {},
   "outputs": [
    {
     "name": "stdout",
     "output_type": "stream",
     "text": [
      "(2, 3)\n",
      "(5, 6)\n",
      "5\n"
     ]
    }
   ],
   "source": [
    "# 중첩 튜플\n",
    "nested_tuple = (1, (2, 3), (4, (5, 6)))\n",
    "print(nested_tuple[1])       \n",
    "print(nested_tuple[2][1])    # 2번 인덱스 (4, (5, 6)) 속의, 1번 인덱스 (5, 6) 출력.\n",
    "print(nested_tuple[2][1][0]) # 2번 인덱스 (4, (5, 6)) 속의, 1번 인덱스 (5, 6) 속의, 0번 인덱스 5 출력."
   ]
  },
  {
   "cell_type": "markdown",
   "metadata": {},
   "source": [
    "### 9. 튜플과 메모리 관리\n",
    "\n",
    "* 튜플은 리스트보다 메모리 사용량이 적고, 불변성이 있기 때문에 안전."
   ]
  },
  {
   "cell_type": "code",
   "execution_count": null,
   "metadata": {},
   "outputs": [
    {
     "name": "stdout",
     "output_type": "stream",
     "text": [
      "96\n",
      "80\n"
     ]
    }
   ],
   "source": [
    "# 메모리 사용량 확인.\n",
    "import sys\n",
    "\n",
    "list_data = [1, 2, 3, 4, 5]\n",
    "tuple_data = (1, 2, 3, 4, 5)\n",
    "\n",
    "print(sys.getsizeof(list_data)) # 96바이트로 표시. 메모리 사용량이 더 높다. \n",
    "print(sys.getsizeof(tuple_data)) # 80바이트로 표시된다."
   ]
  },
  {
   "cell_type": "markdown",
   "metadata": {},
   "source": [
    "### 10. 튜플의 반복문 활용\n",
    "\n",
    "* 각 요소에 접근, 처리하기 위한 반복문을 사용 가능."
   ]
  },
  {
   "cell_type": "code",
   "execution_count": 40,
   "metadata": {},
   "outputs": [],
   "source": [
    "# 10.1. for 루프"
   ]
  },
  {
   "cell_type": "code",
   "execution_count": 41,
   "metadata": {},
   "outputs": [],
   "source": [
    "# 10.2. 인덱스와 함께 반복하기"
   ]
  },
  {
   "cell_type": "markdown",
   "metadata": {},
   "source": [
    "### 11. 튜플의 비교와 정렬\n",
    "\n",
    "* 요소별로 비교 가능. \n",
    "\n",
    "* 정렬된 시퀀스를 필요로 하는 경우에 유용."
   ]
  },
  {
   "cell_type": "code",
   "execution_count": null,
   "metadata": {},
   "outputs": [
    {
     "name": "stdout",
     "output_type": "stream",
     "text": [
      "True\n"
     ]
    }
   ],
   "source": [
    "# 11.1. 튜플의 비교\n",
    "tuple1 = (1, 2, 3)\n",
    "tuple2 = (1, 4, 2) \n",
    "\n",
    "print(tuple1 < tuple2)  # 안의 요소가 순서대로 비교했을 때, 더 큰 값일 경우 True 출력."
   ]
  },
  {
   "cell_type": "code",
   "execution_count": null,
   "metadata": {},
   "outputs": [
    {
     "name": "stdout",
     "output_type": "stream",
     "text": [
      "[('Dave', 'A', 10), ('Jane', 'B', 12), ('John', 'A', 15)]\n"
     ]
    }
   ],
   "source": [
    "# 11.2. 튜플의 정렬\n",
    "students = [('John', 'A', 15), ('Jane', 'B', 12), ('Dave', 'A', 10)]\n",
    "\n",
    "# 나이를 기준으로 정렬\n",
    "students_sorted = sorted(students, key=lambda student: student[2]) # key = lamda를 사용, student[2] 인덱스인 나이를 기준으로 설정.\n",
    "print(students_sorted)"
   ]
  },
  {
   "cell_type": "markdown",
   "metadata": {},
   "source": [
    "### 12. 실용적인 예제\n",
    "\n",
    "#### 12.1. 두 변수의 값 교환"
   ]
  },
  {
   "cell_type": "code",
   "execution_count": 55,
   "metadata": {},
   "outputs": [
    {
     "name": "stdout",
     "output_type": "stream",
     "text": [
      "a = 20입니다.\n",
      "b = 10입니다.\n"
     ]
    }
   ],
   "source": [
    "# 두 변수의 값을 교환 가능.\n",
    "a = 10\n",
    "b = 20\n",
    "\n",
    "a, b = b, a\n",
    "print(f\"a = {a}입니다.\\nb = {b}입니다.\")\n"
   ]
  },
  {
   "cell_type": "markdown",
   "metadata": {},
   "source": [
    "#### 12.2. 함수에서 여러 값 반환"
   ]
  },
  {
   "cell_type": "code",
   "execution_count": 58,
   "metadata": {},
   "outputs": [
    {
     "name": "stdout",
     "output_type": "stream",
     "text": [
      "('a + b = 15', 'a - b = 5', 'a * b = 50')\n"
     ]
    }
   ],
   "source": [
    "# 함수에서 여러 값 반환.\n",
    "def calculate(a, b):\n",
    "    sum_ = (f\"a + b = {a + b}\")\n",
    "    diff = (f\"a - b = {a - b}\")\n",
    "    prod = (f\"a * b = {a * b}\")\n",
    "    return sum_, diff, prod\n",
    "\n",
    "result = calculate(10, 5)\n",
    "print(result)"
   ]
  },
  {
   "cell_type": "markdown",
   "metadata": {},
   "source": [
    "#### 12.3. 리스트와의 상호 변환"
   ]
  },
  {
   "cell_type": "code",
   "execution_count": null,
   "metadata": {},
   "outputs": [
    {
     "name": "stdout",
     "output_type": "stream",
     "text": [
      "[1, 2, 3]\n",
      "(1, 2, 3)\n"
     ]
    }
   ],
   "source": [
    "# 튜플과 리스트의 상호 변환.\n",
    "my_tuple = (1, 2, 3)\n",
    "my_list = list(my_tuple)\n",
    "print(my_list) # 튜플에서 리스트 형태로 변환 완료.\n",
    "\n",
    "# 리스트에서 튜플로 변환.\n",
    "my_new_tuple = tuple(my_list)\n",
    "print(my_new_tuple) # 튜플로 다시 변환 완료. 즉, 서로 상황에 맞게 변환 가능."
   ]
  },
  {
   "cell_type": "markdown",
   "metadata": {},
   "source": [
    "#### 12.4. 여러 변수에 동일한 값 할당"
   ]
  },
  {
   "cell_type": "code",
   "execution_count": 70,
   "metadata": {},
   "outputs": [
    {
     "name": "stdout",
     "output_type": "stream",
     "text": [
      "0 0 0\n",
      "0\n",
      "0\n",
      "0\n"
     ]
    }
   ],
   "source": [
    "# 여러 변수에 값 할당하기.\n",
    "x = y = z = 0\n",
    "print(x, y, z)\n",
    "print(x)\n",
    "print(y)\n",
    "print(z)"
   ]
  },
  {
   "cell_type": "markdown",
   "metadata": {},
   "source": [
    "### 13. 튜플의 불변성을 활용한 안전한 코드 작성\n",
    "\n",
    "* 불변성의 특징으로 인해, 의도치 않은 변경으로부터 데이터를 보호 가능."
   ]
  },
  {
   "cell_type": "code",
   "execution_count": null,
   "metadata": {},
   "outputs": [],
   "source": [
    "# 데이터 보호.\n",
    "def process_data(data):\n",
    "    # 데이터 처리 로직\n",
    "    pass\n",
    "\n",
    "# '''만약 def 안에 값을 변경시키려는 시도가 있었다면, \n",
    "# 튜플은 불변성을 갖고 있기 때문에 변경이 불가능하므로 오류가 나올 것이다.'''\n",
    "immutable_data = (1, 2, 3)\n",
    "process_data(immutable_data) \n"
   ]
  },
  {
   "cell_type": "markdown",
   "metadata": {},
   "source": [
    "### 14. 튜플과 데이터베이스\n",
    "\n",
    "* 데이터베이스에서 레코드를 표현할 때 유용."
   ]
  },
  {
   "cell_type": "code",
   "execution_count": null,
   "metadata": {},
   "outputs": [
    {
     "name": "stdout",
     "output_type": "stream",
     "text": [
      "John Doe\n",
      "28\n",
      "Engineer\n"
     ]
    }
   ],
   "source": [
    "# 예를 들어, 데이터베이스에서 가져온 레코드\n",
    "record = ('John Doe', 28, 'Engineer')\n",
    "\n",
    "name, age, profession = record # 튜플의 각 요소를 대입. \n",
    "print(name)        \n",
    "print(age)         \n",
    "print(profession)  "
   ]
  },
  {
   "cell_type": "markdown",
   "metadata": {},
   "source": [
    "### 15. 튜플과 네임드 튜플(Named Tuple)\n",
    "\n",
    "* 이름을 부여하여 코드의 가독성 증가 가능. 가볍게 인지!"
   ]
  },
  {
   "cell_type": "code",
   "execution_count": null,
   "metadata": {},
   "outputs": [
    {
     "name": "stdout",
     "output_type": "stream",
     "text": [
      "Alice\n",
      "30\n",
      "Female\n"
     ]
    }
   ],
   "source": [
    "from collections import namedtuple\n",
    "\n",
    "# Person이라는 네임드 튜플 정의\n",
    "Person = namedtuple('Person', ['name', 'age', 'gender'])\n",
    "\n",
    "# 인스턴스 생성\n",
    "p = Person(name='Alice', age=30, gender='Female')\n",
    "\n",
    "print(p.name)   \n",
    "print(p.age)    \n",
    "print(p.gender) "
   ]
  },
  {
   "cell_type": "code",
   "execution_count": null,
   "metadata": {},
   "outputs": [],
   "source": []
  }
 ],
 "metadata": {
  "kernelspec": {
   "display_name": "python (myenv)",
   "language": "python",
   "name": "myenv"
  },
  "language_info": {
   "codemirror_mode": {
    "name": "ipython",
    "version": 3
   },
   "file_extension": ".py",
   "mimetype": "text/x-python",
   "name": "python",
   "nbconvert_exporter": "python",
   "pygments_lexer": "ipython3",
   "version": "3.8.20"
  }
 },
 "nbformat": 4,
 "nbformat_minor": 2
}
