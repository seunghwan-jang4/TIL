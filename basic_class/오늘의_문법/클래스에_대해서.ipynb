{
 "cells": [
  {
   "cell_type": "markdown",
   "metadata": {},
   "source": [
    "## 1. 클래스와 객체란?\n",
    "\n",
    "- **클래스(Class)**: 객체를 만들기 위한 `설계도 혹은, 틀`. 클래스는 속성(특징, 데이터)과 메서드(기능, 함수)로 구성.\n",
    "- **객체(Object)**: 클래스를 통해 만들어낸 실제 사물(인스턴스). 클래스가 붕어빵 틀이라면, 객체는 그 틀로 찍어낸 붕어빵.\n",
    "- **인스턴스(Instance)**: 특정 클래스로부터 생성된 객체를, `그 클래스의 인스턴스`라 부릅니다.\n",
    "\n",
    "즉, \"클래스\"는 \"객체\"를 만들기 위한 \"청사진\"이고, \"객체\"는 그 청사진을 바탕으로 생성된 \"실체\"."
   ]
  },
  {
   "cell_type": "markdown",
   "metadata": {},
   "source": [
    "## 2. 클래스 정의하기\n",
    "\n",
    "파이썬에서 클래스를 정의할 때는 `class` 키워드를 사용."
   ]
  },
  {
   "cell_type": "raw",
   "metadata": {
    "vscode": {
     "languageId": "raw"
    }
   },
   "source": [
    "# 기본 구조의 예시.\n",
    "\n",
    "class 클래스이름:\n",
    "    # 클래스 본문\n",
    "    # 속성(변수)과 메서드(함수)를 정의."
   ]
  },
  {
   "cell_type": "markdown",
   "metadata": {},
   "source": [
    "클래스 이름은 관례적으로 단어의 첫 글자를 대문자로 시작(예: `MyClass`). \n",
    "\n",
    "클래스 내부에는 주로 다음과 같은 요소들이 포함.\n",
    "\n",
    "- 인스턴스 변수(instance variable)와 클래스 변수(class variable)\n",
    "- 인스턴스 메서드(instance method), 클래스 메서드(class method), 정적 메서드(static method)"
   ]
  },
  {
   "cell_type": "markdown",
   "metadata": {},
   "source": [
    "### **`__init__` 메서드 (생성자)**\n",
    "\n",
    "`__init__` 메서드는 인스턴스가 생성될 때 자동으로 호출되는 메서드. 주로 인스턴스 변수 초기화에 사용. \n",
    "\n",
    "\n",
    "`__init__` 메서드는 **생성자(Constructor)** 라고도 한다."
   ]
  },
  {
   "cell_type": "code",
   "execution_count": 8,
   "metadata": {},
   "outputs": [],
   "source": [
    "# __init__매서드를 통해 name과 age의 인스턴스 변수 설정. def introduce(self)를 통해 자기소개.\n",
    "class Person:\n",
    "    def __init__(self, name, age):\n",
    "        self.name = name \n",
    "        self.age = age\n",
    "        \n",
    "    def introduce(self):\n",
    "        print(f\"안녕하세요, 제 이름은 {self.name}입니다. {self.age}살 입니다.\")"
   ]
  },
  {
   "cell_type": "markdown",
   "metadata": {},
   "source": [
    "## 3. 객체 생성하기\n",
    "\n",
    "클래스를 정의한 후에는, 클래스를 호출하는 형식으로 객체 생성 가능."
   ]
  },
  {
   "cell_type": "code",
   "execution_count": 9,
   "metadata": {},
   "outputs": [
    {
     "name": "stdout",
     "output_type": "stream",
     "text": [
      "안녕하세요, 제 이름은 alice입니다. 26살 입니다.\n",
      "안녕하세요, 제 이름은 bob입니다. 30살 입니다.\n"
     ]
    }
   ],
   "source": [
    "# 객체 생성의 예시.\n",
    "p1 = Person('alice', 26)\n",
    "p2 = Person('bob', 30)\n",
    "\n",
    "p1.introduce()\n",
    "p2.introduce()"
   ]
  },
  {
   "cell_type": "markdown",
   "metadata": {},
   "source": [
    "## 4. 인스턴스 변수와 클래스 변수\n",
    "\n",
    "- **인스턴스 변수(instance variable)**: 각 객체마다 별도로 관리되는 변수. `self.name`, `self.age`와 같이 `self`를 통해 참조하는 변수는 인스턴스마다 다른 값을 소유 가능.\n",
    "- **클래스 변수(class variable)**: 클래스로부터 만들어진 모든 인스턴스가 공유하는 변수. \n",
    "클래스 블록 내에서 `self` 없이 바로 변수를 정의하여, 클래스 변수로 설정."
   ]
  },
  {
   "cell_type": "code",
   "execution_count": 10,
   "metadata": {},
   "outputs": [
    {
     "name": "stdout",
     "output_type": "stream",
     "text": [
      "green\n",
      "black\n",
      "4\n",
      "4\n"
     ]
    }
   ],
   "source": [
    "# 인스턴스 변수와 클래스 변수의 예시.\n",
    "class Car:\n",
    "    wheels = 4 # 클래스 변수. 변하지 않는 것에 대해서 모두 적용하기 위해 사용.\n",
    "    def __init__(self, color):\n",
    "        self.color = color # 인스턴스 변수\n",
    "        \n",
    "car1 = Car('green')\n",
    "car2 = Car('black')\n",
    "\n",
    "print(car1.color)\n",
    "print(car2.color)\n",
    "\n",
    "print(car1.wheels)\n",
    "print(car1.wheels)"
   ]
  },
  {
   "cell_type": "markdown",
   "metadata": {},
   "source": [
    "## 5. 메서드의 종류\n",
    "\n",
    "파이썬 클래스에는 크게 세 가지 타입의 메서드 존재."
   ]
  },
  {
   "cell_type": "markdown",
   "metadata": {},
   "source": [
    "1. **인스턴스 메서드(Instance Method)**\n",
    "    - 첫 번째 매개변수로 `self`를 받는다.\n",
    "    - 각 인스턴스에 대해서 동작하며, 인스턴스 변수를 다루는 데 주로 사용."
   ]
  },
  {
   "cell_type": "code",
   "execution_count": 22,
   "metadata": {},
   "outputs": [
    {
     "name": "stdout",
     "output_type": "stream",
     "text": [
      "hello my name is seunghwan\n"
     ]
    }
   ],
   "source": [
    "# 인스턴스 메서드의 예시.\n",
    "class Person:\n",
    "    def __init__(self, name):\n",
    "        self.name = name\n",
    "    \n",
    "    def say_hello(self):\n",
    "        print(f\"hello my name is {self.name}\")\n",
    "        \n",
    "# 테스트 코드\n",
    "person = Person(\"seunghwan\")# Person 인스턴스 생성\n",
    "person.say_hello()"
   ]
  },
  {
   "cell_type": "markdown",
   "metadata": {},
   "source": [
    "2. **클래스 메서드(Class Method)**\n",
    "    - 첫 번째 매개변수로 `cls`를 받는다. (`self` 대신 `cls` 키워드 사용)\n",
    "    - 클래스 자체를 인자로 받으며, 클래스 변수를 다루거나 새로운 인스턴스를 생성하는 메서드 등을 정의하는데 유용.\n",
    "    - 데코레이터 `@classmethod`를 사용."
   ]
  },
  {
   "cell_type": "code",
   "execution_count": 28,
   "metadata": {},
   "outputs": [
    {
     "name": "stdout",
     "output_type": "stream",
     "text": [
      "지금까지 2명이 만들어졌습니다.\n"
     ]
    }
   ],
   "source": [
    "# 클래스 메서드의 예시.\n",
    "class Person:\n",
    "    count = 0\n",
    "    \n",
    "    def __init__(self, name):\n",
    "        self.name = name\n",
    "        Person.count +=1\n",
    "        \n",
    "    @classmethod    # 데코레이터 표시!\n",
    "    def how_many(cls):\n",
    "        print(f\"지금까지 {cls.count}명이 만들어졌습니다.\")\n",
    "\n",
    "# 테스트 코드\n",
    "person = Person('seunghwan') # Person 인스턴스 생성\n",
    "person1 = Person('bob')\n",
    "person.how_many()"
   ]
  },
  {
   "cell_type": "markdown",
   "metadata": {},
   "source": [
    "3. **정적 메서드(Static Method)**\n",
    "    - 첫 번째 매개변수로 `self`나 `cls`를 받지 않는다.\n",
    "    - 주로 클래스나 인스턴스 변수에 접근할 필요가 없는 경우 사용.\n",
    "    - 데코레이터 `@staticmethod`를 사용."
   ]
  },
  {
   "cell_type": "code",
   "execution_count": 30,
   "metadata": {},
   "outputs": [
    {
     "name": "stdout",
     "output_type": "stream",
     "text": [
      "15\n"
     ]
    }
   ],
   "source": [
    "# 정적 메서드의 예시.\n",
    "class MathUtils:\n",
    "    @staticmethod   # 데코레이터 표시!\n",
    "    def add(a, b):\n",
    "        return a+b\n",
    "    \n",
    "result = MathUtils.add(5, 10)\n",
    "print(result)"
   ]
  },
  {
   "cell_type": "markdown",
   "metadata": {},
   "source": [
    "## 6. 접근 지정자와 캡슐화\n",
    "\n",
    "파이썬은 언어 차원에서 `public`, `private` 접근 제어자를 명시적으로 제공하지 않지만, 관례적으로 변수나 메서드 앞에 언더스코어(_)를 붙여 내부적인 사용을 암시.\n",
    "\n",
    "- `_변수명`: 해당 변수는 내부적 용도로 사용되는 것을 암시. (개발자간 약속)\n",
    "- `__변수명`: 이름 장식(name mangling)을 통해 외부에서 접근하기 어렵게 만든다.\n",
    "- 캡슐화를 통해 내부 데이터는 **메서드로만 접근 가능**하게 하여, 데이터 무결성을 보장."
   ]
  },
  {
   "cell_type": "code",
   "execution_count": 35,
   "metadata": {},
   "outputs": [
    {
     "name": "stdout",
     "output_type": "stream",
     "text": [
      "1000\n",
      "1500\n",
      "잔고 부족.\n",
      "1500\n"
     ]
    }
   ],
   "source": [
    "# 접근 지정자와 캡슐화의 예시.\n",
    "class BankAccount:\n",
    "    def __init__(self, owner, balance=0): # 따로 지정하지 않았을 경우 기본값은 0.\n",
    "        self.owner = owner\n",
    "        self.__balance = balance\n",
    "        \n",
    "    # 저축\n",
    "    def deposit(self, amount):\n",
    "       self.__balance += amount\n",
    "    # 출금\n",
    "    def withdraw(self, amount):\n",
    "        if self.__balance >= amount:\n",
    "            self.__balance -= amount\n",
    "        else:\n",
    "            print('잔고 부족.')\n",
    "    \n",
    "    def get_balance(self):\n",
    "        return self.__balance\n",
    "    \n",
    "# 테스트 코드\n",
    "acc = BankAccount(\"Alice\", 1000)\n",
    "print(acc.get_balance())\n",
    "acc.deposit(500)\n",
    "print(acc.get_balance())\n",
    "acc.withdraw(2000)      \n",
    "print(acc.get_balance())"
   ]
  },
  {
   "cell_type": "markdown",
   "metadata": {},
   "source": [
    "## 7. 상속(Inheritance)\n",
    "\n",
    "상속은 기존 클래스를 **재사용**하여, 새로운 클래스를 만들 수 있게 하는 기능. \n",
    "\n",
    "상속을 통해 기존 클래스(부모 클래스 또는 슈퍼 클래스)의 속성과 메서드를 자식 클래스(서브 클래스)에서 물려받을 수 있고, 필요하다면 확장 또는 수정 가능."
   ]
  },
  {
   "cell_type": "code",
   "execution_count": 43,
   "metadata": {},
   "outputs": [
    {
     "name": "stdout",
     "output_type": "stream",
     "text": [
      "댕댕이가 멍멍!\n"
     ]
    }
   ],
   "source": [
    "# 상속의 예시.\n",
    "class Animal:\n",
    "    def __init__(self, name):\n",
    "        self.name = name\n",
    "    \n",
    "    def speak(self):\n",
    "        print('동물이 소리를 낸다.')\n",
    "    \n",
    "class Dog(Animal): # 기존의 Animal을 상속.\n",
    "    def speak(self): # 기존의 동물이 소리를 낸다를 변경.\n",
    "        print(f\"{self.name}가 멍멍!\")\n",
    "\n",
    "dog = Dog('댕댕이')\n",
    "dog.speak()"
   ]
  },
  {
   "cell_type": "markdown",
   "metadata": {},
   "source": [
    "## 8. 다형성(Polymorphism)과 오버라이딩(Overriding)\n",
    "\n",
    "- **다형성(Polymorphism)**: 같은 메서드 이름이 다양한 클래스에서 다른 형태로 동작할 수 있음을 의미합니다.\n",
    "- **오버라이딩(Overriding)**: 자식 클래스에서 부모 클래스의 메서드를 재정의하는 것을 말합니다."
   ]
  },
  {
   "cell_type": "code",
   "execution_count": 46,
   "metadata": {},
   "outputs": [
    {
     "name": "stdout",
     "output_type": "stream",
     "text": [
      "애옹\n",
      "댕댕\n",
      "동물소리\n"
     ]
    }
   ],
   "source": [
    "# 다형성과 오버라이딩의 예시.\n",
    "class Animal:\n",
    "    def speak(self):\n",
    "        print('동물소리')\n",
    "class Cat(Animal):\n",
    "    def speak(self):\n",
    "        print('애옹')\n",
    "    \n",
    "class Dog(Animal):\n",
    "    def speak(self):\n",
    "        print('댕댕')\n",
    "\n",
    "animals = [Cat(),Dog(), Animal()]\n",
    "for animal in animals:\n",
    "    animal.speak()\n",
    "    "
   ]
  },
  {
   "cell_type": "markdown",
   "metadata": {},
   "source": [
    "## 9. 실제 예제: 학생 관리 시스템\n",
    "\n",
    "클래스를 사용해 간단한 학생 정보를 관리하는 프로그램 제작."
   ]
  },
  {
   "cell_type": "code",
   "execution_count": 48,
   "metadata": {},
   "outputs": [
    {
     "name": "stdout",
     "output_type": "stream",
     "text": [
      "이름: Alice, 학번: 20230001, 평균점수: 91.66666666666667\n",
      "이름: Bob, 학번: 20230002, 평균점수: 72.5\n"
     ]
    }
   ],
   "source": [
    "# 학생 관리 시스템 예제.\n",
    "class Student:\n",
    "    def __init__(self, name, student_id):\n",
    "        self.name = name\n",
    "        self.stdent_id = student_id\n",
    "        self.scores = [] # 매개변수가 아니고, 객체의 속성으로 초기화된다.\n",
    "    \n",
    "    # score에 들어온 값을 초기화한 곳에 append를 통해 추가.\n",
    "    def add_score(self, score):\n",
    "        self.scores.append(score)\n",
    "    \n",
    "    #평균 점수 계산.    \n",
    "    def get_average(self):\n",
    "        if not self.scores:\n",
    "            return 0 # elif를 사용하지 않아도, 밑의 return문으로 이동.\n",
    "        return sum(self.scores) / len(self.scores)\n",
    "    \n",
    "    # 위 정보들을 정리하여 소개하는 함수.\n",
    "    def introduce(self):\n",
    "        print(f\"이름: {self.name}, 학번: {self.stdent_id}, 평균점수: {self.get_average()}\") # get_average() 괄호 잊지 말기!\n",
    "\n",
    "\n",
    "# 테스트 코드\n",
    "s1 = Student(\"Alice\", \"20230001\")\n",
    "s1.add_score(90)\n",
    "s1.add_score(85)\n",
    "s1.add_score(100)\n",
    "\n",
    "s2 = Student(\"Bob\", \"20230002\")\n",
    "s2.add_score(70)\n",
    "s2.add_score(75)\n",
    "\n",
    "s1.introduce()\n",
    "s2.introduce()"
   ]
  },
  {
   "cell_type": "markdown",
   "metadata": {},
   "source": [
    "## 정리\n",
    "\n",
    "- `클래스는` 객체(인스턴스)를 만들기 위한 **설계도이자, OOP의 핵심 개념**.\n",
    "- `인스턴스 변수, 클래스 변수`를 통해 **데이터를 관리**. \n",
    "- `인스턴스 메서드, 클래스 메서드, 정적 메서드`를 통해 **기능을 구현**.\n",
    "- `__init__` 메서드(생성자)를 통해 인스턴스 생성 시 초기화 과정을 수행 가능.\n",
    "- 접근 제어(명시적 키워드는 없지만 언더스코어 컨벤션), 캡슐화, 상속, 다형성 등을 통해 **코드 재사용성과 유연성을 극대화** 가능.\n",
    "- 클래스를 통해 관련된 데이터와 기능을 논리적 단위로 묶어내면, 큰 규모의 프로그램을 더 체계적이고 유지 관리하기 쉽게 가능."
   ]
  }
 ],
 "metadata": {
  "kernelspec": {
   "display_name": "python (myenv)",
   "language": "python",
   "name": "myenv"
  },
  "language_info": {
   "codemirror_mode": {
    "name": "ipython",
    "version": 3
   },
   "file_extension": ".py",
   "mimetype": "text/x-python",
   "name": "python",
   "nbconvert_exporter": "python",
   "pygments_lexer": "ipython3",
   "version": "3.8.20"
  }
 },
 "nbformat": 4,
 "nbformat_minor": 2
}
