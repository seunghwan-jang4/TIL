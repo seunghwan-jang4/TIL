{
 "cells": [
  {
   "cell_type": "markdown",
   "metadata": {},
   "source": [
    "## 1. 함수\n",
    "\n",
    "함수는 일종의 **'기능 단위'** \n",
    "\n",
    "프로그램 내에서 반복해서 사용할 코드 조각을 함수로 정의해두면, 필요할 때마다 함수 이름을 호출하는 것으로 해당 코드를 실행 가능. \n",
    "\n",
    "\n",
    "`함수 이용의 장점.`\n",
    "\n",
    "- **코드 재사용성 증가**: 동일한 기능을 하는 코드를 여러 번 작성 불필요. 한 번 정의한 함수를 반복 호출 가능.\n",
    "- **코드 가독성 향상**: 함수 이름에 해당 기능을 잘 나타내면, 코드 전체의 가독성 증가.\n",
    "- **유지 보수성 개선**: 함수로 묶인 코드는 한 곳에서만 수정하면 되므로, 유지 보수 용이."
   ]
  },
  {
   "cell_type": "markdown",
   "metadata": {},
   "source": [
    "## 2. 함수 정의하기 (def 키워드 사용)\n",
    "\n",
    "파이썬에서 함수를 정의할 때는 `def` 키워드를 사용. `함수의 기본 구조`는 다음과 같습니다.\n",
    "\n",
    "```python\n",
    "def 함수이름(매개변수1, 매개변수2, ...):\n",
    "    # 함수가 수행할 문장들\n",
    "    # ...\n",
    "    return 반환값\n",
    "```\n",
    "\n",
    "- `def` 키워드 뒤에 함수 이름 작성성.\n",
    "- 괄호 안에 함수가 사용할 매개변수(parameter)를 정의. 매개변수는 생략 가능.\n",
    "- 함수 내부의 코드는 들여쓰기로 구분. `return` 문을 사용하여 함수 결과를 반환 가능.\n",
    "- `return` 문은 생략 가능하며, 이 경우 함수는 `None`을 반환."
   ]
  },
  {
   "cell_type": "markdown",
   "metadata": {},
   "source": [
    "## 3. 매개변수(Parameters)와 인자(Arguments)의 차이\n",
    "\n",
    "- **매개변수(Parameter)**: 함수를 정의할 때 **함수 내부로 전달받을 수 있는 변수**. 즉, 함수 선언부에 이름을 붙여 놓은 것들.\n",
    "- **인자(Argument)**: 함수를 호출할 때 **실제로 넘기는 값.** 호출 시 매개변수에 대응하는 실제 데이터를 인자로 전달."
   ]
  },
  {
   "cell_type": "code",
   "execution_count": 1,
   "metadata": {},
   "outputs": [
    {
     "name": "stdout",
     "output_type": "stream",
     "text": [
      "8\n"
     ]
    }
   ],
   "source": [
    "# 예시. / 매개변수는 틀, 인자는 내용물이라고 이해하자.\n",
    "def add(a, b):  # a, b는 매개변수(parameter)\n",
    "    return a + b\n",
    "\n",
    "result = add(3, 5)  # 3과 5는 인자(argument)\n",
    "print(result)"
   ]
  },
  {
   "cell_type": "markdown",
   "metadata": {},
   "source": [
    "## 4. 반환값(Return Value)\n",
    "\n",
    "함수는 `return` 키워드를 통해 실행 결과를, 호출한 곳으로 반환 가능. \n",
    "\n",
    "`return` 키워드를 만나면 함수는 즉시 종료. 그 뒤의 코드는 실행되지 않는다.\n",
    "\n",
    "반환값은 0개, 1개 또는 여러 개일 수 있다."
   ]
  },
  {
   "cell_type": "code",
   "execution_count": 3,
   "metadata": {},
   "outputs": [
    {
     "name": "stdout",
     "output_type": "stream",
     "text": [
      "hello seunghwan\n"
     ]
    }
   ],
   "source": [
    "# 반환값이 없는 함수. / 단순 실행과 출력만 필요하므로, return 문을 미사용.\n",
    "def greet(name):\n",
    "    print('hello', name)\n",
    "    #return이 없으므로 None을 반환.\n",
    "    \n",
    "greet('seunghwan')"
   ]
  },
  {
   "cell_type": "code",
   "execution_count": null,
   "metadata": {},
   "outputs": [
    {
     "name": "stdout",
     "output_type": "stream",
     "text": [
      "100\n"
     ]
    }
   ],
   "source": [
    "# 반환값이 하나인 함수. / 함수의 결과를 다른 곳에서 재사용하거나 계산의 일부로 활용할 때, return이 필요.\n",
    "def square(x):\n",
    "    return x*x\n",
    "\n",
    "result = square(int(input(\"정수를 입력하세요: \")))\n",
    "print(result)"
   ]
  },
  {
   "cell_type": "code",
   "execution_count": 8,
   "metadata": {},
   "outputs": [
    {
     "name": "stdout",
     "output_type": "stream",
     "text": [
      "몫:  2\n",
      "나머지:  0\n"
     ]
    }
   ],
   "source": [
    "# 여러 개의 값을 반환하는 함수. (파이썬에서는 튜플 형태로 반환)\n",
    "def divide_and_remainder(a, b):\n",
    "    quotient = a // b\n",
    "    remainder = a % b\n",
    "    return quotient, remainder\n",
    "\n",
    "q, r = divide_and_remainder(10, 5)\n",
    "print('몫: ', q)\n",
    "print('나머지: ', r)"
   ]
  },
  {
   "cell_type": "markdown",
   "metadata": {},
   "source": [
    "## 5. 다양한 매개변수 전달 방식\n",
    "\n",
    "파이썬 함수에서는 매개변수를 다루는 다양한 방법 존재."
   ]
  },
  {
   "cell_type": "markdown",
   "metadata": {},
   "source": [
    "5-1. **기본 매개변수(Default Parameter)**: 매개변수에 기본값을 설정 가능."
   ]
  },
  {
   "cell_type": "code",
   "execution_count": 14,
   "metadata": {},
   "outputs": [
    {
     "name": "stdout",
     "output_type": "stream",
     "text": [
      "hi seunghwan\n",
      "hello seunghwan\n"
     ]
    }
   ],
   "source": [
    "# 기본 매개변수 예시.\n",
    "def greet(name, message= \"hi\"):\n",
    "    print(message, name)\n",
    "\n",
    "greet('seunghwan') # message를 지정하지 않을 경우 매개변수의 기본값이 적용.\n",
    "greet('seunghwan', 'hello') #message를 지정하여, 출력에 적용."
   ]
  },
  {
   "cell_type": "markdown",
   "metadata": {},
   "source": [
    "5-2. **키워드 인자(Keyword Arguments)**: 함수 호출 시, 매개변수 이름을 명시하여 인자를 전달 가능."
   ]
  },
  {
   "cell_type": "code",
   "execution_count": 16,
   "metadata": {},
   "outputs": [
    {
     "name": "stdout",
     "output_type": "stream",
     "text": [
      "이름:  seunghwan\n",
      "나이:  26\n",
      "이름:  alice\n",
      "나이:  30\n"
     ]
    }
   ],
   "source": [
    "# 키워드 인자의 예시.\n",
    "def introduce(name, age):\n",
    "    print('이름: ', name)\n",
    "    print('나이: ', age)\n",
    "\n",
    "introduce(name = \"seunghwan\", age = 26 )\n",
    "introduce(age = 30, name = 'alice')\n"
   ]
  },
  {
   "cell_type": "markdown",
   "metadata": {},
   "source": [
    "5-3. **가변 인자(*args)**: 몇 개의 인자가 들어올지 모를 경우, `args`를 사용. 인자를 튜플 형태로 받을 수 있다."
   ]
  },
  {
   "cell_type": "code",
   "execution_count": 20,
   "metadata": {},
   "outputs": [
    {
     "name": "stdout",
     "output_type": "stream",
     "text": [
      "10\n",
      "0\n"
     ]
    }
   ],
   "source": [
    "# 가변 인자 사용의 예시.\n",
    "def sum_all(*args): # 몇 개의 인자가 들어올지 모르므로, *args 사용.\n",
    "    total = 0 \n",
    "    for num in args:\n",
    "        total += num\n",
    "    return total\n",
    "\n",
    "print(sum_all(1, 2, 3, 4))\n",
    "print(sum_all()) # 인자가 없으므로, total = 0이 출력."
   ]
  },
  {
   "cell_type": "markdown",
   "metadata": {},
   "source": [
    "5-4. **키워드 가변 인자(kwargs)**: 키워드 인자를 `딕셔너리` 형태로 받을 수 있다."
   ]
  },
  {
   "cell_type": "markdown",
   "metadata": {},
   "source": [
    "## 6. 람다 함수(Lambda Function)\n",
    "\n",
    "람다 함수는 `lambda` 키워드를 사용하여, 한 줄로 함수를 정의하는 방법.\n",
    "\n",
    "주로 간단한 연산을 위해 사용. **익명 함수**라고도 한다. 가독성이 떨어질 수 있으므로 주의!"
   ]
  },
  {
   "cell_type": "code",
   "execution_count": 21,
   "metadata": {},
   "outputs": [
    {
     "name": "stdout",
     "output_type": "stream",
     "text": [
      "15\n",
      "50\n"
     ]
    }
   ],
   "source": [
    "# 일반 함수의 예시.\n",
    "def add(a, b):\n",
    "    return a+b\n",
    "\n",
    "# 람다 함수의 예시.\n",
    "add_lambda = lambda a, b: a+b\n",
    "\n",
    "print(add(5, 10))\n",
    "print(add_lambda(20, 30))"
   ]
  },
  {
   "cell_type": "markdown",
   "metadata": {},
   "source": [
    "## 7. 함수 예제\n",
    "\n",
    "학생들의 점수를 처리하는 프로그램을 작성한다고 가정.\n",
    "\n",
    "- 학생들의 점수 리스트가 있을 때, 이 점수들의 평균을 구하는 함수 `calculate_average`를 정의하고,\n",
    "- 평균 점수를 기준으로 등급을 매기는 함수 `get_grade`를 정의한 뒤,\n",
    "- 이를 통해 학생에게 맞는 평가를 출력하는 로직을 작성하겠습니다."
   ]
  },
  {
   "cell_type": "code",
   "execution_count": 29,
   "metadata": {},
   "outputs": [
    {
     "name": "stdout",
     "output_type": "stream",
     "text": [
      "평균 점수: 84.8\n",
      "학생 등급: B\n"
     ]
    }
   ],
   "source": [
    "# 함수 사용의 예제 풀이.\n",
    "# 학생들의 점수 평균 계산.\n",
    "students_score_list = [88, 92, 79, 65, 100]\n",
    "\n",
    "def calculate_average(scores):\n",
    "    return sum(students_score_list)/len(students_score_list)\n",
    "\n",
    "avg_score = calculate_average(students_score_list)\n",
    "\n",
    "# 학생들의 평균 점수를 기반한 등급 책정. \n",
    "def get_grade(avg_score):\n",
    "    \n",
    "    if avg_score >= 90:\n",
    "        return ('A')\n",
    "    elif avg_score >= 80:\n",
    "        return ('B')\n",
    "    elif avg_score >= 70:\n",
    "        return ('C')\n",
    "    elif avg_score >= 60:\n",
    "        return ('D')\n",
    "    else:\n",
    "        return ('E')\n",
    "    \n",
    "    \n",
    "student_grade = get_grade(avg_score)\n",
    "\n",
    "print(\"평균 점수:\", avg_score)\n",
    "print(\"학생 등급:\", student_grade)  \n",
    "        "
   ]
  },
  {
   "cell_type": "markdown",
   "metadata": {},
   "source": [
    "## 정리\n",
    "\n",
    "- **함수는** 특정 기능을 수행하는 코드 블록이며, `def` 키워드를 사용해 정의.\n",
    "- **매개변수는** 함수 정의 시 이름을 정하며, **인자는** 함수 호출 시 실제 전달하는 값.\n",
    "- `return` 문을 통해 함수를 호출한 곳으로 값을 돌려줄 수 있으며, 반환값의 존재 여부는 선택적.\n",
    "- 기본 매개변수, 키워드 인자, 가변 인자를 통해 유연한 함수 호출 패턴을 활용 가능.\n",
    "- 람다 함수를 사용하면 짧고 간결한 익명 함수를 만들 수 있으나, 복잡한 로직에는 주의 필요.\n",
    "- 잘 구조화된 함수를 통해 **코드 재사용성, 가독성, 유지 보수성** 모두를 개선 가능."
   ]
  }
 ],
 "metadata": {
  "kernelspec": {
   "display_name": "python (myenv)",
   "language": "python",
   "name": "myenv"
  },
  "language_info": {
   "codemirror_mode": {
    "name": "ipython",
    "version": 3
   },
   "file_extension": ".py",
   "mimetype": "text/x-python",
   "name": "python",
   "nbconvert_exporter": "python",
   "pygments_lexer": "ipython3",
   "version": "3.8.20"
  }
 },
 "nbformat": 4,
 "nbformat_minor": 2
}
