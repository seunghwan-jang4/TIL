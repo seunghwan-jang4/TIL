{
 "cells": [
  {
   "cell_type": "markdown",
   "metadata": {},
   "source": [
    "## 1. 조건문의 개념\n",
    "조건문은 \"만약 어떠한 조건이 참(True)이라면 해당 코드 블록을 실행, 그렇지 않으면 실행하지 않는다. \"는 논리를 구현하기 위한 문법.\n",
    "\n",
    "\n",
    "- `if`: 조건이 참일 경우만, 코드 블록을 실행.\n",
    "- `elif`: 앞선 `if` 혹은 다른 `elif` 조건이 거짓일 때, 새로운 조건을 검사.\n",
    "- `else`: 위의 모든 조건이 거짓일 때, 실행되는 코드 블록.\n"
   ]
  },
  {
   "cell_type": "markdown",
   "metadata": {},
   "source": [
    "###  2. if 문\n",
    "가장 기본적인 조건문\n",
    "\n",
    "* 조건이 참일 경우에만 코드 블록을 실행.\n",
    "\n",
    "* 조건식은 반드시 **불리언 값으로 평가될 수 있는 식**. (예: 비교 연산자, 논리 연산자, bool 값 자체 등)\n",
    "* `:`(콜론) 뒤의 코드는 반드시 들여쓰기를 통해 블록을 형성. 들여쓰기가 없으면 문법 오류 발생."
   ]
  },
  {
   "cell_type": "code",
   "execution_count": null,
   "metadata": {},
   "outputs": [
    {
     "name": "stdout",
     "output_type": "stream",
     "text": [
      "성인입니다.\n"
     ]
    }
   ],
   "source": [
    "# 예제 1.\n",
    "age = 20\n",
    "\n",
    "if age >= 18:\n",
    "    print(\"성인입니다.\")"
   ]
  },
  {
   "cell_type": "code",
   "execution_count": null,
   "metadata": {},
   "outputs": [],
   "source": [
    "#예제 2. \n",
    "x = 5\n",
    "\n",
    "if x > 10:\n",
    "    print(\"x는 10보다 큽니다.\") # False 이므로 출력되지 않는다."
   ]
  },
  {
   "cell_type": "markdown",
   "metadata": {},
   "source": [
    "### 3. if-else 문\n",
    "if-else 구조는 조건이 참일 때와 거짓일 때, 각각 다른 코드를 실행하고 싶을 때 사용"
   ]
  },
  {
   "cell_type": "code",
   "execution_count": 2,
   "metadata": {},
   "outputs": [
    {
     "name": "stdout",
     "output_type": "stream",
     "text": [
      "미성년자입니다.\n"
     ]
    }
   ],
   "source": [
    "#예제 3.\n",
    "age = 16\n",
    "\n",
    "if age >= 18:\n",
    "    print(\"성인입니다.\")\n",
    "else:\n",
    "    print(\"미성년자입니다.\")"
   ]
  },
  {
   "cell_type": "markdown",
   "metadata": {},
   "source": [
    "### 4. if-elif-else 문\n",
    "\n",
    "* 여러 조건을 순차적으로 검사해야 할 때는 if 뒤에 elif(else if) 문을 하나 이상 사용가능. \n",
    "\n",
    "* elif 문은 이전 조건들이 모두 False일 때 자신의 조건을 검사.\n",
    "* 마지막으로 모든 조건이 거짓이라면 else 실행.\n"
   ]
  },
  {
   "cell_type": "code",
   "execution_count": 3,
   "metadata": {},
   "outputs": [
    {
     "name": "stdout",
     "output_type": "stream",
     "text": [
      "B 학점\n"
     ]
    }
   ],
   "source": [
    "#예제 4. \n",
    "score = 85\n",
    "\n",
    "if score >= 90:\n",
    "    print(\"A 학점\")\n",
    "elif score >= 80:\n",
    "    print(\"B 학점\")\n",
    "elif score >= 70:\n",
    "    print(\"C 학점\")\n",
    "else:\n",
    "    print(\"D 학점\")"
   ]
  },
  {
   "cell_type": "markdown",
   "metadata": {},
   "source": [
    "### 5. 복합 조건문\n",
    "조건식에 논리 연산자(AND, OR, NOT)를 사용하면, 하나 이상의 조건을 조합 가능.\n",
    "\n",
    "- `and`: 모든 조건이 True일 때만, True\n",
    "- `or`: 하나라도 조건이 True면, True\n",
    "- `not`: 조건의 결과를 반전(True ↔ False)\n"
   ]
  },
  {
   "cell_type": "code",
   "execution_count": null,
   "metadata": {},
   "outputs": [
    {
     "name": "stdout",
     "output_type": "stream",
     "text": [
      "x는 0보다 크고 10보다 작습니다.\n",
      "x는 0보다 작거나 5보다 큽니다.\n"
     ]
    }
   ],
   "source": [
    "# 예제 5. \n",
    "x = 7\n",
    "\n",
    "if x > 0 and x < 10: # x가 0보다 크고 10보다 작을 때의 값이, 둘 다 참이면 출력.\n",
    "    print(\"x는 0보다 크고 10보다 작습니다.\")\n",
    "\n",
    "if x < 0 or x > 5: # x가 0보다 작거나 5보다 클 경우,`` 조건을 하나라도 만족하면 출력.\n",
    "    print(\"x는 0보다 작거나 5보다 큽니다.\")"
   ]
  },
  {
   "cell_type": "code",
   "execution_count": null,
   "metadata": {},
   "outputs": [
    {
     "name": "stdout",
     "output_type": "stream",
     "text": [
      "비가 오지 않습니다.\n"
     ]
    }
   ],
   "source": [
    "# 예제 6.\n",
    "is_raining = False\n",
    "\n",
    "if not is_raining: # False와 not 즉 부정을 부정. True. \n",
    "    print(\"비가 오지 않습니다.\")"
   ]
  },
  {
   "cell_type": "markdown",
   "metadata": {},
   "source": [
    "### 6. 삼항 연산자(조건부 표현식)\n",
    "파이썬에서는 한 줄로 간단한 조건문을 표현할 수 있는 **조건부 표현식**(ternary operator)을 지원"
   ]
  },
  {
   "cell_type": "code",
   "execution_count": null,
   "metadata": {},
   "outputs": [
    {
     "name": "stdout",
     "output_type": "stream",
     "text": [
      "합격\n"
     ]
    }
   ],
   "source": [
    "# 예제 7. / 조건부 표현식 사용.\n",
    "score = 75\n",
    "result = \"합격\" if score >= 60 else \"불합격\" # 60점 이상이면 합격을, 그 밖의 점수는 불합격을 출력.\n",
    "print(result)"
   ]
  },
  {
   "cell_type": "markdown",
   "metadata": {},
   "source": [
    "### 7. 조건문 예제: 짝수/홀수 판별"
   ]
  },
  {
   "cell_type": "code",
   "execution_count": null,
   "metadata": {},
   "outputs": [
    {
     "name": "stdout",
     "output_type": "stream",
     "text": [
      "짝수\n"
     ]
    }
   ],
   "source": [
    "# 문제 1. / 입력받은 숫자가 짝수인지 홀수인지 판단하는 조건문 생성.\n",
    "num = int(input(\"숫자를 입력하세요: \"))\n",
    "print(\"짝수\" if num % 2==0 else \"홀수\") # 리스트 컴프리헨션을 생각하면 비슷하다.\n"
   ]
  },
  {
   "cell_type": "markdown",
   "metadata": {},
   "source": [
    "### 8. 조건문 예제: 로그인 검증"
   ]
  },
  {
   "cell_type": "code",
   "execution_count": null,
   "metadata": {},
   "outputs": [
    {
     "name": "stdout",
     "output_type": "stream",
     "text": [
      "아이디 혹은 비밀번호를 확인해 주세요.\n",
      "존재하지 않는 계정입니다.\n"
     ]
    }
   ],
   "source": [
    "#문제 2. / 사용자로부터 아이디와 비밀번호를 입력받아 로그인 성공 여부를 판단하는 조건문 생성.\n",
    "correct_id = \"admin\"\n",
    "correct_pw = \"1234\"\n",
    "\n",
    "user_id = input(\"아이디를 입력하세요: \")\n",
    "user_pw = input(\"비밀번호를 입력하세요: \")\n",
    "\n",
    "#내가 푼 방법 1.\n",
    "result = \"로그인되었습니다!\" if user_id == correct_id and user_pw == correct_pw else \"아이디 혹은 비밀번호를 확인해 주세요.\"\n",
    "print(result)\n",
    "\n",
    "#방법 2. \n",
    "if user_id == correct_id and user_pw == correct_pw:\n",
    "    print(\"로그인 성공!\")\n",
    "elif user_id == correct_id and user_pw != correct_pw:\n",
    "    print(\"비밀번호가 틀렸습니다.\")\n",
    "else:\n",
    "    print(\"존재하지 않는 계정입니다.\")\n"
   ]
  },
  {
   "cell_type": "markdown",
   "metadata": {},
   "source": [
    "### 9. 조건문 예제: 다중 조건 처리"
   ]
  },
  {
   "cell_type": "code",
   "execution_count": 26,
   "metadata": {},
   "outputs": [
    {
     "name": "stdout",
     "output_type": "stream",
     "text": [
      "올바른 수를 넣어주세요!\n"
     ]
    }
   ],
   "source": [
    "# 문제 3. / 성적을 입력받아 학점을 출력하는 조건문 생성.\n",
    "score = int(input(\"점수를 입력하세요 (0~100): \"))\n",
    "\n",
    "if score > 0 or score > 100:\n",
    "    print('올바른 수를 넣어주세요!')\n",
    "elif score >= 90:\n",
    "    print(f\"{score}점이므로, 'A' 입니다.\")\n",
    "elif score >= 80:\n",
    "    print(f\"{score}점이므로, 'B' 입니다.\")\n",
    "elif score >= 70:\n",
    "    print(f\"{score}점이므로, 'C' 입니다.\")\n",
    "else:\n",
    "    print(f\"{score}점이므로, 'D' 입니다.\") \n"
   ]
  },
  {
   "cell_type": "markdown",
   "metadata": {},
   "source": [
    "## 정리\n",
    "\n",
    "- 조건문은 프로그램 흐름을 제어하는 핵심 요소.\n",
    "- `if`를 사용하여 조건을 검사, 조건이 True일 때 특정 코드를 실행 가능.\n",
    "- `if-else`를 사용하면 조건에 따라 두 가지 경로 중 하나를 선택 가능.\n",
    "- `if-elif-else` 구조로 여러 조건을 순차적으로 검사 가능.\n",
    "- 논리 연산자 `and`, `or`, `not`을 활용하면 더 복잡한 조건을 표현 가능.\n",
    "- 조건부 표현식(삼항 연산자)을 사용하면, 간단한 조건문을 한 줄로 표현 가능."
   ]
  }
 ],
 "metadata": {
  "kernelspec": {
   "display_name": "python (myenv)",
   "language": "python",
   "name": "myenv"
  },
  "language_info": {
   "codemirror_mode": {
    "name": "ipython",
    "version": 3
   },
   "file_extension": ".py",
   "mimetype": "text/x-python",
   "name": "python",
   "nbconvert_exporter": "python",
   "pygments_lexer": "ipython3",
   "version": "3.8.20"
  }
 },
 "nbformat": 4,
 "nbformat_minor": 2
}
