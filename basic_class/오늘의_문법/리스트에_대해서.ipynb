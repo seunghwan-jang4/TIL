{
 "cells": [
  {
   "cell_type": "markdown",
   "metadata": {},
   "source": [
    "## 1. 리스트\n",
    "\n",
    "* 리스트는 순서가 있는 변경 가능한(mutable) 객체들의 집합.\n",
    "\n",
    "* 다양한 데이터 타입의 요소들을 포함 가능.\n",
    "* 대괄호 []를 사용하여 생성하며, 각 요소는 쉼표 ,로 구분.\n"
   ]
  },
  {
   "cell_type": "code",
   "execution_count": 4,
   "metadata": {},
   "outputs": [
    {
     "name": "stdout",
     "output_type": "stream",
     "text": [
      "[]\n",
      "[1, 'apple', True]\n"
     ]
    }
   ],
   "source": [
    "# 빈 리스트 생성 / 미리 리스트의 정보가 들어갈 자리를 만드는 것.\n",
    "empty_list = []\n",
    "\n",
    "# 여러 데이터 타입을 가진 리스트\n",
    "my_list = [1, 'apple', True]\n",
    "\n",
    "print(empty_list)\n",
    "print(my_list)"
   ]
  },
  {
   "cell_type": "markdown",
   "metadata": {},
   "source": [
    "## 2. 리스트 생성 방법\n",
    "\n",
    "1. 대괄호 사용 []\n",
    "\n",
    "2. list() 함수를 사용."
   ]
  },
  {
   "cell_type": "code",
   "execution_count": 7,
   "metadata": {},
   "outputs": [
    {
     "name": "stdout",
     "output_type": "stream",
     "text": [
      "['apple', 'banana', 'blueberry']\n"
     ]
    }
   ],
   "source": [
    "# 대괄호 []\n",
    "fruits = ['apple', 'banana', 'blueberry']\n",
    "\n",
    "print(fruits)"
   ]
  },
  {
   "cell_type": "code",
   "execution_count": null,
   "metadata": {},
   "outputs": [
    {
     "name": "stdout",
     "output_type": "stream",
     "text": [
      "['h', 'e', 'l', 'l', 'o']\n",
      "[1, 2, 3]\n",
      "['fruit', 'age']\n"
     ]
    }
   ],
   "source": [
    "# list() 함수를 사용.\n",
    "# 문자열을 리스트로 변환. / hello의 단어 하나씩 리스트로 분리돼서 저장.\n",
    "chars = list('hello')\n",
    "\n",
    "print(chars)\n",
    "\n",
    "# 다른 이터러블(iterable) 객체를 리스트로 변환(튜플->리스트)\n",
    "numbers = list((1, 2, 3))\n",
    "numbers1 = list({'fruit':'aplle', 'age':'26'})\n",
    "\n",
    "print(numbers)\n",
    "print(numbers1) # 딕셔너리 구조에서는 키 값만 리스트 형태로 변환."
   ]
  },
  {
   "cell_type": "markdown",
   "metadata": {},
   "source": [
    "## 3. 리스트의 인덱싱과 슬라이싱\n",
    "리스트는 시퀀스(sequence) 타입, 인덱싱과 슬라이싱이 가능.\n",
    "\n",
    "\n",
    "#### 3.1. 인덱싱(Indexing)\n",
    "\n",
    "* 인덱스를 사용하여 리스트의 특정 위치에 있는 요소에 접근 가능.\n",
    "\n",
    "* 인덱스는 0부터 시작, 음수를 사용하면 뒤에서부터 접근.\n",
    "\n",
    "#### 3.2. 슬라이싱(Slicing)\n",
    "\n",
    "**sequnce[start:stop:step]**\n",
    "\n",
    "- **start**: 슬라이싱을 시작할 인덱스 (포함).\n",
    "- **stop**: 슬라이싱을 종료할 인덱스 (불포함).\n",
    "- **step**: 요소를 건너뛰는 간격.\n",
    "\n",
    "이때, `start`, `stop`, `step`은 모두 선택사항, 생략 가능.\n"
   ]
  },
  {
   "cell_type": "code",
   "execution_count": null,
   "metadata": {},
   "outputs": [
    {
     "name": "stdout",
     "output_type": "stream",
     "text": [
      "5\n",
      "10\n",
      "15\n",
      "20\n",
      "25\n"
     ]
    }
   ],
   "source": [
    "# 3.1 인덱싱(Indexing)\n",
    "age = [5, 10, 15, 20, 25, 30]\n",
    "\n",
    "print(age[0]) # 공부했던 대로 1이 아닌, 0이 첫 번째 값을 지칭.\n",
    "print(age[1])\n",
    "print(age[2])\n",
    "print(age[3])\n",
    "print(age[4])\n",
    "print(age[5])"
   ]
  },
  {
   "cell_type": "code",
   "execution_count": null,
   "metadata": {},
   "outputs": [
    {
     "name": "stdout",
     "output_type": "stream",
     "text": [
      "[5, 10, 15, 20, 25]\n",
      "[5, 15, 25]\n",
      "[30]\n",
      "[5, 10, 15, 20, 25]\n",
      "[30, 25, 20, 15, 10, 5]\n",
      "[]\n"
     ]
    }
   ],
   "source": [
    "# 3.2 슬라이싱(Slicing) / #sequnce[start:stop:step] / 슬라이싱을 통해 리스트의 부분 리스트(sublist) 추출 가능.\n",
    "age = [5, 10, 15, 20, 25, 30]\n",
    "\n",
    "print(age[0:5])   # 시작점은 0, 멈추는 점은 5, step은 설정하지 않았다.\n",
    "print(age[0:5:2]) # 시작점은 0, 멈추는 점은 5, step은 2로 설정. / 멈추는 점까지 2까지 건너뛰면서 값을 출력.\n",
    "print(age[-1:])   # 맨 뒤의 값을 불러온다.\n",
    "print(age[:-1])   # 맨 뒤의 값을 제외한 전부를 순서대로 가져온다.\n",
    "print(age[::-1])  # 값을 뒤에서부터 전부 가져온다.\n",
    "\n"
   ]
  },
  {
   "cell_type": "markdown",
   "metadata": {},
   "source": [
    "### start (시작 인덱스)\n",
    "\n",
    "- 슬라이싱이 시작되는 위치의 인덱스.\n",
    "- 포함되는 인덱스이며, 기본값은 `0`.\n",
    "\n",
    "### stop (종료 인덱스)\n",
    "\n",
    "- 슬라이싱이 종료되는 위치의 인덱스.\n",
    "- 불포함되는 인덱스이며, 기본값은 시퀀스의 길이.\n",
    "\n",
    "### step (간격)\n",
    "\n",
    "- 슬라이싱할 때 건너뛸 요소의 간격을 지정.\n",
    "- 기본값은 `1`.\n",
    "- 음수 값을 사용하면 역순으로 슬라이싱 가능."
   ]
  },
  {
   "cell_type": "markdown",
   "metadata": {},
   "source": [
    "## 4. 리스트의 변경 가능성(Mutability)\n",
    "\n",
    "* 리스트는 변경 가능한(mutable) 객체. \n",
    "\n",
    "* 생성 후에도 요소의 추가, 삭제, 변경이 가능"
   ]
  },
  {
   "cell_type": "code",
   "execution_count": null,
   "metadata": {},
   "outputs": [
    {
     "name": "stdout",
     "output_type": "stream",
     "text": [
      "['정승환', '어순철', '원순철', '원순아']\n"
     ]
    }
   ],
   "source": [
    "# 4.1. 요소 변경\n",
    "name = ['장승환', '어순철', '원순철', '원순아']\n",
    "name[0] = '정승환'\n",
    "print(name) # 장승환 => 정승환으로 바뀐 리스트가 출력."
   ]
  },
  {
   "cell_type": "code",
   "execution_count": null,
   "metadata": {},
   "outputs": [
    {
     "name": "stdout",
     "output_type": "stream",
     "text": [
      "[160, 150, 155, 162, 180]\n"
     ]
    }
   ],
   "source": [
    "# 4.2. 슬라이싱을 통한 요소 변경\n",
    "heigh = [160, 165, 170, 175, 180]\n",
    "heigh[1:4] = [150, 155, 162] # 인덱스 1 이상, 4미만의 값들이 치환되었다.\n",
    "print(heigh)"
   ]
  },
  {
   "cell_type": "markdown",
   "metadata": {},
   "source": [
    "## 5. 리스트 메서드(List Methods)\n",
    "\n",
    "**5.1. 요소 추가**\n",
    "1. append(item): 리스트의 끝에 요소를 추가.\n",
    "\n",
    "2. insert(index, item): 지정한 위치에 요소를 추가.\n",
    "3. extend(iterable): 리스트를 확장, 다른 이터러블의 모든 요소를 추가.\n",
    "\n",
    "\n"
   ]
  },
  {
   "cell_type": "code",
   "execution_count": null,
   "metadata": {},
   "outputs": [
    {
     "name": "stdout",
     "output_type": "stream",
     "text": [
      "[1, 2, 3, 4, 5, 6]\n",
      "[1, 'hi', 2, 3, 4, 5, 6]\n",
      "[1, 'hi', 2, 3, 4, 5, 6, 50, 99, 100]\n"
     ]
    }
   ],
   "source": [
    "# 리스트의 끝에 요소 추가. / .append() 함수를 통해 리스트에 6추가.\n",
    "number_1 = [1, 2, 3, 4, 5]\n",
    "number_1.append(6)\n",
    "print(number_1) \n",
    "\n",
    "#지정한 위치에 요소 추가.\n",
    "number_1.insert(1, 'hi') # 인덱스1 번에 hi가 추가됨.\n",
    "print(number_1)\n",
    "\n",
    "#리스트 확장하여, 다른 이터러블의 모든 요소 추가.\n",
    "number_1.extend([50,99,100]) # 50, 99, 100이 리스트에 추가됨.\n",
    "print(number_1)\n",
    "\n"
   ]
  },
  {
   "cell_type": "markdown",
   "metadata": {},
   "source": [
    "**5.2. 요소 제거**\n",
    "1. remove(item): 첫 번째로 일치하는 요소를 제거\n",
    "\n",
    "2. pop(index): 지정한 인덱스의 요소를 제거하고 반환합니다. 인덱스를 지정하지 않으면 마지막 요소를 제거.\n",
    "3. clear(): 모든 요소를 제거."
   ]
  },
  {
   "cell_type": "code",
   "execution_count": null,
   "metadata": {},
   "outputs": [
    {
     "name": "stdout",
     "output_type": "stream",
     "text": [
      "['apple']\n",
      "['apple', 'orange']\n"
     ]
    }
   ],
   "source": [
    "#1. .remove() 사용하여 요소 삭제.\n",
    "fruits = ['apple', 'banana']\n",
    "fruits.remove('banana')\n",
    "print(fruits)\n",
    "\n",
    "#2. .insert()사용하여 요소 추가.\n",
    "fruits.insert(1, 'orange') # 첫 번째에, orange 삽입.\n",
    "print(fruits)\n",
    "\n",
    "#3. "
   ]
  },
  {
   "cell_type": "markdown",
   "metadata": {},
   "source": [
    "**5.3. 요소 검색 및 개수 세기**\n",
    "1. index(item): 요소의 인덱스를 반환.\n",
    "\n",
    "2. count(item): 요소의 개수를 반환."
   ]
  },
  {
   "cell_type": "code",
   "execution_count": null,
   "metadata": {},
   "outputs": [
    {
     "name": "stdout",
     "output_type": "stream",
     "text": [
      "3\n",
      "3\n"
     ]
    }
   ],
   "source": [
    "# numbers 안에 있는 2의 인덱스 위치를 반환.\n",
    "numbers = [1, 2, 3, 4, 4, 4]\n",
    "idx = numbers.index(4) # 중복된 값이 있으면 첫 번째 위치를 반환.\n",
    "print(idx)\n",
    "\n",
    "# numbers 안에 2의 개수가 몇 개 있는지 반환.\n",
    "cnt = numbers.count(4)\n",
    "print(cnt)\n",
    "\n"
   ]
  },
  {
   "cell_type": "markdown",
   "metadata": {},
   "source": [
    "**5.4. 정렬**\n",
    "1. sort(): 리스트를 오름차순으로 정렬.\n",
    "\n",
    "2. reverse(): 리스트의 요소 순서를 반대로 뒤집기."
   ]
  },
  {
   "cell_type": "code",
   "execution_count": 17,
   "metadata": {},
   "outputs": [
    {
     "name": "stdout",
     "output_type": "stream",
     "text": [
      "[1, 5, 7, 8, 9]\n",
      "[9, 8, 7, 5, 1]\n"
     ]
    }
   ],
   "source": [
    "# .sort() 을 사용하여 기본값인, 오름차순으로 정렬. \n",
    "numbers = [1, 8, 9, 7, 5]\n",
    "numbers.sort()\n",
    "print(numbers)\n",
    "\n",
    "# .sort(reverse=True) 를 사용하여 요소를 반대로 나열.\n",
    "numbers.sort(reverse=True)\n",
    "print(numbers)\n"
   ]
  },
  {
   "cell_type": "markdown",
   "metadata": {},
   "source": [
    "## 6. 리스트 연산 \n",
    "\n",
    "##### **연산자 +, * 사용 가능!**\n",
    "1. 리스트 연결(Concatenation)\n",
    "\n",
    "2. 리스트 반복(Repetition)\n",
    "\n"
   ]
  },
  {
   "cell_type": "code",
   "execution_count": null,
   "metadata": {},
   "outputs": [
    {
     "name": "stdout",
     "output_type": "stream",
     "text": [
      "[1, 2, 3, 4, 8, 9]\n",
      "[1, 2, 3, 1, 2, 3, 1, 2, 3]\n"
     ]
    }
   ],
   "source": [
    "# 더하기 연산자 '+'를 사용하여 리스트를 연결.\n",
    "list1 = [1, 2, 3]\n",
    "list2 = [4, 8, 9]\n",
    "result = list1 + list2\n",
    "print(result)\n",
    "\n",
    "# 곱하기 연산자 '*'를 사용하여 리스트를 반복 출력 가능.\n",
    "print(list1*3)\n"
   ]
  },
  {
   "cell_type": "markdown",
   "metadata": {},
   "source": [
    "### 7. 리스트 컴프리헨션(List Comprehension)\n",
    "\n",
    "* 간결하고 효율적인 방법으로 새로운 리스트를 생성하는 문법.\n",
    "\n",
    "#### 기본 구조 : new_list = [expression for item in iterable]\n",
    "\n",
    "\n"
   ]
  },
  {
   "cell_type": "code",
   "execution_count": 34,
   "metadata": {},
   "outputs": [
    {
     "name": "stdout",
     "output_type": "stream",
     "text": [
      "[4, 16, 36, 64, 100]\n",
      "[4, 16, 36, 64, 100]\n",
      "[5, 6, 8]\n"
     ]
    }
   ],
   "source": [
    "# 1부터 10까지의 숫자 중에서 짝수만 제곱하여 리스트 생성. / [] 대괄호를 사용!\n",
    "even_list = [even**2 for even in range(1,11) if even%2 == 0]\n",
    "print(even_list)\n",
    "\n",
    "# 리스트 컴프리헨션 미사용의 경우.\n",
    "even_list1 = [] # 리스트가 들어갈 빈 공간 미리 생성.\n",
    "for even in range(1, 11):\n",
    "    if even%2 ==0:\n",
    "        even_list1.append(even**2)\n",
    "\n",
    "print (even_list1)\n",
    "\n",
    "# 문자열 리스트에서 각 단어의 길이로 구성된 리스트 생성.\n",
    "words = ['apple', 'banana', 'bluberry']\n",
    "lengths = [len(word) for word in words] # 단어들을 하나씩 갖고와서 len()을 씌운 결과를 출력.\n",
    "print(lengths)\n",
    "        \n"
   ]
  },
  {
   "cell_type": "markdown",
   "metadata": {},
   "source": [
    "### 8. 리스트의 반복문 활용\n",
    "리스트의 각 요소에 접근하거나 처리하기 위해 반복문을 사용 가능.\n"
   ]
  },
  {
   "cell_type": "code",
   "execution_count": null,
   "metadata": {},
   "outputs": [
    {
     "name": "stdout",
     "output_type": "stream",
     "text": [
      "['apple', 'banana', 'cherry']\n",
      "['apple', 'banana', 'cherry']\n",
      "['apple', 'banana', 'cherry']\n",
      "인덱스 0:apple\n",
      "인덱스 1:banana\n",
      "인덱스 2:cherry\n"
     ]
    }
   ],
   "source": [
    "fruits = ['apple', 'banana', 'cherry']\n",
    "\n",
    "# for 루프문.\n",
    "for fruit in fruits:\n",
    "    print(fruits)\n",
    "    \n",
    "\n",
    "# 인덱스와 함께 반복. / # enumerate : 인덱스와 값을 함께 불러올 수 있다.\n",
    "for index, value in enumerate(fruits):\n",
    "    print(f\"인덱스 {index}:{value}\")"
   ]
  },
  {
   "cell_type": "markdown",
   "metadata": {},
   "source": [
    "### 9. 중첩 리스트(Nested Lists)\n",
    "리스트는 다른 리스트를 요소로 가질 수 있다. 즉, 2차원 또는 다차원 리스트 생성 가능.\n"
   ]
  },
  {
   "cell_type": "code",
   "execution_count": null,
   "metadata": {},
   "outputs": [
    {
     "name": "stdout",
     "output_type": "stream",
     "text": [
      "[1, 2, 3]\n",
      "[[1, 2, 3], [4, 5, 6], [7, 8, 9]]\n",
      "123\n",
      "456\n",
      "789\n"
     ]
    }
   ],
   "source": [
    "# 중첩 리스트.\n",
    "matrix = [\n",
    "    [1, 2, 3],\n",
    "    [4, 5, 6],\n",
    "    [7, 8, 9]\n",
    "]\n",
    "\n",
    "print(matrix[0]) # 첫 번째 인덱스에 해당하는 [1, 2, 3]을 불러온다.\n",
    "print(matrix[0:3]) # 슬라이싱을 통해 전부 불러온다.\n",
    "\n",
    "#중첩 리스트의 요소 접근\n",
    "for row in matrix: # row에 매트릭스의 요소 저장. / row = [1, 2, 3], row = [4, 5, 6], row = [7, 8, 9]\n",
    "    for item in row: #item에 row의 요소를 저장. . item = 1, item = 2 등\n",
    "        print(item, end='') # 기본값인 줄 바꿈을 바꿨다.\n",
    "    print()"
   ]
  },
  {
   "cell_type": "markdown",
   "metadata": {},
   "source": [
    "## 10. 리스트의 얕은 복사와 깊은 복사"
   ]
  },
  {
   "cell_type": "markdown",
   "metadata": {},
   "source": [
    "### 10.1. 얕은 복사(Shallow Copy)\n",
    "\n",
    "- 슬라이싱 또는 `list()` 함수를 사용하여 리스트를 복사하면 얕은 복사 가능.\n",
    "- 객체의 최상위 레벨만 복사, 그 안에 포함된 하위 객체들은 원본 객체와 참조를 공유.\n",
    "- 얕은 복사의 결과를 확인하면 shallow_copy의 값을 변경했는데, original 의 값도 같이 변경. 복사를 했지만 두 변수는 독립적이지 못하기 때문에 얕은 복사이다."
   ]
  },
  {
   "cell_type": "code",
   "execution_count": null,
   "metadata": {},
   "outputs": [
    {
     "name": "stdout",
     "output_type": "stream",
     "text": [
      "[1, 2, ['a', 4]]\n",
      "[1, 2, ['a', 4]]\n"
     ]
    }
   ],
   "source": [
    "# 즉, 얕은 복사는 다른 변수가 아닌 같은 변수이다.\n",
    "original = [1, 2, [3, 4]]\n",
    "shallow_copy = original[:]\n",
    "shallow_copy[2][0] = 'a'\n",
    "\n",
    "print(original)\n",
    "print(shallow_copy)"
   ]
  },
  {
   "cell_type": "markdown",
   "metadata": {},
   "source": [
    "### 10.2. 깊은 복사(Deep Copy)\n",
    "\n",
    "- `copy` 모듈의 `deepcopy()` 함수를 사용하여 깊은 복사 가능.\n",
    "- 객체와 그 안에 포함된 모든 하위 객체까지 재귀적으로 복사. 원본 객체와 완전히 독립된 새로운 객체를 생성.\n",
    "- 깊은 복사의 결과를 확인하면 deep_copy의 값을 변경했는데, original 의 값은 변경이 없다. 깊게 복사를 해서, 두 변수는 다른 변수이기 때문에  deep_copy의 값만 변경되어서 깊은 복사!"
   ]
  },
  {
   "cell_type": "code",
   "execution_count": null,
   "metadata": {},
   "outputs": [
    {
     "name": "stdout",
     "output_type": "stream",
     "text": [
      "[1, 2, [3, 4]]\n",
      "[1, 2, ['a', 4]]\n"
     ]
    }
   ],
   "source": [
    "# 즉, 깊은 복사는 다른 변수를 만들어 낸다.\n",
    "import copy\n",
    "\n",
    "original= [1,2, [3, 4]]\n",
    "deep_copy = copy.deepcopy(original)\n",
    "deep_copy[2][0] = 'a'   # original 인덱스의 2 번째인, [3,4]에서 인덱스의 0번째인 3을 지정. 'a' 로 변환.\n",
    "\n",
    "print(original)\n",
    "print(deep_copy)"
   ]
  },
  {
   "cell_type": "markdown",
   "metadata": {},
   "source": [
    "## 11. 리스트와 메모리 관리"
   ]
  },
  {
   "cell_type": "code",
   "execution_count": null,
   "metadata": {},
   "outputs": [
    {
     "name": "stdout",
     "output_type": "stream",
     "text": [
      "2077263852480\n",
      "2077263852480\n",
      "2077263852480\n",
      "2077263697984\n"
     ]
    }
   ],
   "source": [
    "# 리스트의 메모리 주소 확인. / 동일한 리스트 객체.\n",
    "a = [1, 2, 3]\n",
    "b = a\n",
    "print(id(a)) # 같은 id 출력.\n",
    "print(id(b)) # 같은 id 출력.\n",
    "\n",
    "# 새로운 리스트 생성. / b = a[:] 새로운 리스트 생성.\n",
    "b = a[:]\n",
    "print(id(a))\n",
    "print(id(b)) # 다른 id 출력."
   ]
  },
  {
   "cell_type": "markdown",
   "metadata": {},
   "source": [
    "### 12. 실용적인 예제"
   ]
  },
  {
   "cell_type": "code",
   "execution_count": null,
   "metadata": {},
   "outputs": [
    {
     "name": "stdout",
     "output_type": "stream",
     "text": [
      "[1, 2, 3, 4, 5]\n",
      "[1, 2, 3, 4, 5, 6]\n",
      "[3, 6, 9, 12, 15, 18]\n",
      "[35, 40, 45]\n"
     ]
    }
   ],
   "source": [
    "# 1. 리스트에서 중복 제거. set은 중복을 허용하지 않는 집합 자료형!\n",
    "numbers = [1, 2, 2, 3, 3, 4, 4, 5]\n",
    "unique_numbers = list(set(numbers)) # set을 사용하여 중복을 제거한 리스트 출력.\n",
    "print(unique_numbers)\n",
    "\n",
    "# 2. 리스트 평탄화(Flattening).\n",
    "nested_list = [[1, 2], [3, 4], [5, 6]]\n",
    "flat_list = [item for sublist in nested_list for item in sublist] #위의 리스트 컴프리헨션 구조를 떠올려보자.\n",
    "print(flat_list)\n",
    "\n",
    "# 3. 리스트 컴프리헨션을 이용한 조건부 리스트 생성. / 문제: 1부터 20까지의 숫자 중에서 3의 배수만 리스트로 생성.\n",
    "result = [n for n in range(1, 21) if n%3 ==0] \n",
    "print(result)\n",
    "\n",
    "# 4. 2차원 리스트에서 특정 조건의 요소 찾기. / 문제: 요소 중에서 30보다 큰 값만 리스트로 추출.\n",
    "matrix = [\n",
    "    [5, 10, 15],\n",
    "    [20, 25, 30],\n",
    "    [35, 40, 45]\n",
    "]\n",
    "#우선 row에 row = [5, 10, 15] 등을 생성. 그 다음 item에 row에 있던 값을 for문을 통해 item = [5, 10, 15, 20, 25, 30, 35, 40, 45]로 생성. 그 후 값 비교.\n",
    "answer = [item for row in matrix for item in row if item > 30]\n",
    "print(answer)\n",
    "\n"
   ]
  },
  {
   "cell_type": "code",
   "execution_count": null,
   "metadata": {},
   "outputs": [],
   "source": []
  }
 ],
 "metadata": {
  "kernelspec": {
   "display_name": "python (myenv)",
   "language": "python",
   "name": "myenv"
  },
  "language_info": {
   "codemirror_mode": {
    "name": "ipython",
    "version": 3
   },
   "file_extension": ".py",
   "mimetype": "text/x-python",
   "name": "python",
   "nbconvert_exporter": "python",
   "pygments_lexer": "ipython3",
   "version": "3.8.20"
  }
 },
 "nbformat": 4,
 "nbformat_minor": 2
}
