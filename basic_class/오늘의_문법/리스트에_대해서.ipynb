{
 "cells": [
  {
   "cell_type": "markdown",
   "metadata": {},
   "source": [
    "## 1. 리스트\n",
    "\n",
    "* 리스트는 순서가 있는 변경 가능한(mutable) 객체들의 집합.\n",
    "\n",
    "* 다양한 데이터 타입의 요소들을 포함 가능.\n",
    "* 대괄호 []를 사용하여 생성하며, 각 요소는 쉼표 ,로 구분.\n"
   ]
  },
  {
   "cell_type": "code",
   "execution_count": 4,
   "metadata": {},
   "outputs": [
    {
     "name": "stdout",
     "output_type": "stream",
     "text": [
      "[]\n",
      "[1, 'apple', True]\n"
     ]
    }
   ],
   "source": [
    "# 빈 리스트 생성 / 미리 리스트의 정보가 들어갈 자리를 만드는 것.\n",
    "empty_list = []\n",
    "\n",
    "# 여러 데이터 타입을 가진 리스트\n",
    "my_list = [1, 'apple', True]\n",
    "\n",
    "print(empty_list)\n",
    "print(my_list)"
   ]
  },
  {
   "cell_type": "markdown",
   "metadata": {},
   "source": [
    "## 2. 리스트 생성 방법\n",
    "\n",
    "1. 대괄호 사용 []\n",
    "\n",
    "2. list() 함수를 사용."
   ]
  },
  {
   "cell_type": "code",
   "execution_count": 7,
   "metadata": {},
   "outputs": [
    {
     "name": "stdout",
     "output_type": "stream",
     "text": [
      "['apple', 'banana', 'blueberry']\n"
     ]
    }
   ],
   "source": [
    "# 대괄호 []\n",
    "fruits = ['apple', 'banana', 'blueberry']\n",
    "\n",
    "print(fruits)"
   ]
  },
  {
   "cell_type": "code",
   "execution_count": null,
   "metadata": {},
   "outputs": [
    {
     "name": "stdout",
     "output_type": "stream",
     "text": [
      "['h', 'e', 'l', 'l', 'o']\n",
      "[1, 2, 3]\n",
      "['fruit', 'age']\n"
     ]
    }
   ],
   "source": [
    "# list() 함수를 사용.\n",
    "# 문자열을 리스트로 변환. / hello의 단어 하나씩 리스트로 분리돼서 저장.\n",
    "chars = list('hello')\n",
    "\n",
    "print(chars)\n",
    "\n",
    "# 다른 이터러블(iterable) 객체를 리스트로 변환(튜플->리스트)\n",
    "numbers = list((1, 2, 3))\n",
    "numbers1 = list({'fruit':'aplle', 'age':'26'})\n",
    "\n",
    "print(numbers)\n",
    "print(numbers1) # 딕셔너리 구조에서는 키 값만 리스트 형태로 변환."
   ]
  },
  {
   "cell_type": "markdown",
   "metadata": {},
   "source": [
    "## 3. 리스트의 인덱싱과 슬라이싱\n",
    "리스트는 시퀀스(sequence) 타입, 인덱싱과 슬라이싱이 가능.\n",
    "\n",
    "\n",
    "#### 3.1. 인덱싱(Indexing)\n",
    "\n",
    "* 인덱스를 사용하여 리스트의 특정 위치에 있는 요소에 접근 가능.\n",
    "\n",
    "* 인덱스는 0부터 시작, 음수를 사용하면 뒤에서부터 접근.\n",
    "\n",
    "#### 3.2. 슬라이싱(Slicing)\n",
    "\n",
    "**sequnce[start:stop:step]**\n",
    "\n",
    "- **start**: 슬라이싱을 시작할 인덱스 (포함).\n",
    "- **stop**: 슬라이싱을 종료할 인덱스 (불포함).\n",
    "- **step**: 요소를 건너뛰는 간격.\n",
    "\n",
    "이때, `start`, `stop`, `step`은 모두 선택사항, 생략 가능.\n"
   ]
  },
  {
   "cell_type": "code",
   "execution_count": null,
   "metadata": {},
   "outputs": [
    {
     "name": "stdout",
     "output_type": "stream",
     "text": [
      "5\n",
      "10\n",
      "15\n",
      "20\n",
      "25\n"
     ]
    }
   ],
   "source": [
    "# 3.1 인덱싱(Indexing)\n",
    "age = [5, 10, 15, 20, 25, 30]\n",
    "\n",
    "print(age[0]) # 공부했던 대로 1이 아닌, 0이 첫 번째 값을 지칭.\n",
    "print(age[1])\n",
    "print(age[2])\n",
    "print(age[3])\n",
    "print(age[4])\n",
    "print(age[5])"
   ]
  },
  {
   "cell_type": "code",
   "execution_count": null,
   "metadata": {},
   "outputs": [
    {
     "name": "stdout",
     "output_type": "stream",
     "text": [
      "[5, 10, 15, 20, 25]\n",
      "[5, 15, 25]\n",
      "[30]\n",
      "[5, 10, 15, 20, 25]\n",
      "[30, 25, 20, 15, 10, 5]\n",
      "[]\n"
     ]
    }
   ],
   "source": [
    "# 3.2 슬라이싱(Slicing) / #sequnce[start:stop:step] / 슬라이싱을 통해 리스트의 부분 리스트(sublist) 추출 가능.\n",
    "age = [5, 10, 15, 20, 25, 30]\n",
    "\n",
    "print(age[0:5])   # 시작점은 0, 멈추는 점은 5, step은 설정하지 않았다.\n",
    "print(age[0:5:2]) # 시작점은 0, 멈추는 점은 5, step은 2로 설정. / 멈추는 점까지 2까지 건너뛰면서 값을 출력.\n",
    "print(age[-1:])   # 맨 뒤의 값을 불러온다.\n",
    "print(age[:-1])   # 맨 뒤의 값을 제외한 전부를 순서대로 가져온다.\n",
    "print(age[::-1])  # 값을 뒤에서부터 전부 가져온다.\n",
    "\n"
   ]
  },
  {
   "cell_type": "markdown",
   "metadata": {},
   "source": [
    "### start (시작 인덱스)\n",
    "\n",
    "- 슬라이싱이 시작되는 위치의 인덱스.\n",
    "- 포함되는 인덱스이며, 기본값은 `0`.\n",
    "\n",
    "### stop (종료 인덱스)\n",
    "\n",
    "- 슬라이싱이 종료되는 위치의 인덱스.\n",
    "- 불포함되는 인덱스이며, 기본값은 시퀀스의 길이.\n",
    "\n",
    "### step (간격)\n",
    "\n",
    "- 슬라이싱할 때 건너뛸 요소의 간격을 지정.\n",
    "- 기본값은 `1`.\n",
    "- 음수 값을 사용하면 역순으로 슬라이싱 가능."
   ]
  },
  {
   "cell_type": "markdown",
   "metadata": {},
   "source": [
    "## 4. 리스트의 변경 가능성(Mutability)\n",
    "\n",
    "* 리스트는 변경 가능한(mutable) 객체. \n",
    "\n",
    "* 생성 후에도 요소의 추가, 삭제, 변경이 가능"
   ]
  },
  {
   "cell_type": "code",
   "execution_count": null,
   "metadata": {},
   "outputs": [
    {
     "name": "stdout",
     "output_type": "stream",
     "text": [
      "['정승환', '어순철', '원순철', '원순아']\n"
     ]
    }
   ],
   "source": [
    "# 4.1. 요소 변경\n",
    "name = ['장승환', '어순철', '원순철', '원순아']\n",
    "name[0] = '정승환'\n",
    "print(name) # 장승환 => 정승환으로 바뀐 리스트가 출력."
   ]
  },
  {
   "cell_type": "code",
   "execution_count": null,
   "metadata": {},
   "outputs": [
    {
     "name": "stdout",
     "output_type": "stream",
     "text": [
      "[160, 150, 155, 162, 180]\n"
     ]
    }
   ],
   "source": [
    "# 4.2. 슬라이싱을 통한 요소 변경\n",
    "heigh = [160, 165, 170, 175, 180]\n",
    "heigh[1:4] = [150, 155, 162] # 인덱스 1 이상, 4미만의 값들이 치환되었다.\n",
    "print(heigh)"
   ]
  },
  {
   "cell_type": "markdown",
   "metadata": {},
   "source": [
    "## 5. 리스트 메서드(List Methods)\n",
    "\n",
    "**5.1. 요소 추가**\n",
    "1. append(item): 리스트의 끝에 요소를 추가.\n",
    "\n",
    "2. insert(index, item): 지정한 위치에 요소를 추가.\n",
    "3. extend(iterable): 리스트를 확장, 다른 이터러블의 모든 요소를 추가.\n",
    "\n",
    "\n"
   ]
  },
  {
   "cell_type": "code",
   "execution_count": null,
   "metadata": {},
   "outputs": [
    {
     "name": "stdout",
     "output_type": "stream",
     "text": [
      "[1, 2, 3, 4, 5, 6]\n",
      "[1, 'hi', 2, 3, 4, 5, 6]\n",
      "[1, 'hi', 2, 3, 4, 5, 6, 50, 99, 100]\n"
     ]
    }
   ],
   "source": [
    "# 리스트의 끝에 요소 추가. / .append() 함수를 통해 리스트에 6추가.\n",
    "number_1 = [1, 2, 3, 4, 5]\n",
    "number_1.append(6)\n",
    "print(number_1) \n",
    "\n",
    "#지정한 위치에 요소 추가.\n",
    "number_1.insert(1, 'hi') # 인덱스1 번에 hi가 추가됨.\n",
    "print(number_1)\n",
    "\n",
    "#리스트 확장하여, 다른 이터러블의 모든 요소 추가.\n",
    "number_1.extend([50,99,100]) # 50, 99, 100이 리스트에 추가됨.\n",
    "print(number_1)\n",
    "\n"
   ]
  },
  {
   "cell_type": "markdown",
   "metadata": {},
   "source": [
    "**5.2. 요소 제거**\n",
    "1. remove(item): 첫 번째로 일치하는 요소를 제거\n",
    "\n",
    "2. pop(index): 지정한 인덱스의 요소를 제거하고 반환합니다. 인덱스를 지정하지 않으면 마지막 요소를 제거.\n",
    "3. clear(): 모든 요소를 제거."
   ]
  },
  {
   "cell_type": "code",
   "execution_count": null,
   "metadata": {},
   "outputs": [],
   "source": []
  },
  {
   "cell_type": "markdown",
   "metadata": {},
   "source": [
    "**5.3. 요소 검색 및 개수 세기**\n",
    "1. index(item): 요소의 인덱스를 반환.\n",
    "\n",
    "2. count(item): 요소의 개수를 반환."
   ]
  },
  {
   "cell_type": "code",
   "execution_count": null,
   "metadata": {},
   "outputs": [],
   "source": []
  },
  {
   "cell_type": "markdown",
   "metadata": {},
   "source": [
    "**5.4. 정렬**\n",
    "1. sort(): 리스트를 오름차순으로 정렬.\n",
    "\n",
    "2. reverse(): 리스트의 요소 순서를 반대로 뒤집기."
   ]
  },
  {
   "cell_type": "code",
   "execution_count": null,
   "metadata": {},
   "outputs": [],
   "source": []
  }
 ],
 "metadata": {
  "kernelspec": {
   "display_name": "python (myenv)",
   "language": "python",
   "name": "myenv"
  },
  "language_info": {
   "codemirror_mode": {
    "name": "ipython",
    "version": 3
   },
   "file_extension": ".py",
   "mimetype": "text/x-python",
   "name": "python",
   "nbconvert_exporter": "python",
   "pygments_lexer": "ipython3",
   "version": "3.8.20"
  }
 },
 "nbformat": 4,
 "nbformat_minor": 2
}
