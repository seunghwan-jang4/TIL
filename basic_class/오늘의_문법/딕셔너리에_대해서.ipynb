{
 "cells": [
  {
   "cell_type": "markdown",
   "metadata": {},
   "source": [
    "## 1. 딕셔너리\n",
    "\n",
    "**키(key)** 와 **값(value)** 의 쌍을 저장하는 자료형. \n",
    "\n",
    "다른 언어의 해시맵(hash map), 연관 배열(associative array)과 유사. \n",
    "\n",
    "#### **딕셔너리의 특징**\n",
    "- **변경 가능(mutable)**: 생성 후에도 요소의 추가, 삭제, 변경이 가능.\n",
    "- **키는 고유(unique)**: 한 딕셔너리 안의 키는 중복 불가.\n",
    "- **키는 불변(immutable) 자료형이어야 함**: 문자열, 숫자, 튜플 등을 키로 사용 가능.\n",
    "- **값은 어떤 자료형도 가능**: 리스트, 딕셔너리 등 가변 자료형도 값으로 사용 가능."
   ]
  },
  {
   "cell_type": "code",
   "execution_count": null,
   "metadata": {},
   "outputs": [
    {
     "name": "stdout",
     "output_type": "stream",
     "text": [
      "{}\n",
      "{'name': 'Alice', 'age': 25, 'city': 'New York'}\n"
     ]
    }
   ],
   "source": [
    "# 빈 딕셔너리 생성\n",
    "empty_dict = {}\n",
    "\n",
    "# 키-값 쌍을 가진 딕셔너리\n",
    "person = {\n",
    "    'name': 'Alice',\n",
    "    'age': 25,\n",
    "    'city': 'New York'\n",
    "}\n",
    "\n",
    "print(empty_dict)\n",
    "print(person) # 키를 구성하는 값인 name, age, city가, 각 대응하는 값('Alice', 25, 'New York')을 출력한다."
   ]
  },
  {
   "cell_type": "markdown",
   "metadata": {},
   "source": [
    "### 2. 딕셔너리 생성 방법\n",
    "\n",
    "#### 2.1. 중괄호 {}를 사용한 생성"
   ]
  },
  {
   "cell_type": "code",
   "execution_count": null,
   "metadata": {},
   "outputs": [],
   "source": [
    "# 기본적인 딕셔너리 생성.\n",
    "student = {\n",
    "    'id': 12345,\n",
    "    'name': 'John Doe',\n",
    "    'grade': 'A'\n",
    "    }"
   ]
  },
  {
   "cell_type": "markdown",
   "metadata": {},
   "source": [
    "#### 2.2. dict() 함수를 사용한 생성"
   ]
  },
  {
   "cell_type": "code",
   "execution_count": null,
   "metadata": {},
   "outputs": [
    {
     "name": "stdout",
     "output_type": "stream",
     "text": [
      "{'brand': 'Ford', 'model': 'Mustang', 'year': 1964}\n",
      "{'apple': 2, 'banana': 3}\n"
     ]
    }
   ],
   "source": [
    "# 키워드 인자를 사용한 생성.\n",
    "car = dict(brand='Ford', model='Mustang', year=1964)# 중괄호를 사용하지 않고, dict()으로 감싸주어 딕셔너리형으로 만들었다.\n",
    "\n",
    "print(car)  \n",
    "\n",
    "# 리스트나 튜플의 리스트를 사용한 생성. / 위와 마찬가지로 dict()을 사용하여 딕셔너리 구조 생성.\n",
    "items = [('apple', 2), ('banana', 3)] \n",
    "fruit_dict = dict(items)\n",
    "\n",
    "print(fruit_dict) "
   ]
  },
  {
   "cell_type": "markdown",
   "metadata": {},
   "source": [
    "#### 2.3. fromkeys() 메서드를 사용한 생성"
   ]
  },
  {
   "cell_type": "code",
   "execution_count": null,
   "metadata": {},
   "outputs": [
    {
     "name": "stdout",
     "output_type": "stream",
     "text": [
      "{'a': 0, 'b': 0, 'c': 0}\n"
     ]
    }
   ],
   "source": [
    "# 키의 리스트와 공통 값을 사용하여 딕셔너리 생성.\n",
    "keys = ['a', 'b', 'c']\n",
    "default_value = 0\n",
    "new_dict = dict.fromkeys(keys, default_value) # 키와 값을 설정 한 뒤, dict.fromkeys()를 사용하여 딕셔너리 생성.\n",
    "\n",
    "print(new_dict)"
   ]
  },
  {
   "cell_type": "markdown",
   "metadata": {},
   "source": [
    "### 3. 딕셔너리 요소 접근 및 변경\n",
    "\n",
    "#### 3.1. 요소 접근"
   ]
  },
  {
   "cell_type": "code",
   "execution_count": null,
   "metadata": {},
   "outputs": [
    {
     "name": "stdout",
     "output_type": "stream",
     "text": [
      "Alice\n",
      "25\n",
      "New York\n",
      "None\n",
      "USA\n"
     ]
    }
   ],
   "source": [
    "person = {'name': 'Alice', 'age': 25, 'city': 'New York'}\n",
    "\n",
    "# 키를 사용하여 값에 접근\n",
    "print(person['name'])  # person 딕셔너리의 안의 키 'name'에 대응하는 값을 부른다. \n",
    "print(person['age'])   # person 딕셔너리의 안의 키 'age'에 대응하는 값을 부른다.\n",
    "\n",
    "# `get()` 메서드를 사용하여 값에 접근 (키가 없을 때 기본값 설정 가능)\n",
    "print(person.get('city')) \n",
    "print(person.get('country'))    \n",
    "print(person.get('country', 'USA')) # 새로운 키 country에 USA를 값으로 지정. "
   ]
  },
  {
   "cell_type": "markdown",
   "metadata": {},
   "source": [
    "#### 3.2. 요소 변경"
   ]
  },
  {
   "cell_type": "code",
   "execution_count": null,
   "metadata": {},
   "outputs": [
    {
     "name": "stdout",
     "output_type": "stream",
     "text": [
      "{'name': '장승환', 'age': 26, 'city': '천안'}\n"
     ]
    }
   ],
   "source": [
    "# person[]으로 키를 지정하고, 값을 변경.\n",
    "person['age'] = 26\n",
    "person['name'] = '장승환'\n",
    "person['city'] = '천안'\n",
    "\n",
    "\n",
    "print(person)"
   ]
  },
  {
   "cell_type": "markdown",
   "metadata": {},
   "source": [
    "#### 3.3. 요소 추가"
   ]
  },
  {
   "cell_type": "code",
   "execution_count": 17,
   "metadata": {},
   "outputs": [
    {
     "name": "stdout",
     "output_type": "stream",
     "text": [
      "{'name': '장승환', 'age': 26, 'city': '천안', 'country': 'USA', 'hobby': 'game'}\n"
     ]
    }
   ],
   "source": [
    "person['country'] = 'USA'\n",
    "person['hobby'] = 'game'\n",
    "\n",
    "print(person)"
   ]
  },
  {
   "cell_type": "markdown",
   "metadata": {},
   "source": [
    "#### 3.4. 요소 삭제"
   ]
  },
  {
   "cell_type": "code",
   "execution_count": null,
   "metadata": {},
   "outputs": [
    {
     "name": "stdout",
     "output_type": "stream",
     "text": [
      "26\n",
      "{'name': '장승환', 'country': 'USA', 'hobby': 'game'}\n",
      "{}\n"
     ]
    }
   ],
   "source": [
    "# `del` 키워드를 사용하여 요소 삭제\n",
    "del person['city']\n",
    "del person['hobby']\n",
    "print(person)\n",
    "\n",
    "# `pop()` 메서드를 사용하여 요소 삭제 및 값 반환\n",
    "age = person.pop('age') # age의 값인 26이 저장됨.\n",
    "print(age)\n",
    "print(person)  \n",
    "\n",
    "# 모든 요소 삭제\n",
    "person.clear()\n",
    "print(person)"
   ]
  },
  {
   "cell_type": "markdown",
   "metadata": {},
   "source": [
    "### 4. 딕셔너리 메서드(Dictionary Methods)\n",
    "\n",
    "딕셔너리는 다양한 내장 메서드를 제공.\n",
    "\n",
    "\n",
    "#### 4.1. keys()\n",
    "**딕셔너리의 모든 키를 반환.**"
   ]
  },
  {
   "cell_type": "code",
   "execution_count": null,
   "metadata": {},
   "outputs": [
    {
     "name": "stdout",
     "output_type": "stream",
     "text": [
      "dict_keys(['name', 'age', 'city'])\n"
     ]
    }
   ],
   "source": [
    "# .keys() 사용.\n",
    "person = {'name': 'Alice', 'age': 25, 'city': 'New York'}\n",
    "keys = person.keys() # 딕셔너리의 키에 해당하는 것들을 모두 반환한다.\n",
    "print(keys) "
   ]
  },
  {
   "cell_type": "markdown",
   "metadata": {},
   "source": [
    "#### 4.2. values()\n",
    "**딕셔너리의 모든 값을 반환.**"
   ]
  },
  {
   "cell_type": "code",
   "execution_count": null,
   "metadata": {},
   "outputs": [],
   "source": [
    "# .values() 사용.\n",
    "values = person.values() # keys()와는 반대로 값에 해당하는 것들을 모두 반환한다. \n",
    "print(values) "
   ]
  },
  {
   "cell_type": "markdown",
   "metadata": {},
   "source": [
    "#### 4.3. items()\n",
    "**딕셔너리의 모든 키-값 쌍을 튜플로 반환.**"
   ]
  },
  {
   "cell_type": "code",
   "execution_count": null,
   "metadata": {},
   "outputs": [
    {
     "name": "stdout",
     "output_type": "stream",
     "text": [
      "dict_items([('name', 'Alice'), ('age', 25), ('city', 'New York')])\n",
      "['name', 'Alice', 'age', 25, 'city', 'New York']\n",
      "{0: ('name', 'Alice'), 1: ('age', 25), 2: ('city', 'New York')}\n"
     ]
    }
   ],
   "source": [
    "# .items() 사용.\n",
    "items = person.items() # 키와 값 모두를 튜플로 반환.\n",
    "print(items)\n",
    "\n",
    "# 평탄화 및 enumerate() 사용.\n",
    "flatting_items = [item for x in items for item in x]\n",
    "print(flatting_items)\n",
    "\n",
    "dictionary = {i: x for i, x in enumerate(items)}\n",
    "print(dictionary)\n",
    "\n",
    "\n",
    "\n",
    "\n"
   ]
  },
  {
   "cell_type": "markdown",
   "metadata": {},
   "source": [
    "#### 4.4. update()\n",
    "**다른 딕셔너리나 키-값 쌍으로 현재 딕셔너리를 업데이트.**"
   ]
  },
  {
   "cell_type": "code",
   "execution_count": null,
   "metadata": {},
   "outputs": [
    {
     "name": "stdout",
     "output_type": "stream",
     "text": [
      "{'name': 'Alice', 'age': 26, 'city': 'New York', 'email': 'alice@example.com'}\n"
     ]
    }
   ],
   "source": [
    "# update() 사용.\n",
    "person.update({'age': 26, 'email': 'alice@example.com'}) # 새로운 요소를 딕셔너리에 추가한다.\n",
    "print(person)\n"
   ]
  },
  {
   "cell_type": "markdown",
   "metadata": {},
   "source": [
    "#### 4.5. popitem()\n",
    "**마지막으로 삽입된 키-값 쌍을 삭제하고 반환.**"
   ]
  },
  {
   "cell_type": "code",
   "execution_count": null,
   "metadata": {},
   "outputs": [
    {
     "name": "stdout",
     "output_type": "stream",
     "text": [
      "('email', 'alice@example.com')\n",
      "{'name': 'Alice', 'age': 26, 'city': 'New York'}\n"
     ]
    }
   ],
   "source": [
    "# popitem() 사용.\n",
    "last_item = person.popitem() # 마지막으로 추가한 요소 email에 대한 키와 값이 사라진다.\n",
    "print(last_item)\n",
    "print(person)"
   ]
  },
  {
   "cell_type": "markdown",
   "metadata": {},
   "source": [
    "#### 4.6. setdefault()\n",
    "**키가 존재하면 기존 값을 반환, 없을 경우 키와 입력 값을 딕셔너리에 추가.**"
   ]
  },
  {
   "cell_type": "code",
   "execution_count": null,
   "metadata": {},
   "outputs": [
    {
     "name": "stdout",
     "output_type": "stream",
     "text": [
      "26\n",
      "USA\n",
      "{'name': 'Alice', 'age': 26, 'city': 'New York', 'country': 'USA'}\n"
     ]
    }
   ],
   "source": [
    "# setdefault() 사용.\n",
    "age = person.setdefault('age', 30) # 기존 age의 값이 26이 존재하므로, 기존값 반환. / 없을 경우에는 30을 반환.\n",
    "print(age) \n",
    "country = person.setdefault('country', 'USA') # 기존에 존재하지 않는 키와 값이므로 추가하여 반영.\n",
    "print(country)  \n",
    "print(person)"
   ]
  },
  {
   "cell_type": "markdown",
   "metadata": {},
   "source": [
    "### 5. 딕셔너리의 반복문 활용\n",
    "딕셔너리의 각 요소에 접근하거나 처리하기 위해 반복문을 사용 가능.\n",
    "\n",
    "#### 5.1. 키를 통한 반복"
   ]
  },
  {
   "cell_type": "code",
   "execution_count": null,
   "metadata": {},
   "outputs": [
    {
     "name": "stdout",
     "output_type": "stream",
     "text": [
      "name Alice\n",
      "age 26\n",
      "city New York\n",
      "country USA\n"
     ]
    }
   ],
   "source": [
    "# person의 키와 값을 모두 출력.\n",
    "for key in person:\n",
    "    print(key, person[key])"
   ]
  },
  {
   "cell_type": "markdown",
   "metadata": {},
   "source": [
    "#### 5.2. keys() 메서드를 통한 반복"
   ]
  },
  {
   "cell_type": "code",
   "execution_count": null,
   "metadata": {},
   "outputs": [
    {
     "name": "stdout",
     "output_type": "stream",
     "text": [
      "name\n",
      "age\n",
      "city\n",
      "country\n"
     ]
    }
   ],
   "source": [
    "# keys()를 통해 person의 모든 값의 '키'가 되는 것들을 출력.\n",
    "for key in person.keys():\n",
    "    print(key)"
   ]
  },
  {
   "cell_type": "markdown",
   "metadata": {},
   "source": [
    "#### 5.3. values() 메서드를 통한 반복"
   ]
  },
  {
   "cell_type": "code",
   "execution_count": null,
   "metadata": {},
   "outputs": [],
   "source": [
    "# 위와 반대로 키의 '값' 이 되는 것들을 출력.\n",
    "for value in person.values():\n",
    "    print(value)"
   ]
  },
  {
   "cell_type": "markdown",
   "metadata": {},
   "source": [
    "#### 5.4. items() 메서드를 통한 반복"
   ]
  },
  {
   "cell_type": "code",
   "execution_count": null,
   "metadata": {},
   "outputs": [
    {
     "name": "stdout",
     "output_type": "stream",
     "text": [
      "name: Alice\n",
      "age: 26\n",
      "city: New York\n",
      "country: USA\n"
     ]
    }
   ],
   "source": [
    "# for 문과, person.item()을 통해 각각 key와 value에 항목을 저장 후 출력. \n",
    "for key, value in person.items():\n",
    "    print(f'{key}: {value}')"
   ]
  },
  {
   "cell_type": "markdown",
   "metadata": {},
   "source": [
    "### 6. 딕셔너리 컴프리헨션(Dictionary Comprehension)\n",
    "\n",
    "간결하고 효율적인 방법으로 새로운 딕셔너리를 생성하는 문법.\n",
    "\n",
    "\n",
    "#### 6.1. 기본 구조"
   ]
  },
  {
   "cell_type": "raw",
   "metadata": {
    "vscode": {
     "languageId": "raw"
    }
   },
   "source": [
    "new_dict = {key_expression: value_expression for item in iterable}"
   ]
  },
  {
   "cell_type": "code",
   "execution_count": 5,
   "metadata": {},
   "outputs": [
    {
     "name": "stdout",
     "output_type": "stream",
     "text": [
      "{1: 1, 2: 4, 3: 9, 4: 16, 5: 25}\n"
     ]
    }
   ],
   "source": [
    "#문제 1. 1부터 5까지의 숫자를 키로 하고, 그 제곱을 값으로 하는 딕셔너리 생성.\n",
    "num = {key: key**2 for key in range(1, 6)}\n",
    "print(num)\n",
    "\n"
   ]
  },
  {
   "cell_type": "code",
   "execution_count": 7,
   "metadata": {},
   "outputs": [
    {
     "name": "stdout",
     "output_type": "stream",
     "text": [
      "{'apple': 2, 'date': 4}\n",
      "{'banana': 3, 'cherry': 5}\n"
     ]
    }
   ],
   "source": [
    "# 기존 딕셔너리에서 특정 조건에 맞는 요소만 필터링.\n",
    "original = {'apple': 2, 'banana': 3, 'cherry': 5, 'date': 4}\n",
    "filtered = {k: v for k, v in original.items() if v % 2 == 0} # v가 짝수인 항목만 필터링하여, 딕셔너리 구조로 출력.\n",
    "print(filtered)\n",
    "\n",
    "#( 기존 딕셔너리에서 특정 조건에 맞는 요소만 필터링. (홀수)\n",
    "original = {'apple': 2, 'banana': 3, 'cherry': 5, 'date': 4}\n",
    "even_num = {key: value for key, value in original.items() if value % 2 == 1}\n",
    "print(even_num)"
   ]
  },
  {
   "cell_type": "markdown",
   "metadata": {},
   "source": [
    "### 7. 딕셔너리와 관련된 함수들\n",
    "\n",
    "\n",
    "### 7.1. len()\n",
    "**딕셔너리의 키-값 쌍의 개수를 반환.**"
   ]
  },
  {
   "cell_type": "code",
   "execution_count": null,
   "metadata": {},
   "outputs": [
    {
     "name": "stdout",
     "output_type": "stream",
     "text": [
      "4\n"
     ]
    }
   ],
   "source": [
    "# .len()을 사용. / 키와 값을 이루는 쌍의 개수를 파악.\n",
    "person = {'name': 'Alice', 'age': 26, 'city': 'New York', 'country': 'USA'}\n",
    "print(len(person))"
   ]
  },
  {
   "cell_type": "markdown",
   "metadata": {},
   "source": [
    "#### 7.2. in 연산자\n",
    "**딕셔너리에 특정 키가 존재하는지 확인.**"
   ]
  },
  {
   "cell_type": "code",
   "execution_count": null,
   "metadata": {},
   "outputs": [
    {
     "name": "stdout",
     "output_type": "stream",
     "text": [
      "True\n",
      "False\n",
      "False\n",
      "True\n"
     ]
    }
   ],
   "source": [
    "# in 연산자 사용.\n",
    "print('name' in person) # person 객체 안에 name이 존재한다.\n",
    "print('email' in person) # email이 존재하지 않는 것을 확인 가능.\n",
    "\n",
    "# not in 연산자 사용.\n",
    "print('name' not in person) # 거짓이므로, name이 존재함을 확인 가능.\n",
    "print('email' not in person) # person 객체 안에 이메일이 존재하지 않으므로, True를 확인."
   ]
  },
  {
   "cell_type": "markdown",
   "metadata": {},
   "source": [
    "#### 7.3. del 키워드\n",
    "**딕셔너리 자체를 삭제하거나 모든 요소를 삭제 가능.**"
   ]
  },
  {
   "cell_type": "code",
   "execution_count": null,
   "metadata": {},
   "outputs": [],
   "source": [
    "# del 키워드 사용.\n",
    "del person['country']  # 특정 항목, 키와 값의 요소만 삭제.\n",
    "del person             # 딕셔너리 전체 삭제."
   ]
  },
  {
   "cell_type": "markdown",
   "metadata": {},
   "source": [
    "### 8. 중첩 딕셔너리(Nested Dictionaries)\n",
    "딕셔너리는 다른 딕셔너리를 값으로 가질 수 있다."
   ]
  },
  {
   "cell_type": "code",
   "execution_count": 14,
   "metadata": {},
   "outputs": [
    {
     "name": "stdout",
     "output_type": "stream",
     "text": [
      "Alice\n",
      "22\n",
      "basic\n"
     ]
    }
   ],
   "source": [
    "# 중첩 딕셔너리\n",
    "students = {\n",
    "    'student1': {'name': 'Alice', 'age': 25},\n",
    "    'student2': {'name': 'Bob', 'age': 22},\n",
    "    'student3': {'name': 'Charlie', 'age': 23, 'class':'basic'}\n",
    "}\n",
    "\n",
    "# 특정 학생의 정보에 접근\n",
    "print(students['student1']['name'])\n",
    "print(students['student2']['age'])\n",
    "print(students['student3']['class'])"
   ]
  },
  {
   "cell_type": "code",
   "execution_count": null,
   "metadata": {},
   "outputs": [
    {
     "name": "stdout",
     "output_type": "stream",
     "text": [
      "ID: student1\n",
      "  name: Alice\n",
      "  age: 25\n",
      "ID: student2\n",
      "  name: Bob\n",
      "  age: 22\n",
      "ID: student3\n",
      "  name: Charlie\n",
      "  age: 23\n",
      "  class: basic\n"
     ]
    }
   ],
   "source": [
    "# 중첩 딕셔너리의 반복.\n",
    "for student_id, info in students.items(): # 학생의 id와 info를 students.items()로부터 딕셔너리 구조로 갖고온다.\n",
    "    print(f'ID: {student_id}')\n",
    "    for key, value in info.items(): # 학생의 info에 해당하는 name, age, class를 딕셔너리 구조로 갖고온다.\n",
    "        print(f'  {key}: {value}')\n",
    "        "
   ]
  },
  {
   "cell_type": "markdown",
   "metadata": {},
   "source": [
    "### 9. 딕셔너리와 메모리 관리\n",
    "\n",
    "* 딕셔너리는 해시 테이블로 구현되어 있어 빠른 데이터 접근이 가능.\n",
    "* 딕셔너리는 리스트보다 메모리 사용량이 많지만, 키를 통한 빠른 접근이 가능."
   ]
  },
  {
   "cell_type": "code",
   "execution_count": null,
   "metadata": {},
   "outputs": [
    {
     "name": "stdout",
     "output_type": "stream",
     "text": [
      "80\n",
      "232\n"
     ]
    }
   ],
   "source": [
    "# import sys를 사용하여 메모리 사용량을 측정. \n",
    "import sys\n",
    "\n",
    "list_data = [('name', 'Alice'), ('age', 25), ('city', 'New York')]\n",
    "dict_data = {'name': 'Alice', 'age': 25, 'city': 'New York'}\n",
    "\n",
    "print(sys.getsizeof(list_data)) # 단위는 바이트.\n",
    "print(sys.getsizeof(dict_data)) # 딕셔너리 구조가, 리스트에 비해 메모리 크기가 더 크다."
   ]
  },
  {
   "cell_type": "markdown",
   "metadata": {},
   "source": [
    "### 10. 실용적인 예제\n",
    "\n",
    "#### 10.1. 두 리스트를 딕셔너리로 변환"
   ]
  },
  {
   "cell_type": "code",
   "execution_count": null,
   "metadata": {},
   "outputs": [
    {
     "name": "stdout",
     "output_type": "stream",
     "text": [
      "{'name': 'Alice', 'age': 25, 'city': 'New York'}\n"
     ]
    }
   ],
   "source": [
    "#  zip() 함수를 사용.\n",
    "keys = ['name', 'age', 'city']\n",
    "values = ['Alice', 25, 'New York']\n",
    "\n",
    "p = dict(zip(keys,values)) # 각각의 리스트 keys, values를 묶어, 딕셔너리 구조로 만들어 줌.\n",
    "print(p)"
   ]
  },
  {
   "cell_type": "markdown",
   "metadata": {},
   "source": [
    "#### 10.2. 단어의 빈도수 계산\n"
   ]
  },
  {
   "cell_type": "code",
   "execution_count": null,
   "metadata": {},
   "outputs": [
    {
     "name": "stdout",
     "output_type": "stream",
     "text": [
      "{'banana': 2, 'apple': 3, 'cherry': 1}\n",
      "{'apple': 3, 'banana': 2, 'cherry': 1}\n"
     ]
    }
   ],
   "source": [
    "#방법 1. / 리스트 컴프리헨션 사용.\n",
    "text = \"apple banana apple cherry banana apple\"\n",
    "\n",
    "# set을 통해 중복값이 제거된 {\"apple\", \"banana\", \"cherry\"}생성. 그 후 words.count(fruit)를 사용하여 각 요소의 개수를 센 뒤 출력.\n",
    "words = text.split()\n",
    "fruit_count = {fruit: words.count(fruit) for fruit in set(words)}\n",
    "print(fruit_count)\n",
    "\n",
    "#방법 2. \n",
    "words = text.split()\n",
    "word_count = {}\n",
    "\n",
    "for word in words:\n",
    "    word_count[word] = word_count.get(word, 0) + 1\n",
    "\n",
    "print(word_count)"
   ]
  },
  {
   "cell_type": "markdown",
   "metadata": {},
   "source": [
    "#### 10.3. 조건에 따른 딕셔너리 생성"
   ]
  },
  {
   "cell_type": "code",
   "execution_count": null,
   "metadata": {},
   "outputs": [
    {
     "name": "stdout",
     "output_type": "stream",
     "text": [
      "{'apple': 2.5, 'cherry': 3.0}\n"
     ]
    }
   ],
   "source": [
    "prices = {'apple': 2.5, 'banana': 1.8, 'cherry': 3.0}\n",
    "\n",
    "# 문제: 가격이 2.0 이상인 과일만 선택 후 출력.\n",
    "expensive_fruits = {k: v for k, v in prices.items() if v >= 2.0}\n",
    "print(expensive_fruits)"
   ]
  },
  {
   "cell_type": "markdown",
   "metadata": {},
   "source": [
    "### 11. 딕셔너리의 응용\n",
    "\n",
    "\n",
    "#### 11.1. 키로 사용할 수 없는 자료형\n",
    "**리스트**나 다른 **딕셔너리** 등 가변(mutable) 자료형은 키로 사용 불가능.\n"
   ]
  },
  {
   "cell_type": "code",
   "execution_count": null,
   "metadata": {},
   "outputs": [
    {
     "ename": "SyntaxError",
     "evalue": "invalid syntax (2439621130.py, line 2)",
     "output_type": "error",
     "traceback": [
      "\u001b[1;36m  Cell \u001b[1;32mIn[5], line 2\u001b[1;36m\u001b[0m\n\u001b[1;33m    my_dict = { 1, 2, 3: 'Numbers' } # 가변 자료형(리스트)이기 때문에 오류 발생.\u001b[0m\n\u001b[1;37m                       ^\u001b[0m\n\u001b[1;31mSyntaxError\u001b[0m\u001b[1;31m:\u001b[0m invalid syntax\n"
     ]
    }
   ],
   "source": [
    "# 가변 자료형에 의한 오류 발생.\n",
    "my_dict = { [1, 2, 3]: 'Numbers' } # 가변 자료형(리스트)이기 때문에 오류 발생.\n",
    "my_dict = {{'k': 'v'}: 'number'} # 딕셔너리 구조 안의 다른 딕셔너리로 인해 오류 발생.\n"
   ]
  },
  {
   "cell_type": "markdown",
   "metadata": {},
   "source": [
    "#### 11.2. 정렬된 딕셔너리\n",
    "\n",
    "* 파이썬 3.7 이상에서는 딕셔너리가 삽입 순서를 유지.\n",
    "* 그러나 특정 기준으로 딕셔너리를 정렬하고 싶을 때는 `collections.OrderedDict`나 `sorted()` 함수를 사용 가능."
   ]
  },
  {
   "cell_type": "code",
   "execution_count": 20,
   "metadata": {},
   "outputs": [
    {
     "name": "stdout",
     "output_type": "stream",
     "text": [
      "{'banana': 1.8, 'apple': 2.5, 'cherry': 3.0}\n",
      "{'apple': 2.5, 'banana': 1.8, 'cherry': 3.0}\n"
     ]
    }
   ],
   "source": [
    "# key=lambda를 사용. 값을 기준으로, 딕셔너리를 정렬.\n",
    "prices = {'apple': 2.5, 'banana': 1.8, 'cherry': 3.0}\n",
    "sorted_dict = dict(sorted(prices.items(), key = lambda v: v[1]))\n",
    "\n",
    "print(sorted_dict) # 출력 결과가 값의 오름차순으로 되어 있다.\n",
    "\n",
    "# key=lambda를 사용. 키를 기준으로, 딕셔너리를 정렬.\n",
    "prices = {'apple': 2.5, 'banana': 1.8, 'cherry': 3.0}\n",
    "sorted_dict1 = dict(sorted(prices.items(), key = lambda k: k[0]))\n",
    "\n",
    "print(sorted_dict1) # 출력 결과가 알파벳 순인, key를 기준으로 되어 있다. "
   ]
  },
  {
   "cell_type": "markdown",
   "metadata": {},
   "source": [
    "### 12. 딕셔너리와 JSON 데이터\n",
    "\n",
    "* 딕셔너리는 JSON(JavaScript Object Notation) 데이터와 구조가 유사.\n",
    "\n",
    "* 그러므로 웹 프로그래밍에서 데이터를 주고받을 때 자주 사용.\n",
    "\n",
    "\n",
    "#### 12.1. 딕셔너리를 JSON 문자열로 변환"
   ]
  },
  {
   "cell_type": "code",
   "execution_count": 23,
   "metadata": {},
   "outputs": [
    {
     "name": "stdout",
     "output_type": "stream",
     "text": [
      "{\"name\": \"Alice\", \"age\": 25, \"city\": \"New York\"}\n",
      "<class 'str'>\n"
     ]
    }
   ],
   "source": [
    "import json\n",
    "\n",
    "person = {'name': 'Alice', 'age': 25, 'city': 'New York'}\n",
    "\n",
    "# 딕셔너리를 JSON 문자열로 변환.\n",
    "json_str = json.dumps(person) # json.dumps()를 통해 기존의 딕셔너리가 json 문자열로 변환.\n",
    "print(json_str)\n",
    "print(type(json_str))"
   ]
  },
  {
   "cell_type": "markdown",
   "metadata": {},
   "source": [
    "#### 12.2. JSON 문자열을 딕셔너리로 변환\n"
   ]
  },
  {
   "cell_type": "code",
   "execution_count": 24,
   "metadata": {},
   "outputs": [
    {
     "name": "stdout",
     "output_type": "stream",
     "text": [
      "{'name': 'Alice', 'age': 25, 'city': 'New York'}\n",
      "<class 'dict'>\n"
     ]
    }
   ],
   "source": [
    "# JSON 문자열을 딕셔너리로 변환. / JSON의 특정 데이터 유형은 Python에서 대응하는 데이터 구조로 자동으로 매핑된다.\n",
    "data = json.loads(json_str) # json 문자열로 변환시킨 데이터를 딕셔너리 구조로 불러온다.\n",
    "print(data)\n",
    "print(type(data))"
   ]
  },
  {
   "cell_type": "code",
   "execution_count": null,
   "metadata": {},
   "outputs": [],
   "source": []
  }
 ],
 "metadata": {
  "kernelspec": {
   "display_name": "python (myenv)",
   "language": "python",
   "name": "myenv"
  },
  "language_info": {
   "codemirror_mode": {
    "name": "ipython",
    "version": 3
   },
   "file_extension": ".py",
   "mimetype": "text/x-python",
   "name": "python",
   "nbconvert_exporter": "python",
   "pygments_lexer": "ipython3",
   "version": "3.8.20"
  }
 },
 "nbformat": 4,
 "nbformat_minor": 2
}
