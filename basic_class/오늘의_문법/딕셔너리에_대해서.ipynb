{
 "cells": [
  {
   "cell_type": "markdown",
   "metadata": {},
   "source": [
    "## 1. 딕셔너리\n",
    "\n",
    "**키(key)** 와 **값(value)** 의 쌍을 저장하는 자료형. \n",
    "\n",
    "다른 언어의 해시맵(hash map), 연관 배열(associative array)과 유사. \n",
    "\n",
    "#### **딕셔너리의 특징**\n",
    "- **변경 가능(mutable)**: 생성 후에도 요소의 추가, 삭제, 변경이 가능.\n",
    "- **키는 고유(unique)**: 한 딕셔너리 안의 키는 중복 불가.\n",
    "- **키는 불변(immutable) 자료형이어야 함**: 문자열, 숫자, 튜플 등을 키로 사용 가능.\n",
    "- **값은 어떤 자료형도 가능**: 리스트, 딕셔너리 등 가변 자료형도 값으로 사용 가능."
   ]
  },
  {
   "cell_type": "code",
   "execution_count": null,
   "metadata": {},
   "outputs": [
    {
     "name": "stdout",
     "output_type": "stream",
     "text": [
      "{}\n",
      "{'name': 'Alice', 'age': 25, 'city': 'New York'}\n"
     ]
    }
   ],
   "source": [
    "# 빈 딕셔너리 생성\n",
    "empty_dict = {}\n",
    "\n",
    "# 키-값 쌍을 가진 딕셔너리\n",
    "person = {\n",
    "    'name': 'Alice',\n",
    "    'age': 25,\n",
    "    'city': 'New York'\n",
    "}\n",
    "\n",
    "print(empty_dict)\n",
    "print(person) # 키를 구성하는 값인 name, age, city가, 각 대응하는 값('Alice', 25, 'New York')을 출력한다."
   ]
  },
  {
   "cell_type": "markdown",
   "metadata": {},
   "source": [
    "### 2. 딕셔너리 생성 방법\n",
    "\n",
    "#### 2.1. 중괄호 {}를 사용한 생성"
   ]
  },
  {
   "cell_type": "code",
   "execution_count": null,
   "metadata": {},
   "outputs": [],
   "source": [
    "# 기본적인 딕셔너리 생성.\n",
    "student = {\n",
    "    'id': 12345,\n",
    "    'name': 'John Doe',\n",
    "    'grade': 'A'\n",
    "    }"
   ]
  },
  {
   "cell_type": "markdown",
   "metadata": {},
   "source": [
    "#### 2.2. dict() 함수를 사용한 생성"
   ]
  },
  {
   "cell_type": "code",
   "execution_count": null,
   "metadata": {},
   "outputs": [
    {
     "name": "stdout",
     "output_type": "stream",
     "text": [
      "{'brand': 'Ford', 'model': 'Mustang', 'year': 1964}\n",
      "{'apple': 2, 'banana': 3}\n"
     ]
    }
   ],
   "source": [
    "# 키워드 인자를 사용한 생성.\n",
    "car = dict(brand='Ford', model='Mustang', year=1964)# 중괄호를 사용하지 않고, dict()으로 감싸주어 딕셔너리형으로 만들었다.\n",
    "\n",
    "print(car)  \n",
    "\n",
    "# 리스트나 튜플의 리스트를 사용한 생성. / 위와 마찬가지로 dict()을 사용하여 딕셔너리 구조 생성.\n",
    "items = [('apple', 2), ('banana', 3)] \n",
    "fruit_dict = dict(items)\n",
    "\n",
    "print(fruit_dict) "
   ]
  },
  {
   "cell_type": "markdown",
   "metadata": {},
   "source": [
    "#### 2.3. fromkeys() 메서드를 사용한 생성"
   ]
  },
  {
   "cell_type": "code",
   "execution_count": null,
   "metadata": {},
   "outputs": [
    {
     "name": "stdout",
     "output_type": "stream",
     "text": [
      "{'a': 0, 'b': 0, 'c': 0}\n"
     ]
    }
   ],
   "source": [
    "# 키의 리스트와 공통 값을 사용하여 딕셔너리 생성.\n",
    "keys = ['a', 'b', 'c']\n",
    "default_value = 0\n",
    "new_dict = dict.fromkeys(keys, default_value) # 키와 값을 설정 한 뒤, dict.fromkeys()를 사용하여 딕셔너리 생성.\n",
    "\n",
    "print(new_dict)"
   ]
  },
  {
   "cell_type": "markdown",
   "metadata": {},
   "source": [
    "### 3. 딕셔너리 요소 접근 및 변경\n",
    "\n",
    "#### 3.1. 요소 접근"
   ]
  },
  {
   "cell_type": "code",
   "execution_count": null,
   "metadata": {},
   "outputs": [
    {
     "name": "stdout",
     "output_type": "stream",
     "text": [
      "Alice\n",
      "25\n",
      "New York\n",
      "None\n",
      "USA\n"
     ]
    }
   ],
   "source": [
    "person = {'name': 'Alice', 'age': 25, 'city': 'New York'}\n",
    "\n",
    "# 키를 사용하여 값에 접근\n",
    "print(person['name'])  # person 딕셔너리의 안의 키 'name'에 대응하는 값을 부른다. \n",
    "print(person['age'])   # person 딕셔너리의 안의 키 'age'에 대응하는 값을 부른다.\n",
    "\n",
    "# `get()` 메서드를 사용하여 값에 접근 (키가 없을 때 기본값 설정 가능)\n",
    "print(person.get('city')) \n",
    "print(person.get('country'))    \n",
    "print(person.get('country', 'USA')) # 새로운 키 country에 USA를 값으로 지정. "
   ]
  },
  {
   "cell_type": "markdown",
   "metadata": {},
   "source": [
    "#### 3.2. 요소 변경"
   ]
  },
  {
   "cell_type": "code",
   "execution_count": null,
   "metadata": {},
   "outputs": [
    {
     "name": "stdout",
     "output_type": "stream",
     "text": [
      "{'name': '장승환', 'age': 26, 'city': '천안'}\n"
     ]
    }
   ],
   "source": [
    "# person[]으로 키를 지정하고, 값을 변경.\n",
    "person['age'] = 26\n",
    "person['name'] = '장승환'\n",
    "person['city'] = '천안'\n",
    "\n",
    "\n",
    "print(person)"
   ]
  },
  {
   "cell_type": "markdown",
   "metadata": {},
   "source": [
    "#### 3.3. 요소 추가"
   ]
  },
  {
   "cell_type": "code",
   "execution_count": 17,
   "metadata": {},
   "outputs": [
    {
     "name": "stdout",
     "output_type": "stream",
     "text": [
      "{'name': '장승환', 'age': 26, 'city': '천안', 'country': 'USA', 'hobby': 'game'}\n"
     ]
    }
   ],
   "source": [
    "person['country'] = 'USA'\n",
    "person['hobby'] = 'game'\n",
    "\n",
    "print(person)"
   ]
  },
  {
   "cell_type": "markdown",
   "metadata": {},
   "source": [
    "#### 3.4. 요소 삭제"
   ]
  },
  {
   "cell_type": "code",
   "execution_count": null,
   "metadata": {},
   "outputs": [
    {
     "name": "stdout",
     "output_type": "stream",
     "text": [
      "26\n",
      "{'name': '장승환', 'country': 'USA', 'hobby': 'game'}\n",
      "{}\n"
     ]
    }
   ],
   "source": [
    "# `del` 키워드를 사용하여 요소 삭제\n",
    "del person['city']\n",
    "del person['hobby']\n",
    "print(person)\n",
    "\n",
    "# `pop()` 메서드를 사용하여 요소 삭제 및 값 반환\n",
    "age = person.pop('age')\n",
    "print(age)\n",
    "print(person)  \n",
    "\n",
    "# 모든 요소 삭제\n",
    "person.clear()\n",
    "print(person)"
   ]
  },
  {
   "cell_type": "markdown",
   "metadata": {},
   "source": [
    "### 4. 딕셔너리 메서드(Dictionary Methods)\n",
    "\n",
    "딕셔너리는 다양한 내장 메서드를 제공.\n",
    "\n",
    "\n",
    "#### 4.1. keys()\n",
    "**딕셔너리의 모든 키를 반환.**"
   ]
  },
  {
   "cell_type": "code",
   "execution_count": null,
   "metadata": {},
   "outputs": [],
   "source": []
  },
  {
   "cell_type": "markdown",
   "metadata": {},
   "source": [
    "#### 4.2. values()\n",
    "**딕셔너리의 모든 값을 반환.**"
   ]
  },
  {
   "cell_type": "code",
   "execution_count": null,
   "metadata": {},
   "outputs": [],
   "source": []
  },
  {
   "cell_type": "markdown",
   "metadata": {},
   "source": [
    "#### 4.3. items()\n",
    "**딕셔너리의 모든 키-값 쌍을 튜플로 반환.**"
   ]
  },
  {
   "cell_type": "code",
   "execution_count": null,
   "metadata": {},
   "outputs": [],
   "source": []
  },
  {
   "cell_type": "markdown",
   "metadata": {},
   "source": [
    "#### 4.4. update()\n",
    "**다른 딕셔너리나 키-값 쌍으로 현재 딕셔너리를 업데이트.**"
   ]
  },
  {
   "cell_type": "code",
   "execution_count": null,
   "metadata": {},
   "outputs": [],
   "source": []
  },
  {
   "cell_type": "markdown",
   "metadata": {},
   "source": [
    "#### 4.5. popitem()\n",
    "**마지막으로 삽입된 키-값 쌍을 삭제하고 반환.**"
   ]
  },
  {
   "cell_type": "code",
   "execution_count": null,
   "metadata": {},
   "outputs": [],
   "source": []
  },
  {
   "cell_type": "markdown",
   "metadata": {},
   "source": [
    "#### 4.6. setdefault()\n",
    "**키가 존재하면 기존 값을 반환, 없을 경우 키와 입력 값을 딕셔너리에 추가.**"
   ]
  },
  {
   "cell_type": "code",
   "execution_count": null,
   "metadata": {},
   "outputs": [],
   "source": []
  },
  {
   "cell_type": "markdown",
   "metadata": {},
   "source": [
    "### 5. 딕셔너리의 반복문 활용\n",
    "딕셔너리의 각 요소에 접근하거나 처리하기 위해 반복문을 사용 가능.\n",
    "\n",
    "#### 5.1. 키를 통한 반복"
   ]
  },
  {
   "cell_type": "code",
   "execution_count": null,
   "metadata": {},
   "outputs": [],
   "source": []
  },
  {
   "cell_type": "markdown",
   "metadata": {},
   "source": [
    "#### 5.2. keys() 메서드를 통한 반복"
   ]
  },
  {
   "cell_type": "code",
   "execution_count": null,
   "metadata": {},
   "outputs": [],
   "source": []
  },
  {
   "cell_type": "markdown",
   "metadata": {},
   "source": [
    "#### 5.3. values() 메서드를 통한 반복"
   ]
  },
  {
   "cell_type": "code",
   "execution_count": null,
   "metadata": {},
   "outputs": [],
   "source": []
  },
  {
   "cell_type": "markdown",
   "metadata": {},
   "source": [
    "#### 5.4. items() 메서드를 통한 반복"
   ]
  },
  {
   "cell_type": "code",
   "execution_count": null,
   "metadata": {},
   "outputs": [],
   "source": []
  },
  {
   "cell_type": "markdown",
   "metadata": {},
   "source": [
    "### 6. 딕셔너리 컴프리헨션(Dictionary Comprehension)\n",
    "\n",
    "간결하고 효율적인 방법으로 새로운 딕셔너리를 생성하는 문법.\n",
    "\n",
    "\n",
    "#### 6.1. 기본 구조"
   ]
  },
  {
   "cell_type": "code",
   "execution_count": null,
   "metadata": {},
   "outputs": [],
   "source": []
  },
  {
   "cell_type": "markdown",
   "metadata": {},
   "source": [
    "### 7. 딕셔너리와 관련된 함수들\n",
    "\n",
    "\n",
    "### 7.1. len()\n",
    "**딕셔너리의 키-값 쌍의 개수를 반환.**"
   ]
  },
  {
   "cell_type": "code",
   "execution_count": null,
   "metadata": {},
   "outputs": [],
   "source": []
  },
  {
   "cell_type": "markdown",
   "metadata": {},
   "source": [
    "#### 7.2. in 연산자\n",
    "**딕셔너리에 특정 키가 존재하는지 확인.**"
   ]
  },
  {
   "cell_type": "code",
   "execution_count": null,
   "metadata": {},
   "outputs": [],
   "source": []
  },
  {
   "cell_type": "markdown",
   "metadata": {},
   "source": [
    "#### 7.3. del 키워드\n",
    "**딕셔너리 자체를 삭제하거나 모든 요소를 삭제 가능.**"
   ]
  },
  {
   "cell_type": "code",
   "execution_count": null,
   "metadata": {},
   "outputs": [],
   "source": []
  },
  {
   "cell_type": "markdown",
   "metadata": {},
   "source": [
    "### 8. 중첩 딕셔너리(Nested Dictionaries)\n",
    "딕셔너리는 다른 딕셔너리를 값으로 가질 수 있다."
   ]
  },
  {
   "cell_type": "code",
   "execution_count": null,
   "metadata": {},
   "outputs": [],
   "source": []
  },
  {
   "cell_type": "markdown",
   "metadata": {},
   "source": [
    "### 9. 딕셔너리와 메모리 관리\n",
    "\n",
    "* 딕셔너리는 해시 테이블로 구현되어 있어 빠른 데이터 접근이 가능.\n",
    "* 딕셔너리는 리스트보다 메모리 사용량이 많지만, 키를 통한 빠른 접근이 가능."
   ]
  },
  {
   "cell_type": "code",
   "execution_count": null,
   "metadata": {},
   "outputs": [],
   "source": []
  },
  {
   "cell_type": "markdown",
   "metadata": {},
   "source": [
    "### 10. 실용적인 예제\n",
    "\n",
    "#### 10.1. 두 리스트를 딕셔너리로 변환"
   ]
  },
  {
   "cell_type": "code",
   "execution_count": null,
   "metadata": {},
   "outputs": [],
   "source": []
  },
  {
   "cell_type": "markdown",
   "metadata": {},
   "source": [
    "#### 10.2. 단어의 빈도수 계산\n"
   ]
  },
  {
   "cell_type": "code",
   "execution_count": null,
   "metadata": {},
   "outputs": [],
   "source": []
  },
  {
   "cell_type": "markdown",
   "metadata": {},
   "source": [
    "#### 10.3. 조건에 따른 딕셔너리 생성"
   ]
  },
  {
   "cell_type": "code",
   "execution_count": null,
   "metadata": {},
   "outputs": [],
   "source": []
  },
  {
   "cell_type": "markdown",
   "metadata": {},
   "source": [
    "### 11. 딕셔너리의 응용\n",
    "\n",
    "\n",
    "#### 11.1. 키로 사용할 수 없는 자료형\n",
    "리스트나 다른 딕셔너리 등 가변(mutable) 자료형은 키로 사용 불가능.\n"
   ]
  },
  {
   "cell_type": "code",
   "execution_count": null,
   "metadata": {},
   "outputs": [],
   "source": []
  },
  {
   "cell_type": "markdown",
   "metadata": {},
   "source": [
    "#### 11.2. 정렬된 딕셔너리\n",
    "\n",
    "* 파이썬 3.7 이상에서는 딕셔너리가 삽입 순서를 유지.\n",
    "* 그러나 특정 기준으로 딕셔너리를 정렬하고 싶을 때는 `collections.OrderedDict`나 `sorted()` 함수를 사용 가능."
   ]
  },
  {
   "cell_type": "code",
   "execution_count": null,
   "metadata": {},
   "outputs": [],
   "source": []
  },
  {
   "cell_type": "markdown",
   "metadata": {},
   "source": [
    "### 12. 딕셔너리와 JSON 데이터\n",
    "\n",
    "* 딕셔너리는 JSON(JavaScript Object Notation) 데이터와 구조가 유사.\n",
    "\n",
    "* 그러므로 웹 프로그래밍에서 데이터를 주고받을 때 자주 사용.\n",
    "\n",
    "\n",
    "#### 12.1. 딕셔너리를 JSON 문자열로 변환"
   ]
  },
  {
   "cell_type": "code",
   "execution_count": null,
   "metadata": {},
   "outputs": [],
   "source": []
  },
  {
   "cell_type": "markdown",
   "metadata": {},
   "source": [
    "#### 12.2. JSON 문자열을 딕셔너리로 변환\n"
   ]
  },
  {
   "cell_type": "code",
   "execution_count": null,
   "metadata": {},
   "outputs": [],
   "source": []
  }
 ],
 "metadata": {
  "kernelspec": {
   "display_name": "python (myenv)",
   "language": "python",
   "name": "myenv"
  },
  "language_info": {
   "codemirror_mode": {
    "name": "ipython",
    "version": 3
   },
   "file_extension": ".py",
   "mimetype": "text/x-python",
   "name": "python",
   "nbconvert_exporter": "python",
   "pygments_lexer": "ipython3",
   "version": "3.8.20"
  }
 },
 "nbformat": 4,
 "nbformat_minor": 2
}
