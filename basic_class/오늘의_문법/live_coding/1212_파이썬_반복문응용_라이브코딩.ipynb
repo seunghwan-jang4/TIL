{
 "cells": [
  {
   "cell_type": "markdown",
   "metadata": {},
   "source": [
    "# 응용"
   ]
  },
  {
   "cell_type": "markdown",
   "metadata": {},
   "source": [
    "## 문제 1\n",
    "사용자로부터 정수 n을 입력받아, n! (팩토리얼)을 계산하여 출력하는 프로그램을 작성하세요. 팩토리얼 n!은 1부터 n까지의 곱입니다. (0! = 1로 정의)"
   ]
  },
  {
   "cell_type": "code",
   "execution_count": null,
   "metadata": {},
   "outputs": [
    {
     "name": "stdout",
     "output_type": "stream",
     "text": [
      "10\n",
      "20\n",
      "30\n",
      "40\n",
      "50\n",
      "60\n",
      "70\n",
      "80\n",
      "90\n",
      "100\n"
     ]
    }
   ],
   "source": [
    "#방법1. \n",
    "user_input = int(input())\n",
    "\n",
    "for x in range(1, user_input+1):\n",
    "    print(x*user_input)\n",
    "\n",
    "#방법2. \n",
    "user_input = int(input())\n",
    "result = 1\n",
    "\n",
    "for x in range(1, user_input+1):\n",
    "    result = x*user_input\n",
    "    print(result)"
   ]
  },
  {
   "cell_type": "raw",
   "metadata": {
    "vscode": {
     "languageId": "raw"
    }
   },
   "source": [
    "테스트 입력값\n",
    "\n",
    "입력 : 5\n",
    "출력 : 120\n",
    "\n",
    "입력 : 0\n",
    "출력 : 1\n",
    "\n",
    "입력 : 10\n",
    "출력 : 3628800"
   ]
  },
  {
   "cell_type": "markdown",
   "metadata": {},
   "source": [
    "## 문제 2\n",
    "정수 n을 입력받아, 1부터 n 사이의 숫자 중 팰린드롬 수(거꾸로 읽어도 같은 수)를 모두 출력하는 프로그램을 작성하세요.  \n",
    "예: 1부터 150 사이 팰린드롬 수 → 1,2,3,...,9,11,22,33,44,55,66,77,88,99,101,111,121,131,141"
   ]
  },
  {
   "cell_type": "code",
   "execution_count": 10,
   "metadata": {},
   "outputs": [
    {
     "name": "stdout",
     "output_type": "stream",
     "text": [
      "[1, 2, 3, 4, 5]\n"
     ]
    }
   ],
   "source": [
    "#튜터님 방법.\n",
    "user_input = int(input())\n",
    "\n",
    "for num in range(1, user_input+1):\n",
    "    num = str(num)\n",
    "    if num == num[::-1]:\n",
    "        print(num, end='')"
   ]
  },
  {
   "cell_type": "raw",
   "metadata": {
    "vscode": {
     "languageId": "raw"
    }
   },
   "source": [
    "테스트 입력값\n",
    "\n",
    "입력 : 30\n",
    "출력 : 1 2 ... 9 ... 11 22"
   ]
  },
  {
   "cell_type": "markdown",
   "metadata": {},
   "source": [
    "## 문제 3\n",
    "사용자로부터 n을 입력받아, 다음과 같은 패턴을 출력하세요. (별과 공백의 패턴 응용)"
   ]
  },
  {
   "cell_type": "raw",
   "metadata": {
    "vscode": {
     "languageId": "raw"
    }
   },
   "source": [
    "n = 4 일 때,\n",
    "\n",
    "*---     (별 1개 뒤에 공백 3개)\n",
    "**--     (별 2개 뒤에 공백 2개)\n",
    "***-     (별 3개 뒤에 공백 1개)\n",
    "****     (별 4개 뒤에 공백 0개)\n",
    "\n",
    "(하이픈은 공백 표현용, 실제로는 공백문자 사용)"
   ]
  },
  {
   "cell_type": "code",
   "execution_count": 13,
   "metadata": {},
   "outputs": [
    {
     "name": "stdout",
     "output_type": "stream",
     "text": [
      "*    \n",
      "**    \n",
      "***    \n",
      "****    \n",
      "*****    \n"
     ]
    }
   ],
   "source": [
    "user_input = int(input())\n",
    "\n",
    "for x in range(1, user_input+1):\n",
    "    print(x*'*' + ' '*(user_input - 1))"
   ]
  },
  {
   "cell_type": "raw",
   "metadata": {
    "vscode": {
     "languageId": "raw"
    }
   },
   "source": [
    "테스트 입력값\n",
    "\n",
    "입력 : 3\n",
    "출력\n",
    "*  \n",
    "** \n",
    "***\n",
    "\n",
    "입력 : 5\n",
    "출력\n",
    "*    \n",
    "**   \n",
    "***  \n",
    "**** \n",
    "*****"
   ]
  },
  {
   "cell_type": "markdown",
   "metadata": {},
   "source": [
    "## 문제 4\n",
    "사용자로부터 문자열을 입력받아, 문자열에 포함된 모음(a,e,i,o,u)이 몇 개 있는지 세어 출력하는 프로그램을 작성하세요. (대소문자 구분 없이 모음을 센다고 가정)"
   ]
  },
  {
   "cell_type": "code",
   "execution_count": 42,
   "metadata": {},
   "outputs": [
    {
     "name": "stdout",
     "output_type": "stream",
     "text": [
      "2\n"
     ]
    }
   ],
   "source": [
    "user_input = input()\n",
    "user_input = user_input.lower()\n",
    "result = 0\n",
    "\n",
    "for x in user_input:\n",
    "    if x in 'aeiou':\n",
    "        result += 1\n",
    "        \n",
    "print(result)        "
   ]
  },
  {
   "cell_type": "raw",
   "metadata": {
    "vscode": {
     "languageId": "raw"
    }
   },
   "source": [
    "테스트 입력값\n",
    "\n",
    "입력 : \"Hello\"\n",
    "출력 : 모음의 개수 : 2\n",
    "\n",
    "입력 : \"PYTHON\"\n",
    "출력 : 모음의 개수 : 1"
   ]
  },
  {
   "cell_type": "markdown",
   "metadata": {},
   "source": [
    "## 문제 5\n",
    "사용자로부터 정수 n을 입력받아, 1부터 n까지의 정수 중 처음으로 7의 배수가 나오면 그 수를 출력하고 반복문을 종료하세요. 만약 7의 배수가 없다면 \"7의 배수가 없습니다.\"를 출력하세요."
   ]
  },
  {
   "cell_type": "code",
   "execution_count": 12,
   "metadata": {},
   "outputs": [
    {
     "name": "stdout",
     "output_type": "stream",
     "text": [
      "7의 배수가 없습니다.\n"
     ]
    }
   ],
   "source": [
    "user_input = int(input(\"숫자를 입력하세요: \"))\n",
    "flag = False\n",
    "\n",
    "for x in range(1, user_input + 1):\n",
    "    if x % 7 == 0:\n",
    "        print('처음으로 발견한 7의 배수는: ', x)\n",
    "        flag = True\n",
    "        break\n",
    "\n",
    "if not flag:  # flag가 False인 경우에만 출력\n",
    "    print(\"7의 배수가 없습니다.\")"
   ]
  },
  {
   "cell_type": "raw",
   "metadata": {},
   "source": [
    "테스트 입력값\n",
    "\n",
    "입력 : 10\n",
    "출력 : 처음으로 발견한 7의 배수는 7\n",
    "\n",
    "입력 5\n",
    "출력 : 7의 배수가 없습니다."
   ]
  },
  {
   "cell_type": "markdown",
   "metadata": {},
   "source": [
    "# 심화"
   ]
  },
  {
   "cell_type": "markdown",
   "metadata": {},
   "source": [
    "## 문제 1\n",
    "사용자로부터 문자열을 입력받아, 각 문자가 문자열에서 몇 번 등장하는지 빈도수를 세어 출력하는 프로그램을 작성하세요. 대소문자를 구분하지 않는다고 가정합니다."
   ]
  },
  {
   "cell_type": "code",
   "execution_count": 41,
   "metadata": {},
   "outputs": [
    {
     "name": "stdout",
     "output_type": "stream",
     "text": [
      "h : {'h': 1}\n",
      "e : {'h': 1, 'e': 1}\n",
      "l : {'h': 1, 'e': 1, 'l': 1}\n",
      "l : {'h': 1, 'e': 1, 'l': 2}\n",
      "o : {'h': 1, 'e': 1, 'l': 2, 'o': 1}\n",
      "h:1\n",
      "e:1\n",
      "l:2\n",
      "o:1\n"
     ]
    }
   ],
   "source": [
    "user_input = input().lower()\n",
    "result = {}\n",
    "\n",
    "for x in user_input:\n",
    "    if x not in result:\n",
    "        result[x] = 1\n",
    "    else:\n",
    "        result[x] += 1\n",
    "    print(f\"{x} : {result}\")\n",
    "for key, value in result.items():\n",
    "    print(f\"{key}:{value}\")\n"
   ]
  },
  {
   "cell_type": "raw",
   "metadata": {
    "vscode": {
     "languageId": "raw"
    }
   },
   "source": [
    "테스트 입력값\n",
    "\n",
    "입력 : \"Hello\"\n",
    "출력\n",
    "h:1\n",
    "e:1\n",
    "l:2\n",
    "o:1\n",
    "\n",
    "입력 : \"Mississippi\"\n",
    "출력\n",
    "m:1\n",
    "i:4\n",
    "s:4\n",
    "p:2"
   ]
  },
  {
   "cell_type": "markdown",
   "metadata": {},
   "source": [
    "## 문제 2\n",
    "공백으로 구분된 여러 개의 정수를 한 줄로 입력받아, 이들의 누적합(Cumulative Sum)을 구한 뒤, 각 단계의 누적합을 공백으로 구분하여 출력하는 프로그램을 작성하세요.  \n",
    "예: 입력: 1 3 5 2 → 출력: 1 4 9 11"
   ]
  },
  {
   "cell_type": "code",
   "execution_count": null,
   "metadata": {},
   "outputs": [],
   "source": []
  },
  {
   "cell_type": "raw",
   "metadata": {
    "vscode": {
     "languageId": "raw"
    }
   },
   "source": [
    "테스트 입력값\n",
    "\n",
    "입력 : \"1 3 5 2\"\n",
    "출력 : \"1 4 9 11\"\n",
    "\n",
    "입력 : \"10 20 30\"\n",
    "출력 : \"10 30 60\"\n",
    "\n",
    "입력 : \"10 10 10\"\n",
    "출력 : \"10 20 30\""
   ]
  },
  {
   "cell_type": "markdown",
   "metadata": {},
   "source": [
    "## 문제 3\n",
    "정수로 이루어진 리스트와 목표 합 target을 입력받아, 리스트 내에서 두 수의 합이 target이 되는 모든 쌍을 출력하세요.  \n",
    "단, (a,b)와 (b,a)는 같은 쌍으로 간주하므로 한 번만 출력해야 합니다.  \n",
    "예: 리스트 [2,4,3,5,7], target=9 → 가능한 쌍: (2,7), (4,5)"
   ]
  },
  {
   "cell_type": "code",
   "execution_count": null,
   "metadata": {},
   "outputs": [],
   "source": []
  },
  {
   "cell_type": "raw",
   "metadata": {},
   "source": [
    "테스트 입력 값\n",
    "\n",
    "입력\n",
    "리스트 정수 입력 : 2 4 3 5 7\n",
    "target :  9\n",
    "\n",
    "출력\n",
    "2 7\n",
    "4 5\n",
    "\n",
    "입력\n",
    "리스트 정수 입력 : 1 2 3\n",
    "target :  4\n",
    "\n",
    "출력\n",
    "1 3"
   ]
  }
 ],
 "metadata": {
  "kernelspec": {
   "display_name": "python (myenv)",
   "language": "python",
   "name": "myenv"
  },
  "language_info": {
   "codemirror_mode": {
    "name": "ipython",
    "version": 3
   },
   "file_extension": ".py",
   "mimetype": "text/x-python",
   "name": "python",
   "nbconvert_exporter": "python",
   "pygments_lexer": "ipython3",
   "version": "3.8.20"
  }
 },
 "nbformat": 4,
 "nbformat_minor": 2
}
