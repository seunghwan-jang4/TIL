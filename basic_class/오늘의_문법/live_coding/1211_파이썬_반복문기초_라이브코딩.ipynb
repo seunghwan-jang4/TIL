{
 "cells": [
  {
   "cell_type": "markdown",
   "metadata": {},
   "source": [
    "# 기초"
   ]
  },
  {
   "cell_type": "markdown",
   "metadata": {},
   "source": [
    "## 문제 1\n",
    "사용자로부터 양의 정수 n을 입력받아, 1부터 n까지의 숫자를 차례대로 출력하는 프로그램을 작성하세요."
   ]
  },
  {
   "cell_type": "code",
   "execution_count": 14,
   "metadata": {},
   "outputs": [
    {
     "name": "stdout",
     "output_type": "stream",
     "text": [
      "1\n",
      "2\n",
      "3\n",
      "4\n",
      "5\n",
      "6\n",
      "7\n",
      "8\n",
      "9\n",
      "10\n"
     ]
    }
   ],
   "source": [
    "#문제1.\n",
    "user_input = int(input())\n",
    "\n",
    "for n in range(1, user_input+1):\n",
    "    print(n)"
   ]
  },
  {
   "cell_type": "raw",
   "metadata": {
    "vscode": {
     "languageId": "raw"
    }
   },
   "source": [
    "테스트 입력값\n",
    "\n",
    "입력: 5\n",
    "출력\n",
    "1\n",
    "2\n",
    "3\n",
    "4\n",
    "5\n",
    "\n",
    "입력: 10\n",
    "출력\n",
    "1\n",
    "2\n",
    "3\n",
    "4\n",
    "5\n",
    "6\n",
    "7\n",
    "8\n",
    "9\n",
    "10"
   ]
  },
  {
   "cell_type": "markdown",
   "metadata": {},
   "source": [
    "### 문제 1-2\n",
    "사용자로부터 정수 n을 입력받아, n부터 1까지 역순으로 출력하는 프로그램을 작성하세요."
   ]
  },
  {
   "cell_type": "code",
   "execution_count": null,
   "metadata": {},
   "outputs": [
    {
     "name": "stdout",
     "output_type": "stream",
     "text": [
      "[10, 9, 8, 7, 6, 5, 4, 3, 2, 1]\n",
      "10\n",
      "9\n",
      "8\n",
      "7\n",
      "6\n",
      "5\n",
      "4\n",
      "3\n",
      "2\n"
     ]
    }
   ],
   "source": [
    "# 문제  1-2.\n",
    "user_input = int(input())\n",
    "\n",
    "# 방법1. 리스트 컴프리헨션 방식.\n",
    "result = [n for n in range(1, user_input+1)]\n",
    "print(result[::-1])\n",
    "\n",
    "# 방법 2.\n",
    "for n in range(user_input, 1, -1): # user_input으로부터 1까지 역순으로 출력.\n",
    "    print(n)"
   ]
  },
  {
   "cell_type": "raw",
   "metadata": {
    "vscode": {
     "languageId": "raw"
    }
   },
   "source": [
    "테스트 입력값\n",
    "\n",
    "입력: 5\n",
    "출력\n",
    "5\n",
    "4\n",
    "3\n",
    "2\n",
    "1\n",
    "\n",
    "입력: 3\n",
    "출력\n",
    "3\n",
    "2\n",
    "1"
   ]
  },
  {
   "cell_type": "markdown",
   "metadata": {},
   "source": [
    "## 문제 2\n",
    "사용자로부터 양의 정수 n을 입력받아, 1부터 n까지의 합을 구하여 출력하는 프로그램을 작성하세요."
   ]
  },
  {
   "cell_type": "code",
   "execution_count": 29,
   "metadata": {},
   "outputs": [
    {
     "name": "stdout",
     "output_type": "stream",
     "text": [
      "1부터 10까지의 합은 55\n"
     ]
    }
   ],
   "source": [
    "user_input = int(input())\n",
    "\n",
    "add_num = sum(n for n in range(1, user_input+1))\n",
    "print(f\"1부터 {user_input}까지의 합은 {add_num}\")"
   ]
  },
  {
   "cell_type": "raw",
   "metadata": {
    "vscode": {
     "languageId": "raw"
    }
   },
   "source": [
    "테스트 입력값\n",
    "\n",
    "입력 : 5\n",
    "출력 : 1부터 5까지의 합은 15\n",
    "\n",
    "입력 : 10\n",
    "출력 : 1부터 10까지의 합은 55"
   ]
  },
  {
   "cell_type": "markdown",
   "metadata": {},
   "source": [
    "## 문제 3\n",
    "1부터 100까지 숫자 중 3의 배수만 출력하는 프로그램을 작성하세요."
   ]
  },
  {
   "cell_type": "code",
   "execution_count": 30,
   "metadata": {},
   "outputs": [
    {
     "name": "stdout",
     "output_type": "stream",
     "text": [
      "[3, 6, 9, 12, 15, 18, 21, 24, 27, 30, 33, 36, 39, 42, 45, 48, 51, 54, 57, 60, 63, 66, 69, 72, 75, 78, 81, 84, 87, 90, 93, 96, 99]\n"
     ]
    }
   ],
   "source": [
    "multiple_3 = [x for x in range(1, 100) if x % 3 == 0]\n",
    "print(multiple_3)"
   ]
  },
  {
   "cell_type": "markdown",
   "metadata": {},
   "source": [
    "테스트 입력값\n",
    "\n",
    "출력\n",
    "3\n",
    "6\n",
    "9\n",
    "....\n",
    "....\n",
    "99"
   ]
  },
  {
   "cell_type": "markdown",
   "metadata": {},
   "source": [
    "## 문제 4\n",
    "사용자로부터 정수 n을 입력받아, n의 약수를 모두 출력하는 프로그램을 작성하세요."
   ]
  },
  {
   "cell_type": "code",
   "execution_count": null,
   "metadata": {},
   "outputs": [
    {
     "name": "stdout",
     "output_type": "stream",
     "text": [
      "[1, 7]\n"
     ]
    }
   ],
   "source": [
    "user_input = int(input())\n",
    "divisor = [x for x in range(1, user_input+1) if user_input % x == 0] # 사용자의 입력을 x로 나누었을 때, 0일 경우의 수를 출력. \n",
    "print(divisor)"
   ]
  },
  {
   "cell_type": "raw",
   "metadata": {
    "vscode": {
     "languageId": "raw"
    }
   },
   "source": [
    "테스트 입력값\n",
    "\n",
    "입력: 12 → 출력 : 1 2 3 4 6 12\n",
    "\n",
    "입력: 7 → 출력 : 1 7"
   ]
  },
  {
   "cell_type": "markdown",
   "metadata": {},
   "source": [
    "## 문제 5\n",
    "사용자로부터 숫자를 계속해서 입력받아 합계를 구하는 프로그램을 작성하되, 사용자가 0을 입력하면 반복을 종료하고 합계를 출력하세요."
   ]
  },
  {
   "cell_type": "code",
   "execution_count": 44,
   "metadata": {},
   "outputs": [
    {
     "name": "stdout",
     "output_type": "stream",
     "text": [
      "25\n"
     ]
    }
   ],
   "source": [
    "result = 0\n",
    "\n",
    "while True:\n",
    "    user_input = int(input())\n",
    "    if user_input == 0:\n",
    "        break\n",
    "    result += user_input\n",
    "\n",
    "print(result)"
   ]
  },
  {
   "cell_type": "raw",
   "metadata": {
    "vscode": {
     "languageId": "raw"
    }
   },
   "source": [
    "테스트 입력값\n",
    "\n",
    "입력 : 5 → 10 → 3 → 0 종료\n",
    "출력 : 18\n",
    "\n",
    "입력: 1 → 1 → 1 → 1 → 0 종료\n",
    "출력 : 4"
   ]
  },
  {
   "cell_type": "markdown",
   "metadata": {
    "vscode": {
     "languageId": "raw"
    }
   },
   "source": [
    "## 문제 6\n",
    "사용자로부터 정수 n을 입력받아, 다음과 같이 숫자 피라미드를 출력하는 프로그램을 작성하세요."
   ]
  },
  {
   "cell_type": "raw",
   "metadata": {
    "vscode": {
     "languageId": "raw"
    }
   },
   "source": [
    "n = 4 일 때,\n",
    "\n",
    "1\n",
    "22\n",
    "333\n",
    "4444"
   ]
  },
  {
   "cell_type": "code",
   "execution_count": 17,
   "metadata": {},
   "outputs": [
    {
     "name": "stdout",
     "output_type": "stream",
     "text": [
      "1\n",
      "22\n",
      "333\n",
      "4444\n"
     ]
    }
   ],
   "source": [
    "user_input = int(input())\n",
    "for x in range(1, user_input+1):\n",
    "    print(x*str(x))\n"
   ]
  },
  {
   "cell_type": "markdown",
   "metadata": {},
   "source": [
    "## 문제 7\n",
    "1부터 100 사이의 임의의 정답 숫자를 정해놓고, 사용자가 숫자를 추측하도록 합니다.  \n",
    "사용자가 입력한 숫자가 정답보다 크면 \"너무 큽니다.\", 작으면 \"너무 작습니다.\"를 출력하고, 정답을 맞추면 \"정답입니다!\"를 출력한 뒤 반복을 종료하세요.  \n",
    "(정답은 코드 내에 직접 지정하거나 난수로 고정)"
   ]
  },
  {
   "cell_type": "code",
   "execution_count": 51,
   "metadata": {},
   "outputs": [
    {
     "name": "stdout",
     "output_type": "stream",
     "text": [
      "50을 입력하셨습니다. x보다 작습니다.\n",
      "50을 입력하셨습니다. x보다 작습니다.\n",
      "60을 입력하셨습니다. x보다 작습니다.\n",
      "70을 입력하셨습니다. x보다 작습니다.\n",
      "80을 입력하셨습니다. x보다 작습니다.\n",
      "90을 입력하셨습니다. x보다 큽니다.\n",
      "81을 입력하셨습니다. 정답입니다!\n"
     ]
    }
   ],
   "source": [
    "import random\n",
    "\n",
    "x = random.randint(1, 100)\n",
    "\n",
    "while True:\n",
    "    user_input = int(input('1~100 사이의 수를 입력하세요: '))\n",
    "    \n",
    "    if user_input == x:\n",
    "        print(f\"{user_input}을 입력하셨습니다. 정답입니다!\")\n",
    "        break\n",
    "    elif user_input > x:\n",
    "        print(f\"{user_input}을 입력하셨습니다. x보다 큽니다.\")\n",
    "    elif user_input < x:\n",
    "        print(f\"{user_input}을 입력하셨습니다. x보다 작습니다.\")"
   ]
  },
  {
   "cell_type": "raw",
   "metadata": {
    "vscode": {
     "languageId": "raw"
    }
   },
   "source": [
    "테스트 입력값\n",
    "\n",
    "입력: 50 → \"너무 큽니다.\"\n",
    "입력: 30 → \"너무 작습니다.\"\n",
    "입력: 42 → \"정답입니다!\""
   ]
  },
  {
   "cell_type": "markdown",
   "metadata": {},
   "source": [
    "## 문제 8\n",
    "2차원 형태의 반복문을 사용하여 구구단(2단~9단)을 다음과 같이 출력하세요."
   ]
  },
  {
   "cell_type": "code",
   "execution_count": null,
   "metadata": {},
   "outputs": [
    {
     "name": "stdout",
     "output_type": "stream",
     "text": [
      "2 * 2 = 4\n",
      "2 * 3 = 6\n",
      "2 * 4 = 8\n",
      "2 * 5 = 10\n",
      "2 * 6 = 12\n",
      "2 * 7 = 14\n",
      "2 * 8 = 16\n",
      "2 * 9 = 18\n",
      "3 * 2 = 6\n",
      "3 * 3 = 9\n",
      "3 * 4 = 12\n",
      "3 * 5 = 15\n",
      "3 * 6 = 18\n",
      "3 * 7 = 21\n",
      "3 * 8 = 24\n",
      "3 * 9 = 27\n",
      "4 * 2 = 8\n",
      "4 * 3 = 12\n",
      "4 * 4 = 16\n",
      "4 * 5 = 20\n",
      "4 * 6 = 24\n",
      "4 * 7 = 28\n",
      "4 * 8 = 32\n",
      "4 * 9 = 36\n",
      "5 * 2 = 10\n",
      "5 * 3 = 15\n",
      "5 * 4 = 20\n",
      "5 * 5 = 25\n",
      "5 * 6 = 30\n",
      "5 * 7 = 35\n",
      "5 * 8 = 40\n",
      "5 * 9 = 45\n",
      "6 * 2 = 12\n",
      "6 * 3 = 18\n",
      "6 * 4 = 24\n",
      "6 * 5 = 30\n",
      "6 * 6 = 36\n",
      "6 * 7 = 42\n",
      "6 * 8 = 48\n",
      "6 * 9 = 54\n",
      "7 * 2 = 14\n",
      "7 * 3 = 21\n",
      "7 * 4 = 28\n",
      "7 * 5 = 35\n",
      "7 * 6 = 42\n",
      "7 * 7 = 49\n",
      "7 * 8 = 56\n",
      "7 * 9 = 63\n",
      "8 * 2 = 16\n",
      "8 * 3 = 24\n",
      "8 * 4 = 32\n",
      "8 * 5 = 40\n",
      "8 * 6 = 48\n",
      "8 * 7 = 56\n",
      "8 * 8 = 64\n",
      "8 * 9 = 72\n",
      "9 * 2 = 18\n",
      "9 * 3 = 27\n",
      "9 * 4 = 36\n",
      "9 * 5 = 45\n",
      "9 * 6 = 54\n",
      "9 * 7 = 63\n",
      "9 * 8 = 72\n",
      "9 * 9 = 81\n"
     ]
    }
   ],
   "source": [
    "for x in range(2, 10):\n",
    "    for y in range(1, 10):\n",
    "        print(f\"{x} * {y} = {x*y}\")"
   ]
  },
  {
   "cell_type": "raw",
   "metadata": {
    "vscode": {
     "languageId": "raw"
    }
   },
   "source": [
    "테스트 입력값\n",
    "\n",
    "예:\n",
    "2 x 1 = 2\n",
    "2 x 2 = 4\n",
    "...\n",
    "3 x 1 = 3\n",
    "3 x 2 = 6\n",
    "...\n",
    "9 x 8 = 72\n",
    "9 x 9 = 81"
   ]
  },
  {
   "cell_type": "markdown",
   "metadata": {},
   "source": [
    "## 문제 9\n",
    "사용자로부터 정수를 입력받아, 해당 정수의 각 자릿수의 합을 구하는 프로그램을 작성하세요.  \n",
    "예: 1234 → 1+2+3+4=10"
   ]
  },
  {
   "cell_type": "code",
   "execution_count": 1,
   "metadata": {},
   "outputs": [
    {
     "name": "stdout",
     "output_type": "stream",
     "text": [
      "10\n"
     ]
    }
   ],
   "source": [
    "user_input_str = str(input())\n",
    "result = sum(int(add_num) for add_num in user_input_str) # 문자열로 받은 후 더한 값을 정수 형태로 출력. \n",
    "\n",
    "print(result)\n"
   ]
  },
  {
   "cell_type": "raw",
   "metadata": {
    "vscode": {
     "languageId": "raw"
    }
   },
   "source": [
    "테스트 입력값:\n",
    "\n",
    "입력 : 1234\n",
    "결과 : 10\n",
    "\n",
    "입력 : 999\n",
    "결과 : 27"
   ]
  }
 ],
 "metadata": {
  "kernelspec": {
   "display_name": "python (myenv)",
   "language": "python",
   "name": "myenv"
  },
  "language_info": {
   "codemirror_mode": {
    "name": "ipython",
    "version": 3
   },
   "file_extension": ".py",
   "mimetype": "text/x-python",
   "name": "python",
   "nbconvert_exporter": "python",
   "pygments_lexer": "ipython3",
   "version": "3.8.20"
  }
 },
 "nbformat": 4,
 "nbformat_minor": 2
}
