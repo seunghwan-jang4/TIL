{
 "cells": [
  {
   "cell_type": "markdown",
   "metadata": {},
   "source": [
    "# 파일"
   ]
  },
  {
   "cell_type": "markdown",
   "metadata": {},
   "source": [
    "## 문제 1\n",
    "문제: data.txt라는 텍스트 파일을 만들고, 그 안에 임의의 문자열을 두세 줄 써넣으세요.  \n",
    "파이썬 코드에서 open()을 사용해 이 파일을 읽고, 파일 안의 내용을 모두 화면에 출력하세요."
   ]
  },
  {
   "cell_type": "code",
   "execution_count": null,
   "metadata": {},
   "outputs": [],
   "source": []
  },
  {
   "cell_type": "markdown",
   "metadata": {},
   "source": [
    "## 문제 2\n",
    "numbers.txt 파일에 1부터 10까지의 숫자를 각 줄에 하나씩 쓰는 코드를 작성하세요. \"w\" 모드로 열어 write() 메서드를 사용하면 됩니다."
   ]
  },
  {
   "cell_type": "code",
   "execution_count": null,
   "metadata": {},
   "outputs": [],
   "source": []
  },
  {
   "cell_type": "markdown",
   "metadata": {},
   "source": [
    "## 문제 3\n",
    "numbers.txt에 기록된 숫자들을 모두 읽어서, 합계를 계산한 뒤, 합계를 \"sum.txt\" 파일에 쓰는 코드를 작성하세요.  \n",
    "numbers.txt는 이미 문제4를 통해 1부터 10까지 기록된 상태라고 가정합니다."
   ]
  },
  {
   "cell_type": "code",
   "execution_count": null,
   "metadata": {},
   "outputs": [],
   "source": []
  }
 ],
 "metadata": {
  "kernelspec": {
   "display_name": "llmrag",
   "language": "python",
   "name": "python3"
  },
  "language_info": {
   "codemirror_mode": {
    "name": "ipython",
    "version": 3
   },
   "file_extension": ".py",
   "mimetype": "text/x-python",
   "name": "python",
   "nbconvert_exporter": "python",
   "pygments_lexer": "ipython3",
   "version": "3.10.12"
  }
 },
 "nbformat": 4,
 "nbformat_minor": 2
}
