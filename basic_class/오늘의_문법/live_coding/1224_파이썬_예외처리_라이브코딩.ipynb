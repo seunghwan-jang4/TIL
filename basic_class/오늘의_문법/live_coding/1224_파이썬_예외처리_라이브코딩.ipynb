{
 "cells": [
  {
   "cell_type": "markdown",
   "metadata": {},
   "source": [
    "## 문제 1\n",
    "사용자가 입력한 값을 정수로 변환하려고 합니다.  \n",
    "만약 사용자가 숫자가 아닌 값을 입력할 경우 ValueError가 발생하는데, 이 예외를 처리하여 \"올바른 숫자를 입력하세요!\"라는 메시지를 출력하고, 프로그램은 중단되지 않고 계속 동작하도록 하세요."
   ]
  },
  {
   "cell_type": "code",
   "execution_count": 3,
   "metadata": {},
   "outputs": [
    {
     "name": "stdout",
     "output_type": "stream",
     "text": [
      "입력한 숫자는:  50\n"
     ]
    }
   ],
   "source": [
    "try: \n",
    "    number = int(input('숫자를 입력하세요: '))\n",
    "    print(\"입력한 숫자는: \", number)\n",
    "except ValueError:\n",
    "    print('올바른 숫자를 입력해 주세요!')\n",
    "\n",
    "    "
   ]
  },
  {
   "cell_type": "markdown",
   "metadata": {},
   "source": [
    "## 문제 2\n",
    "두 개의 정수를 입력받아 나눗셈을 수행하는 코드를 작성하세요.  \n",
    "만약 0으로 나누려고 할 경우 ZeroDivisionError를 처리하여 \"0으로 나눌 수 없습니다.\"를 출력하세요.  \n",
    "예외가 없는 경우 \"결과는: {결과}\"를 출력하고, 예외 발생 여부와 관계없이 \"프로그램 종료\"를 출력하는 코드를 작성하세요."
   ]
  },
  {
   "cell_type": "code",
   "execution_count": 7,
   "metadata": {},
   "outputs": [
    {
     "name": "stdout",
     "output_type": "stream",
     "text": [
      " 결과는 : 2.0\n",
      "프로그램 종료\n"
     ]
    }
   ],
   "source": [
    "try:\n",
    "    # 예외가 발생할 수 있는 코드 블록.\n",
    "    num1 = int(input('첫 번째 숫자를 입력하세요: '))\n",
    "    num2 = int(input(\"두 번째 숫자를 입력하세요: \"))\n",
    "    \n",
    "    result = num1 / num2 \n",
    "except ZeroDivisionError: # 예외 발생시 실행.\n",
    "    print('0으로 나눌 수 없습니다!')\n",
    "else:    # 예외 발생하지 않을 경우 실행.\n",
    "    print(f\" 결과는 : {result}\")\n",
    "finally: # 예외 발생 여부와 상관 없이 출력.\n",
    "    print('프로그램 종료')"
   ]
  },
  {
   "cell_type": "markdown",
   "metadata": {},
   "source": [
    "## 문제 3\n",
    "리스트 [1, 2, 3]에서 인덱스를 입력받아 해당 요소를 출력하는 코드를 작성하세요.  \n",
    "만약 리스트 범위를 벗어난 인덱스를 요청하면 IndexError를 처리하여 \"리스트 범위를 벗어났습니다.\"를 출력하세요.  \n",
    "그 외 예상치 못한 예외가 발생하면 Exception을 처리하여 \"예기치 못한 오류가 발생했습니다.\"를 출력하세요.  "
   ]
  },
  {
   "cell_type": "code",
   "execution_count": 11,
   "metadata": {},
   "outputs": [
    {
     "name": "stdout",
     "output_type": "stream",
     "text": [
      "예기치 못한 오류가 발생했습니다.\n"
     ]
    }
   ],
   "source": [
    "lst = [1, 2, 3]\n",
    "index = int(input('인덱스를 입력하세요(0~2): '))\n",
    "\n",
    "try:\n",
    "    print(lst(index))\n",
    "except IndexError:\n",
    "    print('리스트 범위를 벗어났습니다.')\n",
    "except Exception:\n",
    "    print('예기치 못한 오류가 발생했습니다.')"
   ]
  },
  {
   "cell_type": "markdown",
   "metadata": {},
   "source": [
    "## 문제 4\n",
    "사용자 정의 예외 클래스를 만들어보세요. InvalidNameError라는 예외 클래스를 정의하고, 사용자에게 이름을 입력받아 3글자 미만이면 InvalidNameError를 발생시키세요. 이 예외를 처리하여 \"이름은 3글자 이상이어야 합니다.\"라는 메시지를 출력하세요."
   ]
  },
  {
   "cell_type": "code",
   "execution_count": null,
   "metadata": {},
   "outputs": [
    {
     "name": "stdout",
     "output_type": "stream",
     "text": [
      "이름은 3글자 이상이어야 합니다.\n"
     ]
    }
   ],
   "source": [
    "class InvalidNameError(Exception): # 파이썬의 Exception원형 클래스를 상속 받아서, 사용자가 새로운 에러를 정의.\n",
    "    # 해당 에러가 발생할 때 \n",
    "    def __init__(self, name):\n",
    "        super().__init__(f\"{name}은 유효하지 않은 이름입니다! \")\n",
    "        self.name = name\n",
    "        \n",
    "name = input('이름을 입력하세요: ')\n",
    "\n",
    "try:\n",
    "    if len(name) < 3:\n",
    "        raise InvalidNameError() # InvalidNameError 에러를 일으키겠다. \n",
    "    \n",
    "    print('이름:', name)\n",
    "    \n",
    "except InvalidNameError:\n",
    "    print('이름은 3글자 이상이어야 합니다.')"
   ]
  },
  {
   "cell_type": "markdown",
   "metadata": {},
   "source": [
    "## 문제 5\n",
    "함수를 하나 정의하세요. 함수 divide(a, b)는 a/b를 반환합니다.  \n",
    "만약 b가 0이라면 ZeroDivisionError를 발생시키고, 호출하는 쪽 코드에서 이 예외를 처리해 \"함수에서 0으로 나누기 예외 발생!\"이라는 메시지를 출력하세요."
   ]
  },
  {
   "cell_type": "code",
   "execution_count": 19,
   "metadata": {},
   "outputs": [
    {
     "name": "stdout",
     "output_type": "stream",
     "text": [
      "2.0\n"
     ]
    }
   ],
   "source": [
    "def divide(a,b) :\n",
    "    if b == 0:\n",
    "        raise ZeroDivisionError('0으로 나누기 시도')\n",
    "    return a/b\n",
    "try:\n",
    "    print(divide(10,5))\n",
    "    \n",
    "except ZeroDivisionError:\n",
    "    print('함수에서 0으로 나누기 예외 발생!')"
   ]
  },
  {
   "cell_type": "code",
   "execution_count": null,
   "metadata": {},
   "outputs": [],
   "source": []
  }
 ],
 "metadata": {
  "kernelspec": {
   "display_name": "myenv",
   "language": "python",
   "name": "python3"
  },
  "language_info": {
   "codemirror_mode": {
    "name": "ipython",
    "version": 3
   },
   "file_extension": ".py",
   "mimetype": "text/x-python",
   "name": "python",
   "nbconvert_exporter": "python",
   "pygments_lexer": "ipython3",
   "version": "3.8.20"
  }
 },
 "nbformat": 4,
 "nbformat_minor": 2
}
