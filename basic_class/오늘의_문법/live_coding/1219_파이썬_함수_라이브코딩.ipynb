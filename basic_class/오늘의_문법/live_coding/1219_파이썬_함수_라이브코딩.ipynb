{
 "cells": [
  {
   "cell_type": "markdown",
   "metadata": {},
   "source": [
    "## 문제 1\n",
    "문제: 정수를 입력받아 해당 정수의 제곱을 반환하는 함수 square_number(num)를 작성하세요.  \n",
    "예: square_number(5)를 호출하면 25를 반환해야 합니다."
   ]
  },
  {
   "cell_type": "code",
   "execution_count": null,
   "metadata": {},
   "outputs": [],
   "source": []
  },
  {
   "cell_type": "markdown",
   "metadata": {},
   "source": [
    "## 문제 2\n",
    "문제: 문자열을 인자로 받아, 그 문자열을 대문자로 변환한 후 반환하는 함수 to_uppercase(s)를 작성하세요.  \n",
    "예: to_uppercase(\"hello\") -> \"HELLO\""
   ]
  },
  {
   "cell_type": "code",
   "execution_count": null,
   "metadata": {},
   "outputs": [],
   "source": []
  },
  {
   "cell_type": "markdown",
   "metadata": {},
   "source": [
    "## 문제 3\n",
    "문제: 리스트를 인자로 받아, 리스트 내 모든 숫자의 합을 반환하는 함수 sum_list(lst)를 작성하세요. 만약 리스트가 비어있다면 0을 반환하세요.  \n",
    "예: sum_list([1, 2, 3]) -> 6, sum_list([]) -> 0"
   ]
  },
  {
   "cell_type": "code",
   "execution_count": null,
   "metadata": {},
   "outputs": [],
   "source": []
  },
  {
   "cell_type": "markdown",
   "metadata": {},
   "source": [
    "## 문제 4\n",
    "문제: 두 개의 숫자를 인자로 받아, 그 중 더 큰 값을 반환하는 함수 max_of_two(a, b)를 작성하세요.  \n",
    "예: max_of_two(5, 10) -> 10, max_of_two(-3, -1) -> -1"
   ]
  },
  {
   "cell_type": "code",
   "execution_count": null,
   "metadata": {},
   "outputs": [],
   "source": []
  },
  {
   "cell_type": "markdown",
   "metadata": {},
   "source": [
    "## 문제 5\n",
    "문제: 정수를 인자로 받아, 1부터 그 정수까지의 곱(팩토리얼)을 계산하는 함수 factorial(n)을 작성하세요. n이 0이면 결과는 1입니다.  \n",
    "예: factorial(5) -> 120 (54321)"
   ]
  },
  {
   "cell_type": "code",
   "execution_count": null,
   "metadata": {},
   "outputs": [],
   "source": []
  },
  {
   "cell_type": "markdown",
   "metadata": {},
   "source": [
    "## 문제 6\n",
    "문제: 리스트를 인자로 받아, 그 리스트 내에 있는 모든 정수들의 평균을 반환하는 함수 average(lst)를 작성하세요. 리스트가 비어있을 경우 0을 반환하세요.  \n",
    "예: average([10, 20, 30]) -> 20.0, average([]) -> 0"
   ]
  },
  {
   "cell_type": "code",
   "execution_count": null,
   "metadata": {},
   "outputs": [],
   "source": []
  },
  {
   "cell_type": "markdown",
   "metadata": {},
   "source": [
    "## 문제 7\n",
    "문제: 두 개의 정수 start, end를 인자로 받아, start부터 end까지(포함) 정수의 합을 반환하는 함수 sum_range(start, end)를 작성하세요.  \n",
    "start가 end보다 클 경우, 두 값을 바꿔서라도 합을 계산해야 합니다.  \n",
    "즉, sum_range(5, 3)도 3부터 5까지의 합인 3+4+5=12를 반환해야 합니다.  \n",
    "\n",
    "예: sum_range(1, 3) -> 6(1+2+3), sum_range(3, 1) -> 6(1+2+3)"
   ]
  },
  {
   "cell_type": "code",
   "execution_count": null,
   "metadata": {},
   "outputs": [],
   "source": []
  }
 ],
 "metadata": {
  "language_info": {
   "name": "python"
  }
 },
 "nbformat": 4,
 "nbformat_minor": 2
}
