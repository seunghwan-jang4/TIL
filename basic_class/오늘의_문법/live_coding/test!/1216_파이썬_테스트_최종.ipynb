{
  "cells": [
    {
      "cell_type": "markdown",
      "metadata": {
        "id": "vV3o4raHcu5U"
      },
      "source": [
        "* 주의 사항\n",
        "1. 출력이 정답이라도 문제에서 요구하는 사항을 모두 만족하지 못한다면 오답입니다.\n",
        "2. 문법에 대한 검색은 허용하나 정답 검색은 불허합니다. (자가 학습에 대한 검사)\n",
        "3. 주어진 함수 이름과 파라미터 이름을 바꾸시면 안됩니다."
      ]
    },
    {
      "cell_type": "markdown",
      "metadata": {
        "id": "oQvEcTfScu5V"
      },
      "source": [
        "# 문제 1번\n",
        "## 문제 내용:\n",
        "\n",
        "주어진 문자열 `string`에 포함된 모음('a', 'e', 'i', 'o', 'u')의 개수를 세어 리턴하는 함수 `count_vowels` 를 완성하세요.\n",
        "\\\n",
        "단, 대소문자 구분 없이 처리하고, 문자열에 알파벳이 아닌 문자가 섞여 있어도 모음만 정확히 세면 됩니다.\n",
        "\\\n",
        "예시:\n",
        "-  `string` 이 'aeiou'인 경우 리턴값은 5\n",
        "-  `string` 이 ''인 경우 리턴값은 0\n",
        "-  `string` 이 'Apple!'인 경우 리턴값은 2\n",
        "\n",
        "\n",
        "\n"
      ]
    },
    {
      "cell_type": "code",
      "execution_count": null,
      "metadata": {
        "id": "tm0l4V-ycu5V"
      },
      "outputs": [],
      "source": [
        "def Q1(string):\n",
        "    vowels = \"aeiou\"\n",
        "    count_vowels = sum(1 for x in string.lower() if x in vowels)\n",
        "    \n",
        "    return count_vowels"
      ]
    },
    {
      "cell_type": "markdown",
      "metadata": {
        "id": "0GjV-o6hcu5V"
      },
      "source": [
        "## 문제 2번\n",
        "### 문제 내용:\n",
        "문제에서 다음과 같은 튜플이 주어져 있습니다.\n",
        "```python\n",
        "fruits = (\"apple\", \"banana\", \"cherry\", \"orange\", \"grape\")\n",
        "```\n",
        "주어진 과일이름 `fruit`가 튜플 fruits 안에 존재하면 해당 과일의 인덱스값을, 존재하지 않으면 \"존재하지 않습니다\"를 리턴하는 함수 Q2를 완성하세요.\n",
        "\n",
        "\n",
        "예시)\n",
        "- `fruit`이 'mango'인 경우, 리턴값은 '존재하지 않습니다.'\n",
        "- `fruit`이 'apple'인 경우, 리턴값은 0\n",
        "- `fruit`이 'cherry'인 경우, 리턴값은 2\n",
        "\n"
      ]
    },
    {
      "cell_type": "code",
      "execution_count": 3,
      "metadata": {
        "id": "xI3petLKcu5W"
      },
      "outputs": [],
      "source": [
        "def Q2(fruit):\n",
        "    fruits = (\"apple\", \"banana\", \"cherry\", \"orange\", \"grape\")\n",
        "    \n",
        "    if fruit in fruits:\n",
        "        return fruits.index(fruit)\n",
        "    else:\n",
        "        return \"존재하지 않습니다.\""
      ]
    },
    {
      "cell_type": "markdown",
      "metadata": {
        "id": "Pf-Bio2qcu5W"
      },
      "source": [
        "# 문제 3번\n",
        "## 문제 내용:\n",
        "함수에서 문자열 `string`이 주어집니다. 이때 `string`의 정수들을 공백으로 구분하여 입력받아 리스트로 저장한 뒤, 해당 리스트를 오름차순 정렬하고, 리스트 내 원소 중 짝수번째 값만골라 그 합을 리턴하는 함수 Q3을 완성하세요.\n",
        "단, `string`의 길이는 최소 2글자입니다.\n",
        "\n",
        "예시)\n",
        "- `string` 이 '3 1 2'인 경우, 리턴값은 2\n",
        "- `string` 이 '7 2 4 1 5'인 경우, 리턴값은 2+5=7\n",
        "\n",
        "\n"
      ]
    },
    {
      "cell_type": "code",
      "execution_count": null,
      "metadata": {
        "id": "q6QoXKB0cu5W"
      },
      "outputs": [],
      "source": [
        "def Q3(string):\n",
        "    new_list = sorted(list(map(int, string.split())))\n",
        "    even_sum = sum(new_list[i] for i in range(1, len(new_list), 2))\n",
        "    \n",
        "    return even_sum"
      ]
    },
    {
      "cell_type": "markdown",
      "metadata": {
        "id": "cCdMB48_cu5W"
      },
      "source": [
        "# 문제 4번\n",
        "## 문제 내용:\n",
        "함수Q4에서 문자열 `words`가 주어집니다. 사용자로부터 콤마(,)로 구분된 단어들을 입력받아 리스트로 만든 뒤, 각 단어의 길이를 딕셔너리에 {단어: 길이} 형태로 저장하고 출력하세요. 그 후, 길이가 5글자 이상인 단어들의 값을 리스트로 리턴하는 함수 Q4를 완성하세요. 해당 단어가 여러인 경우, 리스트로 묶어서 출력하고 해당 단어가 없다면 빈 리스트를 리턴하세요.\n",
        "\n",
        "예시)\n",
        "- words가 'apple, bananna, car'인 경우,\n",
        "  -  출력값: {'apple': 5, 'bananna': 7, 'car' : 3}\n",
        "  -  리턴값 : ['apple', 'bannana']\n",
        "\n",
        "- words가 'hi, i, love, you'인 경우,\n",
        "  - 출력값 : {'hi': 2, 'i':1, 'love':4, 'you': 3}\n",
        "  - 리턴값 : []\n",
        "\n",
        "- words가 'hi, i, loved, you'인 경우,\n",
        "  - 출력값 : {'hi': 2, 'i':1, 'love':4, 'you': 3}\n",
        "  - 리턴값 : ['loved']\n",
        "\n"
      ]
    },
    {
      "cell_type": "code",
      "execution_count": null,
      "metadata": {
        "id": "bUNW81lacu5X"
      },
      "outputs": [],
      "source": [
        "def Q4(words) :\n",
        "  '''\n",
        "  code here!\n",
        "  '''"
      ]
    },
    {
      "cell_type": "markdown",
      "metadata": {
        "id": "BjVKtxr-cu5X"
      },
      "source": [
        "# 문제 5번\n",
        "## 문제 내용:\n",
        "함수 Q5에서 사람 1,2,3의 이름과 나이를 뜻하는 name1, age1, name2, age2, name3, age3가 주어집니다. 이때 name은 문자열형, age는 정수형입니다. 이때, 딕셔너리에 {이름: 나이} 형태로 저장하세요. 그 후, 나이가 20세 이상인 사람의 이름을 모두 리스트에 담아 알파벳 순서로 정렬한 뒤 리턴하세요. 20세 이상인 사람이 없다면 빈 리스트를 리턴하세요.\n",
        "\n",
        "예시)\n",
        "- name1=Tom, age1=21, name2=Alice, age2=19, name3=Bob, age3=20 인 경우,\n",
        "리턴값은 ['Bob', 'Tom']"
      ]
    },
    {
      "cell_type": "code",
      "execution_count": null,
      "metadata": {
        "id": "ncGnQnk_cu5X"
      },
      "outputs": [],
      "source": [
        "def Q5(name1, age1, name2, age2, name3, age3) :\n",
        "   '''\n",
        "  code here!\n",
        "  '''"
      ]
    },
    {
      "cell_type": "markdown",
      "metadata": {
        "id": "bR4hRnL9cu5X"
      },
      "source": [
        "# 문제 6번\n",
        "## 문제 내용:\n",
        "함수 Q6에서 정수들이 담긴 리스트 `int_list`가 전달됩니다.\n",
        "아래의 요소들을 모두 더한 수를 리턴하세요.\n",
        "- 해당 리스트의 최솟값\n",
        "- 해당 리스트의 최댓값\n",
        "- 해당 리스트에서 중복을 제거한 뒤, 짝수의 갯수\n",
        "\n",
        "예시)\n",
        "- `int_list`가  [4,7,2,9,10,2] 인 경우, 최솟값+최댓값+중복을제거한짝수의 갯수 = 2+10+3 = 15\n",
        "- `int_list`가 [1, 3, 5] 인 경우, 최솟값+최댓값+중복을제거한짝수의 갯수 = 1+5+0 = 6"
      ]
    },
    {
      "cell_type": "code",
      "execution_count": null,
      "metadata": {
        "id": "RsoaKQ8Acu5X"
      },
      "outputs": [],
      "source": [
        "def Q6(int_list) :\n",
        "   min_int_list = min(int_list)\n",
        "   max_int_list = max(int_list)\n",
        "   set_int_list = set(int_list)\n",
        "   even_count =  len([x for x in set_int_list if x % 2 == 0])\n",
        "   \n",
        "   return min_int_list + max_int_list + even_count\n"
      ]
    },
    {
      "cell_type": "markdown",
      "metadata": {
        "id": "jc1GjUpwcu5X"
      },
      "source": [
        "# 문제 7번\n",
        "## 문제 내용:\n",
        "사용자로부터 여러 줄을 입력받되, 빈 줄(Enter만 입력)이 나올 때까지 계속 입력받습니다. 입력받은 각 줄에 대해 공백으로 단어를 나눈 뒤, 단어 순서를 뒤집어 하이픈('-')으로 연결한 문자열을 출력합니다. 모든 줄에 대한 처리가 끝난 후, 입력받은 줄의 총 개수를 출력하세요.  \n",
        "만약 한 줄도 입력받지 않고 바로 빈 줄이 들어오면 \"No lines processed\"를 출력하세요."
      ]
    },
    {
      "cell_type": "raw",
      "metadata": {
        "id": "Zj3CDgzEcu5X",
        "vscode": {
          "languageId": "raw"
        }
      },
      "source": [
        "테스트 케이스\n",
        "\n",
        "1.\n",
        "`입력`\n",
        "\\\n",
        "Hello world\n",
        "\\\n",
        "Python test\n",
        "\\\n",
        "`출력`\n",
        "\\\n",
        "world-Hello\n",
        "\\\n",
        "test-Python\n",
        "\\\n",
        "2 lines processed\n",
        "\n",
        "2.\n",
        "`입력`\n",
        "\\\n",
        "(첫 입력부터 빈 줄)\n",
        "\\\n",
        "`출력`\n",
        "No lines processed\n",
        "\n",
        "3.\n",
        "`입력`\n",
        "\\\n",
        "a b c\n",
        "\\\n",
        "d e f\n",
        "\\\n",
        "g\n",
        "\\\n",
        "`출력`\n",
        "c-b-a\n",
        "\\\n",
        "f-e-d\n",
        "\\\n",
        "g\n",
        "\\\n",
        "3 lines processed\n",
        "\n",
        "\n",
        "\n",
        "4.\n",
        "`입력`\n",
        "One line only\n",
        "\\\n",
        "`출력`\n",
        "\\\n",
        "only-line-One\n",
        "\\\n",
        "1 lines processed\n",
        "\n",
        "\n",
        "5.\n",
        "`입력`\n",
        "Reverse these words\n",
        "\\\n",
        "Check this line\n",
        "\\\n",
        "Another one\n",
        "\\\n",
        "Stop now\n",
        "\\\n",
        "`출력`\n",
        "words-these-Reverse\n",
        "\\\n",
        "line-this-Check\n",
        "\\\n",
        "one-Another\n",
        "\\\n",
        "now-Stop\n",
        "\\\n",
        "4 lines processed"
      ]
    },
    {
      "cell_type": "code",
      "execution_count": null,
      "metadata": {
        "id": "iokuMaJ1cu5X"
      },
      "outputs": [],
      "source": [
        "def Q7():\n"
      ]
    },
    {
      "cell_type": "markdown",
      "metadata": {
        "id": "cz1-4GOHcu5X"
      },
      "source": [
        "# 도전 문제 - 시간이 남는다면 풀어보세요\n",
        "## 문제 1\n",
        "### 문제 설명:\n",
        "사용자로부터 한 줄의 문장을 입력받습니다. 이 문장을 공백을 기준으로 단어 단위로 나눈 뒤, 각 단어에 포함된 모음(a, e, i, o, u)의 개수를 센 후 {단어: 모음수} 형태의 딕셔너리에 저장하세요(대소문자 구분 없이 전부 소문자로 처리).  \n",
        "그 후, 모음이 하나 이상 포함된 단어들만 골라 단어를 알파벳 순으로 정렬한 뒤, 단어와 그 모음 개수를 모두 출력하세요.  \n",
        "만약 모음이 포함된 단어가 없다면 \"No vowels found\"를 출력하세요."
      ]
    },
    {
      "cell_type": "raw",
      "metadata": {
        "id": "1_IHEzWUcu5X",
        "vscode": {
          "languageId": "raw"
        }
      },
      "source": [
        "테스트 케이스\n",
        "\n",
        "1.\n",
        "입력 : Hello world test python\n",
        "\n",
        "출력\n",
        "hello 2\n",
        "python 1\n",
        "test 1\n",
        "world 1\n",
        "\n",
        "2.\n",
        "입력 : Sky fly crypt\n",
        "\n",
        "출력\n",
        "No vowels found\n",
        "\n",
        "3.\n",
        "입력 : Test case to check vowels\n",
        "\n",
        "출력\n",
        "case 2\n",
        "check 1\n",
        "test 1\n",
        "to 1\n",
        "vowels 2"
      ]
    },
    {
      "cell_type": "code",
      "execution_count": null,
      "metadata": {
        "id": "j43GaK0gcu5X"
      },
      "outputs": [],
      "source": []
    },
    {
      "cell_type": "markdown",
      "metadata": {
        "id": "RIQkFRircu5X"
      },
      "source": [
        "## 문제 2\n",
        "### 문제 설명:\n",
        "다음과 같은 튜플과 딕셔너리가 있다고 가정합니다.\n",
        "```python\n",
        "fruits = (\"apple\", \"banana\", \"cherry\", \"orange\", \"grape\")\n",
        "prices = {\"apple\": 1000, \"banana\": 500, \"cherry\": 1500, \"orange\": 800, \"grape\": 1200}\n",
        "```\n",
        "사용자로부터 과일 이름과 개수를 입력받아 총 금액을 계산하는 프로그램을 작성하세요.  \n",
        "과일 이름은 튜플 fruits에 존재해야 하며, 개수는 1 이상이어야 합니다.  \n",
        "여러 번의 주문을 받아 처리하며, \"STOP\"을 입력하면 종료합니다. 유효한 주문마다 총 금액을 출력하고, 유효하지 않은 주문이면 \"Invalid order\"를 출력합니다.  \n",
        "테스트 케이스를 모두 만족하는지 꼭 확인할 것!"
      ]
    },
    {
      "cell_type": "raw",
      "metadata": {
        "id": "6NgNThetcu5X",
        "vscode": {
          "languageId": "raw"
        }
      },
      "source": [
        "테스트 케이스\n",
        "\n",
        "1.\n",
        "입력\n",
        "banana 3\n",
        "orange 2\n",
        "melon 5\n",
        "grape 0\n",
        "STOP\n",
        "\n",
        "출력\n",
        "1500\n",
        "1600\n",
        "Invalid order\n",
        "Invalid order\n",
        "\n",
        "2.\n",
        "입력\n",
        "apple 1\n",
        "STOP\n",
        "\n",
        "출력\n",
        "1000\n",
        "\n",
        "3.\n",
        "입력\n",
        "cherry 10\n",
        "banana abc\n",
        "apple -2\n",
        "STOP\n",
        "\n",
        "출력\n",
        "15000\n",
        "Invalid order\n",
        "Invalid order\n",
        "\n",
        "4.\n",
        "입력\n",
        "grape 5\n",
        "grapefruit 2\n",
        "STOP\n",
        "\n",
        "출력\n",
        "6000 (유효)\n",
        "Invalid order (fruits에 없음)\n",
        "\n",
        "5.\n",
        "입력\n",
        "STOP\n",
        "\n",
        "출력 없음"
      ]
    },
    {
      "cell_type": "code",
      "execution_count": null,
      "metadata": {
        "id": "1lT6BZV9cu5X"
      },
      "outputs": [],
      "source": []
    }
  ],
  "metadata": {
    "colab": {
      "provenance": []
    },
    "kernelspec": {
      "display_name": "python (myenv)",
      "language": "python",
      "name": "myenv"
    },
    "language_info": {
      "codemirror_mode": {
        "name": "ipython",
        "version": 3
      },
      "file_extension": ".py",
      "mimetype": "text/x-python",
      "name": "python",
      "nbconvert_exporter": "python",
      "pygments_lexer": "ipython3",
      "version": "3.8.20"
    }
  },
  "nbformat": 4,
  "nbformat_minor": 0
}
