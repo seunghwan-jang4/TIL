{
 "cells": [
  {
   "cell_type": "markdown",
   "metadata": {},
   "source": [
    "## 문제 1\n",
    "다음과 같은 정보를 담은 딕셔너리 person을 생성하고, 'name' 키를 이용해 값을 출력하세요.\n",
    "\n",
    "- 키: 'name', 값: '홍길동'\n",
    "- 키: 'age', 값: 30\n",
    "- 키: 'city', 값: '서울'"
   ]
  },
  {
   "cell_type": "code",
   "execution_count": 6,
   "metadata": {},
   "outputs": [
    {
     "name": "stdout",
     "output_type": "stream",
     "text": [
      "{'name': '홍길동', 'age': 30, 'city': '서울'}\n",
      "{'name': '홍길동', 'age': 30, 'city': '서울'}\n"
     ]
    }
   ],
   "source": [
    "# 방법1.\n",
    "person = {'name': '홍길동', 'age': 30, 'city': '서울'}\n",
    "print(person)\n",
    "\n",
    "# 방법2. \n",
    "person = dict([['name', '홍길동'],['age', 30], ['city', '서울']])# [] 주의! 다 묶어줘야 한다.\n",
    "print(person)"
   ]
  },
  {
   "cell_type": "markdown",
   "metadata": {},
   "source": [
    "## 문제 2\n",
    "다음 딕셔너리 person = {'name': '홍길동', 'age': 30}가 있을 때, 'city' 키에 해당하는 값을 get() 메서드를 사용하여 가져오되, 키가 없을 경우 'Unknown'을 반환하도록 하세요."
   ]
  },
  {
   "cell_type": "code",
   "execution_count": 7,
   "metadata": {},
   "outputs": [
    {
     "name": "stdout",
     "output_type": "stream",
     "text": [
      "Unknown\n"
     ]
    }
   ],
   "source": [
    "# 방법 1.\n",
    "person = {'name': '홍길동', 'age': 30}\n",
    "print(person.get('city', 'Unknown'))"
   ]
  },
  {
   "cell_type": "markdown",
   "metadata": {},
   "source": [
    "## 문제 3\n",
    "car = {'brand': 'Ford', 'model': 'Mustang'}가 있을 때, 'year' 키를 1964로 추가하고, 'model' 값을 'Thunderbird'로 변경하세요."
   ]
  },
  {
   "cell_type": "code",
   "execution_count": 8,
   "metadata": {},
   "outputs": [
    {
     "name": "stdout",
     "output_type": "stream",
     "text": [
      "{'brand': 'Ford', 'model': 'Thunderbird', 'year': 1964}\n"
     ]
    }
   ],
   "source": [
    "# 값 추가와 변경.\n",
    "car = {'brand': 'Ford', 'model': 'Mustang'}\n",
    "car['year'] = 1964\n",
    "car['model'] = 'Thunderbird'\n",
    "\n",
    "print(car)"
   ]
  },
  {
   "cell_type": "code",
   "execution_count": 16,
   "metadata": {},
   "outputs": [
    {
     "name": "stdout",
     "output_type": "stream",
     "text": [
      "{'brand': ['Ford', 'lg', 'samsung', 'sk'], 'model': 'Mustang'}\n",
      "{'brand': ['Ford'], 'model': 'Mustang'}\n"
     ]
    }
   ],
   "source": [
    "# 브랜드에 sk를 추가하는 방법.\n",
    "car = {'brand': ['Ford', 'lg', 'samsung'], 'model': 'Mustang'}\n",
    "car['brand'].append('sk') # append() 사용하여 요소 추가.\n",
    "\n",
    "print(car)\n",
    "\n",
    "#pop 과 remove 사용.\n",
    "car = {'brand': ['Ford', 'lg', 'samsung'], 'model': 'Mustang'}\n",
    "car['brand'].pop()\n",
    "car['brand'].remove('lg')\n",
    "print(car)"
   ]
  },
  {
   "cell_type": "markdown",
   "metadata": {},
   "source": [
    "## 문제 4\n",
    "문제: fruit = {'apple': 2, 'banana': 3, 'cherry': 5}가 있을 때, 'banana' 키-값 쌍을 제거하고, 제거된 값을 출력한 뒤 딕셔너리를 확인하세요."
   ]
  },
  {
   "cell_type": "code",
   "execution_count": null,
   "metadata": {},
   "outputs": [
    {
     "name": "stdout",
     "output_type": "stream",
     "text": [
      "{'apple': 2, 'cherry': 5}\n",
      "3\n",
      "{'apple': 2, 'cherry': 5}\n"
     ]
    }
   ],
   "source": [
    "# 방법 1. / del 사용.\n",
    "fruit = {'apple': 2, 'banana': 3, 'cherry': 5}\n",
    "del fruit['banana']\n",
    "print(fruit)\n",
    "\n",
    "# 방법 2. / .pop() 사용\n",
    "fruit = {'apple': 2, 'banana': 3, 'cherry': 5}\n",
    "banana_value = fruit.pop('banana') # 키 값을 제거하고, 값을 반환값으로 준다.\n",
    "print(banana_value)\n",
    "print(fruit)"
   ]
  },
  {
   "cell_type": "markdown",
   "metadata": {},
   "source": [
    "## 문제 5\n",
    "person = {'name': 'Alice', 'age': 25, 'city': 'New York'}에 대하여, key 값들과, value 값들, 그리고 key와 value 값 동시(items)에 출력하세요."
   ]
  },
  {
   "cell_type": "code",
   "execution_count": null,
   "metadata": {},
   "outputs": [
    {
     "name": "stdout",
     "output_type": "stream",
     "text": [
      "dict_keys(['name', 'age', 'city'])\n",
      "dict_values(['Alice', 25, 'New York'])\n",
      "dict_items([('name', 'Alice'), ('age', 25), ('city', 'New York')])\n"
     ]
    }
   ],
   "source": [
    "person = {'name': 'Alice', 'age': 25, 'city': 'New York'}\n",
    "keys_only = person.keys()\n",
    "value_only = person.values()\n",
    "all_info = person.items()\n",
    "\n",
    "print(keys_only)\n",
    "print(value_only)\n",
    "print(all_info)"
   ]
  },
  {
   "cell_type": "markdown",
   "metadata": {},
   "source": [
    "## 문제 6\n",
    "문제: d = {'a': 1, 'b': 2}가 있을 때, 다른 딕셔너리 d2 = {'b': 3, 'c': 4} 로 업데이트하고, 결과를 출력하세요."
   ]
  },
  {
   "cell_type": "code",
   "execution_count": null,
   "metadata": {},
   "outputs": [
    {
     "name": "stdout",
     "output_type": "stream",
     "text": [
      "{'a': 1, 'b': 3, 'c': 4}\n"
     ]
    }
   ],
   "source": [
    "# 벨류는 중복 가능하지만, 키는 고유하다!\n",
    "d = {'a': 1, 'b': 2}\n",
    "d2 = {'b': 3, 'c': 4}\n",
    "d.update(d2)\n",
    "\n",
    "print(d) # 키는 a, b, b, c가 아닌 a, b, c 형태로 중복되지 않는다. 이 상태에서 새로운 값으로 값이 업데이트 되었다. \n"
   ]
  },
  {
   "cell_type": "markdown",
   "metadata": {},
   "source": [
    "## 문제 7\n",
    "person = {'name': 'Alice', 'age': 25, 'city': 'New York'}를 순회하여 key, value 값을 출력해보세요. (반복문, items 사용)"
   ]
  },
  {
   "cell_type": "raw",
   "metadata": {
    "vscode": {
     "languageId": "raw"
    }
   },
   "source": [
    "예상 출력 : \n",
    "\n",
    "name Alice\n",
    "age 25\n",
    "city New York"
   ]
  },
  {
   "cell_type": "code",
   "execution_count": null,
   "metadata": {},
   "outputs": [
    {
     "name": "stdout",
     "output_type": "stream",
     "text": [
      "{'name': 'Alice', 'age': 25, 'city': 'New York'}\n",
      "name Alice\n",
      "age 25\n",
      "city New York\n"
     ]
    }
   ],
   "source": [
    "#방법1. \n",
    "person = {'name': 'Alice', 'age': 25, 'city': 'New York'}\n",
    "result = {k: v for k, v in person.items()}\n",
    "print(result)\n",
    "\n",
    "#방법2.\n",
    "for k, v in person.items():\n",
    "    print(k, v)"
   ]
  },
  {
   "cell_type": "markdown",
   "metadata": {},
   "source": [
    "## 문제 8\n",
    "1부터 5까지의 숫자를 키로 하고, 각 숫자의 세제곱을 값으로 하는 딕셔너리를 딕셔너리 컴프리헨션을 사용하여 만드세요. (반복문 사용) "
   ]
  },
  {
   "cell_type": "code",
   "execution_count": 42,
   "metadata": {},
   "outputs": [
    {
     "name": "stdout",
     "output_type": "stream",
     "text": [
      "{1: 1, 2: 8, 3: 27, 4: 64, 5: 125}\n",
      "{1: 1, 2: 8, 3: 27, 4: 64, 5: 125}\n"
     ]
    }
   ],
   "source": [
    "# 방법1.\n",
    "result = {k: k**3 for k in range(1,6)}\n",
    "print(result)\n",
    "\n",
    "#방법2. \n",
    "result = {}\n",
    "\n",
    "for k in range(1, 6):\n",
    "    result[k] = k**3\n",
    "    \n",
    "print(result)"
   ]
  },
  {
   "cell_type": "markdown",
   "metadata": {},
   "source": [
    "## 문제 9\n",
    "prices = {'apple': 2.5, 'banana': 1.8, 'cherry': 3.0}에서 가격이 2.0 이상인 과일만을 담은 딕셔너리를 딕셔너리 컴프리헨션을 이용하여 만드세요. (반복문 사용)"
   ]
  },
  {
   "cell_type": "code",
   "execution_count": 46,
   "metadata": {},
   "outputs": [
    {
     "name": "stdout",
     "output_type": "stream",
     "text": [
      "{'apple': 2.5, 'cherry': 3.0}\n"
     ]
    }
   ],
   "source": [
    "# 방법 1. \n",
    "prices = {'apple': 2.5, 'banana': 1.8, 'cherry': 3.0}\n",
    "result = {fruit: price for fruit, price in prices.items() if price >= 2.0} # 딕셔너리 구조를 가져와야 하기 떄문에, .items()를 사용.\n",
    "print(result)"
   ]
  },
  {
   "cell_type": "markdown",
   "metadata": {},
   "source": [
    "## 문제 10\n",
    "person = {'name': 'Alice', 'age': 25, 'city': 'New York'}에서 'name' 키가 존재하는지, 'email' 키가 존재하는지 확인하세요! (특정 연산자 사용)"
   ]
  },
  {
   "cell_type": "code",
   "execution_count": null,
   "metadata": {},
   "outputs": [
    {
     "name": "stdout",
     "output_type": "stream",
     "text": [
      "True\n",
      "False\n",
      "False\n",
      "True\n"
     ]
    }
   ],
   "source": [
    "# 방법 1. \n",
    "person = {'name': 'Alice', 'age': 25, 'city': 'New York'}\n",
    "\n",
    "print('name' in person)\n",
    "print('email' in person)\n",
    "\n",
    "print('name' not in person) # 존재하기에 False가 출력.\n",
    "print('email' not in person) # 존재하지 않는 게 맞기 때문에 True 출력."
   ]
  },
  {
   "cell_type": "markdown",
   "metadata": {},
   "source": [
    "## 문제 11\n",
    "student2의 'age' 값 중 20의 값을 출력하세요."
   ]
  },
  {
   "cell_type": "raw",
   "metadata": {
    "vscode": {
     "languageId": "raw"
    }
   },
   "source": [
    "students = {\n",
    "    'student1': {'name': 'Alice', 'age': [25, 26, 27, 28, 29]},\n",
    "    'student2': {'name': 'Bob', 'age': [18, 19, 20, 21, 22]},\n",
    "    'student3': {'name': 'Charlie', 'age': 23}\n",
    "}\n"
   ]
  },
  {
   "cell_type": "code",
   "execution_count": null,
   "metadata": {},
   "outputs": [
    {
     "name": "stdout",
     "output_type": "stream",
     "text": [
      "20\n"
     ]
    }
   ],
   "source": [
    "students = {\n",
    "    'student1': {'name': 'Alice', 'age': [25, 26, 27, 28, 29]},\n",
    "    'student2': {'name': 'Bob', 'age': [18, 19, 20, 21, 22]},\n",
    "    'student3': {'name': 'Charlie', 'age': 23}\n",
    "}\n",
    "\n",
    "print(students['student2']['age'][2]) # students 안의 student2에 접근 후, 차근차근 접근."
   ]
  },
  {
   "cell_type": "markdown",
   "metadata": {},
   "source": [
    "# 응용"
   ]
  },
  {
   "cell_type": "markdown",
   "metadata": {},
   "source": [
    "## 문제 1\n",
    "keys = ['name', 'age', 'city'], values = ['Alice', 25, 'New York'] 인 두 리스트를 하나의 딕셔너리로 변환하세요 (zip 사용)"
   ]
  },
  {
   "cell_type": "code",
   "execution_count": null,
   "metadata": {},
   "outputs": [],
   "source": [
    "# enumerate는 idx, value 를 동시에 뽑는다. 필수 공부!\n",
    "# zip는 순서대로 튜플로 반환해 준다."
   ]
  },
  {
   "cell_type": "code",
   "execution_count": null,
   "metadata": {},
   "outputs": [
    {
     "name": "stdout",
     "output_type": "stream",
     "text": [
      "{'name': 'Alice', 'age': 25, 'city': 'New York'}\n"
     ]
    }
   ],
   "source": [
    "\n",
    "keys = ['name', 'age', 'city']\n",
    "values = ['Alice', 25, 'New York']\n",
    "\n",
    "print(dict(zip(keys, values)))"
   ]
  },
  {
   "cell_type": "markdown",
   "metadata": {},
   "source": [
    "## 문제 2\n",
    "키로 사용할 수 없는 자료형은 아래에서 모두 고르세요."
   ]
  },
  {
   "cell_type": "raw",
   "metadata": {
    "vscode": {
     "languageId": "raw"
    }
   },
   "source": [
    "my_dict = {\n",
    "    [1, 2, 3]: 'This is a list',   --------------------- 1\n",
    "    'name': 'Alice', --------------------- 2\n",
    "    (2, 4) : 'hello', --------------------- 3 \n",
    "    {'age' : 24} : 'pink', --------------------- 4\n",
    "    5 : 'temp int', --------------------- 5 \n",
    "    True : 'False' --------------------- 6\n",
    "}"
   ]
  },
  {
   "cell_type": "code",
   "execution_count": null,
   "metadata": {},
   "outputs": [],
   "source": [
    "# 가변 자료형은 키로 사용 불가능함. / 가변 자료형: 리스트, 딕셔너리.\n",
    "# 불변 자료형: 문자열, 튜플, int, 불리언. \n",
    "# 정답: 1, 4"
   ]
  },
  {
   "cell_type": "markdown",
   "metadata": {},
   "source": [
    "## 문제 3\n",
    "아래와 같은 딕셔너리가 있을 때, 'salary'가 높은 순으로 정렬한 딕셔너리를 출력하세요."
   ]
  },
  {
   "cell_type": "raw",
   "metadata": {
    "vscode": {
     "languageId": "raw"
    }
   },
   "source": [
    "company_info = {\n",
    "    \"VoyagerX\" : 4800,\n",
    "    \"DAOU IDC\" : 4500,\n",
    "    \"LINE Plus\" : 5400,\n",
    "    \"KT DS\" : 5200,\n",
    "    \"ScatterLabs\" : 4100\n",
    "}"
   ]
  },
  {
   "cell_type": "code",
   "execution_count": null,
   "metadata": {},
   "outputs": [
    {
     "name": "stdout",
     "output_type": "stream",
     "text": [
      "[('LINE Plus', 5400), ('KT DS', 5200), ('VoyagerX', 4800), ('DAOU IDC', 4500), ('ScatterLabs', 4100)]\n",
      "[('LINE Plus', 5400), ('KT DS', 5200), ('VoyagerX', 4800), ('DAOU IDC', 4500), ('ScatterLabs', 4100)]\n",
      "{'LINE Plus': 5400, 'KT DS': 5200, 'VoyagerX': 4800, 'DAOU IDC': 4500, 'ScatterLabs': 4100}\n"
     ]
    }
   ],
   "source": [
    "company_info = {\n",
    "    \"VoyagerX\" : 4800,\n",
    "    \"DAOU IDC\" : 4500,\n",
    "    \"LINE Plus\" : 5400,\n",
    "    \"KT DS\" : 5200,\n",
    "    \"ScatterLabs\" : 4100\n",
    "}\n",
    "result = sorted(company_info.items(), key = lambda x: x[1], reverse = True)\n",
    "result1 = sorted(company_info.items(), key = lambda x: -x[1]) # -는 위의 revere = True와 같은 기능!\n",
    "result2 = dict(sorted(company_info.items(), key = lambda x: (-x[1], x[0]))) # 재점검 필요 @@\n",
    "\n",
    "print(result)\n",
    "print(result1)\n",
    "print(result2)"
   ]
  },
  {
   "cell_type": "markdown",
   "metadata": {},
   "source": [
    "## 문제 4\n",
    "다음 텍스트에서 단어의 빈도수를 계산하세요."
   ]
  },
  {
   "cell_type": "raw",
   "metadata": {
    "vscode": {
     "languageId": "raw"
    }
   },
   "source": [
    "text = \"apple banana apple cherry banana apple\"\n",
    "\n",
    "예상 출력 : {'apple': 3, 'banana': 2, 'cherry': 1}"
   ]
  },
  {
   "cell_type": "code",
   "execution_count": null,
   "metadata": {},
   "outputs": [
    {
     "name": "stdout",
     "output_type": "stream",
     "text": [
      "['apple', 'banana', 'apple', 'cherry', 'banana', 'apple']\n"
     ]
    },
    {
     "ename": "NameError",
     "evalue": "name 'fruit' is not defined",
     "output_type": "error",
     "traceback": [
      "\u001b[1;31m---------------------------------------------------------------------------\u001b[0m",
      "\u001b[1;31mNameError\u001b[0m                                 Traceback (most recent call last)",
      "Cell \u001b[1;32mIn[22], line 6\u001b[0m\n\u001b[0;32m      3\u001b[0m splited_text \u001b[38;5;241m=\u001b[39m text\u001b[38;5;241m.\u001b[39msplit()\n\u001b[0;32m      4\u001b[0m \u001b[38;5;28mprint\u001b[39m(splited_text)\n\u001b[1;32m----> 6\u001b[0m count_word \u001b[38;5;241m=\u001b[39m {fruits: splited_text\u001b[38;5;241m.\u001b[39mcount(fruit) \u001b[38;5;28;01mfor\u001b[39;00m fruits \u001b[38;5;129;01min\u001b[39;00m \u001b[38;5;28mset\u001b[39m(splited_text)} \u001b[38;5;66;03m# 중복된 값을 제거한 뒤, 카운트를 사용하여 출력하였다.\u001b[39;00m\n\u001b[0;32m      7\u001b[0m \u001b[38;5;28mprint\u001b[39m(count_word)\n",
      "Cell \u001b[1;32mIn[22], line 6\u001b[0m, in \u001b[0;36m<dictcomp>\u001b[1;34m(.0)\u001b[0m\n\u001b[0;32m      3\u001b[0m splited_text \u001b[38;5;241m=\u001b[39m text\u001b[38;5;241m.\u001b[39msplit()\n\u001b[0;32m      4\u001b[0m \u001b[38;5;28mprint\u001b[39m(splited_text)\n\u001b[1;32m----> 6\u001b[0m count_word \u001b[38;5;241m=\u001b[39m {fruits: splited_text\u001b[38;5;241m.\u001b[39mcount(\u001b[43mfruit\u001b[49m) \u001b[38;5;28;01mfor\u001b[39;00m fruits \u001b[38;5;129;01min\u001b[39;00m \u001b[38;5;28mset\u001b[39m(splited_text)} \u001b[38;5;66;03m# 중복된 값을 제거한 뒤, 카운트를 사용하여 출력하였다.\u001b[39;00m\n\u001b[0;32m      7\u001b[0m \u001b[38;5;28mprint\u001b[39m(count_word)\n",
      "\u001b[1;31mNameError\u001b[0m: name 'fruit' is not defined"
     ]
    }
   ],
   "source": [
    "text = \"apple banana apple cherry banana apple\"\n",
    "\n",
    "splited_text = text.split()\n",
    "print(splited_text)\n",
    "\n",
    "count_word = {fruit: splited_text.count(fruit) for fruit in set(splited_text)} # 중복된 값을 제거한 뒤, 카운트를 사용하여 출력하였다.\n",
    "print(count_word)"
   ]
  },
  {
   "cell_type": "code",
   "execution_count": null,
   "metadata": {},
   "outputs": [],
   "source": []
  }
 ],
 "metadata": {
  "kernelspec": {
   "display_name": "python (myenv)",
   "language": "python",
   "name": "myenv"
  },
  "language_info": {
   "codemirror_mode": {
    "name": "ipython",
    "version": 3
   },
   "file_extension": ".py",
   "mimetype": "text/x-python",
   "name": "python",
   "nbconvert_exporter": "python",
   "pygments_lexer": "ipython3",
   "version": "3.8.20"
  }
 },
 "nbformat": 4,
 "nbformat_minor": 2
}
