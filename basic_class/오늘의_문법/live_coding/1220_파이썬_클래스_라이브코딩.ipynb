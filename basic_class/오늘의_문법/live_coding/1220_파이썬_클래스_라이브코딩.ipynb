{
 "cells": [
  {
   "cell_type": "markdown",
   "metadata": {},
   "source": [
    "## 문제 1\n",
    "문제: Person이라는 클래스를 정의하고, __init__ 메서드를 통해 name과 age 인스턴스 변수를 초기화하는 코드를 작성하세요.  \n",
    "그리고 introduce 메서드를 만들어 \"안녕하세요, 제 이름은 {name}이고, 나이는 {age}살입니다.\"를 출력하도록 하세요."
   ]
  },
  {
   "cell_type": "code",
   "execution_count": 1,
   "metadata": {},
   "outputs": [
    {
     "name": "stdout",
     "output_type": "stream",
     "text": [
      "안녕하세요, 제 이름은 alice이고, 나이는 25살 입니다.\n"
     ]
    }
   ],
   "source": [
    "class Person:\n",
    "    def __init__(self, name, age):\n",
    "        self.name = name\n",
    "        self.age = age\n",
    "    \n",
    "    def introduce(self):\n",
    "        print(f\"안녕하세요, 제 이름은 {self.name}이고, 나이는 {self.age}살 입니다.\")\n",
    "        \n",
    "p = Person('alice', 25)\n",
    "p.introduce()\n",
    "    \n",
    "    "
   ]
  },
  {
   "cell_type": "markdown",
   "metadata": {},
   "source": [
    "## 문제 2\n",
    "문제: Rectangle 클래스를 정의하고, 가로(width)와 세로(height)를 속성으로 갖도록 하세요.  \n",
    "또한 면적을 반환하는 메서드 area()와 둘레 길이를 반환하는 메서드 perimeter()를 구현하세요."
   ]
  },
  {
   "cell_type": "code",
   "execution_count": 5,
   "metadata": {},
   "outputs": [
    {
     "name": "stdout",
     "output_type": "stream",
     "text": [
      "20\n",
      "18\n"
     ]
    }
   ],
   "source": [
    "class Rectangle:\n",
    "    def __init__(self, width, height):\n",
    "        self.width = width\n",
    "        self.height = height\n",
    "        \n",
    "    def area(self):\n",
    "        return self.width* self.height\n",
    "         \n",
    "    \n",
    "    def perimeter(self):\n",
    "        return 2*(self.width + self.height)\n",
    "    \n",
    "r = Rectangle(4, 5)\n",
    "\n",
    "# 객체의 면적 구하기.\n",
    "print(r.area())\n",
    "\n",
    "# 객체의 둘레 구하기.\n",
    "print(r.perimeter())\n",
    "\n",
    "## 클래스: 인스턴스 = 붕어빵틀:붕어빵"
   ]
  },
  {
   "cell_type": "markdown",
   "metadata": {},
   "source": [
    "## 문제 3\n",
    "문제: BankAccount 클래스를 정의하고, owner(계좌주)와 balance(잔고) 인스턴스 변수를 갖도록 하세요.  \n",
    "deposit(amount) 메서드로 잔고를 추가하고, withdraw(amount) 메서드로 잔고를 인출합니다.  \n",
    "만약 인출액이 잔고보다 크면 \"잔고 부족\"이라는 메시지를 출력하도록 하세요."
   ]
  },
  {
   "cell_type": "code",
   "execution_count": 6,
   "metadata": {},
   "outputs": [
    {
     "name": "stdout",
     "output_type": "stream",
     "text": [
      "500\n",
      "잔고 부족\n",
      "500\n"
     ]
    }
   ],
   "source": [
    "class BankAccount:\n",
    "    def __init__(self, owner, balance = 0):\n",
    "        self.owner = owner\n",
    "        self.balanace = balance\n",
    "    \n",
    "    # 잔고 추가    \n",
    "    def deposit(self, amount):\n",
    "        self.balance += amount\n",
    "        \n",
    "    # 인출    \n",
    "    def withdraw(self, amount):\n",
    "        if self.balanace >= amount:\n",
    "            self.balanace -= amount\n",
    "        else:\n",
    "            print('잔고 부족')\n",
    "    \n",
    "# 테스트 코드\n",
    "account = BankAccount('alice', 1000)\n",
    "account.withdraw(500)\n",
    "print(account.balanace)\n",
    "account.withdraw(600)\n",
    "print(account.balanace)"
   ]
  },
  {
   "cell_type": "markdown",
   "metadata": {},
   "source": [
    "## 문제 4 (클래스 변수, 인스턴스 변수 비교)\n",
    "문제: Car 클래스를 정의하고, 클래스 변수 wheels를 4로 설정하세요. 각 인스턴스는 color 인스턴스 변수를 갖습니다.  \n",
    "describe() 메서드를 만들어 \"이 자동차는 {color} 색이고, 바퀴는 {wheels}개입니다.\" 를 출력하도록 하세요.  \n",
    "그리고 인스턴스 생성 후 describe() 메서드를 호출해보세요."
   ]
  },
  {
   "cell_type": "code",
   "execution_count": 7,
   "metadata": {},
   "outputs": [
    {
     "name": "stdout",
     "output_type": "stream",
     "text": [
      "이 자동차는 red색이고, 바퀴는 4개 입니다.\n",
      "이 자동차는 blue색이고, 바퀴는 4개 입니다.\n"
     ]
    }
   ],
   "source": [
    "# 호출방법: 클래스 이름.변수이름 / 인스턴스 변수는 self. 변수이름\n",
    "class Car:\n",
    "    wheels = 4\n",
    "    def __init__(self, color):\n",
    "        self.color = color\n",
    "        \n",
    "    def describe(self):\n",
    "        return print(f\"이 자동차는 {self.color}색이고, 바퀴는 {Car.wheels}개 입니다.\")\n",
    "    \n",
    "# 테스트 코드\n",
    "c1 = Car(\"red\")\n",
    "c2 = Car(\"blue\")\n",
    "c1.describe()\n",
    "c2.describe()"
   ]
  },
  {
   "cell_type": "markdown",
   "metadata": {},
   "source": [
    "## 문제 5 (상속, 메서드 오버라이딩)\n",
    "Animal이라는 클래스를 만들고, speak() 메서드에서 \"동물이 소리를 냅니다.\"를 출력하도록 하세요.  \n",
    "이를 상속받는 Dog 클래스를 만들고 speak() 메서드를 오버라이딩하여 \"멍멍\"을 출력하도록 하세요.  \n",
    "Dog 인스턴스를 생성하고 speak()를 호출해보세요. "
   ]
  },
  {
   "cell_type": "code",
   "execution_count": 9,
   "metadata": {},
   "outputs": [
    {
     "name": "stdout",
     "output_type": "stream",
     "text": [
      "동물이 소리를 냅니다.\n",
      "멍멍\n"
     ]
    }
   ],
   "source": [
    "class Animal:\n",
    "    def speak(self):\n",
    "        print('동물이 소리를 냅니다.')\n",
    "        \n",
    "class Dog(Animal):\n",
    "    def speak(self):\n",
    "        print('멍멍')\n",
    "\n",
    "# 테스트 코드        \n",
    "animal = Animal()\n",
    "animal.speak() # 동물이 소리를 냅니다.\n",
    "dog = Dog() # Dog는 반드시 Animal을 상속받아야 합니다!\n",
    "dog.speak() # 멍멍"
   ]
  },
  {
   "cell_type": "markdown",
   "metadata": {},
   "source": [
    "## 문제 6\n",
    "문제: Student 클래스를 정의하고, name과 scores(점수 리스트)를 인스턴스 변수로 받으세요.  \n",
    "add_score(score) 메서드로 점수를 추가하고, get_average() 메서드로 평균을 반환하세요.  \n",
    "학생 객체를 생성하고 점수를 몇 개 추가한 뒤 평균을 출력해보세요."
   ]
  },
  {
   "cell_type": "code",
   "execution_count": 3,
   "metadata": {},
   "outputs": [
    {
     "name": "stdout",
     "output_type": "stream",
     "text": [
      "92.5\n"
     ]
    }
   ],
   "source": [
    "class Student:\n",
    "    def __init__(self, name):\n",
    "        self.name = name\n",
    "        self.scores = []\n",
    "    \n",
    "    def add_socre(self, score):\n",
    "        self.scores.append(score)\n",
    "    \n",
    "    def get_average(self):\n",
    "        if not self.scores:\n",
    "            return 0\n",
    "        return sum(self.scores) / len(self.scores)\n",
    "       \n",
    "# 테스트 코드\n",
    "s = Student('alice')\n",
    "s.add_socre(90)\n",
    "s.add_socre(95)\n",
    "print(s.get_average())\n"
   ]
  },
  {
   "cell_type": "code",
   "execution_count": null,
   "metadata": {},
   "outputs": [],
   "source": []
  }
 ],
 "metadata": {
  "kernelspec": {
   "display_name": "python (myenv)",
   "language": "python",
   "name": "myenv"
  },
  "language_info": {
   "codemirror_mode": {
    "name": "ipython",
    "version": 3
   },
   "file_extension": ".py",
   "mimetype": "text/x-python",
   "name": "python",
   "nbconvert_exporter": "python",
   "pygments_lexer": "ipython3",
   "version": "3.8.20"
  }
 },
 "nbformat": 4,
 "nbformat_minor": 2
}
