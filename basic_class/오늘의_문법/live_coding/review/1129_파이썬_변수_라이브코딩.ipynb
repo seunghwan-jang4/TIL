{
 "cells": [
  {
   "cell_type": "markdown",
   "metadata": {},
   "source": [
    "## 문제 1\n",
    "다음 코드의 출력 결과를 예측해보세요."
   ]
  },
  {
   "cell_type": "raw",
   "metadata": {
    "vscode": {
     "languageId": "raw"
    }
   },
   "source": [
    "x = 5\n",
    "y = x\n",
    "x = 10\n",
    "print(y)\n",
    "\n",
    "정답: 5"
   ]
  },
  {
   "cell_type": "code",
   "execution_count": 1,
   "metadata": {},
   "outputs": [
    {
     "name": "stdout",
     "output_type": "stream",
     "text": [
      "5\n"
     ]
    }
   ],
   "source": [
    "x = 5\n",
    "y = x\n",
    "x = 10\n",
    "print(y)"
   ]
  },
  {
   "cell_type": "markdown",
   "metadata": {},
   "source": [
    "## 문제 1-2\n",
    "변수 a, b, c에 각각 1, 2, 3을 한 줄의 코드로 동시에 할당하는 코드를 작성하세요."
   ]
  },
  {
   "cell_type": "code",
   "execution_count": 3,
   "metadata": {},
   "outputs": [
    {
     "name": "stdout",
     "output_type": "stream",
     "text": [
      "1 2 3\n"
     ]
    }
   ],
   "source": [
    "a, b, c = map(int, input().split())\n",
    "print(a, b, c)"
   ]
  },
  {
   "cell_type": "markdown",
   "metadata": {},
   "source": [
    "## 문제 2\n",
    "변수 a와 b에 각각 10과 20을 할당하고, 두 변수의 값을 서로 교환하는 코드를 작성하세요."
   ]
  },
  {
   "cell_type": "raw",
   "metadata": {
    "vscode": {
     "languageId": "raw"
    }
   },
   "source": [
    "출력 결과 : \n",
    "\n",
    "교환 후 a의 값: 20\n",
    "교환 후 b의 값: 10"
   ]
  },
  {
   "cell_type": "code",
   "execution_count": 6,
   "metadata": {},
   "outputs": [
    {
     "name": "stdout",
     "output_type": "stream",
     "text": [
      "교환 후 a의 값: 20\n",
      "교환 후 b의 값: 10\n"
     ]
    }
   ],
   "source": [
    "a = 10\n",
    "b = 20\n",
    "\n",
    "a, b = b, a\n",
    "\n",
    "print(f\"교환 후 a의 값: {a}\")\n",
    "print(f\"교환 후 b의 값: {b}\")"
   ]
  },
  {
   "cell_type": "markdown",
   "metadata": {},
   "source": [
    "## 문제 3\n",
    "다음 코드에서 변수 result의 데이터 타입은 무엇인지 예측해보세요"
   ]
  },
  {
   "cell_type": "raw",
   "metadata": {
    "vscode": {
     "languageId": "raw"
    }
   },
   "source": [
    "a = 10\n",
    "b = 3.5\n",
    "result = a + b\n",
    "\n",
    "정답: float"
   ]
  },
  {
   "cell_type": "code",
   "execution_count": 8,
   "metadata": {},
   "outputs": [
    {
     "name": "stdout",
     "output_type": "stream",
     "text": [
      "<class 'float'>\n"
     ]
    }
   ],
   "source": [
    "a = 10\n",
    "b = 3.5\n",
    "result = a + b\n",
    "\n",
    "print(type(result))"
   ]
  },
  {
   "cell_type": "markdown",
   "metadata": {},
   "source": [
    "## 문제 4\n",
    "변수 이름으로 사용할 수 없는 것을 모두 고르세요."
   ]
  },
  {
   "cell_type": "raw",
   "metadata": {
    "vscode": {
     "languageId": "raw"
    }
   },
   "source": [
    "1. my_var\n",
    "2. 1st_place\n",
    "3. total$\n",
    "4. _count\n",
    "5. for"
   ]
  },
  {
   "cell_type": "code",
   "execution_count": null,
   "metadata": {},
   "outputs": [],
   "source": [
    "# 정답: 2, 3, 5\n",
    "# 처음에 숫자가 나오거나, 특수 문자가 포함되거나, 지정된 서식자는 변수로 사용 불가능."
   ]
  },
  {
   "cell_type": "markdown",
   "metadata": {},
   "source": [
    "## 문제 5\n",
    "사용자로부터 두 개의 정수를 입력받아 변수 num1과 num2에 저장하고, 두 숫자의 곱셈과 나눗셈의 결과를 출력하는 코드를 작성하세요.\n",
    "* 고려 사항 : 두 변수의 계산 결과를 새로운 변수에 저장해야 한다!"
   ]
  },
  {
   "cell_type": "code",
   "execution_count": 12,
   "metadata": {},
   "outputs": [
    {
     "name": "stdout",
     "output_type": "stream",
     "text": [
      " 두 숫자의 곱셈: 50 두 숫자의 나눗셈: 2.0\n"
     ]
    }
   ],
   "source": [
    "num1, num2 = map(int, input('공백을 기준으로 입력하세요: ').split())\n",
    "product = num1*num2\n",
    "divide = num1/num2\n",
    "\n",
    "print(f\" 두 숫자의 곱셈: {product} 두 숫자의 나눗셈: {divide}\")"
   ]
  },
  {
   "cell_type": "markdown",
   "metadata": {},
   "source": [
    "## 문제 6\n",
    "다음 코드의 실행 결과를 예측해보세요."
   ]
  },
  {
   "cell_type": "raw",
   "metadata": {
    "vscode": {
     "languageId": "raw"
    }
   },
   "source": [
    "x = 5\n",
    "x += 3\n",
    "x *= 2\n",
    "print(x)\n",
    "\n",
    "정답: 16"
   ]
  },
  {
   "cell_type": "code",
   "execution_count": 13,
   "metadata": {},
   "outputs": [
    {
     "name": "stdout",
     "output_type": "stream",
     "text": [
      "16\n"
     ]
    }
   ],
   "source": [
    "x = 5\n",
    "x += 3\n",
    "x *= 2\n",
    "print(x)"
   ]
  },
  {
   "cell_type": "markdown",
   "metadata": {},
   "source": [
    "## 문제 7\n",
    "파이썬에서 변수 PI를 선언하여 원주율 3.14159를 저장하고, 반지름이 5인 원의 면적을 계산하여 출력하는 코드를 작성하세요. (원의 면적 = PI * r * r)"
   ]
  },
  {
   "cell_type": "code",
   "execution_count": 14,
   "metadata": {},
   "outputs": [
    {
     "name": "stdout",
     "output_type": "stream",
     "text": [
      "78.53975\n"
     ]
    }
   ],
   "source": [
    "pi = 3.14159\n",
    "r = 5\n",
    "result = pi * r * r \n",
    "\n",
    "print(result)"
   ]
  },
  {
   "cell_type": "markdown",
   "metadata": {},
   "source": [
    "## 문제 8\n",
    "다음 코드에서 변수 c의 값은 무엇인지 쓰세요."
   ]
  },
  {
   "cell_type": "raw",
   "metadata": {
    "vscode": {
     "languageId": "raw"
    }
   },
   "source": [
    "a = '3'\n",
    "b = 4\n",
    "c = a * b\n",
    "\n",
    "정답: 3333"
   ]
  },
  {
   "cell_type": "code",
   "execution_count": 16,
   "metadata": {},
   "outputs": [
    {
     "name": "stdout",
     "output_type": "stream",
     "text": [
      "3333\n"
     ]
    }
   ],
   "source": [
    "a = '3'\n",
    "b = 4\n",
    "c = a * b\n",
    "\n",
    "print(c)\n"
   ]
  },
  {
   "cell_type": "markdown",
   "metadata": {},
   "source": [
    "## 문제 9\n",
    "변수 x에 숫자 10을 저장하고, 변수 y에 문자열 '10'을 저장했습니다.  \n",
    "이 두 변수가 같은 값인지, 같은 데이터 타입인지 비교하는 코드를 작성하고 결과를 출력하세요."
   ]
  },
  {
   "cell_type": "code",
   "execution_count": 20,
   "metadata": {},
   "outputs": [
    {
     "name": "stdout",
     "output_type": "stream",
     "text": [
      "False\n",
      "<class 'int'>\n",
      "<class 'str'>\n"
     ]
    }
   ],
   "source": [
    "x = 10\n",
    "y = '10'\n",
    "\n",
    "print(x is y)\n",
    "print(type(x))\n",
    "print(type(y))"
   ]
  },
  {
   "cell_type": "markdown",
   "metadata": {},
   "source": [
    "## 문제 10\n",
    "전역 변수와 지역 변수 얼마나 알고 계신가요?"
   ]
  },
  {
   "cell_type": "markdown",
   "metadata": {
    "vscode": {
     "languageId": "raw"
    }
   },
   "source": [
    "아래의 코드에서 전역 변수와 지역 변수를 찾아보세요!"
   ]
  },
  {
   "cell_type": "raw",
   "metadata": {
    "vscode": {
     "languageId": "raw"
    }
   },
   "source": [
    "count = 0 # 전역변수\n",
    "\n",
    "def increment():\n",
    "    global count # 전역변수\n",
    "    count += 1 # 전역변수\n",
    "    \n",
    "def greet():\n",
    "    message = \"안녕하세요\" # 지역변수\n",
    "    print(message) \n",
    "\n",
    "greet() \n",
    "increment() #전역변수"
   ]
  },
  {
   "cell_type": "code",
   "execution_count": 27,
   "metadata": {},
   "outputs": [
    {
     "name": "stdout",
     "output_type": "stream",
     "text": [
      "안녕하세요\n",
      "1\n"
     ]
    }
   ],
   "source": [
    "# global을 사용, count = 0인 전역변수에 접근 가능하게 함.\n",
    "count = 0 # 전역변수\n",
    "\n",
    "def increment():\n",
    "    global count # 전역변수\n",
    "    count += 1 # 전역변수\n",
    "    \n",
    "def greet():\n",
    "    message = \"안녕하세요\" # 지역변수\n",
    "    print(message) \n",
    "\n",
    "greet() \n",
    "increment() #전역변수\n",
    "print(count)"
   ]
  },
  {
   "cell_type": "markdown",
   "metadata": {},
   "source": [
    "아래의 출력 결과를 생각해보세요"
   ]
  },
  {
   "cell_type": "raw",
   "metadata": {
    "vscode": {
     "languageId": "raw"
    }
   },
   "source": [
    "x = 'global x' \n",
    "\n",
    "def outer():\n",
    "    x = 'enclosed x' \n",
    "    def inner():\n",
    "        x = 'local x' \n",
    "        print(x)\n",
    "    inner()\n",
    "    print(x)\n",
    "\n",
    "outer()\n",
    "print(x) \n",
    "\n",
    "정답:\n",
    "local x\n",
    "enclosed x\n",
    "global x"
   ]
  },
  {
   "cell_type": "code",
   "execution_count": 21,
   "metadata": {},
   "outputs": [
    {
     "name": "stdout",
     "output_type": "stream",
     "text": [
      "local x\n",
      "enclosed x\n",
      "global x\n"
     ]
    }
   ],
   "source": [
    "x = 'global x' \n",
    "\n",
    "def outer():\n",
    "    x = 'enclosed x' \n",
    "    def inner():\n",
    "        x = 'local x' \n",
    "        print(x)\n",
    "    inner()\n",
    "    print(x)\n",
    "\n",
    "outer()\n",
    "print(x) "
   ]
  }
 ],
 "metadata": {
  "kernelspec": {
   "display_name": "python (myenv)",
   "language": "python",
   "name": "myenv"
  },
  "language_info": {
   "codemirror_mode": {
    "name": "ipython",
    "version": 3
   },
   "file_extension": ".py",
   "mimetype": "text/x-python",
   "name": "python",
   "nbconvert_exporter": "python",
   "pygments_lexer": "ipython3",
   "version": "3.8.20"
  }
 },
 "nbformat": 4,
 "nbformat_minor": 2
}
