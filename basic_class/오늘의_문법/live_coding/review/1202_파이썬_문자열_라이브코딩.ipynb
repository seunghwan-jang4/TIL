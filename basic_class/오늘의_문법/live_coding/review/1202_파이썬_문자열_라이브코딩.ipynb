{
 "cells": [
  {
   "cell_type": "markdown",
   "metadata": {},
   "source": [
    "# 기초"
   ]
  },
  {
   "cell_type": "markdown",
   "metadata": {},
   "source": [
    "## 문제 1\n",
    "주어진 문자열 s = \"abcdefghij\"에서 인덱스 2부터 5까지의 부분 문자열을 출력하세요."
   ]
  },
  {
   "cell_type": "code",
   "execution_count": null,
   "metadata": {},
   "outputs": [],
   "source": []
  },
  {
   "cell_type": "markdown",
   "metadata": {},
   "source": [
    "## 문제 2\n",
    "문자열 s = \"I love apples\"에서 \"apples\"를 \"bananas\"로 대체하여 출력하세요."
   ]
  },
  {
   "cell_type": "code",
   "execution_count": null,
   "metadata": {},
   "outputs": [],
   "source": []
  },
  {
   "cell_type": "markdown",
   "metadata": {},
   "source": [
    "## 문제 3\n",
    "문자열 s = \"Find the index of the first 'e' character\"에서 문자 'e'가 처음으로 등장하는 위치의 인덱스를 출력하세요."
   ]
  },
  {
   "cell_type": "code",
   "execution_count": null,
   "metadata": {},
   "outputs": [],
   "source": []
  },
  {
   "cell_type": "markdown",
   "metadata": {},
   "source": [
    "## 문제 4\n",
    "리스트 lst = ['Python', 'is', 'fun']를 하이픈(-)으로 구분된 하나의 문자열로 결합하여 출력하세요."
   ]
  },
  {
   "cell_type": "code",
   "execution_count": null,
   "metadata": {},
   "outputs": [],
   "source": []
  },
  {
   "cell_type": "markdown",
   "metadata": {},
   "source": [
    "## 문제 5\n",
    "문자열 s = \"1234567890\"에서 처음부터 3번째 문자까지와 마지막 3개의 문자를 연결하여 새로운 문자열을 출력하세요."
   ]
  },
  {
   "cell_type": "code",
   "execution_count": null,
   "metadata": {},
   "outputs": [],
   "source": []
  },
  {
   "cell_type": "markdown",
   "metadata": {},
   "source": [
    "## 문제 6\n",
    "문자열 s = \"Hello, World!\"에서 마지막 문자 '!'를 제외한 나머지 문자열을 출력하세요."
   ]
  },
  {
   "cell_type": "code",
   "execution_count": null,
   "metadata": {},
   "outputs": [],
   "source": []
  },
  {
   "cell_type": "markdown",
   "metadata": {},
   "source": [
    "# 실습"
   ]
  },
  {
   "cell_type": "markdown",
   "metadata": {},
   "source": [
    "## 문제 1\n",
    "주어진 문자열 s = \"Hello, World!\"에서 쉼표(,) 뒤의 문자열만 출력하세요."
   ]
  },
  {
   "cell_type": "code",
   "execution_count": null,
   "metadata": {},
   "outputs": [],
   "source": []
  },
  {
   "cell_type": "markdown",
   "metadata": {},
   "source": [
    "## 문제 2\n",
    "문자열 s = \"python programming\"에서 모든 단어의 첫 글자를 대문자로 변환하여 출력하세요."
   ]
  },
  {
   "cell_type": "code",
   "execution_count": null,
   "metadata": {},
   "outputs": [],
   "source": []
  },
  {
   "cell_type": "markdown",
   "metadata": {},
   "source": [
    "## 문제 3\n",
    "주어진 문자열 s = \"Python is fun\"에서 공백을 기준으로 단어들을 분리하여 리스트로 반환하세요."
   ]
  },
  {
   "cell_type": "code",
   "execution_count": null,
   "metadata": {},
   "outputs": [],
   "source": []
  },
  {
   "cell_type": "markdown",
   "metadata": {},
   "source": [
    "## 문제 4\n",
    "주어진 문자열 s = \"Data Science\"를 거꾸로 뒤집어서 출력하세요."
   ]
  },
  {
   "cell_type": "code",
   "execution_count": null,
   "metadata": {},
   "outputs": [],
   "source": []
  },
  {
   "cell_type": "markdown",
   "metadata": {},
   "source": [
    "## 문제 5\n",
    "문자열 s = \" OpenAI \"에서 양쪽 공백을 제거하고, 모든 문자를 대문자로 변환하여 출력하세요."
   ]
  },
  {
   "cell_type": "code",
   "execution_count": null,
   "metadata": {},
   "outputs": [],
   "source": []
  },
  {
   "cell_type": "markdown",
   "metadata": {},
   "source": [
    "## 문제 6\n",
    "사용자에게 이메일 주소를 입력받아, 아이디 부분과 도메인 부분을 분리하여 출력하세요."
   ]
  },
  {
   "cell_type": "raw",
   "metadata": {},
   "source": [
    "입력 : \n",
    "\n",
    "이메일 주소를 입력하세요 : spartacodingAI@naver.com"
   ]
  },
  {
   "cell_type": "raw",
   "metadata": {},
   "source": [
    "출력 : \n",
    "\n",
    "아이디 : spartacodingAI\n",
    "도메인 : naver.com"
   ]
  },
  {
   "cell_type": "code",
   "execution_count": null,
   "metadata": {},
   "outputs": [],
   "source": []
  },
  {
   "cell_type": "markdown",
   "metadata": {},
   "source": [
    "## 문제 7\n",
    "문자열 s = \"abcdefg\"에서 인덱스가 홀수인 문자들만 출력하세요."
   ]
  },
  {
   "cell_type": "code",
   "execution_count": null,
   "metadata": {},
   "outputs": [],
   "source": []
  },
  {
   "cell_type": "markdown",
   "metadata": {},
   "source": [
    "# 심화\n",
    "반복문, 조건문 등 사용"
   ]
  },
  {
   "cell_type": "markdown",
   "metadata": {},
   "source": [
    "## 문제 1\n",
    "문자열 s = \"The quick brown fox\"에서 모음('a', 'e', 'i', 'o', 'u')을 모두 제거한 새로운 문자열을 출력하세요."
   ]
  },
  {
   "cell_type": "code",
   "execution_count": null,
   "metadata": {},
   "outputs": [],
   "source": []
  },
  {
   "cell_type": "markdown",
   "metadata": {},
   "source": [
    "## 문제 2 (digit 함수 사용)\n",
    "주어진 문자열 s = \"Hello123World456\"에서 문자열에 포함된 모든 숫자들을 추출하여 리스트로 만드세요."
   ]
  },
  {
   "cell_type": "code",
   "execution_count": null,
   "metadata": {},
   "outputs": [],
   "source": []
  },
  {
   "cell_type": "markdown",
   "metadata": {},
   "source": [
    "## 문제 3 (끝판왕)\n",
    "주어진 문자열 s = \"aaabbbcccaaa\"에서 각 문자와 그 연속된 개수를 출력하여 \"a3b3c3a3\" 형태의 새로운 문자열을 만드세요."
   ]
  },
  {
   "cell_type": "code",
   "execution_count": null,
   "metadata": {},
   "outputs": [],
   "source": []
  }
 ],
 "metadata": {
  "language_info": {
   "name": "python"
  }
 },
 "nbformat": 4,
 "nbformat_minor": 2
}
