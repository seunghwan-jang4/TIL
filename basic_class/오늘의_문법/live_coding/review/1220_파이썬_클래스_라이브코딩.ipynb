{
 "cells": [
  {
   "cell_type": "markdown",
   "metadata": {},
   "source": [
    "## 문제 1\n",
    "문제: Person이라는 클래스를 정의하고, __init__ 메서드를 통해 name과 age 인스턴스 변수를 초기화하는 코드를 작성하세요.  \n",
    "그리고 introduce 메서드를 만들어 \"안녕하세요, 제 이름은 {name}이고, 나이는 {age}살입니다.\"를 출력하도록 하세요."
   ]
  },
  {
   "cell_type": "code",
   "execution_count": null,
   "metadata": {},
   "outputs": [],
   "source": []
  },
  {
   "cell_type": "markdown",
   "metadata": {},
   "source": [
    "## 문제 2\n",
    "문제: Rectangle 클래스를 정의하고, 가로(width)와 세로(height)를 속성으로 갖도록 하세요.  \n",
    "또한 면적을 반환하는 메서드 area()와 둘레 길이를 반환하는 메서드 perimeter()를 구현하세요."
   ]
  },
  {
   "cell_type": "code",
   "execution_count": null,
   "metadata": {},
   "outputs": [],
   "source": []
  },
  {
   "cell_type": "markdown",
   "metadata": {},
   "source": [
    "## 문제 3\n",
    "문제: BankAccount 클래스를 정의하고, owner(계좌주)와 balance(잔고) 인스턴스 변수를 갖도록 하세요.  \n",
    "deposit(amount) 메서드로 잔고를 추가하고, withdraw(amount) 메서드로 잔고를 인출합니다.  \n",
    "만약 인출액이 잔고보다 크면 \"잔고 부족\"이라는 메시지를 출력하도록 하세요."
   ]
  },
  {
   "cell_type": "code",
   "execution_count": null,
   "metadata": {},
   "outputs": [],
   "source": []
  },
  {
   "cell_type": "markdown",
   "metadata": {},
   "source": [
    "## 문제 4 (클래스 변수, 인스턴스 변수 비교)\n",
    "문제: Car 클래스를 정의하고, 클래스 변수 wheels를 4로 설정하세요. 각 인스턴스는 color 인스턴스 변수를 갖습니다.  \n",
    "describe() 메서드를 만들어 \"이 자동차는 {color} 색이고, 바퀴는 {wheels}개입니다.\" 를 출력하도록 하세요.  \n",
    "그리고 인스턴스 생성 후 describe() 메서드를 호출해보세요."
   ]
  },
  {
   "cell_type": "code",
   "execution_count": null,
   "metadata": {},
   "outputs": [],
   "source": []
  },
  {
   "cell_type": "markdown",
   "metadata": {},
   "source": [
    "## 문제 5 (상속, 메서드 오버라이딩)\n",
    "Animal이라는 클래스를 만들고, speak() 메서드에서 \"동물이 소리를 냅니다.\"를 출력하도록 하세요.  \n",
    "이를 상속받는 Dog 클래스를 만들고 speak() 메서드를 오버라이딩하여 \"멍멍\"을 출력하도록 하세요.  \n",
    "Dog 인스턴스를 생성하고 speak()를 호출해보세요. "
   ]
  },
  {
   "cell_type": "code",
   "execution_count": null,
   "metadata": {},
   "outputs": [],
   "source": []
  },
  {
   "cell_type": "markdown",
   "metadata": {},
   "source": [
    "## 문제 6\n",
    "문제: Student 클래스를 정의하고, name과 scores(점수 리스트)를 인스턴스 변수로 받으세요.  \n",
    "add_score(score) 메서드로 점수를 추가하고, get_average() 메서드로 평균을 반환하세요.  \n",
    "학생 객체를 생성하고 점수를 몇 개 추가한 뒤 평균을 출력해보세요."
   ]
  },
  {
   "cell_type": "code",
   "execution_count": null,
   "metadata": {},
   "outputs": [],
   "source": []
  }
 ],
 "metadata": {
  "language_info": {
   "name": "python"
  }
 },
 "nbformat": 4,
 "nbformat_minor": 2
}
