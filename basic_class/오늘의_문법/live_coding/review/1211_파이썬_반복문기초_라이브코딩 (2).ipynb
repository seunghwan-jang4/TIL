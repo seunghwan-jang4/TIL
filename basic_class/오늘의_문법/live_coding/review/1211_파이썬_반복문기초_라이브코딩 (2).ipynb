{
 "cells": [
  {
   "cell_type": "markdown",
   "metadata": {},
   "source": [
    "# 기초"
   ]
  },
  {
   "cell_type": "markdown",
   "metadata": {},
   "source": [
    "## 문제 1\n",
    "사용자로부터 양의 정수 n을 입력받아, 1부터 n까지의 숫자를 차례대로 출력하는 프로그램을 작성하세요."
   ]
  },
  {
   "cell_type": "code",
   "execution_count": null,
   "metadata": {},
   "outputs": [],
   "source": []
  },
  {
   "cell_type": "raw",
   "metadata": {
    "vscode": {
     "languageId": "raw"
    }
   },
   "source": [
    "테스트 입력값\n",
    "\n",
    "입력: 5\n",
    "출력\n",
    "1\n",
    "2\n",
    "3\n",
    "4\n",
    "5\n",
    "\n",
    "입력: 10\n",
    "출력\n",
    "1\n",
    "2\n",
    "3\n",
    "4\n",
    "5\n",
    "6\n",
    "7\n",
    "8\n",
    "9\n",
    "10"
   ]
  },
  {
   "cell_type": "markdown",
   "metadata": {},
   "source": [
    "### 문제 1-2\n",
    "사용자로부터 정수 n을 입력받아, n부터 1까지 역순으로 출력하는 프로그램을 작성하세요."
   ]
  },
  {
   "cell_type": "code",
   "execution_count": null,
   "metadata": {},
   "outputs": [],
   "source": []
  },
  {
   "cell_type": "raw",
   "metadata": {
    "vscode": {
     "languageId": "raw"
    }
   },
   "source": [
    "테스트 입력값\n",
    "\n",
    "입력: 5\n",
    "출력\n",
    "5\n",
    "4\n",
    "3\n",
    "2\n",
    "1\n",
    "\n",
    "입력: 3\n",
    "출력\n",
    "3\n",
    "2\n",
    "1"
   ]
  },
  {
   "cell_type": "markdown",
   "metadata": {},
   "source": [
    "## 문제 2\n",
    "사용자로부터 양의 정수 n을 입력받아, 1부터 n까지의 합을 구하여 출력하는 프로그램을 작성하세요."
   ]
  },
  {
   "cell_type": "code",
   "execution_count": null,
   "metadata": {},
   "outputs": [],
   "source": []
  },
  {
   "cell_type": "raw",
   "metadata": {
    "vscode": {
     "languageId": "raw"
    }
   },
   "source": [
    "테스트 입력값\n",
    "\n",
    "입력 : 5\n",
    "출력 : 1부터 5까지의 합은 15\n",
    "\n",
    "입력 : 10\n",
    "출력 : 1부터 10까지의 합은 55"
   ]
  },
  {
   "cell_type": "markdown",
   "metadata": {},
   "source": [
    "## 문제 3\n",
    "1부터 100까지 숫자 중 3의 배수만 출력하는 프로그램을 작성하세요."
   ]
  },
  {
   "cell_type": "code",
   "execution_count": null,
   "metadata": {},
   "outputs": [],
   "source": []
  },
  {
   "cell_type": "markdown",
   "metadata": {},
   "source": [
    "테스트 입력값\n",
    "\n",
    "출력\n",
    "3\n",
    "6\n",
    "9\n",
    "....\n",
    "....\n",
    "99"
   ]
  },
  {
   "cell_type": "markdown",
   "metadata": {},
   "source": [
    "## 문제 4\n",
    "사용자로부터 정수 n을 입력받아, n의 약수를 모두 출력하는 프로그램을 작성하세요."
   ]
  },
  {
   "cell_type": "code",
   "execution_count": null,
   "metadata": {},
   "outputs": [],
   "source": []
  },
  {
   "cell_type": "raw",
   "metadata": {
    "vscode": {
     "languageId": "raw"
    }
   },
   "source": [
    "테스트 입력값\n",
    "\n",
    "입력: 12 → 출력 : 1 2 3 4 6 12\n",
    "\n",
    "입력: 7 → 출력 : 1 7"
   ]
  },
  {
   "cell_type": "markdown",
   "metadata": {},
   "source": [
    "## 문제 5\n",
    "사용자로부터 숫자를 계속해서 입력받아 합계를 구하는 프로그램을 작성하되, 사용자가 0을 입력하면 반복을 종료하고 합계를 출력하세요."
   ]
  },
  {
   "cell_type": "code",
   "execution_count": null,
   "metadata": {},
   "outputs": [],
   "source": []
  },
  {
   "cell_type": "raw",
   "metadata": {
    "vscode": {
     "languageId": "raw"
    }
   },
   "source": [
    "테스트 입력값\n",
    "\n",
    "입력 : 5 → 10 → 3 → 0 종료\n",
    "출력 : 18\n",
    "\n",
    "입력: 1 → 1 → 1 → 1 → 0 종료\n",
    "출력 : 4"
   ]
  },
  {
   "cell_type": "markdown",
   "metadata": {
    "vscode": {
     "languageId": "raw"
    }
   },
   "source": [
    "## 문제 6\n",
    "사용자로부터 정수 n을 입력받아, 다음과 같이 숫자 피라미드를 출력하는 프로그램을 작성하세요."
   ]
  },
  {
   "cell_type": "raw",
   "metadata": {
    "vscode": {
     "languageId": "raw"
    }
   },
   "source": [
    "n = 4 일 때,\n",
    "\n",
    "1\n",
    "22\n",
    "333\n",
    "4444"
   ]
  },
  {
   "cell_type": "code",
   "execution_count": null,
   "metadata": {},
   "outputs": [],
   "source": []
  },
  {
   "cell_type": "raw",
   "metadata": {
    "vscode": {
     "languageId": "raw"
    }
   },
   "source": [
    "테스트 입력값\n",
    "\n",
    "입력 : 5\n",
    "출력\n",
    "1\n",
    "22\n",
    "333\n",
    "4444\n",
    "55555\n",
    "\n",
    "입력 : 6\n",
    "출력\n",
    "1\n",
    "22\n",
    "333\n",
    "4444\n",
    "55555\n",
    "666666"
   ]
  },
  {
   "cell_type": "markdown",
   "metadata": {},
   "source": [
    "## 문제 7\n",
    "1부터 100 사이의 임의의 정답 숫자를 정해놓고, 사용자가 숫자를 추측하도록 합니다.  \n",
    "사용자가 입력한 숫자가 정답보다 크면 \"너무 큽니다.\", 작으면 \"너무 작습니다.\"를 출력하고, 정답을 맞추면 \"정답입니다!\"를 출력한 뒤 반복을 종료하세요.  \n",
    "(정답은 코드 내에 직접 지정하거나 난수로 고정)"
   ]
  },
  {
   "cell_type": "code",
   "execution_count": null,
   "metadata": {},
   "outputs": [],
   "source": []
  },
  {
   "cell_type": "raw",
   "metadata": {
    "vscode": {
     "languageId": "raw"
    }
   },
   "source": [
    "테스트 입력값\n",
    "\n",
    "입력: 50 → \"너무 큽니다.\"\n",
    "입력: 30 → \"너무 작습니다.\"\n",
    "입력: 42 → \"정답입니다!\""
   ]
  },
  {
   "cell_type": "markdown",
   "metadata": {},
   "source": [
    "## 문제 8\n",
    "2차원 형태의 반복문을 사용하여 구구단(2단~9단)을 다음과 같이 출력하세요."
   ]
  },
  {
   "cell_type": "code",
   "execution_count": null,
   "metadata": {},
   "outputs": [],
   "source": []
  },
  {
   "cell_type": "raw",
   "metadata": {
    "vscode": {
     "languageId": "raw"
    }
   },
   "source": [
    "테스트 입력값\n",
    "\n",
    "예:\n",
    "2 x 1 = 2\n",
    "2 x 2 = 4\n",
    "...\n",
    "3 x 1 = 3\n",
    "3 x 2 = 6\n",
    "...\n",
    "9 x 8 = 72\n",
    "9 x 9 = 81"
   ]
  },
  {
   "cell_type": "markdown",
   "metadata": {},
   "source": [
    "## 문제 9\n",
    "사용자로부터 정수를 입력받아, 해당 정수의 각 자릿수의 합을 구하는 프로그램을 작성하세요.  \n",
    "예: 1234 → 1+2+3+4=10"
   ]
  },
  {
   "cell_type": "code",
   "execution_count": null,
   "metadata": {},
   "outputs": [],
   "source": []
  },
  {
   "cell_type": "raw",
   "metadata": {
    "vscode": {
     "languageId": "raw"
    }
   },
   "source": [
    "테스트 입력값:\n",
    "\n",
    "입력 : 1234\n",
    "결과 : 10\n",
    "\n",
    "입력 : 999\n",
    "결과 : 27"
   ]
  }
 ],
 "metadata": {
  "language_info": {
   "name": "python"
  }
 },
 "nbformat": 4,
 "nbformat_minor": 2
}
