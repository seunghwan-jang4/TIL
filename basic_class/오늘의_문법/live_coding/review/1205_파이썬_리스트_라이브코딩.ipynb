{
 "cells": [
  {
   "cell_type": "markdown",
   "metadata": {},
   "source": [
    "# 복습(입출력, 변수, 문자열)"
   ]
  },
  {
   "cell_type": "markdown",
   "metadata": {},
   "source": [
    "## 문제 1\n",
    "사용자로부터 이름과 나이를 입력받아 다음과 같은 형식으로 출력하는 프로그램을 작성하세요. (여기서 이름의 type은 str, 나이의 타입은 int 여야 합니다.)"
   ]
  },
  {
   "cell_type": "raw",
   "metadata": {
    "vscode": {
     "languageId": "raw"
    }
   },
   "source": [
    "입력 : \n",
    "\n",
    "이름을 입력하세요 : 홍길동\n",
    "나이를 입력하세요 : 30 \n",
    "\n",
    "\n",
    "출력 : \n",
    "\n",
    "이름은 홍길동입니다.\n",
    "나이는 30살입니다."
   ]
  },
  {
   "cell_type": "code",
   "execution_count": 1,
   "metadata": {},
   "outputs": [
    {
     "name": "stdout",
     "output_type": "stream",
     "text": [
      "이름을 입력하세요: 홍길동\n",
      "나이를 입력하세요: 30\n"
     ]
    }
   ],
   "source": [
    "name = str(input().strip())\n",
    "age = int(input())\n",
    "\n",
    "print(f\"이름을 입력하세요: {name}\\n나이를 입력하세요: {age}\")"
   ]
  },
  {
   "cell_type": "markdown",
   "metadata": {},
   "source": [
    "## 문제 2\n",
    "문자열 변수 s = \"Hello, World!\"가 있습니다. 이 문자열에서 World만을 추출하여 출력하는 코드를 작성하세요. (슬라이싱 이용)"
   ]
  },
  {
   "cell_type": "code",
   "execution_count": 8,
   "metadata": {},
   "outputs": [
    {
     "data": {
      "text/plain": [
       "'World'"
      ]
     },
     "execution_count": 8,
     "metadata": {},
     "output_type": "execute_result"
    }
   ],
   "source": [
    "s = \"Hello, World!\"\n",
    "s[-6:-1]"
   ]
  },
  {
   "cell_type": "markdown",
   "metadata": {},
   "source": [
    "## 문제 3\n",
    "사용자로부터 두 개의 숫자를 입력받아, 두 숫자의 합과 곱을 다음과 같은 형식으로 출력하는 프로그램을 작성하세요."
   ]
  },
  {
   "cell_type": "raw",
   "metadata": {},
   "source": [
    "입력 : \n",
    "\n",
    "두 수를 입력하세요 : 10 30\n",
    "\n",
    "\n",
    "출력 : \n",
    "\n",
    "두 숫자의 합은 40입니다.\n",
    "두 숫자의 곱은 300입니다."
   ]
  },
  {
   "cell_type": "code",
   "execution_count": 11,
   "metadata": {},
   "outputs": [
    {
     "name": "stdout",
     "output_type": "stream",
     "text": [
      "두 숫자의 합은 40입니다.\n",
      "두 숫자의 곱은300입니다. \n"
     ]
    }
   ],
   "source": [
    "num1, num2 = map(int, input('두 수를 입력하세요: ').split())\n",
    "print(f\"두 숫자의 합은 {num1 + num2}입니다.\\n두 숫자의 곱은{num1 * num2}입니다. \")\n"
   ]
  },
  {
   "cell_type": "markdown",
   "metadata": {},
   "source": [
    "## 문제 4\n",
    "문자열 s = \"Python Programming\"이 있습니다.  \n",
    "이 문자열을 공백을 기준으로 분리하여 두 개의 단어로 나누고, 각 단어를 서로 교환하여 다음과 같이 출력하는 프로그램을 작성하세요."
   ]
  },
  {
   "cell_type": "raw",
   "metadata": {
    "vscode": {
     "languageId": "raw"
    }
   },
   "source": [
    "출력 : \n",
    "\n",
    "Programming Python"
   ]
  },
  {
   "cell_type": "code",
   "execution_count": 16,
   "metadata": {},
   "outputs": [
    {
     "name": "stdout",
     "output_type": "stream",
     "text": [
      "Python Programming\n"
     ]
    }
   ],
   "source": [
    "s = 'Python Programming'\n",
    "new = s.split()\n",
    "print(new[0], new[1])\n"
   ]
  },
  {
   "cell_type": "markdown",
   "metadata": {},
   "source": [
    "## 문제 5\n",
    "사용자로부터 문자열을 입력받아, 해당 문자열의 역문자열을 출력하세요"
   ]
  },
  {
   "cell_type": "raw",
   "metadata": {
    "vscode": {
     "languageId": "raw"
    }
   },
   "source": [
    "입력 : \n",
    "\n",
    "문자열을 입력하세요 : apple\n",
    "\n",
    "출력 :\n",
    "\n",
    "apple의 역문자열은 elppa입니다."
   ]
  },
  {
   "cell_type": "code",
   "execution_count": 17,
   "metadata": {},
   "outputs": [
    {
     "name": "stdout",
     "output_type": "stream",
     "text": [
      "apple의 역문자열은elppa입니다.\n"
     ]
    }
   ],
   "source": [
    "str = str(input('문자열을 입력하세요: ').strip())\n",
    "\n",
    "print(f\"{str}의 역문자열은{str[::-1]}입니다.\")"
   ]
  },
  {
   "cell_type": "markdown",
   "metadata": {},
   "source": [
    "# 기초"
   ]
  },
  {
   "cell_type": "markdown",
   "metadata": {},
   "source": [
    "## 문제 1\n",
    "다음 코드의 출력 결과는 무엇인가요?"
   ]
  },
  {
   "cell_type": "raw",
   "metadata": {
    "vscode": {
     "languageId": "raw"
    }
   },
   "source": [
    "fruits = ['apple', 'banana', 'cherry', 'date']\n",
    "print(fruits[1], fruits[3])\n",
    "\n",
    "print(len(fruits))\n",
    "\n",
    "print(fruits[2], fruits[4])\n",
    "\n",
    "정답: banana date\n",
    "4\n",
    "오류"
   ]
  },
  {
   "cell_type": "code",
   "execution_count": 18,
   "metadata": {},
   "outputs": [
    {
     "name": "stdout",
     "output_type": "stream",
     "text": [
      "banana date\n",
      "4\n"
     ]
    },
    {
     "ename": "IndexError",
     "evalue": "list index out of range",
     "output_type": "error",
     "traceback": [
      "\u001b[1;31m---------------------------------------------------------------------------\u001b[0m",
      "\u001b[1;31mIndexError\u001b[0m                                Traceback (most recent call last)",
      "Cell \u001b[1;32mIn[18], line 6\u001b[0m\n\u001b[0;32m      2\u001b[0m \u001b[38;5;28mprint\u001b[39m(fruits[\u001b[38;5;241m1\u001b[39m], fruits[\u001b[38;5;241m3\u001b[39m])\n\u001b[0;32m      4\u001b[0m \u001b[38;5;28mprint\u001b[39m(\u001b[38;5;28mlen\u001b[39m(fruits))\n\u001b[1;32m----> 6\u001b[0m \u001b[38;5;28mprint\u001b[39m(fruits[\u001b[38;5;241m2\u001b[39m], \u001b[43mfruits\u001b[49m\u001b[43m[\u001b[49m\u001b[38;5;241;43m4\u001b[39;49m\u001b[43m]\u001b[49m)\n",
      "\u001b[1;31mIndexError\u001b[0m: list index out of range"
     ]
    }
   ],
   "source": [
    "fruits = ['apple', 'banana', 'cherry', 'date']\n",
    "print(fruits[1], fruits[3])\n",
    "\n",
    "print(len(fruits))\n",
    "\n",
    "print(fruits[2], fruits[4])"
   ]
  },
  {
   "cell_type": "markdown",
   "metadata": {},
   "source": [
    "## 문제 2\n",
    "다음 코드의 출력 결과는 무엇인가요?"
   ]
  },
  {
   "cell_type": "raw",
   "metadata": {
    "vscode": {
     "languageId": "raw"
    }
   },
   "source": [
    "my_list = [0, 1, 2, 3, 4, 5, 6]\n",
    "print(my_list[2:5])\n",
    "\n",
    "정답: [2, 3, 4]"
   ]
  },
  {
   "cell_type": "markdown",
   "metadata": {},
   "source": [
    "start:end:step -> start(포함), end(해당 인덱스 미포함)"
   ]
  },
  {
   "cell_type": "code",
   "execution_count": 1,
   "metadata": {},
   "outputs": [
    {
     "name": "stdout",
     "output_type": "stream",
     "text": [
      "[2, 3, 4]\n"
     ]
    }
   ],
   "source": [
    "my_list = [0, 1, 2, 3, 4, 5, 6]\n",
    "print(my_list[2:5])"
   ]
  },
  {
   "cell_type": "markdown",
   "metadata": {},
   "source": [
    "## 문제 3\n",
    "리스트 fruits = ['apple', 'banana', 'cherry']가 있습니다.  \n",
    "이 리스트에 'date'를 추가하여 ['apple', 'banana', 'cherry', 'date']로 만드세요. 리스트 메서드 중 적절한 것을 사용하세요."
   ]
  },
  {
   "cell_type": "code",
   "execution_count": 4,
   "metadata": {},
   "outputs": [
    {
     "name": "stdout",
     "output_type": "stream",
     "text": [
      "['apple', 'banana', 'cherry', 'date']\n"
     ]
    }
   ],
   "source": [
    "fruits = ['apple', 'banana', 'cherry']\n",
    "fruits.append('date')\n",
    "print(fruits)"
   ]
  },
  {
   "cell_type": "markdown",
   "metadata": {},
   "source": [
    "### 문제 3-1\n",
    "리스트 fruits = ['apple', 'banana', 'cherry', 'date'] 에서 2번 인덱스 자리에 'watermelon'을 추가하는 코드를 작성하세요"
   ]
  },
  {
   "cell_type": "code",
   "execution_count": 6,
   "metadata": {},
   "outputs": [
    {
     "name": "stdout",
     "output_type": "stream",
     "text": [
      "['apple', 'banana', 'watermelon', 'date']\n"
     ]
    }
   ],
   "source": [
    "# 2번 인덱스에 교체.\n",
    "fruits = ['apple', 'banana', 'cherry', 'date']\n",
    "fruits[2] = 'watermelon'\n",
    "print(fruits)\n",
    "\n",
    "# 2번 인덱스에 추가.\n",
    "fruits = ['apple', 'banana', 'cherry', 'date']\n",
    "fruits[2] = 'watermelon'\n",
    "print(fruits)"
   ]
  },
  {
   "cell_type": "markdown",
   "metadata": {},
   "source": [
    "### 문제 3-2\n",
    "다음 코드의 출력 결과는 무엇인가요?"
   ]
  },
  {
   "cell_type": "raw",
   "metadata": {
    "vscode": {
     "languageId": "raw"
    }
   },
   "source": [
    "fruits = [['apple', 'banana', 'cherry', 'watermelon', 'date']]\n",
    "new_fruits = ['melon', 'blueberry']\n",
    "fruits.extend(new_fruits)\n",
    "print(fruits)\n",
    "\n",
    "정답: [['apple', 'banana', 'cherry', 'watermelon', 'date', 'melon', 'blueberry']]"
   ]
  },
  {
   "cell_type": "code",
   "execution_count": 7,
   "metadata": {},
   "outputs": [
    {
     "name": "stdout",
     "output_type": "stream",
     "text": [
      "[['apple', 'banana', 'cherry', 'watermelon', 'date'], 'melon', 'blueberry']\n"
     ]
    }
   ],
   "source": [
    "fruits = [['apple', 'banana', 'cherry', 'watermelon', 'date']]\n",
    "new_fruits = ['melon', 'blueberry']\n",
    "fruits.extend(new_fruits)\n",
    "print(fruits)\n"
   ]
  },
  {
   "cell_type": "markdown",
   "metadata": {},
   "source": [
    "### 문제 3-3\n",
    "리스트 fruits = ['apple', 'banana', 'cherry', 'watermelon', 'date'] 에서 'cherry'를 제거하고 fruits를 출력하세요"
   ]
  },
  {
   "cell_type": "code",
   "execution_count": 9,
   "metadata": {},
   "outputs": [
    {
     "name": "stdout",
     "output_type": "stream",
     "text": [
      "['apple', 'banana', 'watermelon', 'date']\n"
     ]
    }
   ],
   "source": [
    "fruits = ['apple', 'banana', 'cherry', 'watermelon', 'date']\n",
    "fruits.remove('cherry')\n",
    "print(fruits)"
   ]
  },
  {
   "cell_type": "markdown",
   "metadata": {},
   "source": [
    "## 문제 4\n",
    "다음 코드의 출력 결과는 무엇인가요?"
   ]
  },
  {
   "cell_type": "raw",
   "metadata": {
    "vscode": {
     "languageId": "raw"
    }
   },
   "source": [
    "my_list = ['a', 'b', 'c', 'd', 'e']\n",
    "print(my_list[::-1])\n",
    "\n",
    "정답: ['e', 'd', 'c', 'b', 'a']"
   ]
  },
  {
   "cell_type": "code",
   "execution_count": null,
   "metadata": {},
   "outputs": [],
   "source": [
    "my_list = ['a', 'b', 'c', 'd', 'e']\n",
    "print(my_list[::-1])"
   ]
  },
  {
   "cell_type": "markdown",
   "metadata": {},
   "source": [
    "## 문제 5\n",
    "다음 코드의 출력 결과는 무엇인가요?"
   ]
  },
  {
   "cell_type": "raw",
   "metadata": {
    "vscode": {
     "languageId": "raw"
    }
   },
   "source": [
    "list1 = [1, 2, 3]\n",
    "list2 = [4, 5]\n",
    "print(list1+list2*2)\n",
    "\n",
    "정답: [1, 2, 3, 4, 5, 4, 5]"
   ]
  },
  {
   "cell_type": "code",
   "execution_count": 10,
   "metadata": {},
   "outputs": [
    {
     "name": "stdout",
     "output_type": "stream",
     "text": [
      "[1, 2, 3, 4, 5, 4, 5]\n"
     ]
    }
   ],
   "source": [
    "list1 = [1, 2, 3]\n",
    "list2 = [4, 5]\n",
    "print(list1+list2*2)"
   ]
  },
  {
   "cell_type": "markdown",
   "metadata": {},
   "source": [
    "## 문제 6\n",
    "다음 코드의 출력 결과는 무엇인가요?"
   ]
  },
  {
   "cell_type": "raw",
   "metadata": {
    "vscode": {
     "languageId": "raw"
    }
   },
   "source": [
    "my_list = [0, 1, 2, 3, 4, 5]\n",
    "print(my_list[5:1:-1])\n",
    "\n",
    "정답: [5, 4, 3, 2]"
   ]
  },
  {
   "cell_type": "code",
   "execution_count": 11,
   "metadata": {},
   "outputs": [
    {
     "name": "stdout",
     "output_type": "stream",
     "text": [
      "[5, 4, 3, 2]\n"
     ]
    }
   ],
   "source": [
    "my_list = [0, 1, 2, 3, 4, 5]\n",
    "print(my_list[5:1:-1])"
   ]
  },
  {
   "cell_type": "markdown",
   "metadata": {},
   "source": [
    "## 문제 7\n",
    "리스트 numbers = [1, 3, 3, 1, 7, 2, 9, 3, 5, 7] 에서 처음으로 7의 값이 나오는 인덱스를 출력하세요. (단순 인덱스 출력 X)"
   ]
  },
  {
   "cell_type": "code",
   "execution_count": 12,
   "metadata": {},
   "outputs": [
    {
     "data": {
      "text/plain": [
       "4"
      ]
     },
     "execution_count": 12,
     "metadata": {},
     "output_type": "execute_result"
    }
   ],
   "source": [
    "numbers = [1, 3, 3, 1, 7, 2, 9, 3, 5, 7]\n",
    "numbers.index(7)"
   ]
  },
  {
   "cell_type": "markdown",
   "metadata": {},
   "source": [
    "### 문제 7-1\n",
    "위 numbers 리스트에서 3라는 값의 개수를 출력하세요."
   ]
  },
  {
   "cell_type": "code",
   "execution_count": 13,
   "metadata": {},
   "outputs": [
    {
     "data": {
      "text/plain": [
       "3"
      ]
     },
     "execution_count": 13,
     "metadata": {},
     "output_type": "execute_result"
    }
   ],
   "source": [
    "numbers = [1, 3, 3, 1, 7, 2, 9, 3, 5, 7]\n",
    "numbers.count(3)"
   ]
  },
  {
   "cell_type": "markdown",
   "metadata": {},
   "source": [
    "# 실습"
   ]
  },
  {
   "cell_type": "markdown",
   "metadata": {},
   "source": [
    "## 문제 1\n",
    "다음 코드의 출력 결과는 무엇인가요?"
   ]
  },
  {
   "cell_type": "raw",
   "metadata": {
    "vscode": {
     "languageId": "raw"
    }
   },
   "source": [
    "numbers = [1, 2, 3, 4, 5]\n",
    "numbers[1:4] = [9, 9, 9]\n",
    "print(numbers)\n",
    "\n",
    "정답: [1, 9, 9, 9, 5]"
   ]
  },
  {
   "cell_type": "code",
   "execution_count": 14,
   "metadata": {},
   "outputs": [
    {
     "name": "stdout",
     "output_type": "stream",
     "text": [
      "[1, 9, 9, 9, 5]\n"
     ]
    }
   ],
   "source": [
    "numbers = [1, 2, 3, 4, 5]\n",
    "numbers[1:4] = [9, 9, 9]\n",
    "print(numbers)"
   ]
  },
  {
   "cell_type": "markdown",
   "metadata": {},
   "source": [
    "## 문제 2\n",
    "문자열 \"hello\"를 리스트 ['h', 'e', 'l', 'l', 'o']로 변환하는 코드를 작성하세요."
   ]
  },
  {
   "cell_type": "code",
   "execution_count": 15,
   "metadata": {},
   "outputs": [
    {
     "name": "stdout",
     "output_type": "stream",
     "text": [
      "['h', 'e', 'l', 'l', 'o']\n"
     ]
    }
   ],
   "source": [
    "str = 'hello'\n",
    "print(list(str))"
   ]
  },
  {
   "cell_type": "markdown",
   "metadata": {},
   "source": [
    "## 문제 3\n",
    "다음 리스트에서 numbers = [3, 1, 4, 1, 5, 9, 2, 6, 5] 오름차순으로 정렬하시오"
   ]
  },
  {
   "cell_type": "code",
   "execution_count": 16,
   "metadata": {},
   "outputs": [
    {
     "name": "stdout",
     "output_type": "stream",
     "text": [
      "[1, 1, 2, 3, 4, 5, 5, 6, 9]\n"
     ]
    }
   ],
   "source": [
    "numbers = [3, 1, 4, 1, 5, 9, 2, 6, 5]\n",
    "print(sorted(numbers))"
   ]
  },
  {
   "cell_type": "markdown",
   "metadata": {},
   "source": [
    "### 문제 3-1\n",
    "내림차순으로 정렬하시오"
   ]
  },
  {
   "cell_type": "code",
   "execution_count": 17,
   "metadata": {},
   "outputs": [
    {
     "name": "stdout",
     "output_type": "stream",
     "text": [
      "[9, 6, 5, 5, 4, 3, 2, 1, 1]\n"
     ]
    }
   ],
   "source": [
    "numbers = [3, 1, 4, 1, 5, 9, 2, 6, 5]\n",
    "print(sorted(numbers, reverse=True))"
   ]
  },
  {
   "cell_type": "markdown",
   "metadata": {},
   "source": [
    "## 문제 4\n",
    "리스트 a = [1, 2, 3]가 있습니다. 이 리스트를 얕은 복사가 아닌 완전한 복사(깊은 복사)하여 b에 저장하고 싶습니다. 어떻게 해야 하나요?"
   ]
  },
  {
   "cell_type": "code",
   "execution_count": 19,
   "metadata": {},
   "outputs": [
    {
     "name": "stdout",
     "output_type": "stream",
     "text": [
      "[1, 2, 3]\n"
     ]
    }
   ],
   "source": [
    "a = [1, 2, 3]\n",
    "b = a\n",
    "\n",
    "print(b)"
   ]
  },
  {
   "cell_type": "markdown",
   "metadata": {},
   "source": [
    "## 문제 5\n",
    "다음 코드의 실행 결과는 무엇인가요?"
   ]
  },
  {
   "cell_type": "raw",
   "metadata": {
    "vscode": {
     "languageId": "raw"
    }
   },
   "source": [
    "a = [1, 2, 3]\n",
    "b = a\n",
    "a.append(4)\n",
    "print(b)\n",
    "\n",
    "정답: [1, 2, 3, 4]"
   ]
  },
  {
   "cell_type": "code",
   "execution_count": 20,
   "metadata": {},
   "outputs": [
    {
     "name": "stdout",
     "output_type": "stream",
     "text": [
      "[1, 2, 3, 4]\n"
     ]
    }
   ],
   "source": [
    "a = [1, 2, 3]\n",
    "b = a\n",
    "a.append(4)\n",
    "print(b)\n"
   ]
  },
  {
   "cell_type": "markdown",
   "metadata": {},
   "source": [
    "# 심화\n",
    "리스트 컴프리헨션, 반복문, 조건문 사용"
   ]
  },
  {
   "cell_type": "markdown",
   "metadata": {},
   "source": [
    "## 문제 1\n",
    "리스트 numbers = [1, 2, 3, 4, 5]가 있습니다. 이 리스트의 모든 요소를 제곱한 새로운 리스트 squared_numbers 출력하세요"
   ]
  },
  {
   "cell_type": "code",
   "execution_count": 21,
   "metadata": {},
   "outputs": [
    {
     "data": {
      "text/plain": [
       "[1, 4, 9, 16, 25]"
      ]
     },
     "execution_count": 21,
     "metadata": {},
     "output_type": "execute_result"
    }
   ],
   "source": [
    "numbers = [1, 2, 3, 4, 5]\n",
    "[x**2 for x in numbers]"
   ]
  },
  {
   "cell_type": "code",
   "execution_count": null,
   "metadata": {},
   "outputs": [],
   "source": []
  },
  {
   "cell_type": "markdown",
   "metadata": {},
   "source": [
    "## 문제 2\n",
    "리스트 numbers = [1, 2, 3, 4, 5, 6]에서 짝수만을 포함하는 새로운 리스트를 출력하세요"
   ]
  },
  {
   "cell_type": "code",
   "execution_count": null,
   "metadata": {},
   "outputs": [],
   "source": [
    "numbers = [1, 2, 3, 4, 5]\n",
    "[x**2 for x in numbers]"
   ]
  },
  {
   "cell_type": "code",
   "execution_count": null,
   "metadata": {},
   "outputs": [],
   "source": []
  },
  {
   "cell_type": "markdown",
   "metadata": {},
   "source": [
    "## 문제 3\n",
    "2차원 리스트 matrix = [[1, 2], [3, 4], [5, 6]]에서 각 요소를 모두 더한 합계를 계산하세요."
   ]
  },
  {
   "cell_type": "code",
   "execution_count": 22,
   "metadata": {},
   "outputs": [
    {
     "name": "stdout",
     "output_type": "stream",
     "text": [
      "21\n"
     ]
    }
   ],
   "source": [
    "matrix = [[1, 2], [3, 4], [5, 6]]\n",
    "result = sum([r for x in matrix for r in x])\n",
    "print(result)"
   ]
  },
  {
   "cell_type": "code",
   "execution_count": null,
   "metadata": {},
   "outputs": [],
   "source": []
  },
  {
   "cell_type": "markdown",
   "metadata": {},
   "source": [
    "## 문제 4 - set 함수 사용\n",
    "다음 리스트에서 중복된 요소를 제거하고, 오름차순으로 정렬된 새로운 리스트를 만드세요: numbers = [3, 1, 4, 1, 5, 9, 2, 6, 5]"
   ]
  },
  {
   "cell_type": "code",
   "execution_count": 23,
   "metadata": {},
   "outputs": [
    {
     "name": "stdout",
     "output_type": "stream",
     "text": [
      "[1, 2, 3, 4, 5, 6, 9]\n"
     ]
    }
   ],
   "source": [
    "numbers = [3, 1, 4, 1, 5, 9, 2, 6, 5]\n",
    "\n",
    "print(sorted(list(set(numbers))))"
   ]
  },
  {
   "cell_type": "code",
   "execution_count": null,
   "metadata": {},
   "outputs": [],
   "source": []
  }
 ],
 "metadata": {
  "kernelspec": {
   "display_name": "python (myenv)",
   "language": "python",
   "name": "myenv"
  },
  "language_info": {
   "codemirror_mode": {
    "name": "ipython",
    "version": 3
   },
   "file_extension": ".py",
   "mimetype": "text/x-python",
   "name": "python",
   "nbconvert_exporter": "python",
   "pygments_lexer": "ipython3",
   "version": "3.8.20"
  }
 },
 "nbformat": 4,
 "nbformat_minor": 2
}
