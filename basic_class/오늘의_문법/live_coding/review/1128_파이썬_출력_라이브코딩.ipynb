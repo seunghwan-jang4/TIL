{
 "cells": [
  {
   "cell_type": "markdown",
   "metadata": {},
   "source": [
    "## 문제 1\n",
    "화면에 Hello World 문자열을 출력하세요."
   ]
  },
  {
   "cell_type": "code",
   "execution_count": 1,
   "metadata": {},
   "outputs": [
    {
     "name": "stdout",
     "output_type": "stream",
     "text": [
      "Hello World\n"
     ]
    }
   ],
   "source": [
    "print('Hello World')"
   ]
  },
  {
   "cell_type": "markdown",
   "metadata": {},
   "source": [
    "## 문제 2\n",
    "화면에 MR'S JUNSEOK을 출력하세요."
   ]
  },
  {
   "cell_type": "code",
   "execution_count": 7,
   "metadata": {},
   "outputs": [
    {
     "name": "stdout",
     "output_type": "stream",
     "text": [
      "MR'S JUNSEOK\n",
      "MR'S JUNSEOK\n"
     ]
    }
   ],
   "source": [
    "#방법1. \n",
    "print(\"MR'S JUNSEOK\")\n",
    "\n",
    "#방법2. \n",
    "print('MR\\'S JUNSEOK')"
   ]
  },
  {
   "cell_type": "markdown",
   "metadata": {
    "vscode": {
     "languageId": "plaintext"
    }
   },
   "source": [
    "## 문제 3\n",
    "변수 name과 age를 사용하여 다음과 같이 출력하는 코드를 작성하세요."
   ]
  },
  {
   "cell_type": "raw",
   "metadata": {
    "vscode": {
     "languageId": "raw"
    }
   },
   "source": [
    "출력 예시 : \n",
    "\n",
    "천준석님의 나이는 30살입니다."
   ]
  },
  {
   "cell_type": "code",
   "execution_count": 9,
   "metadata": {},
   "outputs": [
    {
     "name": "stdout",
     "output_type": "stream",
     "text": [
      "천준석님의 나이는 30살입니다.\n"
     ]
    }
   ],
   "source": [
    "name = \"천준석\"\n",
    "age = 30\n",
    "print(f\"{name}님의 나이는 {age}살입니다.\")"
   ]
  },
  {
   "cell_type": "markdown",
   "metadata": {},
   "source": [
    "## 문제 4\n",
    "다음 코드의 출력 결과를 예측해보세요."
   ]
  },
  {
   "cell_type": "raw",
   "metadata": {
    "vscode": {
     "languageId": "raw"
    }
   },
   "source": [
    "print(\"파이썬\", \"프로그래밍\", sep=\"★\")\n",
    "\n",
    "정답: 파이썬★프로그래밍"
   ]
  },
  {
   "cell_type": "code",
   "execution_count": 10,
   "metadata": {},
   "outputs": [
    {
     "name": "stdout",
     "output_type": "stream",
     "text": [
      "파이썬★프로그래밍\n"
     ]
    }
   ],
   "source": [
    "print(\"파이썬\", \"프로그래밍\", sep=\"★\")"
   ]
  },
  {
   "cell_type": "raw",
   "metadata": {
    "vscode": {
     "languageId": "raw"
    }
   },
   "source": [
    "print(\"파이썬\", \"프로그래밍\", end=\" 끝!\\n\")\n",
    "\n",
    "정답: 파이썬 프로그래밍 끝!\n"
   ]
  },
  {
   "cell_type": "code",
   "execution_count": 11,
   "metadata": {},
   "outputs": [
    {
     "name": "stdout",
     "output_type": "stream",
     "text": [
      "파이썬 프로그래밍 끝!\n"
     ]
    }
   ],
   "source": [
    "print(\"파이썬\", \"프로그래밍\", end=\" 끝!\\n\")"
   ]
  },
  {
   "cell_type": "raw",
   "metadata": {
    "vscode": {
     "languageId": "raw"
    }
   },
   "source": [
    "print(\"파이썬\", \"프로그래밍\", sep=\"★\", end=\" 끝!\\n\")\n",
    "\n",
    "정답: 파이썬★프로그래밍 끝!"
   ]
  },
  {
   "cell_type": "code",
   "execution_count": 12,
   "metadata": {},
   "outputs": [
    {
     "name": "stdout",
     "output_type": "stream",
     "text": [
      "파이썬★프로그래밍 끝!\n"
     ]
    }
   ],
   "source": [
    "print(\"파이썬\", \"프로그래밍\", sep=\"★\", end=\" 끝!\\n\")"
   ]
  },
  {
   "cell_type": "raw",
   "metadata": {
    "vscode": {
     "languageId": "raw"
    }
   },
   "source": [
    "print(\"A\", \"B\", \"C\", sep=\"\\n\", end=\"!\")\n",
    "\n",
    "정답:\n",
    "A\n",
    "B\n",
    "C!"
   ]
  },
  {
   "cell_type": "code",
   "execution_count": 13,
   "metadata": {},
   "outputs": [
    {
     "name": "stdout",
     "output_type": "stream",
     "text": [
      "A\n",
      "B\n",
      "C!"
     ]
    }
   ],
   "source": [
    "print(\"A\", \"B\", \"C\", sep=\"\\n\", end=\"!\")"
   ]
  },
  {
   "cell_type": "markdown",
   "metadata": {},
   "source": [
    "## 문제 5\n",
    "다음 코드에서 오류가 발생합니다. 오류를 수정하여 숫자 15가 출력되도록 하세요."
   ]
  },
  {
   "cell_type": "code",
   "execution_count": 7,
   "metadata": {},
   "outputs": [
    {
     "ename": "TypeError",
     "evalue": "can only concatenate str (not \"int\") to str",
     "output_type": "error",
     "traceback": [
      "\u001b[1;31m---------------------------------------------------------------------------\u001b[0m",
      "\u001b[1;31mTypeError\u001b[0m                                 Traceback (most recent call last)",
      "Cell \u001b[1;32mIn[7], line 3\u001b[0m\n\u001b[0;32m      1\u001b[0m a \u001b[38;5;241m=\u001b[39m \u001b[38;5;241m10\u001b[39m\n\u001b[0;32m      2\u001b[0m b \u001b[38;5;241m=\u001b[39m \u001b[38;5;241m5\u001b[39m\n\u001b[1;32m----> 3\u001b[0m \u001b[38;5;28mprint\u001b[39m(\u001b[38;5;124;43m\"\u001b[39;49m\u001b[38;5;124;43ma + b = \u001b[39;49m\u001b[38;5;124;43m\"\u001b[39;49m\u001b[43m \u001b[49m\u001b[38;5;241;43m+\u001b[39;49m\u001b[43m \u001b[49m\u001b[43ma\u001b[49m \u001b[38;5;241m+\u001b[39m b)\n",
      "\u001b[1;31mTypeError\u001b[0m: can only concatenate str (not \"int\") to str"
     ]
    }
   ],
   "source": [
    "a = 10\n",
    "b = 5\n",
    "print(\"a + b = \" + a + b)"
   ]
  },
  {
   "cell_type": "code",
   "execution_count": 15,
   "metadata": {},
   "outputs": [
    {
     "name": "stdout",
     "output_type": "stream",
     "text": [
      "a + b = 15\n",
      "15\n"
     ]
    }
   ],
   "source": [
    "# 방법1. \n",
    "a = 10\n",
    "b = 5\n",
    "print(f\"a + b = {a + b}\")\n",
    "\n",
    "#방법 2. \n",
    "a = 10\n",
    "b = 5\n",
    "print(a + b)\n"
   ]
  },
  {
   "cell_type": "markdown",
   "metadata": {},
   "source": [
    "## 문제 6\n",
    "사용자에게 이름과 취미를 입력받아 다음과 같이 출력하는 코드를 작성하세요."
   ]
  },
  {
   "cell_type": "raw",
   "metadata": {
    "vscode": {
     "languageId": "raw"
    }
   },
   "source": [
    "입력 예시 :\n",
    "\n",
    "이름을 입력하세요: 천준석\n",
    "취미를 입력하세요: 산책"
   ]
  },
  {
   "cell_type": "raw",
   "metadata": {
    "vscode": {
     "languageId": "raw"
    }
   },
   "source": [
    "출력 결과 :\n",
    "\n",
    "안녕하세요, 천준석님! 당신의 취미는 산책군요."
   ]
  },
  {
   "cell_type": "code",
   "execution_count": 26,
   "metadata": {},
   "outputs": [
    {
     "name": "stdout",
     "output_type": "stream",
     "text": [
      " 이름을 입력하세요: 천준석\n",
      " 취미를 입력하세요: 산책\n",
      " 이름을 입력하세요: 천준석\n",
      " 취미를 입력하세요: 산책\n"
     ]
    }
   ],
   "source": [
    "#방법1. \n",
    "name = input().strip()\n",
    "hobby = input().strip()\n",
    "print(f\" 이름을 입력하세요: {name}\\n 취미를 입력하세요: {hobby}\")\n",
    "\n",
    "#방법2. \n",
    "name, hobby = map(str.strip, input().split()) #공백을 기준으로 name과 hobby 입력.\n",
    "print(f\" 이름을 입력하세요: {name}\\n 취미를 입력하세요: {hobby}\")"
   ]
  },
  {
   "cell_type": "markdown",
   "metadata": {},
   "source": [
    "## 문제 7\n",
    "반지름을 입력받아 원의 넓이를 계산하여 출력하는 코드를 작성하세요. (원의 넓이 = π * r^2, π는 3.14159로 사용)"
   ]
  },
  {
   "cell_type": "raw",
   "metadata": {
    "vscode": {
     "languageId": "raw"
    }
   },
   "source": [
    "입력 예시 : \n",
    "\n",
    "원의 반지름을 입력하세요: 5"
   ]
  },
  {
   "cell_type": "raw",
   "metadata": {
    "vscode": {
     "languageId": "raw"
    }
   },
   "source": [
    "출력 결과 :\n",
    "\n",
    "원의 넓이는 78.53975입니다."
   ]
  },
  {
   "cell_type": "code",
   "execution_count": 29,
   "metadata": {},
   "outputs": [
    {
     "name": "stdout",
     "output_type": "stream",
     "text": [
      "78.53975\n"
     ]
    }
   ],
   "source": [
    "pie = 3.14159\n",
    "r = int(input())\n",
    "result = pie * r**2\n",
    "\n",
    "print(result)"
   ]
  },
  {
   "cell_type": "markdown",
   "metadata": {},
   "source": [
    "## 문제 8\n",
    "두 정수를 입력받고, 두 정수를 더하고 빼고 곱하고 나누기를 출력하세요."
   ]
  },
  {
   "cell_type": "raw",
   "metadata": {
    "vscode": {
     "languageId": "raw"
    }
   },
   "source": [
    "입력 예시 : \n",
    "\n",
    "두 정수를 입력하세요 : 10 5"
   ]
  },
  {
   "cell_type": "raw",
   "metadata": {
    "vscode": {
     "languageId": "raw"
    }
   },
   "source": [
    "출력 결과 :\n",
    "\n",
    "10 + 5 = 15\n",
    "10 - 5 = 5\n",
    "10 * 5 = 50\n",
    "10 / 5 = 2"
   ]
  },
  {
   "cell_type": "code",
   "execution_count": 33,
   "metadata": {},
   "outputs": [
    {
     "name": "stdout",
     "output_type": "stream",
     "text": [
      "10 + 5 = 15\n"
     ]
    }
   ],
   "source": [
    "x, y = map(int, input('공백을 기준으로, 두 정수를 입력하세요: ').split())\n",
    "print(f\"{x} + {y} = {x + y}\")"
   ]
  },
  {
   "cell_type": "markdown",
   "metadata": {},
   "source": [
    "## 문제 9\n",
    "섭씨 온도를 입력받아 화씨 온도로 변환하여 출력하는 코드를 작성하세요. (화씨 = 섭씨 * 1.8 + 32)"
   ]
  },
  {
   "cell_type": "raw",
   "metadata": {
    "vscode": {
     "languageId": "raw"
    }
   },
   "source": [
    "입력 예시 : \n",
    "\n",
    "섭씨 온도를 입력하세요: 25"
   ]
  },
  {
   "cell_type": "raw",
   "metadata": {
    "vscode": {
     "languageId": "raw"
    }
   },
   "source": [
    "출력 결과 :\n",
    "\n",
    "화씨 온도는 77.0도입니다."
   ]
  },
  {
   "cell_type": "code",
   "execution_count": 35,
   "metadata": {},
   "outputs": [
    {
     "name": "stdout",
     "output_type": "stream",
     "text": [
      "화씨 온도는 77.0입니다.\n"
     ]
    }
   ],
   "source": [
    "Celsius = int(input())\n",
    "Fahrenheit =  (Celsius* 1.8) + 32\n",
    "print(f\"화씨 온도는 {Fahrenheit}입니다.\")"
   ]
  },
  {
   "cell_type": "markdown",
   "metadata": {},
   "source": [
    "## 문제 10\n",
    "'#'으로 구분된 4개의 문자열을 입력받고, 출력해보세요"
   ]
  },
  {
   "cell_type": "raw",
   "metadata": {
    "vscode": {
     "languageId": "raw"
    }
   },
   "source": [
    "입력 예시 : \n",
    "\n",
    "입력하세요 : apple#banana#watermelon#grape"
   ]
  },
  {
   "cell_type": "raw",
   "metadata": {
    "vscode": {
     "languageId": "raw"
    }
   },
   "source": [
    "출력 결과 :\n",
    "\n",
    "apple banana watermelon grape"
   ]
  },
  {
   "cell_type": "code",
   "execution_count": 47,
   "metadata": {},
   "outputs": [
    {
     "name": "stdout",
     "output_type": "stream",
     "text": [
      "apple banana watermelon grape\n",
      "['apple', 'banana', 'watermelon', 'grape']\n"
     ]
    }
   ],
   "source": [
    "# 방법1. 문자열에 replace() 사용.\n",
    "fruits = str(input())\n",
    "result = fruits.replace('#', ' ')\n",
    "print(result)\n",
    "\n",
    "#방법 2. ' '.join() 사용.\n",
    "fruits = str(input())\n",
    "result = ' '.join(fruits.split('#'))\n",
    "print(result)"
   ]
  },
  {
   "cell_type": "code",
   "execution_count": null,
   "metadata": {},
   "outputs": [],
   "source": []
  }
 ],
 "metadata": {
  "kernelspec": {
   "display_name": "myenv",
   "language": "python",
   "name": "python3"
  },
  "language_info": {
   "codemirror_mode": {
    "name": "ipython",
    "version": 3
   },
   "file_extension": ".py",
   "mimetype": "text/x-python",
   "name": "python",
   "nbconvert_exporter": "python",
   "pygments_lexer": "ipython3",
   "version": "3.8.20"
  }
 },
 "nbformat": 4,
 "nbformat_minor": 2
}
