{
 "cells": [
  {
   "cell_type": "markdown",
   "metadata": {},
   "source": [
    "## 문제 1\n",
    "사용자가 입력한 값을 정수로 변환하려고 합니다.  \n",
    "만약 사용자가 숫자가 아닌 값을 입력할 경우 ValueError가 발생하는데, 이 예외를 처리하여 \"올바른 숫자를 입력하세요!\"라는 메시지를 출력하고, 프로그램은 중단되지 않고 계속 동작하도록 하세요."
   ]
  },
  {
   "cell_type": "code",
   "execution_count": null,
   "metadata": {},
   "outputs": [],
   "source": []
  },
  {
   "cell_type": "markdown",
   "metadata": {},
   "source": [
    "## 문제 2\n",
    "두 개의 정수를 입력받아 나눗셈을 수행하는 코드를 작성하세요.  \n",
    "만약 0으로 나누려고 할 경우 ZeroDivisionError를 처리하여 \"0으로 나눌 수 없습니다.\"를 출력하세요.  \n",
    "예외가 없는 경우 \"결과는: {결과}\"를 출력하고, 예외 발생 여부와 관계없이 \"프로그램 종료\"를 출력하는 코드를 작성하세요."
   ]
  },
  {
   "cell_type": "code",
   "execution_count": null,
   "metadata": {},
   "outputs": [],
   "source": []
  },
  {
   "cell_type": "markdown",
   "metadata": {},
   "source": [
    "## 문제 3\n",
    "리스트 [1, 2, 3]에서 인덱스를 입력받아 해당 요소를 출력하는 코드를 작성하세요.  \n",
    "만약 리스트 범위를 벗어난 인덱스를 요청하면 IndexError를 처리하여 \"리스트 범위를 벗어났습니다.\"를 출력하세요.  \n",
    "그 외 예상치 못한 예외가 발생하면 Exception을 처리하여 \"예기치 못한 오류가 발생했습니다.\"를 출력하세요.  "
   ]
  },
  {
   "cell_type": "code",
   "execution_count": null,
   "metadata": {},
   "outputs": [],
   "source": []
  },
  {
   "cell_type": "markdown",
   "metadata": {},
   "source": [
    "## 문제 4\n",
    "사용자 정의 예외 클래스를 만들어보세요. InvalidNameError라는 예외 클래스를 정의하고, 사용자에게 이름을 입력받아 3글자 미만이면 InvalidNameError를 발생시키세요. 이 예외를 처리하여 \"이름은 3글자 이상이어야 합니다.\"라는 메시지를 출력하세요."
   ]
  },
  {
   "cell_type": "code",
   "execution_count": null,
   "metadata": {},
   "outputs": [],
   "source": []
  },
  {
   "cell_type": "markdown",
   "metadata": {},
   "source": [
    "## 문제 5\n",
    "함수를 하나 정의하세요. 함수 divide(a, b)는 a/b를 반환합니다.  \n",
    "만약 b가 0이라면 ZeroDivisionError를 발생시키고, 호출하는 쪽 코드에서 이 예외를 처리해 \"함수에서 0으로 나누기 예외 발생!\"이라는 메시지를 출력하세요."
   ]
  },
  {
   "cell_type": "code",
   "execution_count": null,
   "metadata": {},
   "outputs": [],
   "source": []
  }
 ],
 "metadata": {
  "kernelspec": {
   "display_name": "llmrag",
   "language": "python",
   "name": "python3"
  },
  "language_info": {
   "codemirror_mode": {
    "name": "ipython",
    "version": 3
   },
   "file_extension": ".py",
   "mimetype": "text/x-python",
   "name": "python",
   "nbconvert_exporter": "python",
   "pygments_lexer": "ipython3",
   "version": "3.10.12"
  }
 },
 "nbformat": 4,
 "nbformat_minor": 2
}
