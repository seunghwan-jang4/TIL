{
 "cells": [
  {
   "cell_type": "markdown",
   "metadata": {},
   "source": [
    "## 문제 1\n",
    "사용자로부터 정수를 입력받은 뒤, 해당 정수가 다음 조건 중 하나에 해당하는지 판별하는 프로그램을 작성하세요.\n",
    "\n",
    "- 3의 배수이면서 동시에 7의 배수인 경우: \"3과 7의 공배수입니다.\" 출력\n",
    "- 3의 배수이지만 7의 배수는 아닌 경우: \"3의 배수입니다.\" 출력\n",
    "- 7의 배수이지만 3의 배수는 아닌 경우: \"7의 배수입니다.\" 출력\n",
    "- 위의 어떤 조건도 만족하지 않으면: \"3과 7의 배수가 아닙니다.\" 출력"
   ]
  },
  {
   "cell_type": "code",
   "execution_count": 6,
   "metadata": {},
   "outputs": [
    {
     "name": "stdout",
     "output_type": "stream",
     "text": [
      "3과 7의 배수가 아닙니다.\n"
     ]
    }
   ],
   "source": [
    "x = int(input())\n",
    "\n",
    "if x%3 == 0 and x%7 == 0:\n",
    "    print(\"3과7의 공배수입니다.\")\n",
    "elif x%3 ==0 and x%7 != 0:\n",
    "    print(\"3의 배수입니다.\")\n",
    "elif x%3 != 0 and x%7 == 0:\n",
    "    print('7의 배수입니다.')\n",
    "else:\n",
    "    print(\"3과 7의 배수가 아닙니다.\")"
   ]
  },
  {
   "cell_type": "raw",
   "metadata": {
    "vscode": {
     "languageId": "raw"
    }
   },
   "source": [
    "테스트 입력값\n",
    "\n",
    "입력: 21\n",
    "21은 3의 배수이면서 7의 배수 → \"3과 7의 공배수입니다.\"\n",
    "\n",
    "입력: 9\n",
    "9는 3의 배수지만 7의 배수 아님 → \"3의 배수입니다.\"\n",
    "\n",
    "입력: 14\n",
    "14는 7의 배수지만 3의 배수 아님 → \"7의 배수입니다.\"\n",
    "\n",
    "입력: 10\n",
    "3의 배수도, 7의 배수도 아님 → \"3과 7의 배수가 아닙니다.\""
   ]
  },
  {
   "cell_type": "markdown",
   "metadata": {},
   "source": [
    "## 문제 2\n",
    "사용자로부터 키(정수, cm)와 몸무게(정수, kg)를 입력받아 BMI 상태를 출력하는 프로그램을 작성하세요.  \n",
    "BMI는 다음과 같이 계산합니다: BMI = 몸무게(kg) / (키(m)의 제곱)  \n",
    "여기서 키는 cm로 입력되므로 m 단위로 변환해야 합니다.  \n",
    "\n",
    "- BMI < 18.5: \"저체중\"\n",
    "- 18.5 ≤ BMI < 23: \"정상 체중\"\n",
    "- 23 ≤ BMI < 25: \"과체중\"\n",
    "- BMI ≥ 25: \"비만\""
   ]
  },
  {
   "cell_type": "code",
   "execution_count": 15,
   "metadata": {},
   "outputs": [
    {
     "name": "stdout",
     "output_type": "stream",
     "text": [
      "bmi = 18.80920625149619 / '정상 체중'\n"
     ]
    }
   ],
   "source": [
    "height = int(input(\"키를 입력하세요: \"))\n",
    "weight = int(input(\"몸무게를 입력하세요: \"))\n",
    "\n",
    "#cm를 m로 변환.\n",
    "height_m = height / 100 # 1.4, 1.5 등으로 표현됨.\n",
    "bmi = weight/ (height_m**2)\n",
    "\n",
    "if bmi < 18.5:\n",
    "    print(f\"bmi = {bmi} / '저체중'\")\n",
    "elif 18.5 <= bmi < 23:\n",
    "    print(f\"bmi = {bmi} / '정상 체중'\")\n",
    "elif 23 <= bmi < 25:\n",
    "    print(f\"bmi = {bmi} / '과체중'\")\n",
    "elif bmi >= 25:\n",
    "    print(f\"bmi = {bmi} / '비만'\")"
   ]
  },
  {
   "cell_type": "raw",
   "metadata": {
    "vscode": {
     "languageId": "raw"
    }
   },
   "source": [
    "테스트 입력값\n",
    "\n",
    "입력:\n",
    "키: 170\n",
    "몸무게: 50\n",
    "BMI = 50 / (1.7^2) ≈ 17.3 → \"저체중\"\n",
    "\n",
    "입력:\n",
    "키: 165\n",
    "몸무게: 60\n",
    "BMI = 60 / (1.65^2) ≈ 22.0 → \"정상 체중\"\n",
    "\n",
    "입력:\n",
    "키: 175\n",
    "몸무게: 80\n",
    "BMI = 80 / (1.75^2) ≈ 26.1 → \"비만\""
   ]
  },
  {
   "cell_type": "markdown",
   "metadata": {},
   "source": [
    "## 문제 3\n",
    "사용자로부터 세 정수를 입력받아, 이 중 어느 하나라도 다른 두 수의 합보다 크다면 \"삼각형을 이룰 수 없습니다.\"를 출력하고, 그렇지 않다면 \"삼각형을 이룰 수 있습니다.\"를 출력하는 프로그램을 작성하세요.  \n",
    "(참고: 세 변의 길이가 a, b, c라 할 때, 삼각형을 이루려면 a < b + c, b < a + c, c < a + b 모두 만족해야 합니다.)"
   ]
  },
  {
   "cell_type": "code",
   "execution_count": 46,
   "metadata": {},
   "outputs": [
    {
     "name": "stdout",
     "output_type": "stream",
     "text": [
      "삼각형을 이룰 수 없습니다.\n"
     ]
    }
   ],
   "source": [
    "a, b, c = map(int, input().split())\n",
    "\n",
    "if a < b + c and b < a + c and c < a + b:\n",
    "    print('삼각형을 이룰 수 있습니다.')\n",
    "else:\n",
    "    print('삼각형을 이룰 수 없습니다.')"
   ]
  },
  {
   "cell_type": "raw",
   "metadata": {
    "vscode": {
     "languageId": "raw"
    }
   },
   "source": [
    "테스트 입력값\n",
    "\n",
    "입력: 3, 4, 5\n",
    "3+4=7 >5, 3+5=8 >4, 4+5=9 >3 → \"삼각형을 이룰 수 있습니다.\"\n",
    "\n",
    "입력: 2, 2, 4\n",
    "2+2=4 ==4, 한 변이 다른 두 변의 합과 같거나 커서 삼각형 불가 → \"삼각형을 이룰 수 없습니다.\"\n",
    "\n",
    "입력: 10, 1, 5\n",
    "1+5=6 < 10 → 성립 불가 → \"삼각형을 이룰 수 없습니다.\""
   ]
  },
  {
   "cell_type": "markdown",
   "metadata": {},
   "source": [
    "## 문제 4\n",
    "사용자로부터 문자열을 입력받아, 해당 문자열이 모두 알파벳으로만 이루어져 있으며(공백 없음), 길이가 8 이상인 경우 \"사용 가능한 비밀번호입니다.\"를 출력하고, 그렇지 않으면 \"사용 불가능한 비밀번호입니다.\"를 출력하세요."
   ]
  },
  {
   "cell_type": "code",
   "execution_count": null,
   "metadata": {},
   "outputs": [
    {
     "name": "stdout",
     "output_type": "stream",
     "text": [
      "사용 가능한 비밀번호입니다.\n"
     ]
    }
   ],
   "source": [
    " # 문자열 모두 알파벳으로 변환\n",
    "user_input = str(input().strip())\n",
    "if user_input.isalpha() and len(user_input) >= 8:\n",
    "    print('사용 가능한 비밀번호입니다.')\n",
    "else:\n",
    "    print('사용 불가능한 비밀번호입니다.')"
   ]
  },
  {
   "cell_type": "raw",
   "metadata": {
    "vscode": {
     "languageId": "raw"
    }
   },
   "source": [
    "테스트 입력값\n",
    "\n",
    "입력: abcdefgh\n",
    "전부 알파벳, 길이 8 → \"사용 가능한 비밀번호입니다.\"\n",
    "\n",
    "입력: abc123\n",
    "숫자 포함 → \"사용 불가능한 비밀번호입니다.\"\n",
    "\n",
    "입력: abc\n",
    "전부 알파벳이나 길이 3 < 8 → \"사용 불가능한 비밀번호입니다.\""
   ]
  },
  {
   "cell_type": "markdown",
   "metadata": {},
   "source": [
    "## 문제 5\n",
    "사용자로부터 연도를 입력받아 해당 연도가 윤년인지 판단하는 프로그램을 작성하세요.  \n",
    "\n",
    "윤년 판단 규칙:\n",
    "- 연도가 4로 나누어 떨어지고\n",
    "- 100으로 나누어 떨어지지 않거나 400으로 나누어 떨어지면 윤년이다."
   ]
  },
  {
   "cell_type": "code",
   "execution_count": 49,
   "metadata": {},
   "outputs": [
    {
     "name": "stdout",
     "output_type": "stream",
     "text": [
      "윤년입니다.\n"
     ]
    }
   ],
   "source": [
    "user_input = int(input())\n",
    "\n",
    "if user_input % 4== 0 and (user_input % 100 != 0 or user_input % 400 ==0): # 두 번째 조건에 주의!\n",
    "    print('윤년입니다.')\n",
    "else:\n",
    "    print(\"윤년이 아닙니다.\")"
   ]
  },
  {
   "cell_type": "raw",
   "metadata": {
    "vscode": {
     "languageId": "raw"
    }
   },
   "source": [
    "테스트 입력값\n",
    "\n",
    "입력: 2020\n",
    "2020 %4=0, %100=20, %400=... 조건 만족 → \"윤년입니다.\"\n",
    "\n",
    "입력: 2100\n",
    "2100 %4=0 but %100=0 and %400=100 → \"윤년이 아닙니다.\"\n",
    "\n",
    "입력: 2000\n",
    "2000 %400=0 → \"윤년입니다.\""
   ]
  },
  {
   "cell_type": "markdown",
   "metadata": {},
   "source": [
    "## 문제 6\n",
    "사용자로부터 두 정수를 입력받아, 만약 두 수 중 하나라도 0이면 \"0으로 나눌 수 없습니다.\"를 출력하고 종료합니다.  \n",
    "둘 다 0이 아니면 두 수의 비율(a/b)을 계산한 뒤,\n",
    "\n",
    "- 비율이 1보다 크면 \"a가 b보다 큽니다.\"\n",
    "- 비율이 1이면 \"두 수는 같습니다.\"\n",
    "- 비율이 1보다 작으면 \"a가 b보다 작습니다.\"\n",
    "를 출력하세요."
   ]
  },
  {
   "cell_type": "code",
   "execution_count": 55,
   "metadata": {},
   "outputs": [
    {
     "name": "stdout",
     "output_type": "stream",
     "text": [
      "a가 b보다 큽니다.\n"
     ]
    }
   ],
   "source": [
    "a, b = map(int, input().split())\n",
    "\n",
    "if a == 0 or b == 0:\n",
    "    print(\"0으로 나눌 수 없습니다.\")\n",
    "else:\n",
    "    x = a/b\n",
    "    if  x > 1:\n",
    "        print('a가 b보다 큽니다.')\n",
    "    elif x == 1:\n",
    "        print('두 수는 같습니다.')\n",
    "    else:\n",
    "        print('a가 b보다 작습니다.')"
   ]
  },
  {
   "cell_type": "raw",
   "metadata": {
    "vscode": {
     "languageId": "raw"
    }
   },
   "source": [
    "테스트 입력값\n",
    "\n",
    "입력: a=10, b=5\n",
    "ratio=10/5=2 >1 → \"a가 b보다 큽니다.\"\n",
    "\n",
    "입력: a=10, b=0\n",
    "b가 0 → \"0으로 나눌 수 없습니다.\"\n",
    "\n",
    "입력: a=5, b=5\n",
    "ratio=1 → \"두 수는 같습니다.\""
   ]
  },
  {
   "cell_type": "markdown",
   "metadata": {},
   "source": [
    "## 문제 7\n",
    "사용자로부터 문자열을 입력받아, 문자열이 비어있거나 공백 문자로만 이루어져 있으면 \"빈 문자열입니다.\"를 출력합니다.  \n",
    "그렇지 않고, 문자열이 모두 숫자로만 이루어져 있으면 \"숫자만 포함된 문자열입니다.\"를 출력합니다. 이 외 경우에는 \"일반 문자열입니다.\"를 출력하세요."
   ]
  },
  {
   "cell_type": "code",
   "execution_count": 64,
   "metadata": {},
   "outputs": [
    {
     "name": "stdout",
     "output_type": "stream",
     "text": [
      "일반 문자열입니다.\n"
     ]
    }
   ],
   "source": [
    "# isdigit() 은 문자열이 모두 숫자로만 이루어져 있다.\n",
    "user_input = input()\n",
    "\n",
    "if user_input.strip() == '':\n",
    "    print('빈 문자열입니다.')\n",
    "elif user_input.isdigit():\n",
    "    print('숫자만 포함된 문자열입니다.')\n",
    "else:\n",
    "    print('일반 문자열입니다.')\n"
   ]
  },
  {
   "cell_type": "raw",
   "metadata": {
    "vscode": {
     "languageId": "raw"
    }
   },
   "source": [
    "테스트 입력값\n",
    "\n",
    "입력: \" \"(공백만)\n",
    "strip()하면 \"\" → \"빈 문자열입니다.\"\n",
    "\n",
    "입력: \"12345\"\n",
    "숫자만 → \"숫자만 포함된 문자열입니다.\"\n",
    "\n",
    "입력: \"hello123\"\n",
    "알파벳+숫자 혼합 → \"일반 문자열입니다.\"\n",
    "\n",
    "입력: \"hello\"\n",
    "알파벳만이지만 문제 조건상 이 경우도 \"일반 문자열\" (숫자가 아니므로)"
   ]
  },
  {
   "cell_type": "markdown",
   "metadata": {},
   "source": [
    "## 문제 8\n",
    "사용자로부터 영문 문자열을 입력받아, 문자열에 대문자와 소문자가 섞여 있는 경우 \"대소문자 섞여 있음\", 전부 소문자면 \"전부 소문자\", 전부 대문자면 \"전부 대문자\"를 출력하세요. 알파벳 외 다른 문자가 포함되어 있다면 \"알파벳 이외의 문자가 있습니다.\"를 출력하세요."
   ]
  },
  {
   "cell_type": "code",
   "execution_count": 80,
   "metadata": {},
   "outputs": [
    {
     "name": "stdout",
     "output_type": "stream",
     "text": [
      "알파벳 이외의 문자 존재.\n"
     ]
    }
   ],
   "source": [
    "#isalpha() 사용.\n",
    "user_input = input().strip()\n",
    "\n",
    "if user_input.isalpha():\n",
    "    if user_input.islower():\n",
    "        print('전부 소문자')\n",
    "    elif user_input.isupper():\n",
    "        print('전부 대문자')\n",
    "    else:\n",
    "        print('대소문자 섞여 있음')\n",
    "else:\n",
    "    print('알파벳 이외의 문자 존재.')\n",
    " "
   ]
  },
  {
   "cell_type": "raw",
   "metadata": {
    "vscode": {
     "languageId": "raw"
    }
   },
   "source": [
    "테스트 입력값\n",
    "\n",
    "입력: \"HELLO\"\n",
    "모두 대문자 → \"전부 대문자\"\n",
    "\n",
    "입력: \"hello\"\n",
    "모두 소문자 → \"전부 소문자\"\n",
    "\n",
    "입력: \"Hello\"\n",
    "대소문자 섞임 → \"대소문자 섞여 있음\"\n",
    "\n",
    "입력: \"Hello!\"\n",
    "알파벳 이외 문자인 '!' 존재 → \"알파벳 이외의 문자가 있습니다.\""
   ]
  },
  {
   "cell_type": "markdown",
   "metadata": {},
   "source": [
    "## 문제 9\n",
    "사용자로부터 이메일 주소를 입력받아, '@'문자와 '.'문자가 모두 포함되어 있다면 \"올바른 이메일 형식입니다.\"를 출력하고, 그렇지 않다면 \"올바른 이메일 형식이 아닙니다.\"를 출력하세요.  \n",
    "단, '@'가 문자열의 시작이나 끝에 위치하거나, '.'이 문자열의 시작이나 끝에 위치한다면 역시 \"올바른 이메일 형식이 아닙니다.\"를 출력하세요."
   ]
  },
  {
   "cell_type": "code",
   "execution_count": 42,
   "metadata": {},
   "outputs": [
    {
     "name": "stdout",
     "output_type": "stream",
     "text": [
      "올바른 이메일 형식이 아닙니다.\n"
     ]
    }
   ],
   "source": [
    "user_input = input('이메일을 입력하세요').strip()\n",
    "\n",
    "if '@' in user_input and '.' in user_input:\n",
    "    print('올바른 이메일 형식입니다.')\n",
    "    if user_input[0] in ['@', '.'] or user_input[-1] in ['@', '.']:\n",
    "        print('올바른 이메일 형식이 아닙니다.')\n",
    "else:\n",
    "    print('올바른 이메일 형식이 아닙니다.')"
   ]
  },
  {
   "cell_type": "raw",
   "metadata": {
    "vscode": {
     "languageId": "raw"
    }
   },
   "source": [
    "테스트 입력값\n",
    "\n",
    "입력: test@example.com\n",
    "'@','.' 모두 있음, 처음과 끝 '.'이나 '@'아님 → \"올바른 이메일 형식입니다.\"\n",
    "\n",
    "입력: .test@example.com\n",
    "시작이 '.' → \"올바른 이메일 형식이 아닙니다.\"\n",
    "\n",
    "입력: test@examplecom\n",
    "'.' 없음 → \"올바른 이메일 형식이 아닙니다.\""
   ]
  },
  {
   "cell_type": "markdown",
   "metadata": {},
   "source": [
    "## 문제 10 (반복문 사용)\n",
    "사용자로부터 정수 n을 입력받아, n이 2초과의 소수(prime)인지 판별하는 프로그램을 작성하세요. 소수란 1과 자기 자신으로만 나누어 떨어지는 수를 말합니다.\n",
    "\n",
    "- n이 2 이하이거나 소수가 아니면 \"소수가 아닙니다.\"\n",
    "- 소수이면 \"소수입니다.\" 출력"
   ]
  },
  {
   "cell_type": "code",
   "execution_count": null,
   "metadata": {},
   "outputs": [
    {
     "name": "stdout",
     "output_type": "stream",
     "text": [
      "소수입니다.\n"
     ]
    }
   ],
   "source": [
    "#튜터님 방법\n",
    "n = int(input('정수를 입력하세요: '))\n",
    "\n",
    "if n <= 2:\n",
    "    print('소수가 아닙니다.')\n",
    "else:\n",
    "    is_prime = True          # 그 밖의 경우는 일단 소수로 가정.\n",
    "    for i in range(2, n):    # n이 10이라면 n-1의 범위 까지이므로, 2~9의 숫자가 들어간다.\n",
    "        if n % i ==0:        # n이 10일 경우 1, 2, 5, 10 으로 나눠지므로, 소수가 아니다.\n",
    "            is_prime = False # 나눠질 경우, 소수가 아님을 False로 변경하여 반영.\n",
    "            break            # 나눠떨어지는 수가 발견되는 즉시 반복문을 중지.\n",
    "    if is_prime == True:\n",
    "        print('소수입니다.')\n",
    "    else: \n",
    "         print('소수가 아닙니다.')"
   ]
  },
  {
   "cell_type": "raw",
   "metadata": {
    "vscode": {
     "languageId": "raw"
    }
   },
   "source": [
    "테스트 입력값\n",
    "\n",
    "입력: 17\n",
    "소수 → \"소수입니다.\"\n",
    "\n",
    "입력: 20\n",
    "약수 존재 (2,4,5,10등) → \"소수가 아닙니다.\"\n",
    "\n",
    "입력: 2\n",
    "2 이하 → \"소수가 아닙니다.\"\n",
    "\n",
    "입력: 19\n",
    "소수 → \"소수입니다.\""
   ]
  }
 ],
 "metadata": {
  "kernelspec": {
   "display_name": "python (myenv)",
   "language": "python",
   "name": "myenv"
  },
  "language_info": {
   "codemirror_mode": {
    "name": "ipython",
    "version": 3
   },
   "file_extension": ".py",
   "mimetype": "text/x-python",
   "name": "python",
   "nbconvert_exporter": "python",
   "pygments_lexer": "ipython3",
   "version": "3.8.20"
  }
 },
 "nbformat": 4,
 "nbformat_minor": 2
}
