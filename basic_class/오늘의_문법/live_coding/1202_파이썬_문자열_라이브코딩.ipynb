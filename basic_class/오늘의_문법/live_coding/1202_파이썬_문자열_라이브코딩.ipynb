{
 "cells": [
  {
   "cell_type": "markdown",
   "metadata": {},
   "source": [
    "# 기초"
   ]
  },
  {
   "cell_type": "markdown",
   "metadata": {},
   "source": [
    "## 문제 1\n",
    "주어진 문자열 s = \"abcdefghij\"에서 인덱스 2부터 5까지의 부분 문자열을 출력하세요."
   ]
  },
  {
   "cell_type": "code",
   "execution_count": null,
   "metadata": {},
   "outputs": [
    {
     "name": "stdout",
     "output_type": "stream",
     "text": [
      "cdef\n"
     ]
    }
   ],
   "source": [
    "# 0 1 2 3 4 5/ 6 7 8 9 #2부터 5까지 출력! 문장 헷갈지 말자.\n",
    "s = 'abcdefghij'\n",
    "\n",
    "print(s[2:6])\n"
   ]
  },
  {
   "cell_type": "markdown",
   "metadata": {},
   "source": [
    "## 문제 2\n",
    "문자열 s = \"I love apples\"에서 \"apples\"를 \"bananas\"로 대체하여 출력하세요."
   ]
  },
  {
   "cell_type": "code",
   "execution_count": null,
   "metadata": {},
   "outputs": [
    {
     "name": "stdout",
     "output_type": "stream",
     "text": [
      "I love apples\n"
     ]
    }
   ],
   "source": [
    "s = \"I love apples\"\n",
    "result = s.replace(\"aplles\", \"bananas\")\n",
    "print(result)"
   ]
  },
  {
   "cell_type": "markdown",
   "metadata": {},
   "source": [
    "## 문제 3\n",
    "문자열 s = \"Find the index of the first 'e' character\"에서 문자 'e'가 처음으로 등장하는 위치의 인덱스를 출력하세요."
   ]
  },
  {
   "cell_type": "code",
   "execution_count": null,
   "metadata": {},
   "outputs": [
    {
     "name": "stdout",
     "output_type": "stream",
     "text": [
      "7\n"
     ]
    }
   ],
   "source": [
    "s = \"Find the index of the first 'e' character\"\n",
    "result = s.find('e') #find 는 없는 문자일 때 -1 반환. 안정적.\n",
    "#result = s.index('e') #index 는 문자가 없을 때 오류 발생.\n",
    "print(result)\n"
   ]
  },
  {
   "cell_type": "markdown",
   "metadata": {},
   "source": [
    "## 문제 4\n",
    "리스트 lst = ['Python', 'is', 'fun']를 하이픈(-)으로 구분된 하나의 문자열로 결합하여 출력하세요."
   ]
  },
  {
   "cell_type": "code",
   "execution_count": 14,
   "metadata": {},
   "outputs": [
    {
     "name": "stdout",
     "output_type": "stream",
     "text": [
      "Python-is-fun\n"
     ]
    }
   ],
   "source": [
    "lst = ['Python', 'is', 'fun']\n",
    "result = '-'.join(lst)\n",
    "print(result)"
   ]
  },
  {
   "cell_type": "markdown",
   "metadata": {},
   "source": [
    "## 문제 5\n",
    "문자열 s = \"1234567890\"에서 처음부터 3번째 문자까지와 마지막 3개의 문자를 연결하여 새로운 문자열을 출력하세요."
   ]
  },
  {
   "cell_type": "code",
   "execution_count": null,
   "metadata": {},
   "outputs": [
    {
     "name": "stdout",
     "output_type": "stream",
     "text": [
      "123890\n"
     ]
    }
   ],
   "source": [
    "s = \"1234567890\"\n",
    "start = s[0:3]\n",
    "\n",
    "#헷갈리니 잘 숙지.\n",
    "end = s[-3:]\n",
    "add = start + end\n",
    "print(add)"
   ]
  },
  {
   "cell_type": "markdown",
   "metadata": {},
   "source": [
    "## 문제 : 역 슬라이싱 사용하여 4567 출력"
   ]
  },
  {
   "cell_type": "code",
   "execution_count": 36,
   "metadata": {},
   "outputs": [
    {
     "name": "stdout",
     "output_type": "stream",
     "text": [
      "4567\n"
     ]
    }
   ],
   "source": [
    "end_4 = s[-7:-3]\n",
    "print(end_4)"
   ]
  },
  {
   "cell_type": "markdown",
   "metadata": {},
   "source": [
    "## 문제 6\n",
    "문자열 s = \"Hello, World!\"에서 마지막 문자 '!'를 제외한 나머지 문자열을 출력하세요."
   ]
  },
  {
   "cell_type": "code",
   "execution_count": null,
   "metadata": {},
   "outputs": [
    {
     "name": "stdout",
     "output_type": "stream",
     "text": [
      "Hello, World\n"
     ]
    }
   ],
   "source": [
    "s = \"Hello, World!\"\n",
    "print(s[:-1]) # 맨 뒤 문자를 제외한 나머지를 가져온다."
   ]
  },
  {
   "cell_type": "markdown",
   "metadata": {},
   "source": [
    "# 실습"
   ]
  },
  {
   "cell_type": "markdown",
   "metadata": {},
   "source": [
    "## 문제 1\n",
    "주어진 문자열 s = \"Hello, World!\"에서 쉼표(,) 뒤의 문자열만 출력하세요."
   ]
  },
  {
   "cell_type": "code",
   "execution_count": null,
   "metadata": {},
   "outputs": [
    {
     "name": "stdout",
     "output_type": "stream",
     "text": [
      "World!\n"
     ]
    }
   ],
   "source": [
    "# 시간 안에 같은 방법으로 못 풀었음, 재검토 필요!\n",
    "\n",
    "result = s.split(',')[1].strip() # split으로 나눈 후, 1번 인덱스에 해당하는 wolrd! 를 지정후 공백 제거.\n",
    "print(result)\n"
   ]
  },
  {
   "cell_type": "code",
   "execution_count": null,
   "metadata": {},
   "outputs": [
    {
     "name": "stdout",
     "output_type": "stream",
     "text": [
      "is\n"
     ]
    }
   ],
   "source": [
    "str = \"my name is junseok\"\n",
    "result = str.split() # 기본적으로 공백을 기준으로 나눠줌. \n",
    "print(result[2]) # 나눈 리스트의 2 번째 인덱스를 지정하여 출력.\n",
    "\n"
   ]
  },
  {
   "cell_type": "markdown",
   "metadata": {},
   "source": [
    "## 문제 2\n",
    "문자열 s = \"python programming\"에서 모든 단어의 첫 글자를 대문자로 변환하여 출력하세요."
   ]
  },
  {
   "cell_type": "code",
   "execution_count": null,
   "metadata": {},
   "outputs": [
    {
     "name": "stdout",
     "output_type": "stream",
     "text": [
      "Python Programming\n"
     ]
    }
   ],
   "source": [
    "#upper, lower, capitalize \n",
    "s = \"python programming\"\n",
    "\n",
    "result = s.title() # 첫 글자만 대문자로 변환하는 함수.\n",
    "print(result)"
   ]
  },
  {
   "cell_type": "markdown",
   "metadata": {},
   "source": [
    "## 문제 3\n",
    "주어진 문자열 s = \"Python is fun\"에서 공백을 기준으로 단어들을 분리하여 리스트로 반환하세요."
   ]
  },
  {
   "cell_type": "code",
   "execution_count": 60,
   "metadata": {},
   "outputs": [
    {
     "name": "stdout",
     "output_type": "stream",
     "text": [
      "['Python', 'is', 'fun']\n"
     ]
    }
   ],
   "source": [
    "s = \"Python is fun\"\n",
    "result = s.split()\n",
    "print(result)"
   ]
  },
  {
   "cell_type": "markdown",
   "metadata": {},
   "source": [
    "## 문제 4\n",
    "주어진 문자열 s = \"Data Science\"를 거꾸로 뒤집어서 출력하세요."
   ]
  },
  {
   "cell_type": "code",
   "execution_count": null,
   "metadata": {},
   "outputs": [
    {
     "name": "stdout",
     "output_type": "stream",
     "text": [
      "ecneicS ataD\n"
     ]
    }
   ],
   "source": [
    "#왜 거꾸로?\n",
    "s = \"Data Science\"\n",
    "result = s[::-1] # 0부터 0까지 -1까지. 즉 반대로 출력.\n",
    "print(result)"
   ]
  },
  {
   "cell_type": "markdown",
   "metadata": {},
   "source": [
    "## 문제 5\n",
    "문자열 s = \"   OpenAI   \"에서 양쪽 공백을 제거하고, 모든 문자를 대문자로 변환하여 출력하세요."
   ]
  },
  {
   "cell_type": "code",
   "execution_count": null,
   "metadata": {},
   "outputs": [
    {
     "name": "stdout",
     "output_type": "stream",
     "text": [
      "OPENAI\n"
     ]
    }
   ],
   "source": [
    "s = \"   OpenAI   \"\n",
    "result = s.strip().upper() # 이런 식의 구성은 추후 디버깅이 어려울 수 있으니 단계적으로 검증이 필요!\n",
    "print(result)"
   ]
  },
  {
   "cell_type": "markdown",
   "metadata": {},
   "source": [
    "## 문제 6\n",
    "사용자에게 이메일 주소를 입력받아, 아이디 부분과 도메인 부분을 분리하여 출력하세요."
   ]
  },
  {
   "cell_type": "raw",
   "metadata": {},
   "source": [
    "입력 : \n",
    "\n",
    "이메일 주소를 입력하세요 : spartacodingAI@naver.com"
   ]
  },
  {
   "cell_type": "raw",
   "metadata": {},
   "source": [
    "출력 : \n",
    "\n",
    "아이디 : spartacodingAI\n",
    "도메인 : naver.com"
   ]
  },
  {
   "cell_type": "code",
   "execution_count": 75,
   "metadata": {},
   "outputs": [
    {
     "name": "stdout",
     "output_type": "stream",
     "text": [
      "['spartacodingAI', 'naver.com']\n",
      "아이디 :  spartacodingAI\n",
      "이메일 :  naver.com\n",
      "아이디 : spartacodingAI 이메일 : naver.com\n"
     ]
    }
   ],
   "source": [
    "userinput_email = input(\"입력 :\")\n",
    "result = userinput_email.split('@')\n",
    "print(result) # 리스트로 반환 되는 것을 유의하자!\n",
    "print(\"아이디 : \", result[0])\n",
    "print(\"이메일 : \", result[1])\n",
    "\n",
    "username, domain = userinput_email.split('@')\n",
    "print(\"아이디 :\", username,\"이메일 :\", domain)"
   ]
  },
  {
   "cell_type": "markdown",
   "metadata": {},
   "source": [
    "## 문제 7\n",
    "문자열 s = \"abcdefg\"에서 인덱스가 홀수인 문자들만 출력하세요."
   ]
  },
  {
   "cell_type": "code",
   "execution_count": 98,
   "metadata": {},
   "outputs": [
    {
     "name": "stdout",
     "output_type": "stream",
     "text": [
      "bdf\n",
      "aceg\n",
      "bdf\n",
      "aceg\n"
     ]
    }
   ],
   "source": [
    "s = \"abcdefg\"\n",
    "odd = s[-6:-1:2] #인덱스가 홀수\n",
    "even = s[-7::2]  #인덱스가 짝수\n",
    "\n",
    "odd_2 = s[1::2]  #인덱스가 홀수 2 번째 방법. \n",
    "even_2 = s[::2]  #인덱스가 짝수 2 번째 빙법.\n",
    "\n",
    "print(odd)\n",
    "print(even)\n",
    "print(odd_2)\n",
    "print(even_2)\n"
   ]
  },
  {
   "cell_type": "markdown",
   "metadata": {},
   "source": [
    "# 심화\n",
    "반복문, 조건문 등 사용"
   ]
  },
  {
   "cell_type": "markdown",
   "metadata": {},
   "source": [
    "## 문제 1\n",
    "문자열 s = \"The quick brown fox\"에서 모음('a', 'e', 'i', 'o', 'u')을 모두 제거한 새로운 문자열을 출력하세요."
   ]
  },
  {
   "cell_type": "code",
   "execution_count": null,
   "metadata": {},
   "outputs": [
    {
     "name": "stdout",
     "output_type": "stream",
     "text": [
      "True\n"
     ]
    }
   ],
   "source": [
    "# 문제 1. s 문자열에서 ('a', 'e', 'i', 'o', 'u') 제거.\n",
    "s = \"The quick brown fox\"\n",
    "\n",
    "new_str = s for s not in:('a', 'e', 'i', 'o', 'u')\n",
    "print(new_str)\n"
   ]
  },
  {
   "cell_type": "markdown",
   "metadata": {},
   "source": [
    "## 문제 2 (digit 함수 사용)\n",
    "주어진 문자열 s = \"Hello123World456\"에서 문자열에 포함된 모든 숫자들을 추출하여 리스트로 만드세요."
   ]
  },
  {
   "cell_type": "code",
   "execution_count": null,
   "metadata": {},
   "outputs": [],
   "source": [
    "s = \"Hello123World456\""
   ]
  },
  {
   "cell_type": "markdown",
   "metadata": {},
   "source": [
    "## 문제 3 (끝판왕)\n",
    "주어진 문자열 s = \"aaabbbcccaaa\"에서 각 문자와 그 연속된 개수를 출력하여 \"a3b3c3a3\" 형태의 새로운 문자열을 만드세요."
   ]
  },
  {
   "cell_type": "code",
   "execution_count": null,
   "metadata": {},
   "outputs": [],
   "source": [
    "s = \"aaabbbcccaaa\""
   ]
  }
 ],
 "metadata": {
  "kernelspec": {
   "display_name": "python (myenv)",
   "language": "python",
   "name": "myenv"
  },
  "language_info": {
   "codemirror_mode": {
    "name": "ipython",
    "version": 3
   },
   "file_extension": ".py",
   "mimetype": "text/x-python",
   "name": "python",
   "nbconvert_exporter": "python",
   "pygments_lexer": "ipython3",
   "version": "3.8.20"
  }
 },
 "nbformat": 4,
 "nbformat_minor": 2
}
