{
 "cells": [
  {
   "cell_type": "markdown",
   "metadata": {},
   "source": [
    "## 문제 1\n",
    "다음 코드의 출력 결과를 예측해보세요."
   ]
  },
  {
   "cell_type": "code",
   "execution_count": 16,
   "metadata": {},
   "outputs": [
    {
     "name": "stdout",
     "output_type": "stream",
     "text": [
      "10\n"
     ]
    }
   ],
   "source": [
    "# x는 5라는 변수 할당.\n",
    "x = 5\n",
    "\n",
    "#2. y라는 변수에 (x의 값인 5라는 값)이 할당.\n",
    "y = x\n",
    "\n",
    "#3. 이후에 x라는 변수에 10이 재할당, y에는 변화 없음.\n",
    "x = 10\n",
    "\n",
    "#y를 출력하면 10\n",
    "y = x\n",
    "print(y)\n",
    "\n"
   ]
  },
  {
   "cell_type": "code",
   "execution_count": null,
   "metadata": {},
   "outputs": [
    {
     "name": "stdout",
     "output_type": "stream",
     "text": [
      "140720922729520\n",
      "140720922729680\n"
     ]
    }
   ],
   "source": [
    "# int(정수형) 불변(immutanle) 객체이다. 즉 값이 변경되지 않음.\n",
    "num1 = 5\n",
    "print(id(num1))\n",
    "\n",
    "num1 = 10\n",
    "print(id(num1))"
   ]
  },
  {
   "cell_type": "markdown",
   "metadata": {},
   "source": [
    "## 문제 1-2\n",
    "변수 a, b, c에 각각 1, 2, 3을 한 줄의 코드로 동시에 할당하는 코드를 작성하세요."
   ]
  },
  {
   "cell_type": "code",
   "execution_count": null,
   "metadata": {},
   "outputs": [],
   "source": [
    "a, b, c = 1, 2, 3"
   ]
  },
  {
   "cell_type": "markdown",
   "metadata": {},
   "source": [
    "## 문제 2\n",
    "변수 a와 b에 각각 10과 20을 할당하고, 두 변수의 값을 서로 교환하는 코드를 작성하세요."
   ]
  },
  {
   "cell_type": "raw",
   "metadata": {
    "vscode": {
     "languageId": "raw"
    }
   },
   "source": [
    "출력 결과 : \n",
    "\n",
    "교환 후 a의 값: 20\n",
    "교환 후 b의 값: 10"
   ]
  },
  {
   "cell_type": "code",
   "execution_count": null,
   "metadata": {},
   "outputs": [
    {
     "name": "stdout",
     "output_type": "stream",
     "text": [
      "20 10\n"
     ]
    }
   ],
   "source": [
    "a, b = 10, 20\n",
    "a, b = b, a\n",
    "print(\"교환 후 a의 값:\", a)\n",
    "print(\"교환 후 b의 값:\", b)"
   ]
  },
  {
   "cell_type": "markdown",
   "metadata": {},
   "source": [
    "## 문제 3\n",
    "다음 코드에서 변수 result의 데이터 타입은 무엇인지 예측해보세요"
   ]
  },
  {
   "cell_type": "raw",
   "metadata": {
    "vscode": {
     "languageId": "raw"
    }
   },
   "source": [
    "a = 10\n",
    "b = 3.5\n",
    "result = a + b"
   ]
  },
  {
   "cell_type": "code",
   "execution_count": null,
   "metadata": {},
   "outputs": [],
   "source": [
    "#float "
   ]
  },
  {
   "cell_type": "markdown",
   "metadata": {},
   "source": [
    "## 문제 4\n",
    "변수 이름으로 사용할 수 없는 것을 모두 고르세요."
   ]
  },
  {
   "cell_type": "raw",
   "metadata": {
    "vscode": {
     "languageId": "raw"
    }
   },
   "source": [
    "1. my_var\n",
    "2. 1st_place # 변수의 시작을 숫자로 불가능.\n",
    "3. total$    # 변수에 특수문자 불가능.\n",
    "4. _count\n",
    "5. for       #변수에 예약어 사용 불가능."
   ]
  },
  {
   "cell_type": "code",
   "execution_count": null,
   "metadata": {},
   "outputs": [],
   "source": [
    "# 변수명은 밑줄과 영문자로 시작하되, 영문자/숫자/밑줄로만 구성 가능.\n",
    "\n",
    "#정답 : 2, 3, 5"
   ]
  },
  {
   "cell_type": "markdown",
   "metadata": {},
   "source": [
    "## 문제 5\n",
    "사용자로부터 두 개의 정수를 입력받아 변수 num1과 num2에 저장하고, 두 숫자의 곱셈과 나눗셈의 결과를 출력하는 코드를 작성하세요.\n",
    "* 고려 사항 : 두 변수의 계산 결과를 새로운 변수에 저장해야 한다!"
   ]
  },
  {
   "cell_type": "code",
   "execution_count": 27,
   "metadata": {},
   "outputs": [
    {
     "name": "stdout",
     "output_type": "stream",
     "text": [
      "0.5\n",
      "32\n"
     ]
    }
   ],
   "source": [
    "num1, num2 = map(int, input(\"입력하세요: \").split())\n",
    "multiflt_num = num1*num2\n",
    "devide_num = num1/num2\n",
    "\n",
    "print(devide_num)\n",
    "print(multiflt_num)"
   ]
  },
  {
   "cell_type": "markdown",
   "metadata": {},
   "source": [
    "## 문제 6\n",
    "다음 코드의 실행 결과를 예측해보세요."
   ]
  },
  {
   "cell_type": "raw",
   "metadata": {},
   "source": [
    "x = 5\n",
    "x += 3\n",
    "x *= 2\n",
    "print(x)"
   ]
  },
  {
   "cell_type": "code",
   "execution_count": null,
   "metadata": {},
   "outputs": [],
   "source": [
    "#정답: 16"
   ]
  },
  {
   "cell_type": "markdown",
   "metadata": {},
   "source": [
    "## 문제 7\n",
    "파이썬에서 변수 PI를 선언하여 원주율 3.14159를 저장하고, 반지름이 5인 원의 면적을 계산하여 출력하는 코드를 작성하세요. (원의 면적 = PI * r * r)"
   ]
  },
  {
   "cell_type": "code",
   "execution_count": 30,
   "metadata": {},
   "outputs": [
    {
     "name": "stdout",
     "output_type": "stream",
     "text": [
      "78.53975\n",
      "원의 면적은 78.53975입니다.\n"
     ]
    }
   ],
   "source": [
    "pi = 3.14159\n",
    "r = 5\n",
    "result = pi * r * r\n",
    "\n",
    "print(result)\n",
    "print(f\"원의 면적은 {result}입니다.\")"
   ]
  },
  {
   "cell_type": "markdown",
   "metadata": {},
   "source": [
    "## 문제 8\n",
    "다음 코드에서 변수 c의 값은 무엇인지 쓰세요."
   ]
  },
  {
   "cell_type": "raw",
   "metadata": {},
   "source": [
    "a = '3'\n",
    "b = 4\n",
    "c = a * b"
   ]
  },
  {
   "cell_type": "code",
   "execution_count": null,
   "metadata": {},
   "outputs": [],
   "source": [
    "#정답 : 3333"
   ]
  },
  {
   "cell_type": "markdown",
   "metadata": {},
   "source": [
    "## 문제 9\n",
    "변수 x에 숫자 10을 저장하고, 변수 y에 문자열 '10'을 저장했습니다.  \n",
    "이 두 변수가 같은 값인지, 같은 데이터 타입인지 비교하는 코드를 작성하고 결과를 출력하세요."
   ]
  },
  {
   "cell_type": "code",
   "execution_count": 32,
   "metadata": {},
   "outputs": [
    {
     "name": "stdout",
     "output_type": "stream",
     "text": [
      "다른 값입니다.\n",
      "다른 값입니다.\n"
     ]
    }
   ],
   "source": [
    "x = 10\n",
    "y = '10'\n",
    "\n",
    "if x == y:\n",
    "    print(\"같은 값입니다.\")\n",
    "else:\n",
    "    print(\"다른 값입니다.\")\n",
    "\n",
    "if type(x) == type(y):\n",
    "    print(\"같은 값입니다.\")\n",
    "else:\n",
    "    print(\"다른 값입니다.\")\n",
    "    "
   ]
  },
  {
   "cell_type": "markdown",
   "metadata": {},
   "source": [
    "## 문제 10\n",
    "전역 변수와 지역 변수 얼마나 알고 계신가요?"
   ]
  },
  {
   "cell_type": "markdown",
   "metadata": {
    "vscode": {
     "languageId": "raw"
    }
   },
   "source": [
    "아래의 코드에서 전역 변수와 지역 변수를 찾아보세요!"
   ]
  },
  {
   "cell_type": "raw",
   "metadata": {
    "vscode": {
     "languageId": "raw"
    }
   },
   "source": [
    "count = 0\n",
    "\n",
    "def increment():\n",
    "    global count\n",
    "    count += 1\n",
    "    \n",
    "def greet():\n",
    "    message = \"안녕하세요\"\n",
    "    print(message)\n",
    "\n",
    "greet() \n",
    "increment()"
   ]
  },
  {
   "cell_type": "raw",
   "metadata": {
    "vscode": {
     "languageId": "raw"
    }
   },
   "source": [
    "#정답\n",
    "\n",
    "#전역변수 : count\n",
    "#지역변수 : message \n",
    "\n",
    "#'global' count 를 통해서 count에 갖다 쓸 수 있다. 즉, 전역변수인 count의 값에 변화를 줄 수 있다."
   ]
  },
  {
   "cell_type": "markdown",
   "metadata": {},
   "source": [
    "아래의 출력 결과를 생각해보세요"
   ]
  },
  {
   "cell_type": "raw",
   "metadata": {
    "vscode": {
     "languageId": "raw"
    }
   },
   "source": [
    "x = 'global x'\n",
    "\n",
    "def outer():\n",
    "    x = 'enclosed x'\n",
    "    def inner():\n",
    "        x = 'local x'\n",
    "        print(x)\n",
    "    inner()\n",
    "    print(x)\n",
    "\n",
    "outer()\n",
    "print(x) "
   ]
  },
  {
   "cell_type": "raw",
   "metadata": {
    "vscode": {
     "languageId": "raw"
    }
   },
   "source": [
    "enclosed = 전역\n",
    "local = 지역\n",
    "\n",
    "\n",
    "#정답\n",
    "local x\n",
    "enclosed x\n",
    "global x\n"
   ]
  }
 ],
 "metadata": {
  "kernelspec": {
   "display_name": "python (myenv)",
   "language": "python",
   "name": "myenv"
  },
  "language_info": {
   "codemirror_mode": {
    "name": "ipython",
    "version": 3
   },
   "file_extension": ".py",
   "mimetype": "text/x-python",
   "name": "python",
   "nbconvert_exporter": "python",
   "pygments_lexer": "ipython3",
   "version": "3.8.20"
  }
 },
 "nbformat": 4,
 "nbformat_minor": 2
}
