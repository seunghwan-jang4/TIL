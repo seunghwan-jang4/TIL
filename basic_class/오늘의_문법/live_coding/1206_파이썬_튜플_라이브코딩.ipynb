{
 "cells": [
  {
   "cell_type": "markdown",
   "metadata": {},
   "source": [
    "## 문제 1\n",
    "다음 코드의 출력 결과는 무엇인가요?"
   ]
  },
  {
   "cell_type": "raw",
   "metadata": {
    "vscode": {
     "languageId": "raw"
    }
   },
   "source": [
    "my_tuple = (1, 2, 3, 4, 5)\n",
    "print(my_tuple[2])\n",
    "print(my_tuple[4])\n",
    "print(my_tuple[6])"
   ]
  },
  {
   "cell_type": "raw",
   "metadata": {
    "vscode": {
     "languageId": "raw"
    }
   },
   "source": [
    "#정답\n",
    "3\n",
    "5\n",
    "에러 (슬라이싱은 사용하면 맨 뒤의 값이 나온다.)"
   ]
  },
  {
   "cell_type": "markdown",
   "metadata": {},
   "source": [
    "## 문제 2\n",
    "다음 튜플에서 값 4의 인덱스를 구하세요."
   ]
  },
  {
   "cell_type": "code",
   "execution_count": null,
   "metadata": {},
   "outputs": [
    {
     "name": "stdout",
     "output_type": "stream",
     "text": [
      "3\n"
     ]
    }
   ],
   "source": [
    "my_tuple = (1, 2, 3, 4, 5, 4, 4)\n",
    "result = my_tuple.index(4) # 요소가 여러 개일 경우, 첫 번째의 인덱스에 대해서 출력된다.\n",
    "print(result)"
   ]
  },
  {
   "cell_type": "markdown",
   "metadata": {},
   "source": [
    "## 문제 3\n",
    "다음 튜플에서 요소 3의 개수를 구하세요."
   ]
  },
  {
   "cell_type": "code",
   "execution_count": 11,
   "metadata": {},
   "outputs": [
    {
     "name": "stdout",
     "output_type": "stream",
     "text": [
      "4\n"
     ]
    }
   ],
   "source": [
    "my_tuple = (1, 3, 3, 3, 5, 3)\n",
    "answer = my_tuple.count(3)\n",
    "print(answer)"
   ]
  },
  {
   "cell_type": "markdown",
   "metadata": {},
   "source": [
    "## 문제 4\n",
    "다음 코드의 출력 결과는 무엇인가요?"
   ]
  },
  {
   "cell_type": "raw",
   "metadata": {
    "vscode": {
     "languageId": "raw"
    }
   },
   "source": [
    "# 리스트의 슬라이싱과 동일!\n",
    "my_tuple = (1, 2, 3, 4, 5)\n",
    "print(my_tuple[::-1])"
   ]
  },
  {
   "cell_type": "code",
   "execution_count": null,
   "metadata": {},
   "outputs": [],
   "source": [
    "# 정답: (5, 4, 3, 2, 1)"
   ]
  },
  {
   "cell_type": "markdown",
   "metadata": {},
   "source": [
    "## 문제 5\n",
    "튜플 my_tuple = (10, 20, 30, 40, 50)에서 첫 번째 요소와 마지막 요소를 제외한 중간 요소들로만 이루어진 튜플을 구하세요."
   ]
  },
  {
   "cell_type": "code",
   "execution_count": 24,
   "metadata": {},
   "outputs": [
    {
     "name": "stdout",
     "output_type": "stream",
     "text": [
      "(20, 30, 40)\n",
      "문제 1 정답은 (20, 30, 40)입니다.\n",
      "문제 2 정답은 (10, 30, 50)입니다.\n",
      "문제 3 정답은 (20, 40)입니다.\n"
     ]
    }
   ],
   "source": [
    "#문제 1.\n",
    "my_tuple = (10, 20, 30, 40, 50)\n",
    "result = my_tuple[1:4]\n",
    "print(result)\n",
    "\n",
    "#문제 1. 방법2\n",
    "my_tuple = (10, 20, 30, 40, 50)\n",
    "result_2 = my_tuple[1:-1] # 이게 더 직관적이고, 깔끔한 것 같다.\n",
    "print(f\"문제 1 정답은 {result}입니다.\")\n",
    "\n",
    "#문제 2. 홀수만 출력\n",
    "my_tuple = (10, 20, 30, 40, 50)\n",
    "answer = my_tuple[::2]\n",
    "print(f\"문제 2 정답은 {answer}입니다.\")\n",
    "\n",
    "#문제 3. 짝수만 출력.\n",
    "my_tuple = (10, 20, 30, 40, 50)\n",
    "answer = my_tuple[1::2]\n",
    "print(f\"문제 3 정답은 {answer}입니다.\")"
   ]
  },
  {
   "cell_type": "markdown",
   "metadata": {},
   "source": [
    "## 문제 6\n",
    "다음 코드의 출력 결과는 무엇인가요?"
   ]
  },
  {
   "cell_type": "raw",
   "metadata": {
    "vscode": {
     "languageId": "raw"
    }
   },
   "source": [
    "my_tuple = tuple('hello')\n",
    "print(my_tuple)"
   ]
  },
  {
   "cell_type": "code",
   "execution_count": null,
   "metadata": {},
   "outputs": [],
   "source": [
    "# 정답: ('h', 'e', 'l', 'l', 'o')"
   ]
  },
  {
   "cell_type": "markdown",
   "metadata": {},
   "source": [
    "### 문제 6-1\n",
    "튜플 (1, 2, 3)을 리스트 [1, 2, 3]으로 변환하는 코드를 작성하세요."
   ]
  },
  {
   "cell_type": "code",
   "execution_count": 20,
   "metadata": {},
   "outputs": [
    {
     "name": "stdout",
     "output_type": "stream",
     "text": [
      "[1, 2, 3]\n"
     ]
    }
   ],
   "source": [
    "tuple_n = (1, 2, 3)\n",
    "print(list(tuple_n))"
   ]
  },
  {
   "cell_type": "markdown",
   "metadata": {},
   "source": [
    "## 문제 7\n",
    "튜플 my_tuple = (1, 2, 3)이 있습니다. 이 튜플에 4를 추가하여 (1, 2, 3, 4)로 만들고 싶습니다. 어떻게 해야 하나요?"
   ]
  },
  {
   "cell_type": "code",
   "execution_count": null,
   "metadata": {},
   "outputs": [
    {
     "name": "stdout",
     "output_type": "stream",
     "text": [
      "(1, 2, 3, 4)\n"
     ]
    }
   ],
   "source": [
    "# 튜플에 요소 추가하는 법. / 리스트로 변환 후 추가한 뒤 다시 튜플로 변환하지 않아도 가능.\n",
    "my_tuple = (1, 2, 3)\n",
    "my_tuple += (4,) # 기존의 튜플을 수정한 것이 아닌, 새로운 요소를 추가한 튜플 생성!\n",
    "print(my_tuple)"
   ]
  },
  {
   "cell_type": "markdown",
   "metadata": {},
   "source": [
    "## 문제 8\n",
    "다음 코드의 출력 결과는 무엇인가요?"
   ]
  },
  {
   "cell_type": "raw",
   "metadata": {
    "vscode": {
     "languageId": "raw"
    }
   },
   "source": [
    "a = (1, 2)\n",
    "b = (3, 4)\n",
    "print(a * 2 + b) # a와 b를 재료로 새로운 tuple 생성한 것! 기존의 a와 b를 수정한 것이 아님!"
   ]
  },
  {
   "cell_type": "code",
   "execution_count": null,
   "metadata": {},
   "outputs": [],
   "source": [
    "# 정답: (1, 2, 1, 2, 3, 4)"
   ]
  },
  {
   "cell_type": "markdown",
   "metadata": {},
   "source": [
    "## 문제 9\n",
    "다음 코드의 출력 결과는 무엇인가요?"
   ]
  },
  {
   "cell_type": "raw",
   "metadata": {
    "vscode": {
     "languageId": "raw"
    }
   },
   "source": [
    "my_tuple = (1, [2, 3], 4)\n",
    "my_tuple[1][0] = 'a'\n",
    "print(my_tuple)\n",
    "# 튜플 자체는 불변. 하지만 튜플 내의 가변객체(mutable)가 있다면, 그 내부는 변경 가능."
   ]
  },
  {
   "cell_type": "code",
   "execution_count": null,
   "metadata": {},
   "outputs": [],
   "source": [
    "# 정답: (1, [a, 3], 4)"
   ]
  },
  {
   "cell_type": "markdown",
   "metadata": {},
   "source": [
    "## 문제 10\n",
    "다음 코드의 출력 결과는 무엇인가요?"
   ]
  },
  {
   "cell_type": "raw",
   "metadata": {
    "vscode": {
     "languageId": "raw"
    }
   },
   "source": [
    "a = (1, 2)\n",
    "b = (3, 4)\n",
    "a, b = b, a\n",
    "print(a)\n",
    "print(b)"
   ]
  },
  {
   "cell_type": "code",
   "execution_count": null,
   "metadata": {},
   "outputs": [],
   "source": [
    "# 정답:\n",
    "(3, 4)\n",
    "(1, 2)"
   ]
  },
  {
   "cell_type": "raw",
   "metadata": {
    "vscode": {
     "languageId": "raw"
    }
   },
   "source": [
    "# 언패킹\n",
    "my_tuple = (1, 2, 3)\n",
    "x, y, z = my_tuple\n",
    "print(x, y, z)"
   ]
  },
  {
   "cell_type": "code",
   "execution_count": null,
   "metadata": {},
   "outputs": [],
   "source": [
    "# 정답: 1, 2, 3 => 1 2 3"
   ]
  },
  {
   "cell_type": "raw",
   "metadata": {
    "vscode": {
     "languageId": "raw"
    }
   },
   "source": [
    "# 함수가 여러 값을 반환하면, 튜플로 묶어 반환.\n",
    "def func():\n",
    "    return 1, 2, 3\n",
    "\n",
    "result = func()\n",
    "print(type(result))"
   ]
  },
  {
   "cell_type": "raw",
   "metadata": {
    "vscode": {
     "languageId": "raw"
    }
   },
   "source": [
    "# 정답 : tuple"
   ]
  },
  {
   "cell_type": "markdown",
   "metadata": {},
   "source": [
    "## 문제 11\n",
    "다음 튜플에서 최대값과 최소값을 구하세요."
   ]
  },
  {
   "cell_type": "code",
   "execution_count": null,
   "metadata": {},
   "outputs": [],
   "source": [
    "numbers = (5, 2, 8, 1, 3)"
   ]
  },
  {
   "cell_type": "code",
   "execution_count": 31,
   "metadata": {},
   "outputs": [
    {
     "name": "stdout",
     "output_type": "stream",
     "text": [
      "8\n",
      "1\n"
     ]
    }
   ],
   "source": [
    "numbers = (5, 2, 8, 1, 3)\n",
    "result = max(numbers)\n",
    "answer = min(numbers)\n",
    "print(result)\n",
    "print(answer)\n"
   ]
  },
  {
   "cell_type": "markdown",
   "metadata": {},
   "source": [
    "## 문제 12\n",
    "튜플 (1, 2, 3, 4, 5)를 문자열 '1 2 3 4 5'로 변환하는 코드를 작성하세요."
   ]
  },
  {
   "cell_type": "code",
   "execution_count": 40,
   "metadata": {},
   "outputs": [
    {
     "name": "stdout",
     "output_type": "stream",
     "text": [
      "1 2 3 4 5\n"
     ]
    }
   ],
   "source": [
    "tuple_1 = (1, 2, 3, 4, 5)\n",
    "result = ' '.join(map(str, tuple_1))\n",
    "print(result)"
   ]
  }
 ],
 "metadata": {
  "kernelspec": {
   "display_name": "python (myenv)",
   "language": "python",
   "name": "myenv"
  },
  "language_info": {
   "codemirror_mode": {
    "name": "ipython",
    "version": 3
   },
   "file_extension": ".py",
   "mimetype": "text/x-python",
   "name": "python",
   "nbconvert_exporter": "python",
   "pygments_lexer": "ipython3",
   "version": "3.8.20"
  }
 },
 "nbformat": 4,
 "nbformat_minor": 2
}
