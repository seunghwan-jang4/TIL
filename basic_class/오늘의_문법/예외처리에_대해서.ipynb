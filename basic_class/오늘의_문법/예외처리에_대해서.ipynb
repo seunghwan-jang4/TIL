{
 "cells": [
  {
   "cell_type": "markdown",
   "metadata": {},
   "source": [
    "## 1. 예외(Exceptions)란?\n",
    "\n",
    "**예외(Exception)** 는 프로그램 실행 도중에 발생하는 오류를 의미. 파이썬에서 예외가 발생하면, `예외 유형과 관련 메시지를 출력하고 프로그램을 종료하는 것`이 일반적인 기본 동작."
   ]
  },
  {
   "cell_type": "code",
   "execution_count": null,
   "metadata": {},
   "outputs": [],
   "source": [
    "# 밑의 예외처리 구문을 통해, 예외처리가 가능.\n",
    "number = int(input(\"숫자를 입력하세요: \"))  # 사용자가 \"abc\"를 입력한다고 가정\n",
    "print(\"입력한 숫자:\", number) # ValueError 발생."
   ]
  },
  {
   "cell_type": "markdown",
   "metadata": {},
   "source": [
    "## 2. 기본 예외 처리 구문 (try-except)\n",
    "\n",
    "예외 처리의 기본적인 패턴은 `try-except` 구문을 이용."
   ]
  },
  {
   "cell_type": "code",
   "execution_count": null,
   "metadata": {},
   "outputs": [],
   "source": [
    "try:\n",
    "    # 예외가 발생할 수 있는 코드 블록\n",
    "except 예외타입:\n",
    "    # 예외 발생 시 실행할 코드 블록"
   ]
  },
  {
   "cell_type": "code",
   "execution_count": 4,
   "metadata": {},
   "outputs": [
    {
     "name": "stdout",
     "output_type": "stream",
     "text": [
      "올바른 숫자를 입력하지 않았습니다!\n"
     ]
    }
   ],
   "source": [
    "try:\n",
    "    number = int(input(\"숫자를 입력하세요: \")) \n",
    "    print(\"입력한 숫자:\", number)\n",
    "except ValueError: # ValueError가 발생한다면 실행. \n",
    "    print(\"올바른 숫자를 입력하지 않았습니다!\") # int타입을 제외한 문자를 집어넣었을 때, 출력 확인 가능."
   ]
  },
  {
   "cell_type": "markdown",
   "metadata": {},
   "source": [
    "## 3. 여러 예외 처리하기\n",
    "\n",
    "하나의 `try` 블록 안에서 여러 가지 유형의 예외가 발생 가능. \n",
    "\n",
    "이 경우 여러 개의 `except` 절을 사용, `각 예외마다 다른 처리 가능`."
   ]
  },
  {
   "cell_type": "code",
   "execution_count": 5,
   "metadata": {},
   "outputs": [
    {
     "name": "stdout",
     "output_type": "stream",
     "text": [
      "파일을 찾을 수 없습니다!\n"
     ]
    }
   ],
   "source": [
    "try:\n",
    "    f = open(\"nonexistent_file.txt\", \"r\")\n",
    "    number = int(input(\"숫자를 입력하세요: \"))\n",
    "    print(\"입력한 숫자:\", number)\n",
    "except FileNotFoundError:\n",
    "    print(\"파일을 찾을 수 없습니다!\")\n",
    "except ValueError:\n",
    "    print(\"올바른 숫자를 입력하세요!\")"
   ]
  },
  {
   "cell_type": "markdown",
   "metadata": {},
   "source": [
    "## 4. else와 finally 절\n",
    "\n",
    "예외 처리 구문에는 `else`와 `finally`라는 추가적인 절을 사용할 수 있습니다.\n",
    "\n",
    "- `else` 블록: `try` 블록에서 예외가 발생하지 않았을 때만 실행됩니다.\n",
    "- `finally` 블록: 예외 발생 여부와 상관없이 항상 실행됩니다. 주로 자원 정리(파일 닫기, DB 연결 종료 등)에 사용됩니다."
   ]
  },
  {
   "cell_type": "code",
   "execution_count": null,
   "metadata": {},
   "outputs": [],
   "source": []
  },
  {
   "cell_type": "markdown",
   "metadata": {},
   "source": [
    "## 5. 예외 클래스와 상속 구조\n",
    "\n",
    "파이썬에서는 예외들도 클래스 구조로 되어 있으며, 모든 예외는 `BaseException` 클래스를 상속합니다. 실제로 주로 사용되는 예외들은 `Exception` 클래스를 기반으로 합니다.\n",
    "\n",
    "일반적인 예외 클래스 예:\n",
    "\n",
    "- `ValueError`: 값이 유효하지 않을 때\n",
    "- `TypeError`: 자료형이 올바르지 않을 때\n",
    "- `IndexError`: 리스트나 튜플 등의 인덱스 범위가 벗어났을 때\n",
    "- `KeyError`: 딕셔너리에 없는 키를 사용했을 때\n",
    "- `FileNotFoundError`: 존재하지 않는 파일에 접근할 때\n",
    "- `ZeroDivisionError`: 0으로 나누었을 때\n",
    "\n",
    "필요하다면 사용자가 직접 예외 클래스를 정의할 수도 있습니다."
   ]
  },
  {
   "cell_type": "code",
   "execution_count": null,
   "metadata": {},
   "outputs": [],
   "source": []
  },
  {
   "cell_type": "markdown",
   "metadata": {},
   "source": [
    "## 6. 예외 발생시키기 (raise)\n",
    "\n",
    "`raise` 키워드를 사용하면 예외를 의도적으로 발생시킬 수 있습니다. 이는 특정 조건에서 무조건 예외를 일으켜서 상위 로직에서 처리하도록 하는데 유용합니다."
   ]
  },
  {
   "cell_type": "code",
   "execution_count": null,
   "metadata": {},
   "outputs": [],
   "source": []
  },
  {
   "cell_type": "markdown",
   "metadata": {},
   "source": [
    "## 7. 예외 체이닝 (from 구문)\n",
    "\n",
    "파이썬 3에서는 `raise`문에 `from`을 사용하여 **예외 체이닝(Exception Chaining)**을 할 수 있습니다. 이 기능은 예외를 감싸서 새로운 예외를 발생시킬 때 원래 예외 정보를 유지하도록 돕습니다."
   ]
  },
  {
   "cell_type": "code",
   "execution_count": null,
   "metadata": {},
   "outputs": [],
   "source": []
  },
  {
   "cell_type": "markdown",
   "metadata": {},
   "source": [
    "## 8. 실용 예시\n",
    "\n",
    "### 파일 읽기 안전하게 하기"
   ]
  },
  {
   "cell_type": "code",
   "execution_count": null,
   "metadata": {},
   "outputs": [],
   "source": []
  },
  {
   "cell_type": "markdown",
   "metadata": {},
   "source": [
    "### 사용자 정의 예외 사용하기"
   ]
  },
  {
   "cell_type": "code",
   "execution_count": null,
   "metadata": {},
   "outputs": [],
   "source": []
  },
  {
   "cell_type": "markdown",
   "metadata": {},
   "source": [
    "## 정리\n",
    "\n",
    "- 예외는 코드 실행 중 발생하는 오류 상황을 나타내며, 적절한 예외 처리를 통해 프로그램의 비정상 종료를 피하고 더 나은 사용자 경험을 제공할 수 있습니다.\n",
    "- `try-except` 구조를 사용하면 예외 상황이 발생하더라도 프로그램이 중단되지 않고 특정 처리 로직을 실행할 수 있습니다.\n",
    "- `else` 구문을 사용하면 예외가 없는 경우에만 추가적인 작업을 수행할 수 있으며, `finally` 구문을 통해 예외 발생 여부와 상관없이 반드시 실행되어야 하는 정리 작업을 할 수 있습니다.\n",
    "- 내장 예외 클래스는 다양하며, 필요하다면 직접 예외 클래스를 정의할 수 있습니다.\n",
    "- `raise`로 예외를 강제로 발생시키고, `from` 키워드를 통해 예외 체이닝을 수행할 수도 있습니다."
   ]
  }
 ],
 "metadata": {
  "kernelspec": {
   "display_name": "python (myenv)",
   "language": "python",
   "name": "myenv"
  },
  "language_info": {
   "codemirror_mode": {
    "name": "ipython",
    "version": 3
   },
   "file_extension": ".py",
   "mimetype": "text/x-python",
   "name": "python",
   "nbconvert_exporter": "python",
   "pygments_lexer": "ipython3",
   "version": "3.8.20"
  }
 },
 "nbformat": 4,
 "nbformat_minor": 2
}
