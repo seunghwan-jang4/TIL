{
 "cells": [
  {
   "cell_type": "markdown",
   "metadata": {},
   "source": [
    "## 1. 문자열이란\n",
    "\n",
    "* 문자열(String)은 문자(character)의 연속(sequence)으로 이루어진 데이터 타입.\n",
    "\n",
    "* 문자, 단어, 문장 등 텍스트 데이터를 표현할 때 사용.\n",
    "* 작은따옴표 ' ' 또는 큰따옴표 \" \"로 감싸서 표현.\n"
   ]
  },
  {
   "cell_type": "code",
   "execution_count": 2,
   "metadata": {},
   "outputs": [
    {
     "name": "stdout",
     "output_type": "stream",
     "text": [
      "안녕하세요! 문자열에 대해서 알아봅시다!\n"
     ]
    }
   ],
   "source": [
    "#작은 따옴표로 문자열 생성\n",
    "message1 = '안녕하세요!'\n",
    "\n",
    "# 큰 따옴표로 문자열 생성\n",
    "message2 = \"문자열에 대해서 알아봅시다!\"\n",
    "\n",
    "print(message1, message2)"
   ]
  },
  {
   "cell_type": "markdown",
   "metadata": {},
   "source": [
    "## 2. 문자열 생성 방법\n"
   ]
  },
  {
   "cell_type": "code",
   "execution_count": null,
   "metadata": {},
   "outputs": [
    {
     "name": "stdout",
     "output_type": "stream",
     "text": [
      "hello, world! python programing\n"
     ]
    }
   ],
   "source": [
    "# 2-1. '' 혹은 \"\" 사용.\n",
    "str1 = 'hello, world!'\n",
    "str2 = \"python programing\"\n",
    "\n",
    "print(str1, str2)"
   ]
  },
  {
   "cell_type": "code",
   "execution_count": 5,
   "metadata": {},
   "outputs": [
    {
     "name": "stdout",
     "output_type": "stream",
     "text": [
      "이것은\n",
      "여러 줄로 이루어진 \n",
      "문\n",
      "자\n",
      "열\n",
      "입니다.\n"
     ]
    }
   ],
   "source": [
    "# 2-2. 삼중 따옴표 ''' ''' 또는 \"\"\" \"\"\"를 사용, 여러 줄로 이루어진 문자열 생성 가능.\n",
    "multiline_str = '''이것은\n",
    "여러 줄로 이루어진 \n",
    "문\n",
    "자\n",
    "열\n",
    "입니다.'''\n",
    "\n",
    "print(multiline_str)\n"
   ]
  },
  {
   "cell_type": "markdown",
   "metadata": {},
   "source": [
    "## 3. 문자열의 특수 문자(Escape Characters)\n",
    "\n",
    "* 특수 문자를 문자열에 포함시키기 위해 이스케이프 문자 사용."
   ]
  },
  {
   "cell_type": "code",
   "execution_count": null,
   "metadata": {},
   "outputs": [
    {
     "name": "stdout",
     "output_type": "stream",
     "text": [
      "Hello\n",
      "wolrd\n",
      "tap\tspace\n",
      "he said, \"python is fun\"\n",
      "he said, 'python is fun'\n"
     ]
    }
   ],
   "source": [
    "# 이스케이프 문자사용의 예.\n",
    "print('Hello\\nwolrd') # \\n : 줄 바꿈.\n",
    "print('tap\\tspace') # \\t : 탭, 띄어쓰기 4칸.\n",
    "print('he said, \"python is fun\"') # 큰따옴표 포함.\n",
    "print('he said, \\'python is fun\\'') # \\ 를 사용하여 ''만으로 표현."
   ]
  },
  {
   "cell_type": "markdown",
   "metadata": {},
   "source": [
    "## 4. Raw String\n",
    "\n",
    "* 이스케이프 문자를 무시하기 위해 r 또는 R 접두사를 사용.\n",
    "* 문자열에 그대로, Raw String을 생성 가능. "
   ]
  },
  {
   "cell_type": "code",
   "execution_count": null,
   "metadata": {},
   "outputs": [
    {
     "name": "stdout",
     "output_type": "stream",
     "text": [
      "C:\\Users\\82103\\Desktop\\test\n"
     ]
    }
   ],
   "source": [
    " #r'' 을 사용하여 문자열 그대로 출력.\n",
    "path = r'C:\\Users\\82103\\Desktop\\test'\n",
    "print(path)"
   ]
  },
  {
   "cell_type": "markdown",
   "metadata": {},
   "source": [
    "## 5. 문자열 인덱싱과 슬라이싱\n",
    "\n",
    "\n",
    "**5.1. 인덱싱(Indexing)**\n",
    "\n",
    "* 문자열의 특정 위치에 있는 문자를 가져올 수 있다. \n",
    "* 인덱스는 0부터 시작, 음수를 사용하면 뒤에서부터 접근 가능.\n",
    "\n",
    "\n",
    "\n",
    "**5.2. 슬라이싱(Slicing)**\n",
    "\n",
    "* 문자열의 부분 문자열(substring)을 추출하는 데 사용.\n",
    "\n"
   ]
  },
  {
   "cell_type": "markdown",
   "metadata": {},
   "source": [
    "<!-- 5. 문자열 인덱싱과 슬라이싱 -->"
   ]
  },
  {
   "cell_type": "code",
   "execution_count": null,
   "metadata": {},
   "outputs": [
    {
     "name": "stdout",
     "output_type": "stream",
     "text": [
      "p\n",
      "y\n",
      "n\n"
     ]
    }
   ],
   "source": [
    "#인덱싱 (Indexing)\n",
    "str = 'python'\n",
    "\n",
    "print(str[0]) # 맨 처음의 값을 가져온다.\n",
    "print(str[1]) # 0이 첫 번째 값을 가져오므로, [1]이지만 두 번째 값을 가져온다. \n",
    "print(str[-1]) # 맨 뒤의 값을 가져온다."
   ]
  },
  {
   "cell_type": "markdown",
   "metadata": {},
   "source": [
    "#### 응용 팁\n",
    "* **거꾸로 가져오기**\n",
    " str[::-1] → 문자열을 뒤집는다.\n",
    "\n",
    "* **특정 간격으로 가져오기**\n",
    "str[::2] → 2칸씩 건너뛰며 가져오기 (Hlo ol!).\n",
    "\n",
    "* **범위에서 건너뛰기**\n",
    "str[1:10:2] → 1부터 9까지 2칸씩 건너뛰기."
   ]
  },
  {
   "cell_type": "code",
   "execution_count": null,
   "metadata": {},
   "outputs": [
    {
     "name": "stdout",
     "output_type": "stream",
     "text": [
      "Hello, world!\n",
      "Hello\n",
      ",\n",
      "world!\n",
      "Hello\n",
      "world\n",
      "!dlrow ,olleH\n",
      "Hlo ol!\n",
      "eow\n"
     ]
    }
   ],
   "source": [
    "#슬라이싱 (Slicing) / 간단하게 이상과 미만으로 대입해서 생각해 보면 쉽다.\n",
    "\n",
    "str = 'Hello, world!'\n",
    "\n",
    "print(str[0:]) # 0부터 끝까지 전부 출력. / Hello, world!\n",
    "print(str[0:5]) # 1이상 5미만의 결과를 가져온다. / Hello\n",
    "print(str[5:6]) # 5이상 6미만의 결과를 가져온다. 중복 결과를 가져오지 않는다.\n",
    "print(str[7:]) # 7이상의 결과를 가져온다. / world!\n",
    "print(str[:5]) # 5이하의 결과를 다 가져온다. / Hello\n",
    "print(str[-6:-1]) # 뒤에서 6번째 값부터 맨 뒤의 값까지 가져온다. / world!\n",
    "\n",
    "print(str[::-1]) # 뒤집은 결과. / !dlrow ,olleH\n",
    "print(str[::2]) # 2칸씩 건너뛰며 가져온 결과. / Hlo ol!\n",
    "print(str[1:10:3]) #'1'부터 '10'까지 '3'씩 뛰어넘으며 가져온 결과. / eow"
   ]
  },
  {
   "cell_type": "markdown",
   "metadata": {},
   "source": [
    "## 6. 문자열 연산\n",
    "\n",
    "* 연산자+를 사용하여 문자열을 연결가능."
   ]
  },
  {
   "cell_type": "code",
   "execution_count": null,
   "metadata": {},
   "outputs": [
    {
     "name": "stdout",
     "output_type": "stream",
     "text": [
      "hello, world\n"
     ]
    }
   ],
   "source": [
    "#6.1. 문자열 연결(Concatenation)\n",
    "str1 = 'hello'\n",
    "str2 = 'world'\n",
    "\n",
    "print(str1 +', '+str2) # str1, str2 사이에 공백과, 추가."
   ]
  },
  {
   "cell_type": "code",
   "execution_count": 13,
   "metadata": {},
   "outputs": [
    {
     "name": "stdout",
     "output_type": "stream",
     "text": [
      "hahahahaha\n"
     ]
    }
   ],
   "source": [
    "#6.2. 문자열 반복(Repetition)\n",
    "str = 'ha'\n",
    "print(str*5)"
   ]
  },
  {
   "cell_type": "markdown",
   "metadata": {},
   "source": [
    "## 7. 문자열 메서드(String Methods)\n",
    "\n",
    "**7.1. 대소문자 변환**\n",
    "\n",
    "- `upper()`: 모든 문자를 대문자로 변환합니다.\n",
    "- `lower()`: 모든 문자를 소문자로 변환합니다.\n",
    "- `capitalize()`: 첫 번째 문자를 대문자로 변환합니다.\n",
    "- `title()`: 각 단어의 첫 문자를 대문자로 변환합니다.\n",
    "\n",
    "**7.2. 문자열 검색 및 교체**\n",
    "\n",
    "- `find(sub)`: 부분 문자열 `sub`를 찾아 인덱스를 반환합니다. 없으면 `1`을 반환합니다.\n",
    "- `index(sub)`: 부분 문자열 `sub`를 찾아 인덱스를 반환합니다. 없으면 오류 발생합니다.\n",
    "- `replace(old, new)`: 문자열 내의 `old`를 `new`로 교체합니다. (예를 들어 ',','' 를 통해 공백으로 변환 가능. )"
   ]
  },
  {
   "cell_type": "code",
   "execution_count": null,
   "metadata": {},
   "outputs": [
    {
     "name": "stdout",
     "output_type": "stream",
     "text": [
      "HELLO PYTHON PROGRMING\n",
      "hello python progrming\n",
      "Hello python progrming\n",
      "Hello Python Progrming\n",
      "hELLo PYTHON pROGRMINg\n"
     ]
    }
   ],
   "source": [
    "#7.1 대소문자 변환\n",
    "str = 'HellO python ProgrminG'\n",
    "\n",
    "print(str.upper()) #대문자로 변환.\n",
    "print(str.lower()) #소문자로 변환.\n",
    "print(str.capitalize()) #첫 번째 문자를 대문자로 변환.\n",
    "print(str.title()) #각 단어의 첫 문자를 대문자로 변환.\n",
    "print(str.swapcase()) #대소문자를 각각 변환.\n"
   ]
  },
  {
   "cell_type": "markdown",
   "metadata": {},
   "source": [
    " **find와 index 방식의 차이**\n",
    "- find: 안전한 방식으로 문자열 검색, 결과가 없으면 -1 반환.\n",
    "- index: 엄격한 방식으로 문자열 검색, 결과가 없으면 ValueError 발생.\n",
    "\n",
    "\n",
    "**정리**\n",
    "- 프로그램이 중단되면 안 되거나 오류처리를 따로 할 필요 없을 경우, find 사용.\n",
    "\n",
    "- 문제 상황을 명확히 드러내야 할 경우, index 사용.\n",
    "\n"
   ]
  },
  {
   "cell_type": "code",
   "execution_count": null,
   "metadata": {},
   "outputs": [
    {
     "name": "stdout",
     "output_type": "stream",
     "text": [
      "7\n",
      "7\n",
      "I love Java programming. Java is fun!\n"
     ]
    }
   ],
   "source": [
    "#7.2. 문자열 검색 및 교체\n",
    "str = 'I love Python programming. Python is fun!'\n",
    "print(str.find('Python')) # 첫 번째 'python'의 인덱스 반환\n",
    "print(str.index('Python')) # 첫 번째 'python'의 인덱스 반환\n",
    "#print(str.index('hello')) # str에 없는 문자일 때 에러 발생!\n",
    "print(str.replace('Python', 'Java'))"
   ]
  },
  {
   "cell_type": "markdown",
   "metadata": {},
   "source": [
    "### 7.3. 공백 제거\n",
    "\n",
    "- `strip()`: 문자열 양쪽의 공백을 제거합니다.\n",
    "- `lstrip()`: 문자열 왼쪽의 공백을 제거합니다.\n",
    "- `rstrip()`: 문자열 오른쪽의 공백을 제거합니다."
   ]
  },
  {
   "cell_type": "code",
   "execution_count": null,
   "metadata": {},
   "outputs": [
    {
     "name": "stdout",
     "output_type": "stream",
     "text": [
      "Hello, World!\n",
      "Hello, World!   \n",
      "   Hello, World!\n"
     ]
    }
   ],
   "source": [
    "str = '   Hello, World!   '\n",
    "\n",
    "print(str.strip())   # 양 쪽 공백 제거.\n",
    "print(str.lstrip())  # 왼 쪽 공백 제거. / '   Hello, World!' 출력.\n",
    "print(str.rstrip())  # 오른쪽 공백 제거."
   ]
  },
  {
   "cell_type": "markdown",
   "metadata": {},
   "source": [
    "### 7.4. 문자열 분할과 결합\n",
    "\n",
    "- `split(separator)`: 구분자 `separator`를 기준으로 문자열을 분할하여 리스트로 반환. (sep='')\n",
    "- `join(iterable)`: 문자열의 iterable 요소를 연결하여 하나의 문자열로 생성."
   ]
  },
  {
   "cell_type": "code",
   "execution_count": null,
   "metadata": {},
   "outputs": [
    {
     "name": "stdout",
     "output_type": "stream",
     "text": [
      "['apple', 'banana', 'cherry']\n",
      "apple$banana$cherry\n"
     ]
    }
   ],
   "source": [
    "str = 'apple,banana,cherry'\n",
    "\n",
    "# 문자열 분할 / ,을 기준으로 분할.\n",
    "fruits = str.split(',') \n",
    "print(fruits)\n",
    "\n",
    "#문자열 결합 / 문자열을 $로 연결.\n",
    "result = '$'.join(fruits)\n",
    "print(result)"
   ]
  },
  {
   "cell_type": "markdown",
   "metadata": {},
   "source": [
    "## 8. 문자열 서식화(String Formatting)\n",
    "\n",
    "* 문자열 내에 변수를 삽입하거나 특정 형식으로 표현."
   ]
  },
  {
   "cell_type": "code",
   "execution_count": 14,
   "metadata": {},
   "outputs": [
    {
     "name": "stdout",
     "output_type": "stream",
     "text": [
      "이름: 장승환, 나이: 26\n"
     ]
    }
   ],
   "source": [
    "# 8.1. % 연산자\n",
    "name = '장승환'\n",
    "age = 26\n",
    "\n",
    "print('이름: %s, 나이: %d' % (name,age))"
   ]
  },
  {
   "cell_type": "code",
   "execution_count": null,
   "metadata": {},
   "outputs": [
    {
     "name": "stdout",
     "output_type": "stream",
     "text": [
      "이름: 장승환, 나이: 26\n",
      "이름: 장승환, 나이: 26\n",
      "나이: 26, 이름: 장승환\n"
     ]
    }
   ],
   "source": [
    "# 8.2. format() 메서드\n",
    "print('이름: {}, 나이: {}'.format(name, age)) # name 과 age 가 들어갈 공간을 순서대로 만들어서 출력.\n",
    "print('이름: {0}, 나이: {1}'.format(name,age)) # 순서를 정하여 name, age 순으로 출력.\n",
    "print('나이: {age}, 이름: {name}'.format(name=name,age=age)) #변수 name에 들어갈 값이 name이라고 지정하여 age도 마찬가지로 각각 출력."
   ]
  },
  {
   "cell_type": "code",
   "execution_count": 15,
   "metadata": {},
   "outputs": [
    {
     "name": "stdout",
     "output_type": "stream",
     "text": [
      "이름: 장승환, 나이: 26\n"
     ]
    }
   ],
   "source": [
    "#8.3. f-문자열 (파이썬 3.6 이상) / 평소에 쓰던 f-string\n",
    "print(f\"이름: {name}, 나이: {age}\")"
   ]
  },
  {
   "cell_type": "markdown",
   "metadata": {},
   "source": [
    "## 9. 문자열의 불변성(Immutability)\n",
    "\n",
    "* 문자열은 불변(immutable) 객체.\n",
    "\n",
    "* 문자열을 생성한 후에는 그 값을 변경 불가능.\n",
    "* 변경이 필요할 경우, 새로운 문자열을 생성."
   ]
  },
  {
   "cell_type": "code",
   "execution_count": null,
   "metadata": {},
   "outputs": [
    {
     "name": "stdout",
     "output_type": "stream",
     "text": [
      "hello\n",
      "hello\n"
     ]
    }
   ],
   "source": [
    "#문자열의 불변성\n",
    "str = 'Hello'\n",
    "# str[0] = 'h'        #H 수정 불가능. 그렇기에 실행하면 오류가 생긴다. \n",
    "\n",
    "#다른 새 문자열 생성\n",
    "str = 'h' +str[1:] # H를 제외한 부분부터 가져와, 문자열끼리 더하여서 해결.  \n",
    "print(str)\n",
    "\n",
    "#새 문자열 생성. / 새 변수를 만드는 방법으로 해결.\n",
    "str = 'hello'\n",
    "print(str)\n",
    "\n",
    "\n"
   ]
  },
  {
   "cell_type": "markdown",
   "metadata": {},
   "source": [
    "## 10. 실용적인 예제\n",
    "\n",
    "\n",
    "* **10.1. 회문 판별(Palindrome)** : 앞 뒤로 읽어도 같은 단어 or 문장.\n",
    "* 10.2. 문자열에서 모음 제거\n",
    "* 10.3. 단어 빈도 수 계산\n"
   ]
  },
  {
   "cell_type": "code",
   "execution_count": null,
   "metadata": {},
   "outputs": [
    {
     "name": "stdout",
     "output_type": "stream",
     "text": [
      "level는 회문.\n",
      "level는 회문.\n"
     ]
    }
   ],
   "source": [
    "# 10.1. 회문 판별(Palindrome)\n",
    "word = 'level'\n",
    "\n",
    "\n",
    "#방법1. \n",
    "if word == word[::-1]:   # word[::-1] / word의 문자열을 뒤로부터 전부 가져온다.\n",
    "    print(f'{word}는 회문.')\n",
    "else:\n",
    "    print(f'{word}는 회문이 아님.')\n",
    "    \n",
    "#방법2. / list(reversed()) 사용. 문자열을 반대로 뒤집은 결과를 리스트 형태로 반환.\n",
    "if list(word) == list(reversed(word)):\n",
    "       print(f'{word}는 회문.')\n",
    "else:\n",
    "    print(f'{word}는 회문이 아님.')\n",
    "\n"
   ]
  },
  {
   "cell_type": "code",
   "execution_count": null,
   "metadata": {},
   "outputs": [
    {
     "name": "stdout",
     "output_type": "stream",
     "text": [
      "Hll, Pythn Prgrmmng!\n"
     ]
    }
   ],
   "source": [
    "# 10.2. 문자열에서 모음 제거.\n",
    "sentence = 'Hello, Python Programming!'\n",
    "vowels = 'aeiouAEIOU' # vowels = 모음\n",
    "\n",
    "#리스트 내포 사용. / 기존에 사용하던 리스트 컴프리헨션 형태. / char = character = 문자 \n",
    "result = ''.join([char for char in sentence if char not in vowels]) # not in을 사용. sentence에서 vowels의 값이 없는 것만 가져왔다.\n",
    "print(result)\n"
   ]
  },
  {
   "cell_type": "code",
   "execution_count": null,
   "metadata": {},
   "outputs": [
    {
     "name": "stdout",
     "output_type": "stream",
     "text": [
      "{'apple': 3, 'banana': 2, 'strawberry': 1}\n"
     ]
    }
   ],
   "source": [
    "# 10.3. 단어 빈도 수 계산.\n",
    "text = 'apple banana apple strawberry banana apple'\n",
    "\n",
    "words = text.split()\n",
    "word_count = {}\n",
    "\n",
    "#만약 word_count에 words의 단어중 속하는 게 있다면 각 1씩을 더하여 출력.\n",
    "for word in words:\n",
    "    if word in word_count:\n",
    "        word_count[word] += 1\n",
    "    else:\n",
    "        word_count[word] = 1\n",
    "        \n",
    "print(word_count)"
   ]
  },
  {
   "cell_type": "code",
   "execution_count": null,
   "metadata": {},
   "outputs": [],
   "source": []
  }
 ],
 "metadata": {
  "kernelspec": {
   "display_name": "python (myenv)",
   "language": "python",
   "name": "myenv"
  },
  "language_info": {
   "codemirror_mode": {
    "name": "ipython",
    "version": 3
   },
   "file_extension": ".py",
   "mimetype": "text/x-python",
   "name": "python",
   "nbconvert_exporter": "python",
   "pygments_lexer": "ipython3",
   "version": "3.8.20"
  }
 },
 "nbformat": 4,
 "nbformat_minor": 2
}
