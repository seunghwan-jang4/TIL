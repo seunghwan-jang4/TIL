{
  "nbformat": 4,
  "nbformat_minor": 0,
  "metadata": {
    "colab": {
      "provenance": []
    },
    "kernelspec": {
      "name": "python3",
      "display_name": "Python 3"
    },
    "language_info": {
      "name": "python"
    }
  },
  "cells": [
    {
      "cell_type": "markdown",
      "source": [
        "# n의 배수"
      ],
      "metadata": {
        "id": "mzEp1i_3WwKJ"
      }
    },
    {
      "cell_type": "code",
      "execution_count": null,
      "metadata": {
        "id": "m07Fi6h0Uka4"
      },
      "outputs": [],
      "source": [
        "def solution(num, n):\n",
        "    if num%n == 0 : return 1\n",
        "    else : return 0"
      ]
    },
    {
      "cell_type": "markdown",
      "source": [
        "# 공배수"
      ],
      "metadata": {
        "id": "Xd4V8ssxWx6W"
      }
    },
    {
      "cell_type": "code",
      "source": [
        "def solution(number, n, m):\n",
        "    if (number%n==0) and (number%m==0) : return 1\n",
        "    else : return 0"
      ],
      "metadata": {
        "id": "S2G9emIdW1Ge"
      },
      "execution_count": null,
      "outputs": []
    },
    {
      "cell_type": "markdown",
      "source": [
        "# 홀짝에 따라 다른 값 반환하기\n"
      ],
      "metadata": {
        "id": "d_jhLy8Kp7lh"
      }
    },
    {
      "cell_type": "code",
      "source": [
        "# 풀이 1\n",
        "def solution(n):\n",
        "    answer = 0\n",
        "    if (n%2==1) : # n이 홀수라면\n",
        "        for i in range(n, 0, -2) : # ex) 7 -> 5 -> 3 -> 1\n",
        "            answer += i\n",
        "    else: # n이 짝수라면\n",
        "        for i in range(n, 0, -2) : # ex ) 10 -> 8 -> ... ->  4 -> 2\n",
        "            answer += (i**2)\n",
        "    return answer"
      ],
      "metadata": {
        "id": "gVt3jykhp8A1"
      },
      "execution_count": null,
      "outputs": []
    },
    {
      "cell_type": "code",
      "source": [
        "# 풀이 2\n",
        "def solution(n):\n",
        "    if n%2:\n",
        "        return sum(range(1,n+1,2)) # 시작점에 따라 홀짝을 구분\n",
        "    return sum([i*i for i in range(2,n+1,2)])"
      ],
      "metadata": {
        "id": "gTiYsuSCp-_Z"
      },
      "execution_count": null,
      "outputs": []
    },
    {
      "cell_type": "code",
      "source": [
        "# 풀이 3번 (수호님 공유)\n",
        "# 풀이 3번 (수호님 공유)\n",
        "def solution(n):\n",
        "    int_list = range(n+1)\n",
        "    if n % 2 == 1: # 홀수일때\n",
        "        return sum(int_list[1::2]) #1부터 시작해서 2씩 건너뛴 요소들 ex) sum(1, 3, 5, 7, ..)\n",
        "    else: # 짝수일때\n",
        "        a = 0\n",
        "        for i in range(len(int_list[0::2])): #0부터 시작해서 2씩 건너뛸때\n",
        "            a += int_list[0::2][i]**2\n",
        "        return a\n",
        ""
      ],
      "metadata": {
        "id": "Pe11uj3VzBOA"
      },
      "execution_count": null,
      "outputs": []
    },
    {
      "cell_type": "markdown",
      "source": [
        "> for 문으로 리스트 간단히 만들기\n",
        "\n",
        "\n",
        "```\n",
        "[표현식 for 변수1 in 객체1 if 조건문1\n",
        "           for 변수2 in 객체2 if 조건문2\n",
        "           ......\n",
        "           for 변수n in 객체n if 조건문n]\n",
        "\n",
        "```\n",
        "\n",
        "\n",
        "\n",
        "- 위와 같이 for 변수 in 객체 if 조건문은 2개 이상으로 구성할 수도 있음\n",
        "- if 조건문은 생략 가능함"
      ],
      "metadata": {
        "id": "T_DuMWUYrPrK"
      }
    },
    {
      "cell_type": "code",
      "source": [
        "a = 'abcde'\n",
        "b = [val + 'k' for val in a]\n",
        "print(b)\n",
        "\n",
        "# 출력값 : ['ak', 'bk', 'ck', 'dk', 'ek']\n",
        "\n",
        "a = [1, 2, 3, 4, 5]\n",
        "b = [val * 5 for val in a]\n",
        "print(b)\n",
        "\n",
        "# 출력값 : [5, 10, 15, 20, 25]\n",
        "\n",
        "a = 'abcde'\n",
        "b = [val + 'k' for val in a if val == 'c']\n",
        "print(b)\n",
        "\n",
        "# 출력값 : ['ck']\n",
        "\n",
        "a = [1, 2, 3, 4, 5]\n",
        "b = [val * 5 for val in a if val < 3]\n",
        "print(b)\n",
        "\n",
        "# 출력값 : [5, 10]\n",
        "\n",
        "a1 = [1, 2, 3]\n",
        "a2 = [6, 7 ,8]\n",
        "b = [val1 + val2 for val1 in a1 if val1 < 3\n",
        "\t\t for val2 in a2 if val2 < 7]\n",
        "print(b)\n",
        "\n",
        "# 출력값 : [7, 8]\n",
        "# (val1, val2) 순서는 (1,6), (1,7), (1,8), (2,6), (2,7), (2,8), (3,6), (3,7), (3,8) 이며,\n",
        "# 각 조건문에 따라 (1,6)과 (2,6)만 채택됨"
      ],
      "metadata": {
        "id": "x1NR8GK_sGpP"
      },
      "execution_count": null,
      "outputs": []
    },
    {
      "cell_type": "markdown",
      "source": [
        "# 조건 문자열\n"
      ],
      "metadata": {
        "id": "pwtYFpEVqMek"
      }
    },
    {
      "cell_type": "code",
      "source": [
        "# 풀이 1\n",
        "def solution(ineq, eq, n, m):\n",
        "    answer = 0\n",
        "\n",
        "    if (ineq == '>' and eq == '='):\n",
        "        answer = 1 if n >= m else 0\n",
        "    elif (ineq == '<' and eq == '='):\n",
        "        answer = 1 if n <= m else 0\n",
        "    elif (ineq == '>' and eq == '!'):\n",
        "        answer = 1 if n > m else 0\n",
        "    elif (ineq == '<' and eq == '!'):\n",
        "        answer = 1 if n < m else 0\n",
        "\n",
        "    return answer"
      ],
      "metadata": {
        "id": "eWkpnOzyrL1W"
      },
      "execution_count": null,
      "outputs": []
    },
    {
      "cell_type": "code",
      "source": [
        "# 풀이 2\n",
        "def solution(ineq, eq, n, m):\n",
        "    answer = 0\n",
        "    if n > m and ineq ==\">\":\n",
        "        answer = 1\n",
        "    elif n < m and ineq == \"<\":\n",
        "        answer = 1\n",
        "    elif n == m and eq == \"=\":\n",
        "        answer = 1\n",
        "\n",
        "    return answer"
      ],
      "metadata": {
        "id": "L4qAVFoosfwo"
      },
      "execution_count": null,
      "outputs": []
    },
    {
      "cell_type": "code",
      "source": [
        "# 풀이 3: eval() = 문자열로 된 표현식을 실행하는 함수\n",
        "def solution(ineq, eq, n, m):\n",
        "    return int(eval(str(n)+ineq+eq.replace('!','')+str(m))) # eval 함수의 결과값이 참이라면 True일 것이고, eval함수의 결과값이 거짓이라면 False일 것"
      ],
      "metadata": {
        "id": "nKkdxJUFsiWz"
      },
      "execution_count": null,
      "outputs": []
    },
    {
      "cell_type": "markdown",
      "source": [
        "# flag 에 따라 다른 값 반환하기\n"
      ],
      "metadata": {
        "id": "gVW_S_RrsP3k"
      }
    },
    {
      "cell_type": "markdown",
      "source": [
        "## Boolean 자료형\n"
      ],
      "metadata": {
        "id": "UdqstFTg6xCq"
      }
    },
    {
      "cell_type": "code",
      "source": [
        "print(1==1)"
      ],
      "metadata": {
        "colab": {
          "base_uri": "https://localhost:8080/"
        },
        "id": "Xm23Xela-7Z3",
        "outputId": "03084703-b139-4c79-fd65-e1ce87dbd207"
      },
      "execution_count": 1,
      "outputs": [
        {
          "output_type": "stream",
          "name": "stdout",
          "text": [
            "True\n"
          ]
        }
      ]
    },
    {
      "cell_type": "code",
      "source": [
        "print(2 < 1)"
      ],
      "metadata": {
        "colab": {
          "base_uri": "https://localhost:8080/"
        },
        "id": "rtTbrmYk-9VG",
        "outputId": "e1e480d3-7259-411c-aaac-0e4471d800c1"
      },
      "execution_count": 2,
      "outputs": [
        {
          "output_type": "stream",
          "name": "stdout",
          "text": [
            "False\n"
          ]
        }
      ]
    },
    {
      "cell_type": "markdown",
      "source": [
        "**while (조건문), if(조건문) 등은 조건문 안의 내용의 True/False 여부에 따라서 아래 내용을 실행할지를 결정한다.**\n",
        "\n",
        "\n",
        "아래 요소들이 조건문 안에 들어간다면?\n",
        "\n",
        "- \"python\" : True\n",
        "- \"\" : False\n",
        "- [1,2,3]: True\n",
        "- [] : False\n",
        "- (1,2,3) : True\n",
        "- () : False\n",
        "- 1 : True\n",
        "- 0 : False\n",
        "- None : False\n",
        "- 1==1 : 계산결과 True\n",
        "- 1 < 3 : 계산결과 True\n",
        "- 1 > 3 : 계산결과 False\n"
      ],
      "metadata": {
        "id": "jKc5XnaP_DZI"
      }
    },
    {
      "cell_type": "code",
      "source": [
        "####################\n",
        "## boolean 예제 1\n",
        "####################\n",
        "\n",
        "a = [1,2,3,4,5]\n",
        "while a : # while (조건문) :\n",
        "  print(a.pop())"
      ],
      "metadata": {
        "colab": {
          "base_uri": "https://localhost:8080/"
        },
        "id": "BCdcWcOS_wpN",
        "outputId": "3be70a41-c2e2-452d-ff2e-2f86a3f3ed6b"
      },
      "execution_count": 4,
      "outputs": [
        {
          "output_type": "stream",
          "name": "stdout",
          "text": [
            "5\n",
            "4\n",
            "3\n",
            "2\n",
            "1\n"
          ]
        }
      ]
    },
    {
      "cell_type": "code",
      "source": [
        "####################\n",
        "## boolean 예제 2\n",
        "####################\n",
        "\n",
        "if [] :\n",
        "  print(\"True\")\n",
        "else :\n",
        "  print(\"False\")"
      ],
      "metadata": {
        "colab": {
          "base_uri": "https://localhost:8080/"
        },
        "id": "WRShJ6U-_7A1",
        "outputId": "fb66950e-2fae-4d25-def8-422ca9c05ae8"
      },
      "execution_count": 5,
      "outputs": [
        {
          "output_type": "stream",
          "name": "stdout",
          "text": [
            "False\n"
          ]
        }
      ]
    },
    {
      "cell_type": "code",
      "source": [
        "def solution(a, b, flag):\n",
        "    if flag : ## if True 로 변환되므로\n",
        "        return a+b\n",
        "    else :\n",
        "        return a-b"
      ],
      "metadata": {
        "id": "u95mv84OtjLh"
      },
      "execution_count": null,
      "outputs": []
    },
    {
      "cell_type": "markdown",
      "source": [
        "# 코드 처리하기"
      ],
      "metadata": {
        "id": "jM4W1lratpt1"
      }
    },
    {
      "cell_type": "code",
      "source": [
        "# 풀이 1\n",
        "def solution(code):\n",
        "    result = ''\n",
        "    mode = 0\n",
        "    for i in range(len(code)):\n",
        "        if mode == 0 :\n",
        "            if code[i] != '1' and i % 2 == 0:\n",
        "                result += code[i]\n",
        "            elif code[i] == '1':\n",
        "                mode = 1\n",
        "        else :\n",
        "            if code[i] != '1' and i % 2 == 1 :\n",
        "                result += code[i]\n",
        "            elif code[i] == '1':\n",
        "                mode = 0\n",
        "    if result == '':\n",
        "        return 'EMPTY'\n",
        "    return result"
      ],
      "metadata": {
        "id": "37xiY6tJtqtr"
      },
      "execution_count": null,
      "outputs": []
    },
    {
      "cell_type": "code",
      "source": [
        "# 플이 2\n",
        "def solution(code):\n",
        "    return \"\".join(code.split(\"1\"))[::2] or \"EMPTY\""
      ],
      "metadata": {
        "id": "WtSflQnFztB0"
      },
      "execution_count": null,
      "outputs": []
    }
  ]
}