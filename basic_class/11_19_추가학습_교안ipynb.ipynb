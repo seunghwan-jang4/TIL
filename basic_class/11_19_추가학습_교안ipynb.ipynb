{
 "cells": [
  {
   "cell_type": "markdown",
   "metadata": {
    "id": "s9pHdNqghdWf"
   },
   "source": [
    "# for문으로 한줄 리스트 만들기 (리스트 컴프리핸션) 복습"
   ]
  },
  {
   "cell_type": "markdown",
   "metadata": {
    "id": "mIYk2LxDhcQW"
   },
   "source": [
    "1. **목표 정하기**\n",
    "\n",
    "어떤 리스트를 만들고 싶은지 먼저 결정합니다.\n",
    "예를 들어, 1부터 5까지 숫자의 제곱을 담은 리스트를 만들고 싶다고 해봅시다.\n",
    "\n",
    "2. **기본 구조 이해하기**\n",
    "리스트 컴프리헨션의 기본 구조는 다음과 같습니다:\n",
    "    ```\n",
    "    [표현식 for 변수 in 반복가능한객체 if 조건식]\n",
    "\n",
    "    ```\n",
    "    구성 요소:\n",
    "    - 표현식(expression): 새로운 리스트의 각 항목을 어떻게 변환할지 결정.\n",
    "    - for 변수 in 반복가능한객체: 반복문에서 각 요소를 하나씩 가져옴.\n",
    "    - if 조건식 (선택 사항): 특정 조건을 만족하는 요소만 포함.\n",
    "\n",
    "\n",
    "3. **단계적으로 만들어보기**\n",
    "\n",
    "    ```python\n",
    "    result = []\n",
    "    for x in range(1, 6):  # 1부터 5까지 반복\n",
    "        result.append(x**2)  # x의 제곱을 추가\n",
    "    print(result)  # [1, 4, 9, 16, 25]\n",
    "\n",
    "    ```\n",
    "\n",
    "    ```python\n",
    "    result = [x**2 for x in range(1, 6)]\n",
    "    print(result)  # [1, 4, 9, 16, 25]\n",
    "    ```\n",
    "\n",
    "\n",
    "\n",
    "4. **(선택) 조건 추가하기**\n",
    "리스트 컴프리헨션에 조건을 추가해서 원하는 항목만 포함할 수 있습니다.\n",
    "\n",
    "    ```python\n",
    "    result = [x**2 for x in range(1, 11) if x % 2 == 0]\n",
    "    print(result)  # [4, 16, 36, 64, 100]\n",
    "\n",
    "    ```\n",
    "\n",
    "\n"
   ]
  },
  {
   "cell_type": "code",
   "execution_count": null,
   "metadata": {
    "id": "wEeAqsuchoC2"
   },
   "outputs": [],
   "source": [
    "## 연습문제 1 : 1부터 10까지 리스트 만들기\n",
    "result = [i for i in range(1,11)]"
   ]
  },
  {
   "cell_type": "code",
   "execution_count": 4,
   "metadata": {
    "id": "KWo2EKZDhq7r"
   },
   "outputs": [],
   "source": [
    "## 연습문제 2 : 1부터 10까지 제곱값 리스트 만들기\n",
    "result = [i**2 for i in range(1,11)]"
   ]
  },
  {
   "cell_type": "code",
   "execution_count": 10,
   "metadata": {
    "id": "ewPqgnREhty1"
   },
   "outputs": [],
   "source": [
    "## 연습문제 3 : 문자열 리스트를 대문자로 변환\n",
    "words = [\"python\", \"is\", \"fun\"]\n",
    "up = [words.upper() for words in words]"
   ]
  },
  {
   "cell_type": "code",
   "execution_count": null,
   "metadata": {
    "id": "QG52NJmyiuno"
   },
   "outputs": [],
   "source": [
    "## 연습문제 4 : 이중리스트 flatten 작업\n",
    "'''\n",
    "해당 리스트가 flat_list = [1,2,3,4,5,6] 이 되도록 변환하시오.\n",
    "힌트) 이차원 리스트이므로 리스트 컴프리핸션을 두번 써야합니다.\n",
    "'''\n",
    "nested_list = [[1, 2], [3, 4], [5, 6]]\n",
    "flat_list = [item for sublist in nested_list for item in sublist]"
   ]
  },
  {
   "cell_type": "markdown",
   "metadata": {
    "id": "uda3Hb-fzah6"
   },
   "source": [
    "# Boolean 자료형\n",
    "\n",
    "> while (조건문), if(조건문) 등은 조건문 안의 내용의 Boolean 자료형으로 저장되는 True/False 여부에 따라서 아래 내용을 실행할지를 결정한다.\n",
    "\n",
    "\n",
    "\n"
   ]
  },
  {
   "cell_type": "code",
   "execution_count": null,
   "metadata": {
    "colab": {
     "base_uri": "https://localhost:8080/"
    },
    "id": "6tINV8Zfzgc8",
    "outputId": "97a0e2b2-4bcd-4cae-b8d0-63d0c4597a63"
   },
   "outputs": [
    {
     "name": "stdout",
     "output_type": "stream",
     "text": [
      "True\n",
      "False\n"
     ]
    }
   ],
   "source": [
    "print(1==1) # True\n",
    "print(2<1) # False"
   ]
  },
  {
   "cell_type": "code",
   "execution_count": null,
   "metadata": {
    "colab": {
     "base_uri": "https://localhost:8080/"
    },
    "id": "DwOVUSFRziKU",
    "outputId": "3dad26ce-4ce1-4ff5-aec9-2b6c3e7acf93"
   },
   "outputs": [
    {
     "name": "stdout",
     "output_type": "stream",
     "text": [
      "출력하세요\n"
     ]
    }
   ],
   "source": [
    "t_flag = True\n",
    "f_flag = False\n",
    "\n",
    "if t_flag :\n",
    "  print(\"출력하세요\")\n",
    "\n",
    "if f_flag :\n",
    "  print(\"출력하지 마세요\")"
   ]
  },
  {
   "cell_type": "markdown",
   "metadata": {
    "id": "SsdmFq1Rz22l"
   },
   "source": [
    "**다양한 자료형들의 조건문 안에서의 True/False 여부 **\n",
    "\n",
    "**다양한 자료형**\n",
    "- \"python\" : True\n",
    "- \"\" : False\n",
    "- [1,2,3] : True\n",
    "- [] : False\n",
    "- (1,2,3) : True\n",
    "- () : False\n",
    "- 1 : True\n",
    "- 0 : False\n",
    "- None : False\n",
    "\n",
    "**계산식의 경우**\n",
    "- 1==1 : 계산결과 True\n",
    "- 1 < 3 : 계산결과 True\n",
    "- 1 > 3 : 계산결과 False\n"
   ]
  },
  {
   "cell_type": "code",
   "execution_count": null,
   "metadata": {
    "colab": {
     "base_uri": "https://localhost:8080/"
    },
    "id": "uZFrP04fzu56",
    "outputId": "a940fc62-0b1a-4d5e-fc0a-728b16daf26c"
   },
   "outputs": [
    {
     "name": "stdout",
     "output_type": "stream",
     "text": [
      "5\n",
      "4\n",
      "3\n",
      "2\n",
      "1\n"
     ]
    }
   ],
   "source": [
    "####################\n",
    "## boolean 예제 1\n",
    "####################\n",
    "\n",
    "a = [1,2,3,4,5]\n",
    "while a : # while (조건문) :\n",
    "  print(a.pop())\n"
   ]
  },
  {
   "cell_type": "markdown",
   "metadata": {
    "id": "Oe5wGFEl0Uut"
   },
   "source": [
    "\n",
    "리스트 a 가 빈 리스트 [] 가 될때까지는 while문 조건식이 True이다.\n",
    "\n",
    "하지만 pop()을 반복하여 리스트 a가 빈리스트가 되면 while문 안 조건식이 False가 되어 while문이 멈춘다."
   ]
  },
  {
   "cell_type": "code",
   "execution_count": 1,
   "metadata": {
    "id": "EfFmxQnl0NR2"
   },
   "outputs": [
    {
     "name": "stdout",
     "output_type": "stream",
     "text": [
      "False\n"
     ]
    }
   ],
   "source": [
    "####################\n",
    "## boolean 예제 2\n",
    "####################\n",
    "\n",
    "if [] :\n",
    "  print(\"True\")\n",
    "else :\n",
    "  print(\"False\")"
   ]
  },
  {
   "cell_type": "markdown",
   "metadata": {
    "id": "Mzi0Z3bF0YHO"
   },
   "source": [
    "if문 조건식에 빈 리스트가 들어가면 False가 되므로 else문이 출력된다."
   ]
  },
  {
   "cell_type": "code",
   "execution_count": null,
   "metadata": {
    "id": "RkmnwNmk0Zi3"
   },
   "outputs": [],
   "source": []
  }
 ],
 "metadata": {
  "colab": {
   "provenance": []
  },
  "kernelspec": {
   "display_name": "python (myenv)",
   "language": "python",
   "name": "myenv"
  },
  "language_info": {
   "codemirror_mode": {
    "name": "ipython",
    "version": 3
   },
   "file_extension": ".py",
   "mimetype": "text/x-python",
   "name": "python",
   "nbconvert_exporter": "python",
   "pygments_lexer": "ipython3",
   "version": "3.8.20"
  }
 },
 "nbformat": 4,
 "nbformat_minor": 0
}
