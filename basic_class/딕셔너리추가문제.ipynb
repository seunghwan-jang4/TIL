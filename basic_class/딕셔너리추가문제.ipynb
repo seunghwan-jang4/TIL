{
 "cells": [
  {
   "cell_type": "code",
   "execution_count": null,
   "metadata": {},
   "outputs": [],
   "source": [
    "# 문제 1\n",
    "# 아래는 과일과 재고 수량을 나타내는 딕셔너리입니다:\n",
    "\n",
    "# inventory = {\n",
    "#     \"apple\": 10,\n",
    "#     \"banana\": 5,\n",
    "#     \"orange\": 8,\n",
    "#     \"grape\": 15\n",
    "# }\n",
    "\n",
    "#1. 재고가 8개 이상인 과일의 이름만 리스트로 출력하세요.\n",
    "#2. \"pear\"라는 과일을 추가하고, 재고를 12로 설정하세요.\n",
    "#3. \"banana\"를 딕셔너리에서 삭제하세요.\n",
    "#4. 최종 딕셔너리를 출력하세요."
   ]
  },
  {
   "cell_type": "code",
   "execution_count": null,
   "metadata": {},
   "outputs": [
    {
     "name": "stdout",
     "output_type": "stream",
     "text": [
      "['apple', 'orange', 'grape']\n",
      "{'apple': 10, 'orange': 8, 'grape': 15, 'pear': 12}\n"
     ]
    }
   ],
   "source": [
    "#1번 문제 해결 과정.\n",
    "#1-1. 재고가 8개 이상인 과일의 이름만 리스트로 출력\n",
    "\n",
    "#과일의 재고와 수량\n",
    "inventory = {\n",
    "    \"apple\": 10,\n",
    "    \"banana\": 5,\n",
    "    \"orange\": 8,\n",
    "    \"grape\": 15\n",
    "}\n",
    "\n",
    "# 1. 재고가 8개 이상인 과일의 이름만 리스트로 출력\n",
    "up_8 = [fruits for fruits in inventory.keys() if inventory[fruits] >= 8]\n",
    "print(up_8)\n",
    "\n",
    "#1-2. \"pear\"라는 과일을 추가하고, 재고를 12로 설정.\n",
    "inventory['pear'] = 12\n",
    "\n",
    "#1-3. \"banana\"를 딕셔너리에서 삭제.\n",
    "del inventory['banana']\n",
    "\n",
    "#1-4. 최종 딕셔너리를 출력.\n",
    "print(inventory)\n"
   ]
  },
  {
   "cell_type": "code",
   "execution_count": 2,
   "metadata": {},
   "outputs": [],
   "source": [
    "# 문제 2\n",
    "# 아래는 상품과 개당 가격을 나타내는 딕셔너리입니다:\n",
    "\n",
    "# products = {\n",
    "#     \"T-shirt\": 15000,\n",
    "#     \"Jeans\": 45000,\n",
    "#     \"Sneakers\": 80000,\n",
    "#     \"Hat\": 20000\n",
    "# }\n",
    "# 사용자가 아래와 같은 구매 내역을 입력했다고 가정하세요:\n",
    "\n",
    "# cart = {\n",
    "#     \"T-shirt\": 2,\n",
    "#     \"Jeans\": 1,\n",
    "#     \"Hat\": 3\n",
    "# }\n",
    "# 2-1. 이 구매 내역에 따라 총 결제 금액을 계산하세요.\n",
    "\n",
    "# 2-2. 10만 원 이상 구매 시 \"무료배송\" 메시지를 출력하고, 그렇지 않으면 \"배송비 3,000원이 추가됩니다\" 메시지를 출력하세요.\n",
    "\n"
   ]
  },
  {
   "cell_type": "code",
   "execution_count": 37,
   "metadata": {},
   "outputs": [
    {
     "name": "stdout",
     "output_type": "stream",
     "text": [
      "135000\n",
      "무료배송\n"
     ]
    }
   ],
   "source": [
    "#2번 문제 해결 과정.\n",
    "#2-1. 구매 내역에 따라 총 결제 금액을 계산.\n",
    "\n",
    "#상품의 개당 가격.\n",
    "products = {\n",
    "    \"T-shirt\": 15000,\n",
    "    \"Jeans\": 45000,\n",
    "    \"Sneakers\": 80000,\n",
    "    \"Hat\": 20000\n",
    "    }\n",
    "\n",
    "# 사용자의 구매 내역.\n",
    "cart = {\n",
    "    \"T-shirt\": 2,\n",
    "    \"Jeans\": 1,\n",
    "    \"Hat\": 3\n",
    "}\n",
    "\n",
    "purchase_price = 0\n",
    "for item, quantity in cart.items():\n",
    "    purchase_price += products[item] * quantity\n",
    "\n",
    "print(purchase_price)\n",
    "    \n",
    "\n",
    "\n",
    "# 2-2. 10만 원 이상 구매 시 \"무료배송\" 메시지를 출력, 그렇지 않으면 \"배송비 3,000원이 추가됩니다\" 메시지를 출력.\n",
    "if purchase_price >= 100000:\n",
    "    print(\"무료배송\")\n",
    "else:\n",
    "    \"배송비 3,000원이 추가됩니다.\"\n"
   ]
  },
  {
   "cell_type": "code",
   "execution_count": 3,
   "metadata": {},
   "outputs": [],
   "source": [
    "# 문제 3\n",
    "# 아래는 학생들의 이름과 중간고사, 기말고사 점수를 나타내는 딕셔너리입니다:\n",
    "\n",
    "# grades = {\n",
    "#     \"Alice\": {\"midterm\": 85, \"final\": 90},\n",
    "#     \"Bob\": {\"midterm\": 78, \"final\": 82},\n",
    "#     \"Charlie\": {\"midterm\": 88, \"final\": 76},\n",
    "#     \"David\": {\"midterm\": 92, \"final\": 89}\n",
    "# }\n",
    "# 3-1. 각 학생의 최종 성적(중간고사와 기말고사의 평균 점수)을 계산하고, 결과를 아래 형식의 딕셔너리로 출력하세요:\n",
    "\n",
    "# final_grades = {\n",
    "#     \"Alice\": 87.5,\n",
    "#     \"Bob\": 80.0,\n",
    "#     \"Charlie\": 82.0,\n",
    "#     \"David\": 90.5\n",
    "# }\n",
    "# 3-2. 최종 성적이 85점 이상인 학생들의 이름을 리스트로 출력하세요.\n",
    "\n"
   ]
  },
  {
   "cell_type": "code",
   "execution_count": 36,
   "metadata": {},
   "outputs": [
    {
     "name": "stdout",
     "output_type": "stream",
     "text": [
      "{'Alice': 87.5, 'Bob': 80.0, 'Charlie': 82.0, 'David': 90.5}\n",
      "['Alice', 'David']\n"
     ]
    }
   ],
   "source": [
    "# 3번 문제 해결 과정.\n",
    "# 학생들의 이름과 중간고사, 기말고사 점수.\n",
    "grades = {\n",
    "    \"Alice\": {\"midterm\": 85, \"final\": 90},\n",
    "    \"Bob\": {\"midterm\": 78, \"final\": 82},\n",
    "    \"Charlie\": {\"midterm\": 88, \"final\": 76},\n",
    "    \"David\": {\"midterm\": 92, \"final\": 89}\n",
    "}\n",
    "\n",
    "#3-1. 각 학생의 최종 성적(중간고사와 기말고사의 평균 점수)을 계산, 결과를 아래 형식의 딕셔너리로 출력.\n",
    "students_avr = {name: (score['midterm'] + score['final'])/2 for name, score in grades.items()}\n",
    "print(students_avr)\n",
    "\n",
    "\n",
    "#3-2. 최종 성적이 85점 이상인 학생들의 이름을 리스트로 출력.\n",
    "#최종 성적.\n",
    "final_grades = {\n",
    "    \"Alice\": 87.5,\n",
    "    \"Bob\": 80.0,\n",
    "    \"Charlie\": 82.0,\n",
    "    \"David\": 90.5\n",
    "}\n",
    "\n",
    "high_score = [grade for grade in final_grades.keys() if final_grades[grade] >= 85]\n",
    "print(high_score)\n"
   ]
  }
 ],
 "metadata": {
  "kernelspec": {
   "display_name": "python (myenv)",
   "language": "python",
   "name": "myenv"
  },
  "language_info": {
   "codemirror_mode": {
    "name": "ipython",
    "version": 3
   },
   "file_extension": ".py",
   "mimetype": "text/x-python",
   "name": "python",
   "nbconvert_exporter": "python",
   "pygments_lexer": "ipython3",
   "version": "3.8.20"
  }
 },
 "nbformat": 4,
 "nbformat_minor": 2
}
