{
 "cells": [
  {
   "cell_type": "code",
   "execution_count": 1,
   "metadata": {},
   "outputs": [],
   "source": [
    "# 문제 설명\n",
    "# 정수가 담긴 리스트 num_list가 주어질 때, 모든 원소들의 곱이 모든 원소들의 합의 제곱보다 작으면 1을 크면 0을 return하도록 solution 함수를 완성해주세요.\n",
    "\n",
    "# 제한사항\n",
    "# 2 ≤ num_list의 길이 ≤ 10\n",
    "# 1 ≤ num_list의 원소 ≤ 9\n",
    "# 입출력 예\n",
    "# num_list\tresult\n",
    "# [3, 4, 5, 2, 1]\t1\n",
    "# [5, 7, 8, 3]\t0\n",
    "# 입출력 예 설명\n",
    "# 입출력 예 #1\n",
    "\n",
    "# 모든 원소의 곱은 120, 합의 제곱은 225이므로 1을 return합니다.\n",
    "# 입출력 예 #2\n",
    "\n",
    "# 모든 원소의 곱은 840, 합의 제곱은 529이므로 0을 return합니다."
   ]
  },
  {
   "cell_type": "code",
   "execution_count": null,
   "metadata": {},
   "outputs": [],
   "source": [
    "#방법1. / 정답 / 조인과 맵을 통해 num_list의 문자열을을 곱하는 식을 만들고 eval을 통하여 계산했다.\n",
    "def solution(num_list):\n",
    "    if eval('*'.join(map(str, num_list))) < eval(f\"({'+'.join(map(str, num_list))})**2\"):\n",
    "        return 1\n",
    "    return 0"
   ]
  },
  {
   "cell_type": "code",
   "execution_count": null,
   "metadata": {},
   "outputs": [
    {
     "name": "stdout",
     "output_type": "stream",
     "text": [
      "11\n"
     ]
    }
   ],
   "source": [
    "#eval함수의 예시 / \"문자열\"을 파이썬 코드로 실행하는 함수.\n",
    "result = eval(\"3 + 4 * 2\")\n",
    "print(result)"
   ]
  },
  {
   "cell_type": "code",
   "execution_count": null,
   "metadata": {},
   "outputs": [],
   "source": []
  }
 ],
 "metadata": {
  "kernelspec": {
   "display_name": "pandas",
   "language": "python",
   "name": "pandas_course"
  },
  "language_info": {
   "codemirror_mode": {
    "name": "ipython",
    "version": 3
   },
   "file_extension": ".py",
   "mimetype": "text/x-python",
   "name": "python",
   "nbconvert_exporter": "python",
   "pygments_lexer": "ipython3",
   "version": "3.12.7"
  }
 },
 "nbformat": 4,
 "nbformat_minor": 2
}
