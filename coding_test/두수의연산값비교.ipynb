{
 "cells": [
  {
   "cell_type": "code",
   "execution_count": 1,
   "metadata": {},
   "outputs": [],
   "source": [
    "# 문제 설명\n",
    "# 연산 ⊕는 두 정수에 대한 연산으로 두 정수를 붙여서 쓴 값을 반환합니다. 예를 들면 다음과 같습니다.\n",
    "\n",
    "# 12 ⊕ 3 = 123\n",
    "# 3 ⊕ 12 = 312\n",
    "# 양의 정수 a와 b가 주어졌을 때, a ⊕ b와 2 * a * b 중 더 큰 값을 return하는 solution 함수를 완성해 주세요.\n",
    "\n",
    "# 단, a ⊕ b와 2 * a * b가 같으면 a ⊕ b를 return 합니다.\n",
    "\n",
    "# 제한사항\n",
    "# 1 ≤ a, b < 10,000\n",
    "# 입출력 예\n",
    "# a\tb\tresult\n",
    "# 2\t91\t364\n",
    "# 91\t2\t912\n",
    "# 입출력 예 설명\n",
    "# 입출력 예 #1\n",
    "\n",
    "# a ⊕ b = 291 이고, 2 * a * b = 364 입니다. 둘 중 더 큰 값은 364 이므로 364를 return 합니다.\n",
    "# 입출력 예 #2\n",
    "\n",
    "# a ⊕ b = 912 이고, 2 * a * b = 364 입니다. 둘 중 더 큰 값은 912 이므로 912를 return 합니다."
   ]
  },
  {
   "cell_type": "code",
   "execution_count": null,
   "metadata": {},
   "outputs": [],
   "source": [
    "#방법 1 / 73.9점으로 오답\n",
    "def solution(a, b):\n",
    "    return(int(max(f\"{a}{b}\",f\"{2*a*b}\")))"
   ]
  },
  {
   "cell_type": "code",
   "execution_count": 7,
   "metadata": {},
   "outputs": [],
   "source": [
    "#방법 2 / 정답 / 정수형으로 만들어 준 뒤에 max를 사용하여 비교하였다. \n",
    "def solution(a, b):\n",
    "    plus = int(f\"{a}{b}\")\n",
    "    product = 2 * a * b\n",
    "    return max(plus, product)"
   ]
  }
 ],
 "metadata": {
  "kernelspec": {
   "display_name": "pandas",
   "language": "python",
   "name": "pandas_course"
  },
  "language_info": {
   "codemirror_mode": {
    "name": "ipython",
    "version": 3
   },
   "file_extension": ".py",
   "mimetype": "text/x-python",
   "name": "python",
   "nbconvert_exporter": "python",
   "pygments_lexer": "ipython3",
   "version": "3.12.7"
  }
 },
 "nbformat": 4,
 "nbformat_minor": 2
}
