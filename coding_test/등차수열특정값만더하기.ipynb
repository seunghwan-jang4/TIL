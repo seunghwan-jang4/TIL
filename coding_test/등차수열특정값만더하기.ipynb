{
 "cells": [
  {
   "cell_type": "code",
   "execution_count": 1,
   "metadata": {},
   "outputs": [],
   "source": [
    "# 문제 설명\n",
    "# 두 정수 a, d와 길이가 n인 boolean 배열 included가 주어집니다. 첫째항이 a, 공차가 d인 등차수열에서 included[i]가 i + 1항을 의미할 때, 이 등차수열의 1항부터 n항까지 included가 true인 항들만 더한 값을 return 하는 solution 함수를 작성해 주세요.\n",
    "\n",
    "# 제한사항\n",
    "# 1 ≤ a ≤ 100\n",
    "# 1 ≤ d ≤ 100\n",
    "# 1 ≤ included의 길이 ≤ 100\n",
    "# included에는 true가 적어도 하나 존재합니다.\n",
    "# 입출력 예\n",
    "# a\td\tincluded\tresult\n",
    "# 3\t4\t[true, false, false, true, true]\t37\n",
    "# 7\t1\t[false, false, false, true, false, false, false]\t10\n",
    "# 입출력 예 설명\n",
    "# 입출력 예 #1\n",
    "\n",
    "# 예제 1번은 a와 d가 각각 3, 4이고 included의 길이가 5입니다. 이를 표로 나타내면 다음과 같습니다.\n",
    "# ||1항|2항|3항|4항|5항|\n",
    "\n",
    "# |-|-|---|---|---|---|\n",
    "\n",
    "# |등차수열|3|7|11|15|19|\n",
    "\n",
    "# |included|true|false|false|true|true|\n",
    "\n",
    "# 따라서 true에 해당하는 1항, 4항, 5항을 더한 3 + 15 + 19 = 37을 return 합니다.\n",
    "# 입출력 예 #2\n",
    "\n",
    "# 예제 2번은 a와 d가 각각 7, 1이고 included의 길이가 7입니다. 이를 표로 나타내면 다음과 같습니다.\n",
    "# ||1항|2항|3항|4항|5항|6항|7항|\n",
    "\n",
    "# |-|-|---|---|---|---|---|---|\n",
    "\n",
    "# |등차수열|7|8|9|10|11|12|13|\n",
    "\n",
    "# |included|false|false|false|true|false|false|false|\n",
    "\n",
    "# 따라서 4항만 true이므로 10을 return 합니다."
   ]
  },
  {
   "cell_type": "code",
   "execution_count": null,
   "metadata": {},
   "outputs": [],
   "source": [
    "# 방법1. / 정답 / \n",
    "# for i in range를 사용하여, 등차수열 included를 순회하며 a + i * d를 계산.\n",
    "# if included[i] 를 통해 값이 True 일 경우에만 sum값을 반환.\n",
    "def solution(a, d, included):\n",
    "    return sum(a + i * d for i in range(len(included)) if included[i])"
   ]
  }
 ],
 "metadata": {
  "kernelspec": {
   "display_name": "pandas",
   "language": "python",
   "name": "pandas_course"
  },
  "language_info": {
   "codemirror_mode": {
    "name": "ipython",
    "version": 3
   },
   "file_extension": ".py",
   "mimetype": "text/x-python",
   "name": "python",
   "nbconvert_exporter": "python",
   "pygments_lexer": "ipython3",
   "version": "3.12.7"
  }
 },
 "nbformat": 4,
 "nbformat_minor": 2
}
