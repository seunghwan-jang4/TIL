{
 "cells": [
  {
   "cell_type": "code",
   "execution_count": 1,
   "metadata": {},
   "outputs": [],
   "source": [
    "# 문제 설명\n",
    "# 1부터 6까지 숫자가 적힌 주사위가 세 개 있습니다. 세 주사위를 굴렸을 때 나온 숫자를 각각 a, b, c라고 했을 때 얻는 점수는 다음과 같습니다.\n",
    "\n",
    "# 세 숫자가 모두 다르다면 a + b + c 점을 얻습니다.\n",
    "# 세 숫자 중 어느 두 숫자는 같고 나머지 다른 숫자는 다르다면 (a + b + c) × (a2 + b2 + c2 )점을 얻습니다.\n",
    "# 세 숫자가 모두 같다면 (a + b + c) × (a2 + b2 + c2 ) × (a3 + b3 + c3 )점을 얻습니다.\n",
    "# 세 정수 a, b, c가 매개변수로 주어질 때, 얻는 점수를 return 하는 solution 함수를 작성해 주세요.\n",
    "\n",
    "# 제한사항\n",
    "# a, b, c는 1이상 6이하의 정수입니다.\n",
    "# 입출력 예\n",
    "# a\tb\tc\tresult\n",
    "# 2\t6\t1\t9\n",
    "# 5\t3\t3\t473\n",
    "# 4\t4\t4\t110592\n",
    "# 입출력 예 설명\n",
    "# 입출력 예 #1\n",
    "\n",
    "# 예제 1번에서 세 주사위 숫자가 모두 다르므로 2 + 6 + 1 = 9점을 얻습니다. 따라서 9를 return 합니다.\n",
    "# 입출력 예 #2\n",
    "\n",
    "# 예제 2번에서 두 주사위 숫자만 같으므로 (5 + 3 + 3) × (52 + 32 + 32 ) = 11 × 43 = 473점을 얻습니다. 따라서 473을 return 합니다.\n",
    "# 입출력 예 #3\n",
    "\n",
    "# 예제 3번에서 세 주사위 숫자가 모두 같으므로 (4 + 4 + 4) × (42 + 42 + 42 ) × (43 + 43 + 43 ) = 12 × 48 × 192 = 110,592점을 얻습니다. 따라서 110592를 return 합니다."
   ]
  },
  {
   "cell_type": "code",
   "execution_count": null,
   "metadata": {},
   "outputs": [],
   "source": [
    "#방법1. / 오답 / randint() 를 사용하여 문제를 해결하려고 했다. 하지만 매개변수로 전달된 a, b, c를 그대로 사용해야 하기 때문에 그럴 필요가 없었다.\n",
    "from random import *\n",
    "def solution(a, b, c):\n",
    "    a = randint(1,6)\n",
    "    b = randint(1,6)\n",
    "    c = randint(1,6)\n",
    "    if a != b != c :\n",
    "        return (a+b+c)\n",
    "    elif a == b or b == c or c == a :\n",
    "        return (a+b+c)*(a**2+b**2+c**2)\n",
    "    elif a == b == c :\n",
    "        return (a+b+c)*(a**2+b**2+c**2)*(a**3+b**3+c**3)"
   ]
  },
  {
   "cell_type": "code",
   "execution_count": null,
   "metadata": {},
   "outputs": [
    {
     "name": "stdout",
     "output_type": "stream",
     "text": [
      "81\n"
     ]
    }
   ],
   "source": [
    "#방법 2. / 정답 / 기존의 randint()를 제거, 조건의 충돌을 방지하기 위해 구체적인 조건부터 설정하여 문제 해결. 매개변수가 정해졌을 때는, 매개변수를 덮어쓰는 실수를 조심하자.\n",
    "def solution(a, b, c):\n",
    "    if a == b == c :\n",
    "        return (a+b+c)*(a**2+b**2+c**2)*(a**3+b**3+c**3)\n",
    "    elif a == b or b == c or c == a :\n",
    "        return (a+b+c)*(a**2+b**2+c**2)\n",
    "    else:\n",
    "        return (a+b+c)"
   ]
  },
  {
   "cell_type": "code",
   "execution_count": null,
   "metadata": {},
   "outputs": [
    {
     "name": "stdout",
     "output_type": "stream",
     "text": [
      "15\n"
     ]
    }
   ],
   "source": []
  },
  {
   "cell_type": "code",
   "execution_count": null,
   "metadata": {},
   "outputs": [],
   "source": []
  }
 ],
 "metadata": {
  "kernelspec": {
   "display_name": "pandas",
   "language": "python",
   "name": "pandas_course"
  },
  "language_info": {
   "codemirror_mode": {
    "name": "ipython",
    "version": 3
   },
   "file_extension": ".py",
   "mimetype": "text/x-python",
   "name": "python",
   "nbconvert_exporter": "python",
   "pygments_lexer": "ipython3",
   "version": "3.12.7"
  }
 },
 "nbformat": 4,
 "nbformat_minor": 2
}
