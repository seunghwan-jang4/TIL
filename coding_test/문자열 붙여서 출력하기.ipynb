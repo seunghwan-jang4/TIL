{
 "cells": [
  {
   "cell_type": "code",
   "execution_count": 1,
   "metadata": {},
   "outputs": [],
   "source": [
    "# 문제 설명\n",
    "# 두 개의 문자열 str1, str2가 공백으로 구분되어 입력으로 주어집니다.\n",
    "# 입출력 예와 같이 str1과 str2을 이어서 출력하는 코드를 작성해 보세요.\n",
    "\n",
    "# 제한사항\n",
    "# 1 ≤ str1, str2의 길이 ≤ 10\n",
    "# 입출력 예\n",
    "# 입력 #1\n",
    "\n",
    "# apple pen\n",
    "# 출력 #1\n",
    "\n",
    "# applepen\n",
    "# 입력 #2\n",
    "\n",
    "# Hello World!\n",
    "# 출력 #2\n",
    "\n",
    "# HelloWorld!"
   ]
  },
  {
   "cell_type": "code",
   "execution_count": 7,
   "metadata": {},
   "outputs": [
    {
     "name": "stdout",
     "output_type": "stream",
     "text": [
      "applepen\n"
     ]
    }
   ],
   "source": [
    "str1, str2 = input().split()\n",
    "print(str1+str2)"
   ]
  },
  {
   "cell_type": "code",
   "execution_count": null,
   "metadata": {},
   "outputs": [
    {
     "name": "stdout",
     "output_type": "stream",
     "text": [
      "applepen\n"
     ]
    }
   ],
   "source": [
    "#.replace 함수를 사용하여 ' '로 공백을 지정, ''으로 메워주었다.\n",
    "print(input().replace(' ', ''))"
   ]
  }
 ],
 "metadata": {
  "kernelspec": {
   "display_name": "python (myenv)",
   "language": "python",
   "name": "myenv"
  },
  "language_info": {
   "codemirror_mode": {
    "name": "ipython",
    "version": 3
   },
   "file_extension": ".py",
   "mimetype": "text/x-python",
   "name": "python",
   "nbconvert_exporter": "python",
   "pygments_lexer": "ipython3",
   "version": "3.8.20"
  }
 },
 "nbformat": 4,
 "nbformat_minor": 2
}
