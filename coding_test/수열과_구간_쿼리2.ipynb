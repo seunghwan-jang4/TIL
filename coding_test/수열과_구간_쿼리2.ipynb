{
 "cells": [
  {
   "cell_type": "code",
   "execution_count": 1,
   "metadata": {},
   "outputs": [],
   "source": [
    "# 문제 설명\n",
    "# 정수 배열 arr와 2차원 정수 배열 queries이 주어집니다. queries의 원소는 각각 하나의 query를 나타내며, [s, e, k] 꼴입니다.\n",
    "\n",
    "# 각 query마다 순서대로 s ≤ i ≤ e인 모든 i에 대해 k보다 크면서 가장 작은 arr[i]를 찾습니다.\n",
    "\n",
    "# 각 쿼리의 순서에 맞게 답을 저장한 배열을 반환하는 solution 함수를 완성해 주세요.\n",
    "# 단, 특정 쿼리의 답이 존재하지 않으면 -1을 저장합니다.\n",
    "\n",
    "# 제한사항\n",
    "# 1 ≤ arr의 길이 ≤ 1,000\n",
    "# 0 ≤ arr의 원소 ≤ 1,000,000\n",
    "# 1 ≤ queries의 길이 ≤ 1,000\n",
    "# 0 ≤ s ≤ e < arr의 길이\n",
    "# 0 ≤ k ≤ 1,000,000\n",
    "# 입출력 예\n",
    "# arr\tqueries\tresult\n",
    "# [0, 1, 2, 4, 3]\t[[0, 4, 2],[0, 3, 2],[0, 2, 2]]\t[3, 4, -1]\n",
    "# 입출력 예 설명\n",
    "# 입출력 예 #1\n",
    "\n",
    "# 첫 번째 쿼리의 범위에는 0, 1, 2, 4, 3이 있으며 이 중 2보다 크면서 가장 작은 값은 3입니다.\n",
    "# 두 번째 쿼리의 범위에는 0, 1, 2, 4가 있으며 이 중 2보다 크면서 가장 작은 값은 4입니다.\n",
    "# 세 번째 쿼리의 범위에는 0, 1, 2가 있으며 여기에는 2보다 큰 값이 없습니다.\n",
    "# 따라서 [3, 4, -1]을 return 합니다."
   ]
  },
  {
   "cell_type": "code",
   "execution_count": null,
   "metadata": {},
   "outputs": [],
   "source": [
    "#방법1. / 정답 / 튜터님 방식의 풀이. \n",
    "#sys.maxsize를 사용하기 위해 sys 모듈을 임포트한다. 이는 임의의 큰 값(시스템이 지원하는 가장 큰 정수값)을 제공\n",
    "import sys \n",
    "\n",
    "def solution(arr, queries):\n",
    "    answer = []\n",
    "    \n",
    "    for query in queries :\n",
    "        s, e, k = query\n",
    "        current_min = sys.maxsize\n",
    "        for i in range(s, e+1) :\n",
    "            if arr[i] > k :\n",
    "                current_min = min(arr[i], current_min)\n",
    "        if current_min == sys.maxsize :\n",
    "            answer.append(-1)\n",
    "        else:\n",
    "            answer.append(current_min)\n",
    "            \n",
    "    return answer"
   ]
  }
 ],
 "metadata": {
  "kernelspec": {
   "display_name": "python (myenv)",
   "language": "python",
   "name": "myenv"
  },
  "language_info": {
   "codemirror_mode": {
    "name": "ipython",
    "version": 3
   },
   "file_extension": ".py",
   "mimetype": "text/x-python",
   "name": "python",
   "nbconvert_exporter": "python",
   "pygments_lexer": "ipython3",
   "version": "3.8.20"
  }
 },
 "nbformat": 4,
 "nbformat_minor": 2
}
