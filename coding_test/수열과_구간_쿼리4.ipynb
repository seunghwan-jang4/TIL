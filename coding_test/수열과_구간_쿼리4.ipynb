{
 "cells": [
  {
   "cell_type": "code",
   "execution_count": null,
   "metadata": {},
   "outputs": [
    {
     "ename": "SyntaxError",
     "evalue": "invalid syntax (2711579357.py, line 1)",
     "output_type": "error",
     "traceback": [
      "\u001b[1;36m  Cell \u001b[1;32mIn[1], line 1\u001b[1;36m\u001b[0m\n\u001b[1;33m    query for query in range queries(s, e + 1):\u001b[0m\n\u001b[1;37m          ^\u001b[0m\n\u001b[1;31mSyntaxError\u001b[0m\u001b[1;31m:\u001b[0m invalid syntax\n"
     ]
    }
   ],
   "source": [
    "# 문제 설명 / 수열과 구간 쿼리 4\n",
    "# 정수 배열 arr와 2차원 정수 배열 queries이 주어집니다. queries의 원소는 각각 하나의 query를 나타내며, [s, e, k] 꼴입니다.\n",
    "\n",
    "# 각 query마다 순서대로 s ≤ i ≤ e인 모든 i에 대해 i가 k의 배수이면 arr[i]에 1을 더합니다.\n",
    "\n",
    "# 위 규칙에 따라 queries를 처리한 이후의 arr를 return 하는 solution 함수를 완성해 주세요.\n",
    "\n",
    "# 제한사항\n",
    "# 1 ≤ arr의 길이 ≤ 1,000\n",
    "# 0 ≤ arr의 원소 ≤ 1,000,000\n",
    "# 1 ≤ queries의 길이 ≤ 1,000\n",
    "# 0 ≤ s ≤ e < arr의 길이\n",
    "# 0 ≤ k ≤ 5\n",
    "# 입출력 예\n",
    "# arr\tqueries\tresult\n",
    "# [0, 1, 2, 4, 3]\t[[0, 4, 1],[0, 3, 2],[0, 3, 3]]\t[3, 2, 4, 6, 4]\n",
    "# 입출력 예 설명\n",
    "# 입출력 예 #1\n",
    "\n",
    "# 각 쿼리에 따라 arr가 다음과 같이 변합니다.\n",
    "# arr\n",
    "# [0, 1, 2, 4, 3]\n",
    "# [1, 2, 3, 5, 4]\n",
    "# [2, 2, 4, 5, 4]\n",
    "# [3, 2, 4, 6, 4]\n",
    "# 따라서 [3, 2, 4, 6, 4]를 return 합니다."
   ]
  },
  {
   "cell_type": "code",
   "execution_count": null,
   "metadata": {},
   "outputs": [],
   "source": [
    "#방법1. 정답\n",
    "def solution(arr, queries):\n",
    "    for query in queries:  # queries 배열의 각 쿼리를 하나씩 처리.\n",
    "        s, e, k = query  # 쿼리의 시작 인덱스 s, 끝 인덱스 e, 배수 조건 k를 추출.\n",
    "        for i in range(s, e + 1):  # s부터 e까지 인덱스를 순회.\n",
    "            if i % k == 0:  # 인덱스 i가 k의 배수인지 확인.\n",
    "                arr[i] += 1 # i가 k의 배수일 경우, arr[i]에 1을 더하여 출력.\n",
    "    return arr\n"
   ]
  }
 ],
 "metadata": {
  "kernelspec": {
   "display_name": "pandas",
   "language": "python",
   "name": "pandas_course"
  },
  "language_info": {
   "codemirror_mode": {
    "name": "ipython",
    "version": 3
   },
   "file_extension": ".py",
   "mimetype": "text/x-python",
   "name": "python",
   "nbconvert_exporter": "python",
   "pygments_lexer": "ipython3",
   "version": "3.12.7"
  }
 },
 "nbformat": 4,
 "nbformat_minor": 2
}
