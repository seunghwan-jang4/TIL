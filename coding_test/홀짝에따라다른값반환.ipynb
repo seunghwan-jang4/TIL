{
 "cells": [
  {
   "cell_type": "code",
   "execution_count": 1,
   "metadata": {},
   "outputs": [],
   "source": [
    "# 문제 설명\n",
    "# 양의 정수 n이 매개변수로 주어질 때, n이 홀수라면 n 이하의 홀수인 모든 양의 정수의 합을 return 하고 n이 짝수라면 n 이하의 짝수인 모든 양의 정수의 제곱의 합을 return 하는 solution 함수를 작성해 주세요.\n",
    "\n",
    "# 제한사항\n",
    "# 1 ≤ n ≤ 100\n",
    "# 입출력 예\n",
    "# n\tresult\n",
    "# 7\t16\n",
    "# 10\t220\n",
    "# 입출력 예 설명\n",
    "# 입출력 예 #1\n",
    "\n",
    "# 예제 1번의 n은 7로 홀수입니다. 7 이하의 모든 양의 홀수는 1, 3, 5, 7이고 이들의 합인 1 + 3 + 5 + 7 = 16을 return 합니다.\n",
    "# 입출력 예 #2\n",
    "\n",
    "# 예제 2번의 n은 10으로 짝수입니다. 10 이하의 모든 양의 짝수는 2, 4, 6, 8, 10이고 이들의 제곱의 합인 22 + 42 + 62 + 82 + 102 = 4 + 16 + 36 + 64 + 100 = 220을 return 합니다."
   ]
  },
  {
   "cell_type": "code",
   "execution_count": null,
   "metadata": {},
   "outputs": [],
   "source": [
    "def solution(n):\n",
    "    odd = n % 2 == 1\n",
    "    if odd :\n",
    "        return sum(i for i in range(1, n+1, 2))\n",
    "    else:\n",
    "        return sum(i**2 for i in range(2, n+1, 2))"
   ]
  },
  {
   "cell_type": "code",
   "execution_count": null,
   "metadata": {},
   "outputs": [],
   "source": [
    "# 우선 odd 변수를 만들어 홀수인 경우를 만들었다.\n",
    "# i for i in range(1, n+1, 2) 를 통해 1부터 n+1의 범위까지, 2씩 커지게 지정. 마지막은 sum으로 합쳐서 return 시켰다.\n",
    "# 그 밖의 경우는 짝수이므로, 2부터 n+1의 범위까지 2씩 커지게 지정. 각각 2제곱한 값을 더하여 반환했다."
   ]
  }
 ],
 "metadata": {
  "kernelspec": {
   "display_name": "pandas",
   "language": "python",
   "name": "pandas_course"
  },
  "language_info": {
   "codemirror_mode": {
    "name": "ipython",
    "version": 3
   },
   "file_extension": ".py",
   "mimetype": "text/x-python",
   "name": "python",
   "nbconvert_exporter": "python",
   "pygments_lexer": "ipython3",
   "version": "3.12.7"
  }
 },
 "nbformat": 4,
 "nbformat_minor": 2
}
