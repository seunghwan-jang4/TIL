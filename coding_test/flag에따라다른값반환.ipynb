{
 "cells": [
  {
   "cell_type": "code",
   "execution_count": 1,
   "metadata": {},
   "outputs": [],
   "source": [
    "# 문제 설명\n",
    "# 두 정수 a, b와 boolean 변수 flag가 매개변수로 주어질 때, flag가 true면 a + b를 false면 a - b를 return 하는 solution 함수를 작성해 주세요.\n",
    "\n",
    "# 제한사항\n",
    "# -1,000 ≤ a, b ≤ 1,000\n",
    "# 입출력 예\n",
    "# a\tb\tflag\tresult\n",
    "# -4\t7\ttrue\t3\n",
    "# -4\t7\tfalse\t-11\n",
    "# 입출력 예\n",
    "# 입출력 예 #1\n",
    "\n",
    "# 예제 1번에서 flag가 true이므로 a + b = (-4) + 7 = 3을 return 합니다.\n",
    "# 입출력 예 #2\n",
    "\n",
    "# 예제 2번에서 flag가 false이므로 a - b = (-4) - 7 = -11을 return 합니다."
   ]
  },
  {
   "cell_type": "code",
   "execution_count": null,
   "metadata": {},
   "outputs": [],
   "source": [
    "#방법1. / 정답 / 내가 시도한 방법. 명시적으로 참 거짓을 구분하여 적어놨다.\n",
    "def solution(a, b, flag):\n",
    "    if flag == True:\n",
    "        answer = a+b\n",
    "    elif flag == False:\n",
    "        answer = a-b\n",
    "        \n",
    "    return answer"
   ]
  },
  {
   "cell_type": "code",
   "execution_count": 3,
   "metadata": {},
   "outputs": [],
   "source": [
    "#방법2. / 정답 / 다른 사람이 푼 방법. if flag:은 if flag == True:와 사실상 같은 의미. \n",
    "def solution(a, b, flag): \n",
    "    if flag: \n",
    "        return a + b\n",
    "    return a - b"
   ]
  },
  {
   "cell_type": "code",
   "execution_count": null,
   "metadata": {},
   "outputs": [],
   "source": [
    "# 1. 기본적인 Truth/Falsy 평가 / 참으로 평가되는 값과, 거짓으로 평가되는 값들\n",
    "flag = True\n",
    "if flag:  # True로 평가되므로 실행\n",
    "    print(\"참입니다!\")  \n",
    "\n",
    "flag = False\n",
    "if flag:  # False로 평가되므로 실행 안 됨\n",
    "    print(\"실행되지 않음\")\n",
    "\n",
    "# 2. 숫자 활용\n",
    "flag = 1  # 0이 아니므로 True로 평가\n",
    "if flag:\n",
    "    print(\"1은 참입니다!\")\n",
    "\n",
    "flag = 0  # 0은 Falsy\n",
    "if flag:\n",
    "    print(\"실행되지 않음\")\n",
    "\n",
    "# 3. 문자열 활용\n",
    "flag = \"Python\"  # 길이가 있는 문자열은 True로 평가\n",
    "if flag:\n",
    "    print(\"문자열은 참입니다!\")\n",
    "\n",
    "flag = \"\"  # 빈 문자열은 Falsy\n",
    "if flag:\n",
    "    print(\"실행되지 않음\")\n"
   ]
  }
 ],
 "metadata": {
  "kernelspec": {
   "display_name": "pandas",
   "language": "python",
   "name": "pandas_course"
  },
  "language_info": {
   "codemirror_mode": {
    "name": "ipython",
    "version": 3
   },
   "file_extension": ".py",
   "mimetype": "text/x-python",
   "name": "python",
   "nbconvert_exporter": "python",
   "pygments_lexer": "ipython3",
   "version": "3.12.7"
  }
 },
 "nbformat": 4,
 "nbformat_minor": 2
}
