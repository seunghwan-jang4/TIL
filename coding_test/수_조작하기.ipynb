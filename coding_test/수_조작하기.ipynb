{
 "cells": [
  {
   "cell_type": "code",
   "execution_count": 1,
   "metadata": {},
   "outputs": [],
   "source": [
    "# 문제 설명\n",
    "# 정수 n과 문자열 control이 주어집니다. control은 \"w\", \"a\", \"s\", \"d\"의 4개의 문자로 이루어져 있으며, control의 앞에서부터 순서대로 문자에 따라 n의 값을 바꿉니다.\n",
    "\n",
    "# \"w\" : n이 1 커집니다.\n",
    "# \"s\" : n이 1 작아집니다.\n",
    "# \"d\" : n이 10 커집니다.\n",
    "# \"a\" : n이 10 작아집니다.\n",
    "# 위 규칙에 따라 n을 바꿨을 때 가장 마지막에 나오는 n의 값을 return 하는 solution 함수를 완성해 주세요.\n",
    "\n",
    "# 제한사항\n",
    "# -100,000 ≤ n ≤ 100,000\n",
    "# 1 ≤ control의 길이 ≤ 100,000\n",
    "# control은 알파벳 소문자 \"w\", \"a\", \"s\", \"d\"로 이루어진 문자열입니다.\n",
    "# 입출력 예\n",
    "# n\tcontrol\tresult\n",
    "# 0\t\"wsdawsdassw\"\t-1\n",
    "# 입출력 예 설명\n",
    "# 입출력 예 #1\n",
    "\n",
    "# 수 n은 control에 따라 다음과 같은 순서로 변하게 됩니다.\n",
    "# 0 → 1 → 0 → 10 → 0 → 1 → 0 → 10 → 0 → -1 → -2 → -1\n",
    "# 따라서 -1을 return 합니다."
   ]
  },
  {
   "cell_type": "code",
   "execution_count": null,
   "metadata": {},
   "outputs": [
    {
     "name": "stdout",
     "output_type": "stream",
     "text": [
      "32\n"
     ]
    }
   ],
   "source": [
    "#방법1. / 정답 / 튜터님께서 딕셔너리 구조를 통한 해결 방법을 추천해 주셨다. 주로 사용 되니 유의하자. \n",
    "def solution(n, control):\n",
    "    dic = {\n",
    "        \"w\" : 1,\n",
    "        \"s\" : -1,\n",
    "        \"d\" : 10,\n",
    "        \"a\" : -10\n",
    "    }\n",
    "    \n",
    "    for chr in control :\n",
    "        n += dic[chr]\n",
    "    return n"
   ]
  },
  {
   "cell_type": "code",
   "execution_count": null,
   "metadata": {},
   "outputs": [],
   "source": []
  }
 ],
 "metadata": {
  "kernelspec": {
   "display_name": "pandas",
   "language": "python",
   "name": "pandas_course"
  },
  "language_info": {
   "codemirror_mode": {
    "name": "ipython",
    "version": 3
   },
   "file_extension": ".py",
   "mimetype": "text/x-python",
   "name": "python",
   "nbconvert_exporter": "python",
   "pygments_lexer": "ipython3",
   "version": "3.12.7"
  }
 },
 "nbformat": 4,
 "nbformat_minor": 2
}
