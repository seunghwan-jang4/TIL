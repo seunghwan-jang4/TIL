{
 "cells": [
  {
   "cell_type": "code",
   "execution_count": 1,
   "metadata": {},
   "outputs": [],
   "source": [
    "# 문제 설명\n",
    "# 정수가 담긴 리스트 num_list가 주어집니다. num_list의 홀수만 순서대로 이어 붙인 수와 짝수만 순서대로 이어 붙인 수의 합을 return하도록 solution 함수를 완성해주세요.\n",
    "\n",
    "# 제한사항\n",
    "# 2 ≤ num_list의 길이 ≤ 10\n",
    "# 1 ≤ num_list의 원소 ≤ 9\n",
    "# num_list에는 적어도 한 개씩의 짝수와 홀수가 있습니다.\n",
    "# 입출력 예\n",
    "# num_list\tresult\n",
    "# [3, 4, 5, 2, 1]\t393\n",
    "# [5, 7, 8, 3]\t581\n",
    "# 입출력 예 설명\n",
    "# 입출력 예 #1\n",
    "\n",
    "# 홀수만 이어 붙인 수는 351이고 짝수만 이어 붙인 수는 42입니다. 두 수의 합은 393입니다.\n",
    "# 입출력 예 #2\n",
    "\n",
    "# 홀수만 이어 붙인 수는 573이고 짝수만 이어 붙인 수는 8입니다. 두 수의 합은 581입니다."
   ]
  },
  {
   "cell_type": "code",
   "execution_count": null,
   "metadata": {},
   "outputs": [],
   "source": [
    "#방법1. / 오답 / 접근은 괜찮다고 생각했다. 하지만 일단 for 문 안의 변수는 유지되지 않으니, 새로 선언해야 할 필요성이 있었다.\n",
    "def solution(num_list):\n",
    "    #홀수\n",
    "    if ''.join(str(num) for num in num_list if num%2 == 1):\n",
    "        return num + ''.join(str(num) for num in num_list if num%2 == 0)\n",
    "    #짝수\n",
    "    elif ''.join(str(num) for num in num_list if num%2 == 0):\n",
    "        return num + ''.join(str(num) for num in num_list if num%2 == 1)"
   ]
  },
  {
   "cell_type": "code",
   "execution_count": null,
   "metadata": {},
   "outputs": [],
   "source": [
    "#방법2. / 오답 / eval() 함수를 사용하여 문자열을 계산하려고 했다. 하지만 출력은 35142, 5738 이었다. 이는 의도와 다른 결과였다.\n",
    "def solution(num_list):\n",
    "    \n",
    "    odd_num = ''.join(str(num) for num in num_list if num%2 == 1)\n",
    "    even_num = ''.join(str(num) for num in num_list if num%2 == 0)\n",
    "    \n",
    "    return eval(odd_num + even_num)\n",
    "    "
   ]
  },
  {
   "cell_type": "code",
   "execution_count": null,
   "metadata": {},
   "outputs": [],
   "source": [
    "#방법3. / 정답 / 위의 문제점들을 개선하여 해결하였다. 변수를 새로 설정하여 가독성을 올렸고, int()를 씌워서 계산하였다.\n",
    "def solution(num_list):\n",
    "    \n",
    "    odd_num = ''.join(str(num) for num in num_list if num%2 == 1)\n",
    "    even_num = ''.join(str(num) for num in num_list if num%2 == 0)\n",
    "    \n",
    "    return int(odd_num) + int(even_num)\n",
    "    \n",
    "    "
   ]
  }
 ],
 "metadata": {
  "kernelspec": {
   "display_name": "pandas",
   "language": "python",
   "name": "pandas_course"
  },
  "language_info": {
   "codemirror_mode": {
    "name": "ipython",
    "version": 3
   },
   "file_extension": ".py",
   "mimetype": "text/x-python",
   "name": "python",
   "nbconvert_exporter": "python",
   "pygments_lexer": "ipython3",
   "version": "3.12.7"
  }
 },
 "nbformat": 4,
 "nbformat_minor": 2
}
