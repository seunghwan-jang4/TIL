{
 "cells": [
  {
   "cell_type": "code",
   "execution_count": 1,
   "metadata": {},
   "outputs": [],
   "source": [
    "# 문제 설명\n",
    "# 문자열에 따라 다음과 같이 두 수의 크기를 비교하려고 합니다.\n",
    "\n",
    "# 두 수가 n과 m이라면\n",
    "# \">\", \"=\" : n >= m\n",
    "# \"<\", \"=\" : n <= m\n",
    "# \">\", \"!\" : n > m\n",
    "# \"<\", \"!\" : n < m\n",
    "# 두 문자열 ineq와 eq가 주어집니다. ineq는 \"<\"와 \">\"중 하나고, eq는 \"=\"와 \"!\"중 하나입니다. 그리고 두 정수 n과 m이 주어질 때, n과 m이 ineq와 eq의 조건에 맞으면 1을 아니면 0을 return하도록 solution 함수를 완성해주세요.\n",
    "\n",
    "# 제한 사항\n",
    "# 1 ≤ n, m ≤ 100\n",
    "# 입출력 예\n",
    "# ineq\teq\tn\tm\tresult\n",
    "# \"<\"\t\"=\"\t20\t50\t1\n",
    "# \">\"\t\"!\"\t41\t78\t0\n",
    "# 입출력 예 설명\n",
    "# 입출력 예 #1\n",
    "\n",
    "# 20 <= 50은 참이기 때문에 1을 return합니다.\n",
    "# 입출력 예 #2\n",
    "\n",
    "# 41 > 78은 거짓이기 때문에 0을 return합니다."
   ]
  },
  {
   "cell_type": "code",
   "execution_count": null,
   "metadata": {},
   "outputs": [],
   "source": [
    "#방법1. / 정답 / \n",
    "def solution(ineq, eq, n, m):\n",
    "    if ineq == \">\" and eq == \"=\" :\n",
    "        return 1 if n >= m else 0\n",
    "    elif ineq == \"<\" and eq == \"!\" :\n",
    "        return 1 if n < m else 0\n",
    "    elif ineq == \">\" and eq == \"!\" :\n",
    "        return 1 if n > m else 0\n",
    "    elif ineq == \"<\" and eq == \"=\" :\n",
    "        return 1 if n <= m else 0"
   ]
  },
  {
   "cell_type": "code",
   "execution_count": null,
   "metadata": {},
   "outputs": [],
   "source": [
    "#방법2. / 정답 / 다른 사람의 풀이를 보았을 때 훨씬 간결하고 가독성이 좋아서 참고했다.\n",
    "def solution(ineq, eq, n, m):\n",
    "    answer = 0\n",
    "    if n > m and ineq ==\">\":\n",
    "        answer = 1\n",
    "    elif n < m and ineq == \"<\":\n",
    "        answer = 1\n",
    "    elif n == m and eq == \"=\":\n",
    "        answer = 1\n",
    "\n",
    "    return answer"
   ]
  }
 ],
 "metadata": {
  "kernelspec": {
   "display_name": "pandas",
   "language": "python",
   "name": "pandas_course"
  },
  "language_info": {
   "codemirror_mode": {
    "name": "ipython",
    "version": 3
   },
   "file_extension": ".py",
   "mimetype": "text/x-python",
   "name": "python",
   "nbconvert_exporter": "python",
   "pygments_lexer": "ipython3",
   "version": "3.12.7"
  }
 },
 "nbformat": 4,
 "nbformat_minor": 2
}
