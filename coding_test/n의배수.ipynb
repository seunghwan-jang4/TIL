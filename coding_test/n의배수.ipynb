{
 "cells": [
  {
   "cell_type": "code",
   "execution_count": 1,
   "metadata": {},
   "outputs": [],
   "source": [
    "# 문제 설명\n",
    "# 정수 num과 n이 매개 변수로 주어질 때, num이 n의 배수이면 1을 return n의 배수가 아니라면 0을 return하도록 solution 함수를 완성해주세요.\n",
    "\n",
    "# 제한사항\n",
    "# 2 ≤ num ≤ 100\n",
    "# 2 ≤ n ≤ 9\n",
    "# 입출력 예\n",
    "# num\tn\tresult\n",
    "# 98\t2\t1\n",
    "# 34\t3\t0\n",
    "# 입출력 예 설명\n",
    "# 입출력 예 #1\n",
    "\n",
    "# 98은 2의 배수이므로 1을 return합니다.\n",
    "# 입출력 예 #2\n",
    "\n",
    "# 32는 3의 배수가 아니므로 0을 return합니다."
   ]
  },
  {
   "cell_type": "code",
   "execution_count": null,
   "metadata": {},
   "outputs": [],
   "source": [
    "# 처음 시도한 방법 / 오답 / if (num // n): 조건문과 return 구문 사용 방식 때문. num // n은 몫을 계산하는 연산자이기 때문에, 몫이 0이 아닌 경우에도 0을 반환하는 오류 발생.\n",
    "def solution(num, n):\n",
    "    if (num // n):\n",
    "        0\n",
    "        return 1\n",
    "    else :\n",
    "        return 0\n",
    "    "
   ]
  },
  {
   "cell_type": "code",
   "execution_count": null,
   "metadata": {},
   "outputs": [],
   "source": [
    "# 방법1. / 정답\n",
    "def superolution(num, n):\n",
    "    if (num % n):\n",
    "        return 0\n",
    "    else :\n",
    "        return 1"
   ]
  },
  {
   "cell_type": "code",
   "execution_count": null,
   "metadata": {},
   "outputs": [],
   "source": [
    "# 방법2. / 정답 / 몫을 계산하는 나누기가 아닌, 나머지를 계산하는 방식 사용.\n",
    "def solution(num, n):\n",
    "    if num % n == 0 :\n",
    "        return 1\n",
    "    else :\n",
    "        return 0"
   ]
  }
 ],
 "metadata": {
  "kernelspec": {
   "display_name": "pandas",
   "language": "python",
   "name": "pandas_course"
  },
  "language_info": {
   "codemirror_mode": {
    "name": "ipython",
    "version": 3
   },
   "file_extension": ".py",
   "mimetype": "text/x-python",
   "name": "python",
   "nbconvert_exporter": "python",
   "pygments_lexer": "ipython3",
   "version": "3.12.7"
  }
 },
 "nbformat": 4,
 "nbformat_minor": 2
}
