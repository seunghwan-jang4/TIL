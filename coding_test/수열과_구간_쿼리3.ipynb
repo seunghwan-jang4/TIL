{
 "cells": [
  {
   "cell_type": "code",
   "execution_count": 1,
   "metadata": {},
   "outputs": [],
   "source": [
    "# 문제 설명\n",
    "# 정수 배열 arr와 2차원 정수 배열 queries이 주어집니다. queries의 원소는 각각 하나의 query를 나타내며, [i, j] 꼴입니다.\n",
    "\n",
    "# 각 query마다 순서대로 arr[i]의 값과 arr[j]의 값을 서로 바꿉니다.\n",
    "\n",
    "# 위 규칙에 따라 queries를 처리한 이후의 arr를 return 하는 solution 함수를 완성해 주세요.\n",
    "\n",
    "# 제한사항\n",
    "# 1 ≤ arr의 길이 ≤ 1,000\n",
    "# 0 ≤ arr의 원소 ≤ 1,000,000\n",
    "# 1 ≤ queries의 길이 ≤ 1,000\n",
    "# 0 ≤ i < j < arr의 길이\n",
    "# 입출력 예\n",
    "# arr\tqueries\tresult\n",
    "# [0, 1, 2, 3, 4]\t[[0, 3],[1, 2],[1, 4]]\t[3, 4, 1, 0, 2]\n",
    "# 입출력 예 설명\n",
    "# 입출력 예 #1\n",
    "\n",
    "# 각 쿼리에 따라 arr가 다음과 같이 변합니다.\n",
    "# arr\n",
    "# [0, 1, 2, 3, 4]\n",
    "# [3, 1, 2, 0, 4]\n",
    "# [3, 2, 1, 0, 4]\n",
    "# [3, 4, 1, 0, 2]\n",
    "# 따라서 [3, 4, 1, 0, 2]를 return 합니다."
   ]
  },
  {
   "cell_type": "code",
   "execution_count": null,
   "metadata": {},
   "outputs": [],
   "source": [
    "#방법1. / 정답 / 튜터님의 방식을 따라하여 arr[i]와 arr[j]을 swap 했다.\n",
    "def solution(arr, queries):\n",
    "    for query in queries :\n",
    "        i,j = query\n",
    "        #arr[i]와 arr[j]의 교환\n",
    "        arr[i], arr[j] = arr[j], arr[i]\n",
    "        \n",
    "    return arr"
   ]
  }
 ],
 "metadata": {
  "kernelspec": {
   "display_name": "python (myenv)",
   "language": "python",
   "name": "myenv"
  },
  "language_info": {
   "codemirror_mode": {
    "name": "ipython",
    "version": 3
   },
   "file_extension": ".py",
   "mimetype": "text/x-python",
   "name": "python",
   "nbconvert_exporter": "python",
   "pygments_lexer": "ipython3",
   "version": "3.8.20"
  }
 },
 "nbformat": 4,
 "nbformat_minor": 2
}
