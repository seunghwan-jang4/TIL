{
 "cells": [
  {
   "cell_type": "code",
   "execution_count": 32,
   "metadata": {},
   "outputs": [
    {
     "name": "stdout",
     "output_type": "stream",
     "text": [
      "Accuracy: 0.7374301675977654\n",
      "Classification Report:\n",
      "              precision    recall  f1-score   support\n",
      "\n",
      "           0       0.72      0.90      0.80       105\n",
      "           1       0.79      0.50      0.61        74\n",
      "\n",
      "    accuracy                           0.74       179\n",
      "   macro avg       0.75      0.70      0.71       179\n",
      "weighted avg       0.75      0.74      0.72       179\n",
      "\n",
      "Confusion Matrix:\n",
      "[[95 10]\n",
      " [37 37]]\n"
     ]
    }
   ],
   "source": [
    "#모듈 삽입\n",
    "import pandas as pd\n",
    "import seaborn as sns\n",
    "from sklearn.model_selection import train_test_split\n",
    "from sklearn.linear_model import LogisticRegression\n",
    "from sklearn.metrics import accuracy_score, classification_report, confusion_matrix\n",
    "\n",
    "#데이터셋 로드\n",
    "titanic = sns.load_dataset('titanic')\n",
    "\n",
    "#전처리를 하기 위한 데이터 파악\n",
    "titanic.describe()\n",
    "\n",
    "# 필요한 열 선택\n",
    "df = titanic[['survived', 'pclass', 'age', 'sibsp', 'parch', 'fare']]\n",
    "\n",
    "#결측치 / 나이의 평균값이 아닌 중앙값으로 대입. 극단치의 영향을 줄일 수 있다.\n",
    "df.loc[:, 'age'] = df['age'].fillna(df['age'].median())\n",
    "\n",
    "# 카테고리형 변수를 원-핫 인코딩\n",
    "df = pd.get_dummies(df, columns = ['pclass'], drop_first = True)\n",
    "\n",
    "#Survived 예측을 위해 drop을 사용\n",
    "X = df.drop('survived', axis = 1)\n",
    "y = df['survived']\n",
    "\n",
    "#학습 데이터와 테스트 데이터를 8:2 비율로 나눔.\n",
    "X_train, X_test, y_train, y_test = train_test_split(X, y, test_size=0.2, random_state=42)\n",
    "\n",
    "#모델 설정\n",
    "lr_model = LogisticRegression(max_iter=200)\n",
    "\n",
    "# 모델 학습 및 예측\n",
    "lr_model.fit(X_train, y_train)\n",
    "y_pred = lr_model.predict(X_test)\n",
    "\n",
    "# 모델의 평가\n",
    "print(f\"Accuracy: {accuracy_score(y_test, y_pred)}\")\n",
    "print(f\"Classification Report:\\n{classification_report(y_test, y_pred)}\")\n",
    "print(f\"Confusion Matrix:\\n{confusion_matrix(y_test, y_pred)}\")\n",
    "\n"
   ]
  },
  {
   "cell_type": "code",
   "execution_count": 33,
   "metadata": {},
   "outputs": [
    {
     "name": "stdout",
     "output_type": "stream",
     "text": [
      "Index(['survived', 'pclass', 'sex', 'age', 'sibsp', 'parch', 'fare',\n",
      "       'embarked', 'class', 'who', 'adult_male', 'deck', 'embark_town',\n",
      "       'alive', 'alone'],\n",
      "      dtype='object')\n"
     ]
    }
   ],
   "source": [
    "print(titanic.columns)"
   ]
  }
 ],
 "metadata": {
  "kernelspec": {
   "display_name": "python (myenv)",
   "language": "python",
   "name": "myenv"
  },
  "language_info": {
   "codemirror_mode": {
    "name": "ipython",
    "version": 3
   },
   "file_extension": ".py",
   "mimetype": "text/x-python",
   "name": "python",
   "nbconvert_exporter": "python",
   "pygments_lexer": "ipython3",
   "version": "3.8.20"
  }
 },
 "nbformat": 4,
 "nbformat_minor": 2
}
