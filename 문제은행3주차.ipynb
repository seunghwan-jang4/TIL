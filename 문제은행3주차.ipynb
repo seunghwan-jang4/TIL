{
 "cells": [
  {
   "cell_type": "code",
   "execution_count": 5,
   "metadata": {},
   "outputs": [],
   "source": [
    "#모듈 삽입\n",
    "import pandas as pd\n",
    "import seaborn as sns\n",
    "\n",
    "#데이터셋 로드\n",
    "titanic = sns.load_dataset('titanic')"
   ]
  },
  {
   "cell_type": "code",
   "execution_count": 6,
   "metadata": {},
   "outputs": [],
   "source": [
    "#결측값 처리\n",
    "\n",
    "#이상치 처리\n",
    "\n",
    "#중복 데이터 제거\n",
    "\n",
    "#데이터 타입 변환\n",
    "\n",
    "#정규화\n",
    "\n",
    "#범주형 데이터 선별 및 인코딩\n",
    "\n",
    "#샘플링"
   ]
  }
 ],
 "metadata": {
  "kernelspec": {
   "display_name": "python (myenv)",
   "language": "python",
   "name": "myenv"
  },
  "language_info": {
   "codemirror_mode": {
    "name": "ipython",
    "version": 3
   },
   "file_extension": ".py",
   "mimetype": "text/x-python",
   "name": "python",
   "nbconvert_exporter": "python",
   "pygments_lexer": "ipython3",
   "version": "3.8.20"
  }
 },
 "nbformat": 4,
 "nbformat_minor": 2
}
