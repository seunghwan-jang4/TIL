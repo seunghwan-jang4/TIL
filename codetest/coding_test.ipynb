{
 "cells": [
  {
   "cell_type": "code",
   "execution_count": null,
   "metadata": {},
   "outputs": [
    {
     "name": "stdout",
     "output_type": "stream",
     "text": [
      "50 + 40 = 90\n"
     ]
    }
   ],
   "source": [
    "a, b = map(int, input().strip().split())\n",
    "a, b = max(1, min(a, 100)), max(1, min(b, 100))\n",
    "c = a + b\n",
    "print(f\"{a} + {b} = {c}\")"
   ]
  }
 ],
 "metadata": {
  "kernelspec": {
   "display_name": "pandas",
   "language": "python",
   "name": "pandas_course"
  },
  "language_info": {
   "codemirror_mode": {
    "name": "ipython",
    "version": 3
   },
   "file_extension": ".py",
   "mimetype": "text/x-python",
   "name": "python",
   "nbconvert_exporter": "python",
   "pygments_lexer": "ipython3",
   "version": "3.12.7"
  }
 },
 "nbformat": 4,
 "nbformat_minor": 2
}
