{
 "cells": [
  {
   "cell_type": "code",
   "execution_count": 1,
   "metadata": {},
   "outputs": [],
   "source": [
    "# 문제 설명\n",
    "# 부분 문자열이란 문자열에서 연속된 일부분에 해당하는 문자열을 의미합니다. 예를 들어, 문자열 \"ana\", \"ban\", \"anana\", \"banana\", \"n\"는 모두 문자열 \"banana\"의 부분 문자열이지만, \"aaa\", \"bnana\", \"wxyz\"는 모두 \"banana\"의 부분 문자열이 아닙니다.\n",
    "\n",
    "# 문자열 my_string과 target이 매개변수로 주어질 때, target이 문자열 my_string의 부분 문자열이라면 1을, 아니라면 0을 return 하는 solution 함수를 작성해 주세요.\n",
    "\n",
    "# 제한사항\n",
    "# 1 ≤ my_string의 길이 ≤ 100\n",
    "# my_string은 영소문자로만 이루어져 있습니다.\n",
    "# 1 ≤ target의 길이 ≤ 100\n",
    "# target은 영소문자로만 이루어져 있습니다."
   ]
  },
  {
   "cell_type": "code",
   "execution_count": null,
   "metadata": {},
   "outputs": [],
   "source": [
    "def solution(my_string, target):\n",
    "    if target in my_string :\n",
    "        return 1\n",
    "    else :\n",
    "        return 0"
   ]
  }
 ],
 "metadata": {
  "kernelspec": {
   "display_name": "python (myenv)",
   "language": "python",
   "name": "myenv"
  },
  "language_info": {
   "codemirror_mode": {
    "name": "ipython",
    "version": 3
   },
   "file_extension": ".py",
   "mimetype": "text/x-python",
   "name": "python",
   "nbconvert_exporter": "python",
   "pygments_lexer": "ipython3",
   "version": "3.8.20"
  }
 },
 "nbformat": 4,
 "nbformat_minor": 2
}
