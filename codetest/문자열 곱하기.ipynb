{
 "cells": [
  {
   "cell_type": "code",
   "execution_count": 1,
   "metadata": {},
   "outputs": [],
   "source": [
    "# 문제 설명\n",
    "# 문자열 my_string과 정수 k가 주어질 때, my_string을 k번 반복한 문자열을 return 하는 solution 함수를 작성해 주세요.\n",
    "\n",
    "# 제한사항\n",
    "# 1 ≤ my_string의 길이 ≤ 100\n",
    "# my_string은 영소문자로만 이루어져 있습니다.\n",
    "# 1 ≤ k ≤ 100\n",
    "# 입출력 예\n",
    "# my_string\tk\tresult\n",
    "# \"string\"\t3\t\"stringstringstring\"\n",
    "# \"love\"\t10\t\"lovelovelovelovelovelovelovelovelovelove\"\n",
    "# 입출력 예 설명\n",
    "# 입출력 예 #1\n",
    "\n",
    "# 예제 1번의 my_string은 \"string\"이고 이를 3번 반복한 문자열은 \"stringstringstring\"이므로 이를 return 합니다.\n",
    "# 입출력 예 #2\n",
    "\n",
    "# 예제 2번의 my_string은 \"love\"이고 이를 10번 반복한 문자열은 \"lovelovelovelovelovelovelovelovelovelove\"이므로 이를 return 합니다."
   ]
  },
  {
   "cell_type": "code",
   "execution_count": 2,
   "metadata": {},
   "outputs": [],
   "source": [
    "def solution(my_string, k):\n",
    "    answer = (my_string)*k\n",
    "    return answer"
   ]
  },
  {
   "cell_type": "code",
   "execution_count": null,
   "metadata": {},
   "outputs": [],
   "source": []
  }
 ],
 "metadata": {
  "kernelspec": {
   "display_name": "pandas",
   "language": "python",
   "name": "pandas_course"
  },
  "language_info": {
   "codemirror_mode": {
    "name": "ipython",
    "version": 3
   },
   "file_extension": ".py",
   "mimetype": "text/x-python",
   "name": "python",
   "nbconvert_exporter": "python",
   "pygments_lexer": "ipython3",
   "version": "3.12.7"
  }
 },
 "nbformat": 4,
 "nbformat_minor": 2
}
