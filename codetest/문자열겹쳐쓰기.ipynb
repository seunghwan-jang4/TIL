{
 "cells": [
  {
   "cell_type": "code",
   "execution_count": 1,
   "metadata": {},
   "outputs": [],
   "source": [
    "# 문제 설명\n",
    "# 문자열 my_string, overwrite_string과 정수 s가 주어집니다. 문자열 my_string의 인덱스 s부터 overwrite_string의 길이만큼을 문자열 overwrite_string으로 바꾼 문자열을 return 하는 solution 함수를 작성해 주세요.\n",
    "\n",
    "# 제한사항\n",
    "# my_string와 overwrite_string은 숫자와 알파벳으로 이루어져 있습니다.\n",
    "# 1 ≤ overwrite_string의 길이 ≤ my_string의 길이 ≤ 1,000\n",
    "# 0 ≤ s ≤ my_string의 길이 - overwrite_string의 길이\n",
    "# 입출력 예\n",
    "# my_string\toverwrite_string\ts\tresult\n",
    "# \"He11oWor1d\"\t\"lloWorl\"\t2\t\"HelloWorld\"\n",
    "# \"Program29b8UYP\"\t\"merS123\"\t7\t\"ProgrammerS123\"\n",
    "# 입출력 예 설명\n",
    "# 입출력 예 #1\n",
    "\n",
    "# 예제 1번의 my_string에서 인덱스 2부터 overwrite_string의 길이만큼에 해당하는 부분은 \"11oWor1\"이고 이를 \"lloWorl\"로 바꾼 \"HelloWorld\"를 return 합니다.\n",
    "# 입출력 예 #2\n",
    "\n",
    "# 예제 2번의 my_string에서 인덱스 7부터 overwrite_string의 길이만큼에 해당하는 부분은 \"29b8UYP\"이고 이를 \"merS123\"로 바꾼 \"ProgrammerS123\"를 return 합니다."
   ]
  },
  {
   "cell_type": "code",
   "execution_count": 1,
   "metadata": {},
   "outputs": [],
   "source": [
    "def solution(my_string, overwrite_string, s):\n",
    "    answer = my_string[:s] + overwrite_string + my_string[s+len(overwrite_string):]\n",
    "    return answer"
   ]
  }
 ],
 "metadata": {
  "kernelspec": {
   "display_name": "pandas",
   "language": "python",
   "name": "pandas_course"
  },
  "language_info": {
   "codemirror_mode": {
    "name": "ipython",
    "version": 3
   },
   "file_extension": ".py",
   "mimetype": "text/x-python",
   "name": "python",
   "nbconvert_exporter": "python",
   "pygments_lexer": "ipython3",
   "version": "3.12.7"
  }
 },
 "nbformat": 4,
 "nbformat_minor": 2
}
