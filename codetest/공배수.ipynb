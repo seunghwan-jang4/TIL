{
 "cells": [
  {
   "cell_type": "code",
   "execution_count": 1,
   "metadata": {},
   "outputs": [],
   "source": [
    "# 문제 설명\n",
    "# 정수 number와 n, m이 주어집니다. number가 n의 배수이면서 m의 배수이면 1을 아니라면 0을 return하도록 solution 함수를 완성해주세요.\n",
    "\n",
    "# 제한사항\n",
    "# 10 ≤ number ≤ 100\n",
    "# 2 ≤ n, m < 10\n",
    "# 입출력 예\n",
    "# number\tn\tm\tresult\n",
    "# 60\t2\t3\t1\n",
    "# 55\t10\t5\t0\n",
    "# 입출력 예 설명\n",
    "# 입출력 예 #1\n",
    "\n",
    "# 60은 2의 배수이면서 3의 배수이기 때문에 1을 return합니다.\n",
    "# 입출력 예 #2\n",
    "\n",
    "# 55는 5의 배수이지만 10의 배수가 아니기 때문에 0을 return합니다."
   ]
  },
  {
   "cell_type": "code",
   "execution_count": null,
   "metadata": {},
   "outputs": [],
   "source": [
    "# 방법1. / 정답 \n",
    "def solution(number, n, m):\n",
    "    if number % n == 0 and number % m == 0 :\n",
    "        return 1\n",
    "    else :\n",
    "        return 0\n",
    "  "
   ]
  }
 ],
 "metadata": {
  "kernelspec": {
   "display_name": "pandas",
   "language": "python",
   "name": "pandas_course"
  },
  "language_info": {
   "codemirror_mode": {
    "name": "ipython",
    "version": 3
   },
   "file_extension": ".py",
   "mimetype": "text/x-python",
   "name": "python",
   "nbconvert_exporter": "python",
   "pygments_lexer": "ipython3",
   "version": "3.12.7"
  }
 },
 "nbformat": 4,
 "nbformat_minor": 2
}
