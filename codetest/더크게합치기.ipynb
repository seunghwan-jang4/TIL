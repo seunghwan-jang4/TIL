{
 "cells": [
  {
   "cell_type": "code",
   "execution_count": 1,
   "metadata": {},
   "outputs": [],
   "source": [
    "# 문제 설명\n",
    "# 연산 ⊕는 두 정수에 대한 연산으로 두 정수를 붙여서 쓴 값을 반환합니다. 예를 들면 다음과 같습니다.\n",
    "\n",
    "# 12 ⊕ 3 = 123\n",
    "# 3 ⊕ 12 = 312\n",
    "# 양의 정수 a와 b가 주어졌을 때, a ⊕ b와 b ⊕ a 중 더 큰 값을 return 하는 solution 함수를 완성해 주세요.\n",
    "\n",
    "# 단, a ⊕ b와 b ⊕ a가 같다면 a ⊕ b를 return 합니다.\n",
    "\n",
    "# 제한사항\n",
    "# 1 ≤ a, b < 10,000\n",
    "# 입출력 예\n",
    "# a\tb\tresult\n",
    "# 9\t91\t991\n",
    "# 89\t8\t898\n",
    "# 입출력 예 설명\n",
    "# 입출력 예 #1\n",
    "\n",
    "# a ⊕ b = 991 이고, b ⊕ a = 919 입니다. 둘 중 더 큰 값은 991 이므로 991을 return 합니다.\n",
    "# 입출력 예 #2\n",
    "\n",
    "# a ⊕ b = 898 이고, b ⊕ a = 889 입니다. 둘 중 더 큰 값은 898 이므로 898을 return 합니다."
   ]
  },
  {
   "cell_type": "code",
   "execution_count": null,
   "metadata": {},
   "outputs": [],
   "source": [
    "#방법 1\n",
    "\n",
    "def solution(a, b):\n",
    "    str_a = str(a)\n",
    "    str_b = str(b)\n",
    "                \n",
    "    if  (str_a + str_b) > (str_b + str_a):\n",
    "       return (str_a + str_b)\n",
    "    elif (str_a + str_b) < (str_b + str_a):\n",
    "        return (str_b + str_a)\n",
    "    else :    \n",
    "        return (str_a + str_b)"
   ]
  },
  {
   "cell_type": "code",
   "execution_count": null,
   "metadata": {},
   "outputs": [],
   "source": [
    "# 방법 2\n",
    "\n",
    "def solution(a, b):\n",
    "    return(int(max(f\"{a}{b}\", f\"{b}{a}\")))\n"
   ]
  },
  {
   "cell_type": "code",
   "execution_count": null,
   "metadata": {},
   "outputs": [],
   "source": []
  }
 ],
 "metadata": {
  "kernelspec": {
   "display_name": "pandas",
   "language": "python",
   "name": "pandas_course"
  },
  "language_info": {
   "codemirror_mode": {
    "name": "ipython",
    "version": 3
   },
   "file_extension": ".py",
   "mimetype": "text/x-python",
   "name": "python",
   "nbconvert_exporter": "python",
   "pygments_lexer": "ipython3",
   "version": "3.12.7"
  }
 },
 "nbformat": 4,
 "nbformat_minor": 2
}
