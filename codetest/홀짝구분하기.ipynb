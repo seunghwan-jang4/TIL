{
 "cells": [
  {
   "cell_type": "code",
   "execution_count": 1,
   "metadata": {},
   "outputs": [],
   "source": [
    "# 문제 설명\n",
    "# 자연수 n이 입력으로 주어졌을 때 만약 n이 짝수이면 \"n is even\"을, 홀수이면 \"n is odd\"를 출력하는 코드를 작성해 보세요.\n",
    "\n",
    "# 제한사항\n",
    "# 1 ≤ n ≤ 1,000\n",
    "# 입출력 예\n",
    "# 입력 #1\n",
    "\n",
    "# 100\n",
    "# 출력 #1\n",
    "\n",
    "# 100 is even\n",
    "# 입력 #2\n",
    "\n",
    "# 1\n",
    "# 출력 #2\n",
    "\n",
    "# 1 is odd"
   ]
  },
  {
   "cell_type": "code",
   "execution_count": 3,
   "metadata": {},
   "outputs": [
    {
     "name": "stdout",
     "output_type": "stream",
     "text": [
      "100 is even\n"
     ]
    }
   ],
   "source": [
    "a = int(input())\n",
    "if a%2 == True :\n",
    "    print(f\"{a} is odd\")\n",
    "else :\n",
    "    print(f\"{a} is even\")"
   ]
  },
  {
   "cell_type": "code",
   "execution_count": null,
   "metadata": {},
   "outputs": [],
   "source": []
  }
 ],
 "metadata": {
  "kernelspec": {
   "display_name": "python (myenv)",
   "language": "python",
   "name": "myenv"
  },
  "language_info": {
   "codemirror_mode": {
    "name": "ipython",
    "version": 3
   },
   "file_extension": ".py",
   "mimetype": "text/x-python",
   "name": "python",
   "nbconvert_exporter": "python",
   "pygments_lexer": "ipython3",
   "version": "3.8.20"
  }
 },
 "nbformat": 4,
 "nbformat_minor": 2
}
